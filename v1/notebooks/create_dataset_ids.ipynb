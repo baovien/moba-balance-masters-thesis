{
 "cells": [
  {
   "cell_type": "code",
   "execution_count": 1,
   "id": "headed-clone",
   "metadata": {},
   "outputs": [],
   "source": [
    "import json\n",
    "import os\n",
    "import copy\n",
    "from zipfile import ZipFile, ZipInfo\n",
    "\n",
    "import scipy as sp\n",
    "import scipy.sparse\n",
    "import numpy as np\n",
    "import pandas as pd\n",
    "import tqdm"
   ]
  },
  {
   "cell_type": "code",
   "execution_count": 2,
   "id": "listed-thumbnail",
   "metadata": {},
   "outputs": [],
   "source": [
    "max_hero_id = 128\n",
    "\n",
    "heroes_path = \"../data/heroes_clean.json\"\n",
    "    \n",
    "with open(heroes_path, 'r') as fp:\n",
    "    heroes = json.load(fp)"
   ]
  },
  {
   "cell_type": "code",
   "execution_count": 3,
   "id": "played-antenna",
   "metadata": {},
   "outputs": [],
   "source": [
    "def is_match_valid(match):\n",
    "    # check if hero ids is within range\n",
    "    try:\n",
    "        players = match[\"players\"]\n",
    "        hero_ids = [True if 0 < x[\"hero_id\"] and x[\"hero_id\"] < max_hero_id else False for x in players]\n",
    "        if not all(hero_ids):\n",
    "            return False\n",
    "\n",
    "        # check matchtype is not all pick, random draft and ranked matchmaking\n",
    "        valid_game_modes = {1, 3, 22}\n",
    "        if not match[\"game_mode\"] in valid_game_modes:\n",
    "            return False\n",
    "\n",
    "        # check match duration less than 10 minutes\n",
    "        if match[\"duration\"] <= 600: \n",
    "            return False\n",
    "\n",
    "        # check if match is not 10 players\n",
    "        if not len(match[\"players\"]) == 10:\n",
    "            return False\n",
    "\n",
    "        # check for leavers\n",
    "        no_dc = [True if x[\"leaver_status\"] in [0, 1] else False for x in players]\n",
    "        if not all(no_dc):\n",
    "            return False\n",
    "    except:\n",
    "        print(\"Exception: \", match)\n",
    "        return False\n",
    "    \n",
    "    return True"
   ]
  },
  {
   "cell_type": "code",
   "execution_count": 4,
   "id": "exciting-tuning",
   "metadata": {},
   "outputs": [
    {
     "name": "stderr",
     "output_type": "stream",
     "text": [
      " 11%|█▏        | 268294/2338044 [01:30<11:00, 3132.24it/s]"
     ]
    },
    {
     "name": "stdout",
     "output_type": "stream",
     "text": [
      "Exception:  {'error': 'Match ID not found'}\n"
     ]
    },
    {
     "name": "stderr",
     "output_type": "stream",
     "text": [
      " 31%|███       | 723831/2338044 [04:05<09:16, 2902.03it/s]"
     ]
    },
    {
     "name": "stdout",
     "output_type": "stream",
     "text": [
      "Exception:  {'error': 'Match ID not found'}\n"
     ]
    },
    {
     "name": "stderr",
     "output_type": "stream",
     "text": [
      " 32%|███▏      | 750705/2338044 [04:14<09:09, 2886.20it/s]"
     ]
    },
    {
     "name": "stdout",
     "output_type": "stream",
     "text": [
      "Exception:  {'error': 'Match ID not found'}\n"
     ]
    },
    {
     "name": "stderr",
     "output_type": "stream",
     "text": [
      " 58%|█████▊    | 1353938/2338044 [07:42<05:28, 2994.15it/s]"
     ]
    },
    {
     "name": "stdout",
     "output_type": "stream",
     "text": [
      "Exception:  {'error': 'Match ID not found'}\n"
     ]
    },
    {
     "name": "stderr",
     "output_type": "stream",
     "text": [
      " 65%|██████▍   | 1509682/2338044 [08:39<04:20, 3182.40it/s]"
     ]
    },
    {
     "name": "stdout",
     "output_type": "stream",
     "text": [
      "Exception:  {'error': 'Match ID not found'}\n"
     ]
    },
    {
     "name": "stderr",
     "output_type": "stream",
     "text": [
      " 65%|██████▌   | 1520760/2338044 [08:43<04:33, 2988.23it/s]"
     ]
    },
    {
     "name": "stdout",
     "output_type": "stream",
     "text": [
      "Exception:  {'error': 'Match ID not found'}\n"
     ]
    },
    {
     "name": "stderr",
     "output_type": "stream",
     "text": [
      " 99%|█████████▊| 2305041/2338044 [13:02<00:10, 3079.67it/s]"
     ]
    },
    {
     "name": "stdout",
     "output_type": "stream",
     "text": [
      "Exception:  {'error': 'Match ID not found'}\n"
     ]
    },
    {
     "name": "stderr",
     "output_type": "stream",
     "text": [
      "100%|██████████| 2338044/2338044 [13:13<00:00, 2946.72it/s]\n"
     ]
    },
    {
     "name": "stdout",
     "output_type": "stream",
     "text": [
      "done\n"
     ]
    }
   ],
   "source": [
    "data_path = \"../data/dota_games.zip\"\n",
    "hero_selections = []\n",
    "\n",
    "out_path = \"../data/hero_selection_ids.npy\"\n",
    "assert not os.path.isfile(out_path)\n",
    "    \n",
    "with ZipFile(data_path) as z:\n",
    "    for item in tqdm.tqdm(z.filelist):\n",
    "        if not item.filename.endswith(\".json\"):\n",
    "            continue\n",
    "        \n",
    "        raw_match = z.read(item.filename)\n",
    "        match = json.loads(raw_match)[\"result\"]\n",
    "        \n",
    "        # check if match req is fulfilled\n",
    "        if not is_match_valid(match):\n",
    "            continue\n",
    "        \n",
    "        players = match[\"players\"]\n",
    "        match_heroes = []\n",
    "\n",
    "        for player in players:\n",
    "            hero_id = player[\"hero_id\"]\n",
    "            is_radiant = -1 if player[\"player_slot\"] < 7 else 1\n",
    "            match_heroes.append(hero_id*is_radiant)\n",
    "    \n",
    "        match_heroes.sort()\n",
    "        match_heroes = np.array(match_heroes)\n",
    "\n",
    "        hero_selections.append(match_heroes)\n",
    "    \n",
    "    # save \n",
    "    np.save(out_path, np.array(hero_selections).astype(np.int16))\n",
    "    \n",
    "    print(\"done\")"
   ]
  },
  {
   "cell_type": "markdown",
   "id": "pretty-thong",
   "metadata": {},
   "source": [
    "### test code"
   ]
  },
  {
   "cell_type": "markdown",
   "id": "physical-sphere",
   "metadata": {},
   "source": [
    "#reconstruct heroes data\n",
    "\n",
    "heroes_path = \"../data/heroes.json\"\n",
    "with open(heroes_path, 'r') as fp:\n",
    "    heroes = json.load(fp)\n",
    "    \n",
    "new_heroes_d = {}\n",
    "for hero in heroes:\n",
    "    new_heroes_d[int(hero[\"id\"])] = hero[\"name\"]\n",
    "    \n",
    "with open(\"../data/heroes_clean.json\", \"w\") as fp:\n",
    "    fp.write(json.dumps(new_heroes_d))"
   ]
  },
  {
   "cell_type": "markdown",
   "id": "right-vietnamese",
   "metadata": {},
   "source": [
    "# extract test match\n",
    "data_path = \"../data/dota_games.zip\"\n",
    "test_match_path = \"../data/test_match_5607724594.json\"\n",
    "\n",
    "with ZipFile(data_path) as z:\n",
    "    z.extract('dota_games/5607724594.json', \"../data/test_match.json\")\n",
    "\n",
    "with open(test_match_path, 'r') as fp:\n",
    "    match = json.load(fp)\n",
    "\n",
    "training_examples = []\n",
    "matches = [match]\n",
    "\n",
    "for match in matches:\n",
    "    players = match[\"result\"][\"players\"]\n",
    "    \n",
    "    # check if match req is fulfilled\n",
    "    if not is_match_valid(match):\n",
    "        continue\n",
    "    \n",
    "    heroes_onehot = np.zeros(128, dtype=np.float)\n",
    "    \n",
    "    for player in players:\n",
    "        hero_id = player[\"hero_id\"]\n",
    "        is_dire = 1 if player[\"player_slot\"] < 7 else -1\n",
    "        heroes_onehot[hero_id] = is_dire\n",
    "        \n",
    "    # stack X\n",
    "    s_x = sp.sparse.csr_matrix(heroes_onehot)\n",
    "    training_examples.append(s_x)\n",
    "    \n",
    "     \n",
    "sparse_training = sp.sparse.vstack(training_examples)\n",
    "\n",
    "# save \n",
    "sp.sparse.save_npz(\"../data/test_match.npz\", sparse_training)\n",
    "\n",
    "print(sparse_training)"
   ]
  },
  {
   "cell_type": "code",
   "execution_count": 9,
   "id": "respiratory-roberts",
   "metadata": {},
   "outputs": [
    {
     "name": "stdout",
     "output_type": "stream",
     "text": [
      "[-103  -67  -35  -16   -9   27   31   36   41   98]\n"
     ]
    }
   ],
   "source": [
    "test_match_path = \"../data/test_match_5607724594.json\"\n",
    "\n",
    "training_examples = []\n",
    "with open(test_match_path, 'r') as fp:\n",
    "    match = json.load(fp)[\"result\"]\n",
    "\n",
    "out_path = \"../data/hero_selection_test.npz\"\n",
    "\n",
    "# check if match is valid\n",
    "if not is_match_valid(match):\n",
    "    raise False\n",
    "\n",
    "players = match[\"players\"]\n",
    "heroes = []\n",
    "\n",
    "for player in players:\n",
    "    hero_id = player[\"hero_id\"]\n",
    "    is_dire = 1 if player[\"player_slot\"] < 7 else -1\n",
    "    heroes.append(hero_id*is_dire)\n",
    "    \n",
    "# create list for dire and radiant\n",
    "# print(heroes_onehot)\n",
    "heroes.sort()\n",
    "heroes = np.array(heroes)\n",
    "\n",
    "print(heroes)\n",
    "\n",
    "# save \n",
    "# sp.sparse.save_npz(out_path, sparse_training)\n"
   ]
  },
  {
   "cell_type": "markdown",
   "id": "adverse-power",
   "metadata": {},
   "source": [
    "### Load npz and npy"
   ]
  },
  {
   "cell_type": "code",
   "execution_count": 19,
   "id": "electrical-bride",
   "metadata": {},
   "outputs": [
    {
     "name": "stdout",
     "output_type": "stream",
     "text": [
      "(1635712, 128)\n",
      "(1635712,)\n"
     ]
    }
   ],
   "source": [
    "a = sp.sparse.load_npz(\"../data/hero_selection.npz\")\n",
    "b = np.load(\"../data/match_winner.npy\")\n",
    "print(a.shape)\n",
    "print(b.shape)"
   ]
  },
  {
   "cell_type": "code",
   "execution_count": 108,
   "id": "arbitrary-monte",
   "metadata": {},
   "outputs": [
    {
     "name": "stdout",
     "output_type": "stream",
     "text": [
      "Mirana\n",
      "Sand King\n",
      "Shadow Shaman\n",
      "Lich\n",
      "Sniper\n",
      "Necrophos\n",
      "Faceless Void\n",
      "Spectre\n",
      "Timbersaw\n",
      "Skywrath Mage\n",
      "Elder Titan\n"
     ]
    }
   ],
   "source": [
    "# check if hero_id matches the match info\n",
    "row, col = sparse_training.nonzero()\n",
    "    \n",
    "for i in col:\n",
    "    print(heroes[str(i)])"
   ]
  }
 ],
 "metadata": {
  "kernelspec": {
   "display_name": "Python 3",
   "language": "python",
   "name": "python3"
  },
  "language_info": {
   "codemirror_mode": {
    "name": "ipython",
    "version": 3
   },
   "file_extension": ".py",
   "mimetype": "text/x-python",
   "name": "python",
   "nbconvert_exporter": "python",
   "pygments_lexer": "ipython3",
   "version": "3.8.5"
  }
 },
 "nbformat": 4,
 "nbformat_minor": 5
}
