{
 "cells": [
  {
   "cell_type": "code",
   "execution_count": 2,
   "id": "cathedral-exclusion",
   "metadata": {},
   "outputs": [],
   "source": [
    "import scipy as sp\n",
    "import scipy.sparse\n",
    "import numpy as np\n",
    "from numpy.random import default_rng\n",
    "rng = default_rng()\n",
    "\n",
    "\n",
    "from sklearn.model_selection import train_test_split\n",
    "from sklearn.linear_model import LogisticRegression\n",
    "from sklearn.metrics import accuracy_score, confusion_matrix, r2_score"
   ]
  },
  {
   "cell_type": "code",
   "execution_count": 3,
   "id": "brave-survivor",
   "metadata": {},
   "outputs": [
    {
     "name": "stdout",
     "output_type": "stream",
     "text": [
      "(1635712, 256) (1635712,)\n"
     ]
    }
   ],
   "source": [
    "hero_selection = sp.sparse.load_npz(\"../data/hero_selection_onehot.npz\")\n",
    "match_winner = np.load(\"../data/match_winner.npy\")\n",
    "\n",
    "\n",
    "match_winner = (match_winner * 2) - 1\n",
    "print(hero_selection.shape, match_winner.shape)"
   ]
  },
  {
   "cell_type": "code",
   "execution_count": 4,
   "id": "occupied-coverage",
   "metadata": {},
   "outputs": [
    {
     "data": {
      "text/plain": [
       "108.23963754010487"
      ]
     },
     "execution_count": 4,
     "metadata": {},
     "output_type": "execute_result"
    }
   ],
   "source": [
    "match_winner.mean()"
   ]
  },
  {
   "cell_type": "code",
   "execution_count": 5,
   "id": "mathematical-evaluation",
   "metadata": {},
   "outputs": [],
   "source": [
    "# flip random matches\n",
    "rng_winners = rng.integers(0,2,size=match_winner.shape[0]) \n",
    "rng_winners = (rng_winners * 2) - 1\n",
    "\n",
    "hero_selection[match_winner != rng_winners] = hero_selection[match_winner != rng_winners] * -1\n",
    "match_winner[match_winner != rng_winners] = match_winner[match_winner != rng_winners] * -1"
   ]
  },
  {
   "cell_type": "code",
   "execution_count": 6,
   "id": "spatial-guinea",
   "metadata": {},
   "outputs": [],
   "source": [
    "x_train, x_test, y_train, y_test = train_test_split(hero_selection, match_winner, test_size=0.3) "
   ]
  },
  {
   "cell_type": "code",
   "execution_count": 7,
   "id": "occupational-occurrence",
   "metadata": {},
   "outputs": [
    {
     "data": {
      "text/plain": [
       "74.35716527345868"
      ]
     },
     "execution_count": 7,
     "metadata": {},
     "output_type": "execute_result"
    }
   ],
   "source": [
    "y_test.mean()"
   ]
  },
  {
   "cell_type": "code",
   "execution_count": 8,
   "id": "checked-hacker",
   "metadata": {},
   "outputs": [
    {
     "name": "stdout",
     "output_type": "stream",
     "text": [
      "0.7095660608827138\n"
     ]
    }
   ],
   "source": [
    "clf = LogisticRegression(random_state=21).fit(x_train, y_train)\n",
    "y_h = clf.predict(x_test)\n",
    "acc = accuracy_score(y_test, y_h)\n",
    "\n",
    "print(clf.score(x_test, y_test))\n"
   ]
  },
  {
   "cell_type": "code",
   "execution_count": 92,
   "id": "smart-worth",
   "metadata": {},
   "outputs": [
    {
     "name": "stdout",
     "output_type": "stream",
     "text": [
      "-0.6777107941176359\n"
     ]
    }
   ],
   "source": [
    "print(r2_score(y_test, y_h))"
   ]
  },
  {
   "cell_type": "code",
   "execution_count": 93,
   "id": "protecting-warner",
   "metadata": {},
   "outputs": [
    {
     "name": "stdout",
     "output_type": "stream",
     "text": [
      "[[142783 102461]\n",
      " [103358 142112]]\n"
     ]
    }
   ],
   "source": [
    "print(confusion_matrix(y_test, y_h))"
   ]
  },
  {
   "cell_type": "code",
   "execution_count": 95,
   "id": "later-continuity",
   "metadata": {},
   "outputs": [
    {
     "data": {
      "text/plain": [
       "-0.06001622619265414"
      ]
     },
     "execution_count": 95,
     "metadata": {},
     "output_type": "execute_result"
    }
   ],
   "source": [
    "clf.coef_[0, 14]"
   ]
  },
  {
   "cell_type": "markdown",
   "id": "hollow-charleston",
   "metadata": {},
   "source": [
    "## With onehot"
   ]
  },
  {
   "cell_type": "code",
   "execution_count": 37,
   "id": "capable-bidder",
   "metadata": {},
   "outputs": [
    {
     "name": "stdout",
     "output_type": "stream",
     "text": [
      "(1635712, 256) (1635712,)\n"
     ]
    }
   ],
   "source": [
    "hero_selection = sp.sparse.load_npz(\"../data/hero_selection_onehot.npz\")\n",
    "match_winner = np.load(\"../data/match_winner.npy\")\n",
    "m_w = np.load(\"../data/match_winners.npy\")\n",
    "\n",
    "# match_winner = (match_winner * 2) - 1\n",
    "print(hero_selection.shape, match_winner.shape)"
   ]
  },
  {
   "cell_type": "code",
   "execution_count": 38,
   "id": "comprehensive-toner",
   "metadata": {},
   "outputs": [
    {
     "data": {
      "text/plain": [
       "array([0, 1, 0, 0, 1, 0, 1, 1, 1, 0], dtype=uint8)"
      ]
     },
     "execution_count": 38,
     "metadata": {},
     "output_type": "execute_result"
    }
   ],
   "source": [
    "match_winner[:10]"
   ]
  },
  {
   "cell_type": "code",
   "execution_count": 39,
   "id": "determined-works",
   "metadata": {},
   "outputs": [
    {
     "data": {
      "text/plain": [
       "array([1, 0, 1, 0, 1, 0, 1, 0, 0, 1])"
      ]
     },
     "execution_count": 39,
     "metadata": {},
     "output_type": "execute_result"
    }
   ],
   "source": [
    "m_w[:10]"
   ]
  },
  {
   "cell_type": "code",
   "execution_count": 40,
   "id": "binary-treaty",
   "metadata": {},
   "outputs": [
    {
     "data": {
      "text/plain": [
       "0.5777967025980124"
      ]
     },
     "execution_count": 40,
     "metadata": {},
     "output_type": "execute_result"
    }
   ],
   "source": [
    "match_winner.mean()"
   ]
  },
  {
   "cell_type": "code",
   "execution_count": 49,
   "id": "diagnostic-characteristic",
   "metadata": {},
   "outputs": [
    {
     "data": {
      "text/plain": [
       "array([  0,   1,   0,   0,   1,   0, 255, 255, 255,   0], dtype=uint8)"
      ]
     },
     "execution_count": 49,
     "metadata": {},
     "output_type": "execute_result"
    }
   ],
   "source": [
    "# flip random matches\n",
    "rng_winners = rng.integers(0,2,size=match_winner.shape[0]) \n",
    "rng_winners = (rng_winners * 2) - 1\n",
    "\n",
    "hero_selection[match_winner != rng_winners] = hero_selection[match_winner != rng_winners] * -1\n",
    "match_winner[match_winner != rng_winners] = match_winner[match_winner != rng_winners] * -1\n",
    "match_winner[:10]"
   ]
  },
  {
   "cell_type": "code",
   "execution_count": 42,
   "id": "elder-production",
   "metadata": {},
   "outputs": [],
   "source": [
    "x_train, x_test, y_train, y_test = train_test_split(hero_selection, match_winner, test_size=0.3, random_state=42, shuffle=True) "
   ]
  },
  {
   "cell_type": "code",
   "execution_count": 44,
   "id": "another-leader",
   "metadata": {},
   "outputs": [
    {
     "data": {
      "text/plain": [
       "73.70409851767018"
      ]
     },
     "execution_count": 44,
     "metadata": {},
     "output_type": "execute_result"
    }
   ],
   "source": [
    "y_test.mean()"
   ]
  },
  {
   "cell_type": "code",
   "execution_count": 43,
   "id": "ethical-praise",
   "metadata": {},
   "outputs": [
    {
     "name": "stdout",
     "output_type": "stream",
     "text": [
      "0.7266819369327143\n"
     ]
    },
    {
     "name": "stderr",
     "output_type": "stream",
     "text": [
      "/home/bao/anaconda3/envs/dota-scraper/lib/python3.8/site-packages/sklearn/linear_model/_logistic.py:763: ConvergenceWarning: lbfgs failed to converge (status=1):\n",
      "STOP: TOTAL NO. of ITERATIONS REACHED LIMIT.\n",
      "\n",
      "Increase the number of iterations (max_iter) or scale the data as shown in:\n",
      "    https://scikit-learn.org/stable/modules/preprocessing.html\n",
      "Please also refer to the documentation for alternative solver options:\n",
      "    https://scikit-learn.org/stable/modules/linear_model.html#logistic-regression\n",
      "  n_iter_i = _check_optimize_result(\n"
     ]
    }
   ],
   "source": [
    "clf = LogisticRegression().fit(x_train, y_train)\n",
    "y_h = clf.predict(x_test)\n",
    "acc = accuracy_score(y_test, y_h)\n",
    "\n",
    "print(clf.score(x_test, y_test))\n"
   ]
  },
  {
   "cell_type": "code",
   "execution_count": 12,
   "id": "assisted-actress",
   "metadata": {},
   "outputs": [
    {
     "name": "stdout",
     "output_type": "stream",
     "text": [
      "0.9999129339056552\n"
     ]
    }
   ],
   "source": [
    "print(r2_score(y_test, y_h))"
   ]
  },
  {
   "cell_type": "code",
   "execution_count": 13,
   "id": "african-treat",
   "metadata": {},
   "outputs": [
    {
     "name": "stdout",
     "output_type": "stream",
     "text": [
      "[[313081  35706]\n",
      " [105956  35971]]\n"
     ]
    }
   ],
   "source": [
    "print(confusion_matrix(y_test, y_h))"
   ]
  },
  {
   "cell_type": "code",
   "execution_count": 14,
   "id": "satisfied-being",
   "metadata": {},
   "outputs": [
    {
     "data": {
      "text/plain": [
       "0.07544517771391919"
      ]
     },
     "execution_count": 14,
     "metadata": {},
     "output_type": "execute_result"
    }
   ],
   "source": [
    "clf.coef_[0, 14]"
   ]
  },
  {
   "cell_type": "code",
   "execution_count": null,
   "id": "black-smooth",
   "metadata": {},
   "outputs": [],
   "source": []
  }
 ],
 "metadata": {
  "kernelspec": {
   "display_name": "Python 3",
   "language": "python",
   "name": "python3"
  },
  "language_info": {
   "codemirror_mode": {
    "name": "ipython",
    "version": 3
   },
   "file_extension": ".py",
   "mimetype": "text/x-python",
   "name": "python",
   "nbconvert_exporter": "python",
   "pygments_lexer": "ipython3",
   "version": "3.8.5"
  }
 },
 "nbformat": 4,
 "nbformat_minor": 5
}
