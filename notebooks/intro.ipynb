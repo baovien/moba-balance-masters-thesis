{
 "cells": [
  {
   "cell_type": "code",
   "execution_count": 1,
   "source": [
    "import os\n",
    "import gzip\n",
    "import json\n",
    "import numpy as np\n",
    "import pandas as pd\n",
    "import tqdm\n",
    "pd.set_option('display.max_rows', 100)"
   ],
   "outputs": [],
   "metadata": {}
  },
  {
   "cell_type": "markdown",
   "source": [
    "## Heroes information and stats"
   ],
   "metadata": {}
  },
  {
   "cell_type": "code",
   "execution_count": 2,
   "source": [
    "with open(\"../data/heroes.json\", \"r\") as fp: \n",
    "    heroes = json.load(fp)\n",
    "    \n",
    "df_heroes = pd.DataFrame(heroes)\n",
    "df_heroes"
   ],
   "outputs": [
    {
     "output_type": "execute_result",
     "data": {
      "text/html": [
       "<div>\n",
       "<style scoped>\n",
       "    .dataframe tbody tr th:only-of-type {\n",
       "        vertical-align: middle;\n",
       "    }\n",
       "\n",
       "    .dataframe tbody tr th {\n",
       "        vertical-align: top;\n",
       "    }\n",
       "\n",
       "    .dataframe thead th {\n",
       "        text-align: right;\n",
       "    }\n",
       "</style>\n",
       "<table border=\"1\" class=\"dataframe\">\n",
       "  <thead>\n",
       "    <tr style=\"text-align: right;\">\n",
       "      <th></th>\n",
       "      <th>id</th>\n",
       "      <th>name</th>\n",
       "      <th>localized_name</th>\n",
       "      <th>primary_attr</th>\n",
       "      <th>attack_type</th>\n",
       "      <th>roles</th>\n",
       "      <th>legs</th>\n",
       "    </tr>\n",
       "  </thead>\n",
       "  <tbody>\n",
       "    <tr>\n",
       "      <th>0</th>\n",
       "      <td>1</td>\n",
       "      <td>npc_dota_hero_antimage</td>\n",
       "      <td>Anti-Mage</td>\n",
       "      <td>agi</td>\n",
       "      <td>Melee</td>\n",
       "      <td>[Carry, Escape, Nuker]</td>\n",
       "      <td>2</td>\n",
       "    </tr>\n",
       "    <tr>\n",
       "      <th>1</th>\n",
       "      <td>2</td>\n",
       "      <td>npc_dota_hero_axe</td>\n",
       "      <td>Axe</td>\n",
       "      <td>str</td>\n",
       "      <td>Melee</td>\n",
       "      <td>[Initiator, Durable, Disabler, Jungler, Carry]</td>\n",
       "      <td>2</td>\n",
       "    </tr>\n",
       "    <tr>\n",
       "      <th>2</th>\n",
       "      <td>3</td>\n",
       "      <td>npc_dota_hero_bane</td>\n",
       "      <td>Bane</td>\n",
       "      <td>int</td>\n",
       "      <td>Ranged</td>\n",
       "      <td>[Support, Disabler, Nuker, Durable]</td>\n",
       "      <td>4</td>\n",
       "    </tr>\n",
       "    <tr>\n",
       "      <th>3</th>\n",
       "      <td>4</td>\n",
       "      <td>npc_dota_hero_bloodseeker</td>\n",
       "      <td>Bloodseeker</td>\n",
       "      <td>agi</td>\n",
       "      <td>Melee</td>\n",
       "      <td>[Carry, Disabler, Jungler, Nuker, Initiator]</td>\n",
       "      <td>2</td>\n",
       "    </tr>\n",
       "    <tr>\n",
       "      <th>4</th>\n",
       "      <td>5</td>\n",
       "      <td>npc_dota_hero_crystal_maiden</td>\n",
       "      <td>Crystal Maiden</td>\n",
       "      <td>int</td>\n",
       "      <td>Ranged</td>\n",
       "      <td>[Support, Disabler, Nuker, Jungler]</td>\n",
       "      <td>2</td>\n",
       "    </tr>\n",
       "    <tr>\n",
       "      <th>...</th>\n",
       "      <td>...</td>\n",
       "      <td>...</td>\n",
       "      <td>...</td>\n",
       "      <td>...</td>\n",
       "      <td>...</td>\n",
       "      <td>...</td>\n",
       "      <td>...</td>\n",
       "    </tr>\n",
       "    <tr>\n",
       "      <th>116</th>\n",
       "      <td>123</td>\n",
       "      <td>npc_dota_hero_hoodwink</td>\n",
       "      <td>Hoodwink</td>\n",
       "      <td>agi</td>\n",
       "      <td>Ranged</td>\n",
       "      <td>[Support, Nuker, Escape, Disabler]</td>\n",
       "      <td>4</td>\n",
       "    </tr>\n",
       "    <tr>\n",
       "      <th>117</th>\n",
       "      <td>126</td>\n",
       "      <td>npc_dota_hero_void_spirit</td>\n",
       "      <td>Void Spirit</td>\n",
       "      <td>int</td>\n",
       "      <td>Melee</td>\n",
       "      <td>[Carry, Escape, Nuker, Disabler]</td>\n",
       "      <td>2</td>\n",
       "    </tr>\n",
       "    <tr>\n",
       "      <th>118</th>\n",
       "      <td>128</td>\n",
       "      <td>npc_dota_hero_snapfire</td>\n",
       "      <td>Snapfire</td>\n",
       "      <td>str</td>\n",
       "      <td>Ranged</td>\n",
       "      <td>[Support, Nuker, Disabler, Escape]</td>\n",
       "      <td>2</td>\n",
       "    </tr>\n",
       "    <tr>\n",
       "      <th>119</th>\n",
       "      <td>129</td>\n",
       "      <td>npc_dota_hero_mars</td>\n",
       "      <td>Mars</td>\n",
       "      <td>str</td>\n",
       "      <td>Melee</td>\n",
       "      <td>[Carry, Initiator, Disabler, Durable]</td>\n",
       "      <td>2</td>\n",
       "    </tr>\n",
       "    <tr>\n",
       "      <th>120</th>\n",
       "      <td>135</td>\n",
       "      <td>npc_dota_hero_dawnbreaker</td>\n",
       "      <td>Dawnbreaker</td>\n",
       "      <td>str</td>\n",
       "      <td>Melee</td>\n",
       "      <td>[Carry, Durable]</td>\n",
       "      <td>2</td>\n",
       "    </tr>\n",
       "  </tbody>\n",
       "</table>\n",
       "<p>121 rows × 7 columns</p>\n",
       "</div>"
      ],
      "text/plain": [
       "      id                          name  localized_name primary_attr  \\\n",
       "0      1        npc_dota_hero_antimage       Anti-Mage          agi   \n",
       "1      2             npc_dota_hero_axe             Axe          str   \n",
       "2      3            npc_dota_hero_bane            Bane          int   \n",
       "3      4     npc_dota_hero_bloodseeker     Bloodseeker          agi   \n",
       "4      5  npc_dota_hero_crystal_maiden  Crystal Maiden          int   \n",
       "..   ...                           ...             ...          ...   \n",
       "116  123        npc_dota_hero_hoodwink        Hoodwink          agi   \n",
       "117  126     npc_dota_hero_void_spirit     Void Spirit          int   \n",
       "118  128        npc_dota_hero_snapfire        Snapfire          str   \n",
       "119  129            npc_dota_hero_mars            Mars          str   \n",
       "120  135     npc_dota_hero_dawnbreaker     Dawnbreaker          str   \n",
       "\n",
       "    attack_type                                           roles  legs  \n",
       "0         Melee                          [Carry, Escape, Nuker]     2  \n",
       "1         Melee  [Initiator, Durable, Disabler, Jungler, Carry]     2  \n",
       "2        Ranged             [Support, Disabler, Nuker, Durable]     4  \n",
       "3         Melee    [Carry, Disabler, Jungler, Nuker, Initiator]     2  \n",
       "4        Ranged             [Support, Disabler, Nuker, Jungler]     2  \n",
       "..          ...                                             ...   ...  \n",
       "116      Ranged              [Support, Nuker, Escape, Disabler]     4  \n",
       "117       Melee                [Carry, Escape, Nuker, Disabler]     2  \n",
       "118      Ranged              [Support, Nuker, Disabler, Escape]     2  \n",
       "119       Melee           [Carry, Initiator, Disabler, Durable]     2  \n",
       "120       Melee                                [Carry, Durable]     2  \n",
       "\n",
       "[121 rows x 7 columns]"
      ]
     },
     "metadata": {},
     "execution_count": 2
    }
   ],
   "metadata": {
    "tags": []
   }
  },
  {
   "cell_type": "code",
   "execution_count": 3,
   "source": [
    "df_heroes_dict = df_heroes[[\"id\", \"localized_name\"]]\n",
    "df_heroes_dict"
   ],
   "outputs": [
    {
     "output_type": "execute_result",
     "data": {
      "text/html": [
       "<div>\n",
       "<style scoped>\n",
       "    .dataframe tbody tr th:only-of-type {\n",
       "        vertical-align: middle;\n",
       "    }\n",
       "\n",
       "    .dataframe tbody tr th {\n",
       "        vertical-align: top;\n",
       "    }\n",
       "\n",
       "    .dataframe thead th {\n",
       "        text-align: right;\n",
       "    }\n",
       "</style>\n",
       "<table border=\"1\" class=\"dataframe\">\n",
       "  <thead>\n",
       "    <tr style=\"text-align: right;\">\n",
       "      <th></th>\n",
       "      <th>id</th>\n",
       "      <th>localized_name</th>\n",
       "    </tr>\n",
       "  </thead>\n",
       "  <tbody>\n",
       "    <tr>\n",
       "      <th>0</th>\n",
       "      <td>1</td>\n",
       "      <td>Anti-Mage</td>\n",
       "    </tr>\n",
       "    <tr>\n",
       "      <th>1</th>\n",
       "      <td>2</td>\n",
       "      <td>Axe</td>\n",
       "    </tr>\n",
       "    <tr>\n",
       "      <th>2</th>\n",
       "      <td>3</td>\n",
       "      <td>Bane</td>\n",
       "    </tr>\n",
       "    <tr>\n",
       "      <th>3</th>\n",
       "      <td>4</td>\n",
       "      <td>Bloodseeker</td>\n",
       "    </tr>\n",
       "    <tr>\n",
       "      <th>4</th>\n",
       "      <td>5</td>\n",
       "      <td>Crystal Maiden</td>\n",
       "    </tr>\n",
       "    <tr>\n",
       "      <th>...</th>\n",
       "      <td>...</td>\n",
       "      <td>...</td>\n",
       "    </tr>\n",
       "    <tr>\n",
       "      <th>116</th>\n",
       "      <td>123</td>\n",
       "      <td>Hoodwink</td>\n",
       "    </tr>\n",
       "    <tr>\n",
       "      <th>117</th>\n",
       "      <td>126</td>\n",
       "      <td>Void Spirit</td>\n",
       "    </tr>\n",
       "    <tr>\n",
       "      <th>118</th>\n",
       "      <td>128</td>\n",
       "      <td>Snapfire</td>\n",
       "    </tr>\n",
       "    <tr>\n",
       "      <th>119</th>\n",
       "      <td>129</td>\n",
       "      <td>Mars</td>\n",
       "    </tr>\n",
       "    <tr>\n",
       "      <th>120</th>\n",
       "      <td>135</td>\n",
       "      <td>Dawnbreaker</td>\n",
       "    </tr>\n",
       "  </tbody>\n",
       "</table>\n",
       "<p>121 rows × 2 columns</p>\n",
       "</div>"
      ],
      "text/plain": [
       "      id  localized_name\n",
       "0      1       Anti-Mage\n",
       "1      2             Axe\n",
       "2      3            Bane\n",
       "3      4     Bloodseeker\n",
       "4      5  Crystal Maiden\n",
       "..   ...             ...\n",
       "116  123        Hoodwink\n",
       "117  126     Void Spirit\n",
       "118  128        Snapfire\n",
       "119  129            Mars\n",
       "120  135     Dawnbreaker\n",
       "\n",
       "[121 rows x 2 columns]"
      ]
     },
     "metadata": {},
     "execution_count": 3
    }
   ],
   "metadata": {}
  },
  {
   "cell_type": "markdown",
   "source": [
    "### Notes:\n",
    "\n",
    "* We will look from the alliance side\n",
    "* There are 121 heroes as of 7.30 patch\n",
    "* Newest hero is Dawnbreaker\n",
    "* 63 ranged, 58 melee\n",
    "* 43 int, 40 str, 38 str"
   ],
   "metadata": {}
  },
  {
   "cell_type": "markdown",
   "source": [
    "## Preprocessing loop"
   ],
   "metadata": {}
  },
  {
   "cell_type": "code",
   "execution_count": 30,
   "source": [
    "def get_true_index(idx: int):\n",
    "    try:\n",
    "        true_index = df_heroes[df_heroes[\"id\"] == idx].index[0]\n",
    "    except IndexError as e:\n",
    "        print(e)\n",
    "        print(\"heroid:\", idx)\n",
    "        raise IndexError\n",
    "    \n",
    "    return true_index\n",
    "\n",
    "def get_comp_by_training_sample(sample):\n",
    "    radiant_win = sample[-1]\n",
    "    radiant = []\n",
    "    dire = []\n",
    "    for i, h in enumerate(sample[:-1]):\n",
    "        if h == 1:\n",
    "            radiant.append(_get_hero_name_by_id(i))\n",
    "        elif h == -1:\n",
    "            dire.append(_get_hero_name_by_id(i))\n",
    "    print(radiant, dire, radiant_win)\n",
    "\n",
    "def _get_hero_name_by_id(idx: int):\n",
    "    return df_heroes[df_heroes[\"id\"].index == idx][\"localized_name\"].values[0]\n"
   ],
   "outputs": [],
   "metadata": {}
  },
  {
   "cell_type": "code",
   "execution_count": 29,
   "source": [
    "results = []\n",
    "seen_matches = set()\n",
    "dup_counter = 0\n",
    "invalid = 0\n",
    "# [[1, 0, -1, ... , n_heroes_121, winner]]\n",
    "count = 0\n",
    "with gzip.open(\"../data/matches_5148330922-5148330922.gz\", \"r\") as fp:\n",
    "    for line in tqdm.tqdm(fp):\n",
    "        # if count > 400:\n",
    "        #     break\n",
    "\n",
    "        training_sample = np.zeros((122,))\n",
    "        match = json.loads(line)\n",
    "        \n",
    "        players = match[\"players\"]\n",
    "        match_id = match[\"match_id\"]\n",
    "\n",
    "        if not \"match_id\" in match:\n",
    "            invalid += 1 \n",
    "            continue\n",
    "        \n",
    "        if len(players) != 10:\n",
    "            invalid += 1\n",
    "            continue\n",
    "        \n",
    "        if match_id in seen_matches:\n",
    "            dup_counter += 1\n",
    "            continue\n",
    "        \n",
    "        for p in players:\n",
    "            hero_i = get_true_index(int(p[\"hero_id\"]))\n",
    "\n",
    "            is_radiant = True if p[\"player_slot\"] <= 7 else False # DETTE ER RIKTIG!!! \n",
    "\n",
    "            if is_radiant: # radiant slot\n",
    "                training_sample[hero_i] = 1\n",
    "            else: \n",
    "                training_sample[hero_i] = -1\n",
    "            \n",
    "        training_sample[-1] = match[\"radiant_win\"]\n",
    "        \n",
    "        # get_comp_by_training_sample(training_sample)\n",
    "        \n",
    "        results.append(training_sample)\n",
    "        seen_matches.add(match_id)\n",
    "        # count += 1\n",
    "        \n",
    "print(\"# duplicates\", dup_counter)\n",
    "print(\"# matches\", len(seen_matches))\n",
    "print(\"# invalid\", invalid)\n",
    "\n",
    "with open(\"../data/matches_5148330922-5148330922.npy\", \"wb\") as fp:\n",
    "    np.save(fp, np.array(results, dtype=np.int8), allow_pickle=True)"
   ],
   "outputs": [
    {
     "output_type": "stream",
     "name": "stderr",
     "text": [
      "167295it [08:51, 329.76it/s]"
     ]
    },
    {
     "output_type": "stream",
     "name": "stdout",
     "text": [
      "index 0 is out of bounds for axis 0 with size 0\n",
      "heroid: 0\n"
     ]
    },
    {
     "output_type": "stream",
     "name": "stderr",
     "text": [
      "209935it [11:08, 325.94it/s]"
     ]
    },
    {
     "output_type": "stream",
     "name": "stdout",
     "text": [
      "index 0 is out of bounds for axis 0 with size 0\n",
      "heroid: 0\n"
     ]
    },
    {
     "output_type": "stream",
     "name": "stderr",
     "text": [
      "792657it [41:06, 325.86it/s]"
     ]
    },
    {
     "output_type": "stream",
     "name": "stdout",
     "text": [
      "index 0 is out of bounds for axis 0 with size 0\n",
      "heroid: 0\n"
     ]
    },
    {
     "output_type": "stream",
     "name": "stderr",
     "text": [
      "905547it [46:48, 322.38it/s]\n"
     ]
    },
    {
     "output_type": "stream",
     "name": "stdout",
     "text": [
      "# duplicates 6\n",
      "# matches 905539\n",
      "# invalid 2\n"
     ]
    }
   ],
   "metadata": {}
  },
  {
   "cell_type": "code",
   "execution_count": 28,
   "source": [
    "pp_matches = np.load(\"../data/matches_5148330922-5148330922.npy\")\n",
    "\n",
    "print(len(pp_matches))"
   ],
   "outputs": [
    {
     "output_type": "stream",
     "name": "stdout",
     "text": [
      "401\n"
     ]
    }
   ],
   "metadata": {}
  },
  {
   "cell_type": "code",
   "execution_count": null,
   "source": [],
   "outputs": [],
   "metadata": {}
  }
 ],
 "metadata": {
  "kernelspec": {
   "name": "python3",
   "display_name": "Python 3.8.3 64-bit ('torch': conda)"
  },
  "language_info": {
   "codemirror_mode": {
    "name": "ipython",
    "version": 3
   },
   "file_extension": ".py",
   "mimetype": "text/x-python",
   "name": "python",
   "nbconvert_exporter": "python",
   "pygments_lexer": "ipython3",
   "version": "3.8.3"
  },
  "interpreter": {
   "hash": "544be3553ddadaf6d7c555d544e2c6bd40fc324aa49651f5ed5dcc9cf0af65f8"
  }
 },
 "nbformat": 4,
 "nbformat_minor": 5
}