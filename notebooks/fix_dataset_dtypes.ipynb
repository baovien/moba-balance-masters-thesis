{
 "cells": [
  {
   "cell_type": "code",
   "execution_count": 4,
   "id": "outstanding-precipitation",
   "metadata": {},
   "outputs": [],
   "source": [
    "# change dtype to int16 to reduce filesize\n",
    "\n",
    "\n",
    "from scipy.sparse import load_npz, save_npz\n",
    "import numpy as np"
   ]
  },
  {
   "cell_type": "code",
   "execution_count": 6,
   "id": "critical-ghost",
   "metadata": {},
   "outputs": [],
   "source": [
    "# onehot\n",
    "oh_path = \"../data/hero_selection_onehot.npz\"\n",
    "hero_sel_onehot = load_npz(oh_path)\n",
    "save_npz(oh_path, hero_sel_onehot.astype(np.int16))"
   ]
  },
  {
   "cell_type": "code",
   "execution_count": 7,
   "id": "accredited-serum",
   "metadata": {},
   "outputs": [],
   "source": [
    "# onehot\n",
    "sparse_path = \"../data/hero_selection_sparse.npz\"\n",
    "hero_sel_sparse = load_npz(sparse_path)\n",
    "save_npz(sparse_path, hero_sel_sparse.astype(np.int16))"
   ]
  },
  {
   "cell_type": "code",
   "execution_count": 10,
   "id": "republican-disclosure",
   "metadata": {},
   "outputs": [],
   "source": [
    "# match winner\n",
    "mw_path = \"../data/match_winner.npy\"\n",
    "mw = np.load(mw_path)\n",
    "np.save(mw_path, mw.astype(np.uint8))"
   ]
  },
  {
   "cell_type": "code",
   "execution_count": null,
   "id": "moving-commission",
   "metadata": {},
   "outputs": [],
   "source": []
  }
 ],
 "metadata": {
  "kernelspec": {
   "display_name": "Python 3",
   "language": "python",
   "name": "python3"
  },
  "language_info": {
   "codemirror_mode": {
    "name": "ipython",
    "version": 3
   },
   "file_extension": ".py",
   "mimetype": "text/x-python",
   "name": "python",
   "nbconvert_exporter": "python",
   "pygments_lexer": "ipython3",
   "version": "3.8.5"
  }
 },
 "nbformat": 4,
 "nbformat_minor": 5
}
