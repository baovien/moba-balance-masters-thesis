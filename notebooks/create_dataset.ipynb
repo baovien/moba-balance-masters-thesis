{
 "cells": [
  {
   "cell_type": "code",
   "execution_count": 1,
   "id": "passive-aberdeen",
   "metadata": {},
   "outputs": [],
   "source": [
    "import json\n",
    "import os\n",
    "import random\n",
    "import copy\n",
    "from zipfile import ZipFile, ZipInfo\n",
    "\n",
    "import scipy as sp\n",
    "import scipy.sparse\n",
    "import numpy as np\n",
    "import pandas as pd\n",
    "import tqdm"
   ]
  },
  {
   "cell_type": "code",
   "execution_count": 2,
   "id": "manufactured-petroleum",
   "metadata": {},
   "outputs": [
    {
     "name": "stdout",
     "output_type": "stream",
     "text": [
      "#feature_set: 14161\n"
     ]
    }
   ],
   "source": [
    "heroes_path = \"../data/heroes.json\"\n",
    "    \n",
    "with open(heroes_path, 'r') as fp:\n",
    "    heroes_raw = json.load(fp)\n",
    "    heroes = dict(((int(k), v) for k,v in heroes_raw.items()))\n",
    "\n",
    "def is_match_valid(match):\n",
    "    # check if hero ids is within range\n",
    "    try:\n",
    "#         e = \"\"\n",
    "        players = match[\"players\"]\n",
    "        hero_ids = [True if 0 < x[\"hero_id\"] and x[\"hero_id\"] < 129 else False for x in players]\n",
    "        if not all(hero_ids):\n",
    "#             print(\"Hero ids not in range\")\n",
    "            return False\n",
    "\n",
    "        # check matchtype is not all pick, random draft and ranked matchmaking\n",
    "        valid_game_modes = {1, 3, 22}\n",
    "        game_mode = match[\"game_mode\"]\n",
    "        if not game_mode in valid_game_modes:\n",
    "#             print(f\"Matchtype not in range (1, 3, 22), got {game_mode}\")\n",
    "            return False\n",
    "\n",
    "        # check match duration less than 10 minutes\n",
    "        if match[\"duration\"] <= 600: \n",
    "#             print(\"Matchduration is less than 10 minutes\")\n",
    "            return False\n",
    "\n",
    "        # check if match is not 10 players\n",
    "        if not len(match[\"players\"]) == 10:\n",
    "#             print(\"n players are less than 10\")\n",
    "            return False\n",
    "\n",
    "        # check for leavers\n",
    "        no_dc = [True if x[\"leaver_status\"] in [0, 1] else False for x in players]\n",
    "        if not all(no_dc):\n",
    "#             print(\"Leavers in game\")\n",
    "            return False\n",
    "    except:\n",
    "#         print(\"Invalid match\")\n",
    "        return False\n",
    "    \n",
    "    return True\n",
    "\n",
    "\n",
    "\n",
    "def create_feature_index():\n",
    "    feature_set = set()\n",
    "    for hero_id in heroes.keys():\n",
    "        feature_set.add((\"hero\", hero_id))\n",
    "\n",
    "        for hero_opp in heroes.keys():\n",
    "            if hero_id == hero_opp:\n",
    "                continue\n",
    "\n",
    "            key = [hero_id, hero_opp]\n",
    "            key.sort()\n",
    "            feature_set.add((\"pair_opp\", tuple(key)))\n",
    "\n",
    "        for hero_same in heroes.keys():\n",
    "            if hero_id == hero_same:\n",
    "                continue\n",
    "\n",
    "            key = [hero_id, hero_same]\n",
    "            key.sort()\n",
    "\n",
    "            feature_set.add((\"pair_same\", tuple(key)))\n",
    "\n",
    "    print(\"#feature_set:\", len(feature_set))\n",
    "    features_to_index = {}\n",
    "    index_to_features = {}\n",
    "    for k, v in enumerate(feature_set):\n",
    "        features_to_index[v] = k\n",
    "        index_to_features[k] = v\n",
    "    \n",
    "    return features_to_index, index_to_features\n",
    "    \n",
    "features_to_index, index_to_features = create_feature_index()\n",
    "\n",
    "def create_training_example(match):\n",
    "    winner = int(match[\"radiant_win\"])\n",
    "    players = match[\"players\"]\n",
    "    t0 = []\n",
    "    t1 = []\n",
    "    \n",
    "    for player in players:\n",
    "        hero_id = player[\"hero_id\"]\n",
    "        is_dire = 1 if player[\"player_slot\"] < 7 else 0\n",
    "        if is_dire:\n",
    "            t0.append(hero_id)\n",
    "        else:\n",
    "            t1.append(hero_id)\n",
    "    \n",
    "    # random flip \n",
    "    if random.random() > 0.5:\n",
    "        t0, t1 = t1, t0\n",
    "        winner = (winner + 1) % 2\n",
    "    \n",
    "    n_features = len(features_to_index)\n",
    "    example = np.zeros(n_features)\n",
    "    teams = [t0, t1]\n",
    "    for team, marker in zip([0, 1], [1, -1]):\n",
    "\n",
    "        for hero_id in teams[team]:\n",
    "            opp_team = (team + 1) % 2\n",
    "            i = features_to_index[(\"hero\", hero_id)]\n",
    "            example[i] = marker\n",
    "            \n",
    "            # add same team pair\n",
    "            for hero_id_same in teams[team]:\n",
    "                if hero_id_same != hero_id:\n",
    "                    key = [hero_id, hero_id_same]\n",
    "                    key.sort() \n",
    "                    i_same = features_to_index[(\"pair_same\", tuple(key))]\n",
    "                    example[i_same] = marker\n",
    "    \n",
    "    # add opp pair\n",
    "    for hero_id in t0:\n",
    "        for hero_id_opp in t1:\n",
    "            key = [hero_id, hero_id_opp]\n",
    "            key.sort() \n",
    "            i_opp = features_to_index[(\"pair_opp\", tuple(key))]\n",
    "            example[i_opp] = 1\n",
    "                \n",
    "    return sp.sparse.csr_matrix(example, dtype=np.int8), winner\n"
   ]
  },
  {
   "cell_type": "code",
   "execution_count": null,
   "id": "emerging-trader",
   "metadata": {},
   "outputs": [
    {
     "name": "stderr",
     "output_type": "stream",
     "text": [
      " 13%|█▎        | 303144/2338044 [05:06<1214:11:59,  2.15s/it]"
     ]
    }
   ],
   "source": [
    "data_path = \"../data/dota_games.zip\"\n",
    "hero_selection = []\n",
    "match_winner = []\n",
    "\n",
    "out_path = \"../data/game_features.npz\"\n",
    "assert not os.path.isfile(out_path)\n",
    "    \n",
    "with ZipFile(data_path) as z:\n",
    "    for item in tqdm.tqdm(z.filelist):\n",
    "        if not item.filename.endswith(\".json\"):\n",
    "            continue\n",
    "        \n",
    "        raw_match = z.read(item.filename)\n",
    "        match = json.loads(raw_match)[\"result\"]\n",
    "        \n",
    "        # check if match req is fulfilled\n",
    "        if not is_match_valid(match):\n",
    "            continue\n",
    "        \n",
    "        # stack X\n",
    "        x, y = create_training_example(match)\n",
    "        hero_selection.append(x)\n",
    "        \n",
    "        # y\n",
    "        match_winner.append(int(y))\n",
    "        \n",
    "        \n",
    "    sparse_hero_selection = sp.sparse.vstack(hero_selection)\n",
    "    \n",
    "    # save \n",
    "    sp.sparse.save_npz(out_path, sparse_hero_selection)\n",
    "    np.save(\"../data/match_winners.npy\", np.array(match_winner))\n",
    "    \n",
    "    print(\"done\")"
   ]
  },
  {
   "cell_type": "code",
   "execution_count": 21,
   "id": "offshore-accountability",
   "metadata": {},
   "outputs": [
    {
     "data": {
      "text/plain": [
       "(<1x14161 sparse matrix of type '<class 'numpy.int8'>'\n",
       " \twith 55 stored elements in Compressed Sparse Column format>,\n",
       " 0)"
      ]
     },
     "execution_count": 21,
     "metadata": {},
     "output_type": "execute_result"
    }
   ],
   "source": [
    "# test_match_path = \"../data/test_match_5607724594.json\"\n",
    "# out_path = \"../data/hero_selection_test.npz\"\n",
    "\n",
    "# training_examples = []\n",
    "# match_winner = []\n",
    "# with open(test_match_path, 'r') as fp:\n",
    "#     match = json.load(fp)[\"result\"]\n",
    "\n",
    "# # check if match req is fulfilled\n",
    "# if not is_match_valid(match):\n",
    "#     raise False\n",
    "\n",
    "# x, y = create_training_example(match)\n",
    "# x, y"
   ]
  },
  {
   "cell_type": "markdown",
   "id": "sustainable-jordan",
   "metadata": {},
   "source": [
    "### Load npz and npy"
   ]
  },
  {
   "cell_type": "code",
   "execution_count": 19,
   "id": "racial-bidder",
   "metadata": {},
   "outputs": [
    {
     "name": "stdout",
     "output_type": "stream",
     "text": [
      "(1635712, 128)\n",
      "(1635712,)\n"
     ]
    }
   ],
   "source": [
    "a = sp.sparse.load_npz(\"../data/hero_selection.npz\")\n",
    "b = np.load(\"../data/match_winner.npy\")\n",
    "print(a.shape)\n",
    "print(b.shape)"
   ]
  },
  {
   "cell_type": "code",
   "execution_count": 108,
   "id": "verified-caution",
   "metadata": {},
   "outputs": [
    {
     "name": "stdout",
     "output_type": "stream",
     "text": [
      "Mirana\n",
      "Sand King\n",
      "Shadow Shaman\n",
      "Lich\n",
      "Sniper\n",
      "Necrophos\n",
      "Faceless Void\n",
      "Spectre\n",
      "Timbersaw\n",
      "Skywrath Mage\n",
      "Elder Titan\n"
     ]
    }
   ],
   "source": [
    "# check if hero_id matches the match info\n",
    "row, col = sparse_training.nonzero()\n",
    "    \n",
    "for i in col:\n",
    "    print(heroes[str(i)])"
   ]
  },
  {
   "cell_type": "code",
   "execution_count": null,
   "id": "another-reading",
   "metadata": {},
   "outputs": [],
   "source": []
  }
 ],
 "metadata": {
  "kernelspec": {
   "display_name": "Python 3",
   "language": "python",
   "name": "python3"
  },
  "language_info": {
   "codemirror_mode": {
    "name": "ipython",
    "version": 3
   },
   "file_extension": ".py",
   "mimetype": "text/x-python",
   "name": "python",
   "nbconvert_exporter": "python",
   "pygments_lexer": "ipython3",
   "version": "3.8.5"
  }
 },
 "nbformat": 4,
 "nbformat_minor": 5
}
