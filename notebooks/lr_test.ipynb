{
 "cells": [
  {
   "cell_type": "code",
   "execution_count": null,
   "metadata": {},
   "outputs": [],
   "source": [
    "import numpy as np\n",
    "import pickle \n",
    "import json\n",
    "\n",
    "with open(\"a0/data/vl_logreg_57.pkl\", \"rb\") as f:\n",
    "    model = pickle.load(f)\n",
    "\n",
    "with open(\"a0/data/heroes.json\", \"r\") as f:\n",
    "    heroes = json.load(f)\n",
    "\n",
    "\n",
    "\n",
    "t0 = [\"Phantom Assassin\", \"Io\", \"Invoker\", \"Bounty Hunter\", \"Sand King\"]\n",
    "t1 = [\"Weaver\", \"Phantom Lancer\", \"Dark Willow\", \"Phoenix\", \"Void Spirit\"]\n",
    "\n",
    "\n",
    "\n",
    "model.predict()"
   ]
  }
 ],
 "metadata": {
  "language_info": {
   "name": "python"
  },
  "orig_nbformat": 4
 },
 "nbformat": 4,
 "nbformat_minor": 2
}
