{
 "cells": [
  {
   "cell_type": "code",
   "execution_count": 3,
   "id": "humanitarian-shock",
   "metadata": {},
   "outputs": [],
   "source": [
    "import json\n",
    "import scipy as sp\n",
    "import scipy.sparse\n",
    "import matplotlib.pyplot as plt\n",
    "import joblib\n",
    "import seaborn as sns\n",
    "import pandas as pd\n",
    "import numpy as np\n",
    "import pickle\n",
    "\n",
    "from numpy.random import default_rng\n",
    "\n",
    "\n",
    "from sklearn.model_selection import train_test_split\n",
    "from sklearn.linear_model import LogisticRegression\n",
    "from sklearn.metrics import accuracy_score, confusion_matrix, r2_score, mean_squared_error\n",
    "from sklearn.feature_selection import RFE\n",
    "sns.set()\n",
    "rng = default_rng()\n",
    "%matplotlib inline"
   ]
  },
  {
   "cell_type": "code",
   "execution_count": 4,
   "id": "color-northern",
   "metadata": {},
   "outputs": [
    {
     "name": "stdout",
     "output_type": "stream",
     "text": [
      "(2162047, 14161) (2162047,) y mean: -0.00038435797186647656\n"
     ]
    }
   ],
   "source": [
    "# hero_selection = sp.sparse.load_npz(\"../data/hero_selection.npz\")\n",
    "# match_winner = np.load(\"../data/match_winner.npy\")\n",
    "X = sp.sparse.load_npz(\"../data/big1_game_features.npz\")\n",
    "y = np.load(\"../data/big1_match_winners.npy\")\n",
    "\n",
    "y = (y * 2) - 1\n",
    "x_train, x_test, y_train, y_test = train_test_split(X, y, test_size=0.3, random_state=42, shuffle=True) \n",
    "\n",
    "print(X.shape, y.shape, f\"y mean: {y.mean()}\")"
   ]
  },
  {
   "cell_type": "code",
   "execution_count": 35,
   "id": "mysterious-usage",
   "metadata": {},
   "outputs": [
    {
     "name": "stdout",
     "output_type": "stream",
     "text": [
      "0.5737209284398295\n"
     ]
    }
   ],
   "source": [
    "clf = LogisticRegression(random_state=21, max_iter=200).fit(x_train, y_train)\n",
    "y_h = clf.predict(x_test)\n",
    "acc = accuracy_score(y_test, y_h)\n",
    "\n",
    "print(clf.score(x_test, y_test))\n",
    "print(mean_squared_error(y_test, y_h))\n",
    "print(r2_score(y_test, y_h))\n",
    "print(confusion_matrix(y_test, y_h))\n",
    "# joblib.dump(clf, \"../models/logreg_iter200_57perc.joblib\")\n",
    "y_test_prob = clf.predict_proba(x_test) \n",
    "m = y_test_prob.max(axis=1)\n",
    "\n",
    "# antall matches som classifieren er trygg på.\n",
    "# Hadde vi valgt ut kun disse gamesa, hadde vi nok hatt bedre acc\n",
    "print((m.mean() > m).sum())"
   ]
  },
  {
   "cell_type": "code",
   "execution_count": 6,
   "id": "equipped-scenario",
   "metadata": {},
   "outputs": [
    {
     "name": "stdout",
     "output_type": "stream",
     "text": [
      "#feature_set: 14161\n"
     ]
    }
   ],
   "source": [
    "def create_feature_index():\n",
    "    heroes_path = \"../data/hid_to_rid_dict.json\"\n",
    "\n",
    "    with open(heroes_path, 'r') as fp:\n",
    "        heroes = json.load(fp)\n",
    "        heroes = {int(k): int(v) for k, v in heroes.items()} \n",
    "        \n",
    "    feature_set = set()\n",
    "    for hero_id in heroes.keys():\n",
    "        feature_set.add((\"hero\", hero_id))\n",
    "\n",
    "        for hero_opp in heroes.keys():\n",
    "            if hero_id == hero_opp:\n",
    "                continue\n",
    "\n",
    "            key = [hero_id, hero_opp]\n",
    "            key.sort()\n",
    "            feature_set.add((\"pair_opp\", tuple(key)))\n",
    "\n",
    "        for hero_same in heroes.keys():\n",
    "            if hero_id == hero_same:\n",
    "                continue\n",
    "\n",
    "            key = [hero_id, hero_same]\n",
    "            key.sort()\n",
    "\n",
    "            feature_set.add((\"pair_same\", tuple(key)))\n",
    "\n",
    "    print(\"#feature_set:\", len(feature_set))\n",
    "    features_to_index = {}\n",
    "    index_to_features = {}\n",
    "    for k, v in enumerate(feature_set):\n",
    "        features_to_index[v] = k\n",
    "        index_to_features[k] = v\n",
    "    \n",
    "    return features_to_index, index_to_features\n",
    "    \n",
    "features_to_index, index_to_features = create_feature_index()\n",
    "\n",
    "def rules_to_training_example(rules=None, draft=None):\n",
    "    t0 = set(sorted(draft[::2], key=lambda x: x))\n",
    "    t1 = set(sorted(draft[1::2], key=lambda x: x))\n",
    "\n",
    "    t0_opp_pairs = [{x, y} for x in t0 for y in t1]\n",
    "    t1_opp_pairs = [{x, y} for x in t1 for y in t0]\n",
    "\n",
    "    training_example = np.zeros(14161)\n",
    "\n",
    "    for rule, rule_i in rules.items():\n",
    "        r_type = rule[0]\n",
    "        r_heroes = rule[1]\n",
    "        if type(r_heroes) is tuple:\n",
    "            r_heroes = set(r_heroes)\n",
    "\n",
    "        if r_type == \"pair_same\":\n",
    "            if r_heroes.issubset(t0):\n",
    "                training_example[rule_i] = 1.\n",
    "            if r_heroes.issubset(t1):\n",
    "                training_example[rule_i] = -1.\n",
    "\n",
    "        elif r_type == \"pair_opp\":\n",
    "            if r_heroes in t0_opp_pairs:\n",
    "                training_example[rule_i] = 1.\n",
    "            if r_heroes in t1_opp_pairs:\n",
    "                training_example[rule_i] = -1.\n",
    "\n",
    "        elif r_type == \"hero\":\n",
    "            if r_heroes in t0:\n",
    "                training_example[rule_i] = 1.\n",
    "            if r_heroes in t1:\n",
    "                training_example[rule_i] = -1.\n",
    "        else:\n",
    "            raise Exception(f\"No rule with type {r_type}\")\n",
    "\n",
    "    return training_example"
   ]
  },
  {
   "cell_type": "code",
   "execution_count": 8,
   "id": "coupled-algorithm",
   "metadata": {},
   "outputs": [],
   "source": [
    "# logreg = LogisticRegression(random_state=21, max_iter=200)\n",
    "# rfe = RFE(logreg, n_features_to_select=None, step=0.1, verbose=1)\n",
    "# rfe = rfe.fit(x_train, y_train)\n"
   ]
  },
  {
   "cell_type": "code",
   "execution_count": 9,
   "id": "golden-vertex",
   "metadata": {},
   "outputs": [],
   "source": [
    "rfe = joblib.load(\"../models/rfe_logreg_7080.joblib\")\n",
    "rfe_ranking = rfe.ranking_\n",
    "rfe_support = rfe.support_\n",
    "chosen_feats = np.where(rfe_ranking == 1)[0]\n",
    "\n",
    "# joblib.dump(rfe, \"../models/rfe_logreg_7080.joblib\")\n"
   ]
  },
  {
   "cell_type": "code",
   "execution_count": 10,
   "id": "confused-macro",
   "metadata": {},
   "outputs": [
    {
     "data": {
      "text/plain": [
       "array([ 0,  2,  3,  4,  6,  7,  8,  9, 11, 16, 18, 20])"
      ]
     },
     "execution_count": 10,
     "metadata": {},
     "output_type": "execute_result"
    }
   ],
   "source": [
    "chosen_feats[:12]"
   ]
  },
  {
   "cell_type": "code",
   "execution_count": 11,
   "id": "discrete-salvation",
   "metadata": {},
   "outputs": [],
   "source": [
    "rules = [index_to_features[x] for x in chosen_feats]"
   ]
  },
  {
   "cell_type": "code",
   "execution_count": 12,
   "id": "arbitrary-prairie",
   "metadata": {},
   "outputs": [
    {
     "data": {
      "text/plain": [
       "7080"
      ]
     },
     "execution_count": 12,
     "metadata": {},
     "output_type": "execute_result"
    }
   ],
   "source": [
    "len(rules)"
   ]
  },
  {
   "cell_type": "code",
   "execution_count": 90,
   "id": "stable-motel",
   "metadata": {},
   "outputs": [],
   "source": [
    "# new_index_to_features = {k:v for (k,v) in index_to_features.items() if rfe_support[k]}\n",
    "new_index_to_features = {}\n",
    "new_i = 0\n",
    "\n",
    "for k,v in index_to_features.items():\n",
    "    if rfe_support[k]:\n",
    "        new_index_to_features[new_i] = v\n",
    "        new_i += 1\n",
    "\n",
    "new_features_to_index = {v:k for (k,v) in new_index_to_features.items()}"
   ]
  }
 ],
 "metadata": {
  "kernelspec": {
   "display_name": "dota",
   "language": "python",
   "name": "dota"
  },
  "language_info": {
   "codemirror_mode": {
    "name": "ipython",
    "version": 3
   },
   "file_extension": ".py",
   "mimetype": "text/x-python",
   "name": "python",
   "nbconvert_exporter": "python",
   "pygments_lexer": "ipython3",
   "version": "3.8.5"
  }
 },
 "nbformat": 4,
 "nbformat_minor": 5
}
