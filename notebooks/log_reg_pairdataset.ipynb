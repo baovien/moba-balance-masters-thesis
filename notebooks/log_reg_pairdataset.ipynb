{
 "cells": [
  {
   "cell_type": "code",
   "execution_count": 13,
   "id": "premium-studio",
   "metadata": {},
   "outputs": [],
   "source": [
    "import json\n",
    "import scipy as sp\n",
    "import scipy.sparse\n",
    "import matplotlib.pyplot as plt\n",
    "import joblib\n",
    "import seaborn as sns\n",
    "import pandas as pd\n",
    "import numpy as np\n",
    "from numpy.random import default_rng\n",
    "\n",
    "\n",
    "from sklearn.model_selection import train_test_split\n",
    "from sklearn.linear_model import LogisticRegression\n",
    "from sklearn.metrics import accuracy_score, confusion_matrix, r2_score, mean_squared_error\n",
    "from sklearn.feature_selection import RFE\n",
    "sns.set()\n",
    "rng = default_rng()\n",
    "%matplotlib inline"
   ]
  },
  {
   "cell_type": "code",
   "execution_count": 8,
   "id": "refined-hobby",
   "metadata": {},
   "outputs": [
    {
     "name": "stdout",
     "output_type": "stream",
     "text": [
      "(2162047, 14161) (2162047,)\n"
     ]
    }
   ],
   "source": [
    "# hero_selection = sp.sparse.load_npz(\"../data/hero_selection.npz\")\n",
    "# match_winner = np.load(\"../data/match_winner.npy\")\n",
    "X = sp.sparse.load_npz(\"../data/big1_game_features.npz\")\n",
    "y = np.load(\"../data/big1_match_winners.npy\")\n",
    "\n",
    "y = (y * 2) - 1\n",
    "print(X.shape, y.shape)"
   ]
  },
  {
   "cell_type": "code",
   "execution_count": 39,
   "id": "utility-rainbow",
   "metadata": {},
   "outputs": [
    {
     "data": {
      "text/plain": [
       "{0, 1}"
      ]
     },
     "execution_count": 39,
     "metadata": {},
     "output_type": "execute_result"
    }
   ],
   "source": [
    "a = X[0].todense().tolist()\n",
    "set(a[0])\n",
    "\n"
   ]
  },
  {
   "cell_type": "code",
   "execution_count": 9,
   "id": "foster-syndicate",
   "metadata": {},
   "outputs": [
    {
     "data": {
      "text/plain": [
       "-0.00038435797186647656"
      ]
     },
     "execution_count": 9,
     "metadata": {},
     "output_type": "execute_result"
    }
   ],
   "source": [
    "y.mean()"
   ]
  },
  {
   "cell_type": "code",
   "execution_count": 10,
   "id": "multiple-breeding",
   "metadata": {},
   "outputs": [],
   "source": [
    "x_train, x_test, y_train, y_test = train_test_split(X, y, test_size=0.3, random_state=42, shuffle=True) "
   ]
  },
  {
   "cell_type": "code",
   "execution_count": 20,
   "id": "postal-matrix",
   "metadata": {},
   "outputs": [
    {
     "data": {
      "text/plain": [
       "(1, 14161)"
      ]
     },
     "execution_count": 20,
     "metadata": {},
     "output_type": "execute_result"
    }
   ],
   "source": [
    "x_train[0].todense().shape"
   ]
  },
  {
   "cell_type": "code",
   "execution_count": 11,
   "id": "adaptive-adelaide",
   "metadata": {},
   "outputs": [
    {
     "name": "stdout",
     "output_type": "stream",
     "text": [
      "0.5737209284398295\n"
     ]
    }
   ],
   "source": [
    "clf = LogisticRegression(random_state=21, max_iter=200).fit(x_train, y_train)\n",
    "y_h = clf.predict(x_test)\n",
    "acc = accuracy_score(y_test, y_h)\n",
    "\n",
    "print(clf.score(x_test, y_test))\n"
   ]
  },
  {
   "cell_type": "code",
   "execution_count": 14,
   "id": "inside-clone",
   "metadata": {},
   "outputs": [
    {
     "data": {
      "text/plain": [
       "['../models/logreg_iter200_57perc']"
      ]
     },
     "execution_count": 14,
     "metadata": {},
     "output_type": "execute_result"
    }
   ],
   "source": [
    "joblib.dump(clf, \"../models/logreg_iter200_57perc.joblib\")"
   ]
  },
  {
   "cell_type": "code",
   "execution_count": 12,
   "id": "logical-password",
   "metadata": {},
   "outputs": [
    {
     "name": "stdout",
     "output_type": "stream",
     "text": [
      "1.7051162862406821\n"
     ]
    }
   ],
   "source": [
    "print(mean_squared_error(y_test, y_h))"
   ]
  },
  {
   "cell_type": "code",
   "execution_count": 38,
   "id": "affiliated-masters",
   "metadata": {},
   "outputs": [
    {
     "name": "stdout",
     "output_type": "stream",
     "text": [
      "-0.704981565835056\n"
     ]
    }
   ],
   "source": [
    "print(r2_score(y_test, y_h))"
   ]
  },
  {
   "cell_type": "code",
   "execution_count": 39,
   "id": "ready-stanford",
   "metadata": {},
   "outputs": [
    {
     "name": "stdout",
     "output_type": "stream",
     "text": [
      "[[186240 138310]\n",
      " [138159 185906]]\n"
     ]
    }
   ],
   "source": [
    "print(confusion_matrix(y_test, y_h))"
   ]
  },
  {
   "cell_type": "code",
   "execution_count": 40,
   "id": "geographic-recycling",
   "metadata": {},
   "outputs": [
    {
     "data": {
      "text/plain": [
       "0.0"
      ]
     },
     "execution_count": 40,
     "metadata": {},
     "output_type": "execute_result"
    }
   ],
   "source": [
    "clf.coef_[0, 14]"
   ]
  },
  {
   "cell_type": "code",
   "execution_count": null,
   "id": "imposed-jurisdiction",
   "metadata": {},
   "outputs": [],
   "source": []
  },
  {
   "cell_type": "code",
   "execution_count": 41,
   "id": "smooth-seattle",
   "metadata": {},
   "outputs": [
    {
     "data": {
      "text/plain": [
       "326404"
      ]
     },
     "execution_count": 41,
     "metadata": {},
     "output_type": "execute_result"
    }
   ],
   "source": [
    "y_test_prob = clf.predict_proba(x_test) \n",
    "m = y_test_prob.max(axis=1)\n",
    "\n",
    "# antall matches som classifieren er trygg på.\n",
    "# Hadde vi valgt ut kun disse gamesa, hadde vi nok hatt bedre acc\n",
    "(m.mean() > m).sum() "
   ]
  },
  {
   "cell_type": "code",
   "execution_count": 5,
   "id": "worst-application",
   "metadata": {},
   "outputs": [
    {
     "name": "stdout",
     "output_type": "stream",
     "text": [
      "#feature_set: 14161\n"
     ]
    }
   ],
   "source": [
    "def create_feature_index():\n",
    "    heroes_path = \"../data/hid_to_rid_dict.json\"\n",
    "\n",
    "    with open(heroes_path, 'r') as fp:\n",
    "        heroes = json.load(fp)\n",
    "        heroes = {int(k): int(v) for k, v in heroes.items()} \n",
    "        \n",
    "    feature_set = set()\n",
    "    for hero_id in heroes.keys():\n",
    "        feature_set.add((\"hero\", hero_id))\n",
    "\n",
    "        for hero_opp in heroes.keys():\n",
    "            if hero_id == hero_opp:\n",
    "                continue\n",
    "\n",
    "            key = [hero_id, hero_opp]\n",
    "            key.sort()\n",
    "            feature_set.add((\"pair_opp\", tuple(key)))\n",
    "\n",
    "        for hero_same in heroes.keys():\n",
    "            if hero_id == hero_same:\n",
    "                continue\n",
    "\n",
    "            key = [hero_id, hero_same]\n",
    "            key.sort()\n",
    "\n",
    "            feature_set.add((\"pair_same\", tuple(key)))\n",
    "\n",
    "    print(\"#feature_set:\", len(feature_set))\n",
    "    features_to_index = {}\n",
    "    index_to_features = {}\n",
    "    for k, v in enumerate(feature_set):\n",
    "        features_to_index[v] = k\n",
    "        index_to_features[k] = v\n",
    "    \n",
    "    return features_to_index, index_to_features\n",
    "    \n",
    "features_to_index, index_to_features = create_feature_index()"
   ]
  },
  {
   "cell_type": "code",
   "execution_count": null,
   "id": "qualified-giving",
   "metadata": {},
   "outputs": [
    {
     "name": "stdout",
     "output_type": "stream",
     "text": [
      "Fitting estimator with 14161 features.\n",
      "Fitting estimator with 12745 features.\n"
     ]
    },
    {
     "name": "stderr",
     "output_type": "stream",
     "text": [
      "/home/jupyter-baoi/.conda/envs/dota/lib/python3.8/site-packages/sklearn/linear_model/_logistic.py:762: ConvergenceWarning: lbfgs failed to converge (status=1):\n",
      "STOP: TOTAL NO. of ITERATIONS REACHED LIMIT.\n",
      "\n",
      "Increase the number of iterations (max_iter) or scale the data as shown in:\n",
      "    https://scikit-learn.org/stable/modules/preprocessing.html\n",
      "Please also refer to the documentation for alternative solver options:\n",
      "    https://scikit-learn.org/stable/modules/linear_model.html#logistic-regression\n",
      "  n_iter_i = _check_optimize_result(\n"
     ]
    },
    {
     "name": "stdout",
     "output_type": "stream",
     "text": [
      "Fitting estimator with 11329 features.\n",
      "Fitting estimator with 9913 features.\n"
     ]
    }
   ],
   "source": [
    "logreg = LogisticRegression(random_state=21, max_iter=200)\n",
    "rfe = RFE(logreg, n_features_to_select=100, step=0.1, verbose=1)\n",
    "rfe = rfe.fit(x_train, y_train)\n",
    "\n",
    "for i in range(X.shape[1]):\n",
    "    print('Column: {}, Selected {}, Rank: {:.3f}'.format(i, rfe.support_[i], rfe.ranking_[i]))\n",
    "\n",
    "# order = sel.ranking_\n",
    "\n",
    "# feat_ranks = []\n",
    "# for i in order:\n",
    "#     feat_ranks.append(f\"{i}: {index_to_features[i]}\")\n",
    "# feat_ranks"
   ]
  },
  {
   "cell_type": "code",
   "execution_count": null,
   "id": "supported-ranch",
   "metadata": {},
   "outputs": [],
   "source": []
  }
 ],
 "metadata": {
  "kernelspec": {
   "display_name": "dota",
   "language": "python",
   "name": "dota"
  },
  "language_info": {
   "codemirror_mode": {
    "name": "ipython",
    "version": 3
   },
   "file_extension": ".py",
   "mimetype": "text/x-python",
   "name": "python",
   "nbconvert_exporter": "python",
   "pygments_lexer": "ipython3",
   "version": "3.8.5"
  }
 },
 "nbformat": 4,
 "nbformat_minor": 5
}
