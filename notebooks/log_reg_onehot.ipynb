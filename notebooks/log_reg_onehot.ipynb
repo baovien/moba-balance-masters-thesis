{
 "cells": [
  {
   "cell_type": "code",
   "execution_count": 1,
   "id": "polish-framework",
   "metadata": {},
   "outputs": [],
   "source": [
    "import scipy as sp\n",
    "import scipy.sparse\n",
    "import numpy as np\n",
    "from numpy.random import default_rng\n",
    "rng = default_rng()\n",
    "\n",
    "\n",
    "from sklearn.model_selection import train_test_split\n",
    "from sklearn.linear_model import LogisticRegression\n",
    "from sklearn.metrics import accuracy_score, confusion_matrix, r2_score"
   ]
  },
  {
   "cell_type": "code",
   "execution_count": 2,
   "id": "requested-estimate",
   "metadata": {},
   "outputs": [
    {
     "name": "stdout",
     "output_type": "stream",
     "text": [
      "(1635712, 256) (1635712,)\n"
     ]
    }
   ],
   "source": [
    "hero_selection = sp.sparse.load_npz(\"../data/hero_selection.npz\")\n",
    "match_winner = np.load(\"../data/match_winner.npy\")\n",
    "\n",
    "\n",
    "match_winner = (match_winner * 2) - 1\n",
    "print(hero_selection.shape, match_winner.shape)"
   ]
  },
  {
   "cell_type": "code",
   "execution_count": 3,
   "id": "local-tuesday",
   "metadata": {},
   "outputs": [
    {
     "data": {
      "text/plain": [
       "0.15559340519602471"
      ]
     },
     "execution_count": 3,
     "metadata": {},
     "output_type": "execute_result"
    }
   ],
   "source": [
    "match_winner.mean()"
   ]
  },
  {
   "cell_type": "code",
   "execution_count": 4,
   "id": "divine-lloyd",
   "metadata": {},
   "outputs": [],
   "source": [
    "# flip random matches\n",
    "rng_winners = rng.integers(0,2,size=match_winner.shape[0]) \n",
    "rng_winners = (rng_winners * 2) - 1\n",
    "\n",
    "hero_selection[match_winner != rng_winners] *= -1\n",
    "match_winner[match_winner != rng_winners] *= -1"
   ]
  },
  {
   "cell_type": "code",
   "execution_count": 5,
   "id": "chemical-reset",
   "metadata": {},
   "outputs": [],
   "source": [
    "x_train, x_test, y_train, y_test = train_test_split(hero_selection, match_winner, test_size=0.3) "
   ]
  },
  {
   "cell_type": "code",
   "execution_count": 91,
   "id": "rocky-characterization",
   "metadata": {},
   "outputs": [
    {
     "name": "stdout",
     "output_type": "stream",
     "text": [
      "0.5805723904351618\n"
     ]
    }
   ],
   "source": [
    "clf = LogisticRegression(random_state=21).fit(x_train, y_train)\n",
    "y_h = clf.predict(x_test)\n",
    "acc = accuracy_score(y_test, y_h)\n",
    "\n",
    "print(clf.score(x_test, y_test))\n"
   ]
  },
  {
   "cell_type": "code",
   "execution_count": 92,
   "id": "changing-chorus",
   "metadata": {},
   "outputs": [
    {
     "name": "stdout",
     "output_type": "stream",
     "text": [
      "-0.6777107941176359\n"
     ]
    }
   ],
   "source": [
    "print(r2_score(y_test, y_h))"
   ]
  },
  {
   "cell_type": "code",
   "execution_count": 93,
   "id": "continental-client",
   "metadata": {},
   "outputs": [
    {
     "name": "stdout",
     "output_type": "stream",
     "text": [
      "[[142783 102461]\n",
      " [103358 142112]]\n"
     ]
    }
   ],
   "source": [
    "print(confusion_matrix(y_test, y_h))"
   ]
  },
  {
   "cell_type": "code",
   "execution_count": 95,
   "id": "medieval-faith",
   "metadata": {},
   "outputs": [
    {
     "data": {
      "text/plain": [
       "-0.06001622619265414"
      ]
     },
     "execution_count": 95,
     "metadata": {},
     "output_type": "execute_result"
    }
   ],
   "source": [
    "clf.coef_[0, 14]"
   ]
  },
  {
   "cell_type": "markdown",
   "id": "united-uncle",
   "metadata": {},
   "source": [
    "## With onehot"
   ]
  },
  {
   "cell_type": "code",
   "execution_count": 6,
   "id": "surgical-latino",
   "metadata": {},
   "outputs": [
    {
     "name": "stdout",
     "output_type": "stream",
     "text": [
      "(1635712, 256) (1635712,)\n"
     ]
    }
   ],
   "source": [
    "hero_selection = sp.sparse.load_npz(\"../data/hero_selection_onehot.npz\")\n",
    "match_winner = np.load(\"../data/match_winner_onehot.npy\")\n",
    "\n",
    "\n",
    "match_winner = (match_winner * 2) - 1\n",
    "print(hero_selection.shape, match_winner.shape)"
   ]
  },
  {
   "cell_type": "code",
   "execution_count": 7,
   "id": "intellectual-conference",
   "metadata": {},
   "outputs": [
    {
     "data": {
      "text/plain": [
       "0.15559340519602471"
      ]
     },
     "execution_count": 7,
     "metadata": {},
     "output_type": "execute_result"
    }
   ],
   "source": [
    "match_winner.mean()"
   ]
  },
  {
   "cell_type": "code",
   "execution_count": 8,
   "id": "configured-regard",
   "metadata": {},
   "outputs": [],
   "source": [
    "# flip random matches\n",
    "rng_winners = rng.integers(0,2,size=match_winner.shape[0]) \n",
    "rng_winners = (rng_winners * 2) - 1\n",
    "\n",
    "hero_selection[match_winner != rng_winners] *= -1\n",
    "match_winner[match_winner != rng_winners] *= -1"
   ]
  },
  {
   "cell_type": "code",
   "execution_count": 9,
   "id": "linear-boxing",
   "metadata": {},
   "outputs": [],
   "source": [
    "x_train, x_test, y_train, y_test = train_test_split(hero_selection, match_winner, test_size=0.3) "
   ]
  },
  {
   "cell_type": "code",
   "execution_count": 10,
   "id": "breathing-radar",
   "metadata": {},
   "outputs": [
    {
     "name": "stdout",
     "output_type": "stream",
     "text": [
      "0.6030742958220063\n"
     ]
    }
   ],
   "source": [
    "clf = LogisticRegression(random_state=21).fit(x_train, y_train)\n",
    "y_h = clf.predict(x_test)\n",
    "acc = accuracy_score(y_test, y_h)\n",
    "\n",
    "print(clf.score(x_test, y_test))\n"
   ]
  },
  {
   "cell_type": "code",
   "execution_count": 11,
   "id": "bronze-heading",
   "metadata": {},
   "outputs": [
    {
     "name": "stdout",
     "output_type": "stream",
     "text": [
      "-0.5877029459434862\n"
     ]
    }
   ],
   "source": [
    "print(r2_score(y_test, y_h))"
   ]
  },
  {
   "cell_type": "code",
   "execution_count": 12,
   "id": "nearby-amplifier",
   "metadata": {},
   "outputs": [
    {
     "name": "stdout",
     "output_type": "stream",
     "text": [
      "[[148399  96888]\n",
      " [ 97889 147538]]\n"
     ]
    }
   ],
   "source": [
    "print(confusion_matrix(y_test, y_h))"
   ]
  },
  {
   "cell_type": "code",
   "execution_count": 13,
   "id": "corporate-delaware",
   "metadata": {},
   "outputs": [
    {
     "data": {
      "text/plain": [
       "0.026562191855500475"
      ]
     },
     "execution_count": 13,
     "metadata": {},
     "output_type": "execute_result"
    }
   ],
   "source": [
    "clf.coef_[0, 14]"
   ]
  },
  {
   "cell_type": "code",
   "execution_count": null,
   "id": "obvious-astrology",
   "metadata": {},
   "outputs": [],
   "source": []
  }
 ],
 "metadata": {
  "kernelspec": {
   "display_name": "Python 3",
   "language": "python",
   "name": "python3"
  },
  "language_info": {
   "codemirror_mode": {
    "name": "ipython",
    "version": 3
   },
   "file_extension": ".py",
   "mimetype": "text/x-python",
   "name": "python",
   "nbconvert_exporter": "python",
   "pygments_lexer": "ipython3",
   "version": "3.8.5"
  }
 },
 "nbformat": 4,
 "nbformat_minor": 5
}
