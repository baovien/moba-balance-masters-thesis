{
 "cells": [
  {
   "cell_type": "markdown",
   "id": "94cfdde3-2cf1-4207-a7eb-e3e3ee002227",
   "metadata": {},
   "source": [
    "# Data distribution\n",
    "\n",
    "* Rank\n",
    "* Game mode\n"
   ]
  },
  {
   "cell_type": "code",
   "execution_count": 9,
   "id": "054bf1fd-9603-4ee1-85f2-9f06a8f53691",
   "metadata": {},
   "outputs": [],
   "source": [
    "import gzip\n",
    "import numpy as np\n",
    "from collections import Counter\n",
    "import tqdm\n",
    "import json"
   ]
  },
  {
   "cell_type": "code",
   "execution_count": 19,
   "id": "5ad56560-af0b-4b1d-b430-19b729ec977f",
   "metadata": {},
   "outputs": [
    {
     "name": "stderr",
     "output_type": "stream",
     "text": [
      "905547it [02:41, 5600.22it/s]\n"
     ]
    }
   ],
   "source": [
    "with open(\"data/heroes.json\", \"r\") as fp:\n",
    "    hero_data = json.load(fp)\n",
    "    all_hids = [h[\"id\"] for h in hero_data]\n",
    "\n",
    "\n",
    "def is_valid_match(match, all_hids):\n",
    "    if \"match_id\" not in match:\n",
    "        return False\n",
    "    if not match[\"lobby_type\"] in {-6, 7}:\n",
    "        # print(\"Invalid lobby type:\", match[\"lobby_type\"])\n",
    "        return False\n",
    "    if match[\"duration\"] < 60 * 20 and match[\"duration\"] > 60 * 55:\n",
    "        # print(\"Invalid duration:\", match[\"duration\"])\n",
    "        return False\n",
    "    if not match[\"game_mode\"] in {1, 2, 16, 22}:\n",
    "        # print(\"Invalid game mode:\", match[\"game_mode\"])\n",
    "        return False\n",
    "\n",
    "    for p in match[\"players\"]:\n",
    "        if p[\"hero_id\"] not in all_hids:\n",
    "            # print(\"Invalid hero id:\", p[\"hero_id\"])\n",
    "            return False\n",
    "\n",
    "    return True\n",
    "\n",
    "\n",
    "\n",
    "c = Counter()\n",
    "b = Counter()\n",
    "ds = []\n",
    "\n",
    "with gzip.open(\"data/dataset_batch1_900k.gz\", \"r\") as fp:\n",
    "    for line in tqdm.tqdm(fp):\n",
    "\n",
    "        match = json.loads(line)\n",
    "        # Check if match is valid\n",
    "        if not is_valid_match(match, all_hids):\n",
    "            continue\n",
    "        \n",
    "        ds.append(match)\n",
    "        \n",
    "        c.update({match[\"lobby_type\"]: 1})\n",
    "        b.update({match[\"game_mode\"]: 1})\n",
    "        \n",
    "        \n",
    "        \n",
    "        \n",
    "        \n",
    "print(c.most_common())\n",
    "print(b.most_common())\n",
    "            \n",
    "        "
   ]
  }
 ],
 "metadata": {
  "kernelspec": {
   "display_name": "Python 3 (ipykernel)",
   "language": "python",
   "name": "python3"
  },
  "language_info": {
   "codemirror_mode": {
    "name": "ipython",
    "version": 3
   },
   "file_extension": ".py",
   "mimetype": "text/x-python",
   "name": "python",
   "nbconvert_exporter": "python",
   "pygments_lexer": "ipython3",
   "version": "3.8.12"
  }
 },
 "nbformat": 4,
 "nbformat_minor": 5
}
