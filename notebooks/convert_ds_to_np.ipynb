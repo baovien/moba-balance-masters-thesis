{
 "cells": [
  {
   "cell_type": "code",
   "execution_count": 11,
   "metadata": {},
   "outputs": [],
   "source": [
    "import json\n",
    "import os\n",
    "import random\n",
    "import copy\n",
    "import joblib\n",
    "import tqdm\n",
    "import pickle\n",
    "import numpy as np\n",
    "from zipfile import ZipFile, ZipInfo\n"
   ]
  },
  {
   "cell_type": "code",
   "execution_count": 17,
   "metadata": {},
   "outputs": [],
   "source": [
    "def is_match_valid(match):\n",
    "    # check if hero ids is within range\n",
    "    max_hero_id = 129 + 1 # hero id range 1-129\n",
    "    try:\n",
    "        players = match[\"players\"]\n",
    "        hero_ids = [True if 0 < x[\"hero_id\"] and x[\"hero_id\"] < max_hero_id else False for x in players]\n",
    "        if not all(hero_ids):\n",
    "            return False\n",
    "\n",
    "        # check matchtype is not all pick, random draft and ranked matchmaking\n",
    "        valid_game_modes = {1, 3, 22}\n",
    "        if not match[\"game_mode\"] in valid_game_modes:\n",
    "            return False\n",
    "\n",
    "        # check match duration less than 10 minutes\n",
    "        if match[\"duration\"] <= 600: \n",
    "            return False\n",
    "\n",
    "        # check if match is not 10 players\n",
    "        if not len(match[\"players\"]) == 10:\n",
    "            return False\n",
    "\n",
    "        # check for leavers\n",
    "        no_dc = [True if x[\"leaver_status\"] in [0, 1] else False for x in players]\n",
    "        if not all(no_dc):\n",
    "            return False\n",
    "    except:\n",
    "        print(\"Exception: \", match)\n",
    "        return False\n",
    "    \n",
    "    return True\n",
    "\n",
    "def rid_to_hid(rid):\n",
    "    d_heroes_path = \"../data/hid_to_rid_dict.json\"\n",
    "    with open(d_heroes_path, 'r') as fp:\n",
    "        d_heroes = json.load(fp)\n",
    "        d_heroes = {int(v): int(k) for k, v in d_heroes.items()}    \n",
    "    \n",
    "    return d_heroes[rid]\n",
    "\n",
    "def get_match_info(match) -> dict:\n",
    "    match_info = {}\n",
    "    winner = int(match[\"radiant_win\"])\n",
    "    players = match[\"players\"]\n",
    "    t0 = []\n",
    "    t1 = []\n",
    "    \n",
    "    for player in players:\n",
    "        rid = player[\"hero_id\"]\n",
    "        hid = rid_to_hid(rid)\n",
    "\n",
    "        is_radiant = False if player[\"player_slot\"] < 7 else True\n",
    "        \n",
    "        if is_radiant:\n",
    "            t0.append(hid)\n",
    "        else:\n",
    "            t1.append(hid)\n",
    "    \n",
    "    match_info[\"radiant\"] = t0\n",
    "    match_info[\"dire\"] = t1\n",
    "    match_info[\"radiant_win\"] = winner\n",
    "    \n",
    "    return match_info"
   ]
  },
  {
   "cell_type": "code",
   "execution_count": 18,
   "metadata": {},
   "outputs": [
    {
     "name": "stderr",
     "output_type": "stream",
     "text": [
      "100%|██████████| 2338044/2338044 [32:50<00:00, 1186.25it/s] \n"
     ]
    }
   ],
   "source": [
    "data_path = \"../data/dota_games.zip\"\n",
    "seen_matches = set()\n",
    "training_examples = []\n",
    "\n",
    "with ZipFile(data_path) as z:\n",
    "    for item in tqdm.tqdm(z.filelist):\n",
    "        if not item.filename.endswith(\".json\"):\n",
    "            continue\n",
    "            \n",
    "        raw_match = z.read(item.filename)\n",
    "        match = json.loads(raw_match)[\"result\"]\n",
    "        \n",
    "        if \"error\" in match:\n",
    "            continue\n",
    "            \n",
    "        match_id = match[\"match_id\"]\n",
    "        \n",
    "        # check if match has been seen\n",
    "        if match_id in seen_matches:\n",
    "            continue\n",
    "        \n",
    "        seen_matches.add(match_id)\n",
    "        \n",
    "        # check if match req is fulfilled\n",
    "        if not is_match_valid(match):\n",
    "            continue\n",
    "            \n",
    "        match_info = get_match_info(match)\n",
    "        training_examples.append(match_info)\n",
    "    \n",
    "with open(\"../data/dota_games_pickles.pkl\", \"wb\") as fp:\n",
    "    pickle.dump(training_examples, fp, pickle.HIGHEST_PROTOCOL)"
   ]
  },
  {
   "cell_type": "code",
   "execution_count": 20,
   "metadata": {},
   "outputs": [],
   "source": [
    "import pandas as pd\n",
    "\n",
    "\n",
    "\n",
    "with open (\"../data/dota_games_pickles.pkl\", \"rb\") as fp:\n",
    "    d_games = pd.read_pickle(fp)\n",
    "    \n"
   ]
  },
  {
   "cell_type": "code",
   "execution_count": 23,
   "metadata": {},
   "outputs": [],
   "source": [
    "df = pd.DataFrame(d_games)"
   ]
  },
  {
   "cell_type": "code",
   "execution_count": 24,
   "metadata": {},
   "outputs": [
    {
     "data": {
      "text/html": [
       "<div>\n",
       "<style scoped>\n",
       "    .dataframe tbody tr th:only-of-type {\n",
       "        vertical-align: middle;\n",
       "    }\n",
       "\n",
       "    .dataframe tbody tr th {\n",
       "        vertical-align: top;\n",
       "    }\n",
       "\n",
       "    .dataframe thead th {\n",
       "        text-align: right;\n",
       "    }\n",
       "</style>\n",
       "<table border=\"1\" class=\"dataframe\">\n",
       "  <thead>\n",
       "    <tr style=\"text-align: right;\">\n",
       "      <th></th>\n",
       "      <th>radiant</th>\n",
       "      <th>dire</th>\n",
       "      <th>radiant_win</th>\n",
       "    </tr>\n",
       "  </thead>\n",
       "  <tbody>\n",
       "    <tr>\n",
       "      <th>0</th>\n",
       "      <td>[33, 101, 15, 65, 8]</td>\n",
       "      <td>[34, 25, 39, 29, 96]</td>\n",
       "      <td>0</td>\n",
       "    </tr>\n",
       "    <tr>\n",
       "      <th>1</th>\n",
       "      <td>[98, 65, 26, 61, 73]</td>\n",
       "      <td>[13, 38, 95, 9, 17]</td>\n",
       "      <td>1</td>\n",
       "    </tr>\n",
       "    <tr>\n",
       "      <th>2</th>\n",
       "      <td>[72, 13, 61, 39, 105]</td>\n",
       "      <td>[104, 21, 83, 89, 47]</td>\n",
       "      <td>0</td>\n",
       "    </tr>\n",
       "    <tr>\n",
       "      <th>3</th>\n",
       "      <td>[6, 104, 66, 118, 42]</td>\n",
       "      <td>[60, 102, 82, 68, 25]</td>\n",
       "      <td>1</td>\n",
       "    </tr>\n",
       "    <tr>\n",
       "      <th>4</th>\n",
       "      <td>[102, 45, 85, 8, 65]</td>\n",
       "      <td>[42, 77, 58, 21, 110]</td>\n",
       "      <td>0</td>\n",
       "    </tr>\n",
       "  </tbody>\n",
       "</table>\n",
       "</div>"
      ],
      "text/plain": [
       "                 radiant                   dire  radiant_win\n",
       "0   [33, 101, 15, 65, 8]   [34, 25, 39, 29, 96]            0\n",
       "1   [98, 65, 26, 61, 73]    [13, 38, 95, 9, 17]            1\n",
       "2  [72, 13, 61, 39, 105]  [104, 21, 83, 89, 47]            0\n",
       "3  [6, 104, 66, 118, 42]  [60, 102, 82, 68, 25]            1\n",
       "4   [102, 45, 85, 8, 65]  [42, 77, 58, 21, 110]            0"
      ]
     },
     "execution_count": 24,
     "metadata": {},
     "output_type": "execute_result"
    }
   ],
   "source": [
    "df.head(5)"
   ]
  },
  {
   "cell_type": "code",
   "execution_count": null,
   "metadata": {},
   "outputs": [],
   "source": []
  }
 ],
 "metadata": {
  "kernelspec": {
   "display_name": "Python 3",
   "language": "python",
   "name": "python3"
  },
  "language_info": {
   "codemirror_mode": {
    "name": "ipython",
    "version": 3
   },
   "file_extension": ".py",
   "mimetype": "text/x-python",
   "name": "python",
   "nbconvert_exporter": "python",
   "pygments_lexer": "ipython3",
   "version": "3.8.5"
  }
 },
 "nbformat": 4,
 "nbformat_minor": 4
}
