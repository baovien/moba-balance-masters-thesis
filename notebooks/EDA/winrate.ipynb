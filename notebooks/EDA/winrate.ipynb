{
 "cells": [
  {
   "cell_type": "code",
   "execution_count": 2,
   "metadata": {},
   "outputs": [],
   "source": [
    "import json\n",
    "import numpy as np\n",
    "\n",
    "import pandas as pd\n",
    "import matplotlib.pyplot as plt\n",
    "import seaborn as sns\n",
    "\n",
    "sns.set()\n",
    "%matplotlib inline"
   ]
  },
  {
   "cell_type": "code",
   "execution_count": 3,
   "metadata": {},
   "outputs": [],
   "source": [
    "with open (\"../data/dota_games_pickles.pkl\", \"rb\") as fp:\n",
    "    d_games = pd.read_pickle(fp)"
   ]
  },
  {
   "cell_type": "code",
   "execution_count": 9,
   "metadata": {},
   "outputs": [
    {
     "data": {
      "text/plain": [
       "2162047"
      ]
     },
     "execution_count": 9,
     "metadata": {},
     "output_type": "execute_result"
    }
   ],
   "source": [
    "n_matches = len(d_games)\n",
    "n_matches"
   ]
  },
  {
   "cell_type": "code",
   "execution_count": 14,
   "metadata": {},
   "outputs": [
    {
     "name": "stdout",
     "output_type": "stream",
     "text": [
      "[206391. 129885.  46117.  49407. 146338. 118876. 145550. 230171. 154591.\n",
      " 133347. 158126.  57148.  74518. 275387.  20586.  83963. 127867. 162464.\n",
      " 172313.  61850. 256206. 150779.  80826. 151745. 232192. 100133. 124855.\n",
      "  71277. 137011. 131322.  50403.  26883.  53092.  71554.  69923.  69484.\n",
      "  28140. 159541.  79471. 215193.  84527.  26198. 218237.  70142.  68882.\n",
      "  63358.  54604.  41908.  67443. 101575.  38818.  64715.  99331.  23201.\n",
      "  76714.  17504.  25810.  34051.  71783.  20362.  68987.  46083. 123838.\n",
      "  31252.  10401. 170241.  69627.  91180.  80985.  80794.  30060.  50729.\n",
      " 232987.  81353.  53597.   8935.  19250.  36115.  26636.  48109.  21133.\n",
      "  78689. 193293.  72941. 213737. 122564.  39858.  14060.  38311.  43099.\n",
      "  10332. 155839.  37619.  55491.  57141. 151246.  63058.  73702.  94870.\n",
      "  87618.  37088.  23699. 180419.  69407. 121050.  75762.  83436.  72375.\n",
      " 111957.  86220.  51524.  62872.  96797.  61110.  92602. 102233. 123855.\n",
      " 142784. 145197.]\n"
     ]
    }
   ],
   "source": [
    "hero_win_count = np.zeros(119)\n",
    "hero_match_count = np.zeros(119)\n",
    "for match in d_games:\n",
    "    winner = match[\"radiant_win\"]\n",
    "    \n",
    "    for h in match[\"radiant\"]:\n",
    "        hero_match_count[int(h)] += 1\n",
    "    \n",
    "    for h in match[\"dire\"]:\n",
    "        hero_match_count[int(h)] += 1\n",
    "    \n",
    "    if winner: \n",
    "        for h in match[\"radiant\"]:\n",
    "            hero_win_count[int(h)] += 1\n",
    "    else:\n",
    "        for h in match[\"dire\"]:\n",
    "            hero_win_count[int(h)] += 1\n",
    "\n",
    "            \n",
    "print(hero_win_count)"
   ]
  },
  {
   "cell_type": "code",
   "execution_count": 15,
   "metadata": {},
   "outputs": [
    {
     "data": {
      "text/plain": [
       "array([377444., 260707.,  94997., 113875., 304992., 290243., 282677.,\n",
       "       489873., 323790., 258617., 301324., 106987., 138310., 534088.,\n",
       "        42370., 164671., 248194., 338415., 333311., 137710., 506660.,\n",
       "       308515., 147553., 301265., 426015., 202394., 250523., 148092.,\n",
       "       273478., 265971., 105021.,  52318., 104887., 134800., 151054.,\n",
       "       143423.,  60890., 300934., 171353., 415239., 164366.,  52447.,\n",
       "       414077., 156033., 140848., 137848., 118863.,  82252., 133093.,\n",
       "       216271.,  80010., 118864., 196636.,  46675., 184583.,  36889.,\n",
       "        46383.,  74942., 152271.,  56040., 138874.,  89938., 254671.,\n",
       "        56687.,  22204., 332499., 142909., 161728., 148799., 156791.,\n",
       "        53606., 104318., 465934., 159177.,  98423.,  20631.,  37110.,\n",
       "        67388.,  56844., 104042.,  47200., 170134., 432383., 154448.,\n",
       "       411274., 241460.,  80977.,  28295.,  68694.,  85046.,  23431.,\n",
       "       292753.,  68806., 114884., 109541., 295766., 127158., 136937.,\n",
       "       190544., 176159.,  77596.,  46255., 369149., 130276., 227003.,\n",
       "       149583., 210070., 144943., 224472., 174781., 101958., 136025.,\n",
       "       179573., 124675., 175070., 181947., 250960., 280594., 284706.])"
      ]
     },
     "execution_count": 15,
     "metadata": {},
     "output_type": "execute_result"
    }
   ],
   "source": [
    "hero_match_count"
   ]
  },
  {
   "cell_type": "code",
   "execution_count": 16,
   "metadata": {},
   "outputs": [],
   "source": [
    "winrate = (hero_win_count/hero_match_count)*100"
   ]
  },
  {
   "cell_type": "code",
   "execution_count": 19,
   "metadata": {},
   "outputs": [
    {
     "data": {
      "text/plain": [
       "67"
      ]
     },
     "execution_count": 19,
     "metadata": {},
     "output_type": "execute_result"
    }
   ],
   "source": [
    "winrate.argmax()"
   ]
  },
  {
   "cell_type": "code",
   "execution_count": null,
   "metadata": {},
   "outputs": [],
   "source": []
  }
 ],
 "metadata": {
  "kernelspec": {
   "display_name": "Python 3",
   "language": "python",
   "name": "python3"
  },
  "language_info": {
   "codemirror_mode": {
    "name": "ipython",
    "version": 3
   },
   "file_extension": ".py",
   "mimetype": "text/x-python",
   "name": "python",
   "nbconvert_exporter": "python",
   "pygments_lexer": "ipython3",
   "version": "3.7.3"
  }
 },
 "nbformat": 4,
 "nbformat_minor": 4
}
