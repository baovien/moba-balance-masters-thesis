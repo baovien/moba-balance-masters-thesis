{
 "cells": [
  {
   "cell_type": "code",
   "execution_count": 14,
   "source": [
    "import numpy as np\n",
    "from sklearn.model_selection import train_test_split\n",
    "from sklearn.linear_model import LogisticRegression\n",
    "from sklearn.neural_network import MLPClassifier"
   ],
   "outputs": [],
   "metadata": {}
  },
  {
   "cell_type": "code",
   "execution_count": 12,
   "source": [
    "matches = np.load(\"../data/preprocessed/matches_5148330922-5148330922.npy\")\n",
    "print(matches.shape)\n",
    "\n",
    "X = matches[:, :-1]\n",
    "y = matches[:, -1]\n",
    "print(\"X: {}, y: {}\".format(X.shape, y.shape))\n",
    "\n",
    "unique, counts = np.unique(y, return_counts=True)\n",
    "print(unique, counts)\n",
    "\n",
    "\n",
    "\n",
    "x_train, x_test, y_train, y_test = train_test_split(X, y, test_size=0.33, random_state=42, stratify=y)\n",
    "print(\"x_train: {}, x_test: {}, y_train: {}, y_test: {}\".format(x_train.shape, x_test.shape, y_train.shape, y_test.shape))\n",
    "\n",
    "clf = LogisticRegression().fit(x_train, y_train)\n",
    "print(clf.score(x_test, y_test))\n",
    "\n",
    "\n"
   ],
   "outputs": [
    {
     "output_type": "stream",
     "name": "stdout",
     "text": [
      "(905539, 122)\n",
      "X: (905539, 121), y: (905539,)\n",
      "[0 1] [433085 472454]\n",
      "x_train: (606711, 121), x_test: (298828, 121), y_train: (606711,), y_test: (298828,)\n",
      "0.5607439731216619\n"
     ]
    }
   ],
   "metadata": {}
  },
  {
   "cell_type": "code",
   "execution_count": 15,
   "source": [
    "clf = MLPClassifier(solver=\"adam\", hidden_layer_sizes=(300,), activation=\"logistic\")\n",
    "clf.fit(x_train, y_train)"
   ],
   "outputs": [
    {
     "output_type": "execute_result",
     "data": {
      "text/plain": [
       "MLPClassifier(activation='logistic', hidden_layer_sizes=(300,))"
      ]
     },
     "metadata": {},
     "execution_count": 15
    }
   ],
   "metadata": {}
  },
  {
   "cell_type": "code",
   "execution_count": 16,
   "source": [
    "print(clf.score(x_test,y_test))"
   ],
   "outputs": [
    {
     "output_type": "stream",
     "name": "stdout",
     "text": [
      "0.5601884696213206\n"
     ]
    }
   ],
   "metadata": {}
  },
  {
   "cell_type": "code",
   "execution_count": null,
   "source": [],
   "outputs": [],
   "metadata": {}
  }
 ],
 "metadata": {
  "orig_nbformat": 4,
  "language_info": {
   "name": "python",
   "version": "3.8.3",
   "mimetype": "text/x-python",
   "codemirror_mode": {
    "name": "ipython",
    "version": 3
   },
   "pygments_lexer": "ipython3",
   "nbconvert_exporter": "python",
   "file_extension": ".py"
  },
  "kernelspec": {
   "name": "python3",
   "display_name": "Python 3.8.3 64-bit ('torch': conda)"
  },
  "interpreter": {
   "hash": "544be3553ddadaf6d7c555d544e2c6bd40fc324aa49651f5ed5dcc9cf0af65f8"
  }
 },
 "nbformat": 4,
 "nbformat_minor": 2
}