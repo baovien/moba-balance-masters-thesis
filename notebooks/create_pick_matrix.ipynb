{
 "cells": [
  {
   "cell_type": "code",
   "execution_count": 1,
   "metadata": {},
   "outputs": [],
   "source": [
    "import json\n",
    "\n",
    "from zipfile import ZipFile, ZipInfo\n",
    "\n",
    "import scipy as sp\n",
    "import scipy.sparse\n",
    "import numpy as np\n",
    "import pandas as pd"
   ]
  },
  {
   "cell_type": "code",
   "execution_count": 7,
   "metadata": {},
   "outputs": [],
   "source": [
    "# data_path = \"../data/dota_games.zip\"\n",
    "# with ZipFile(data_path) as z:\n",
    "#     z.extract('dota_games/5607724594.json', \"../data/test_match.json\")"
   ]
  },
  {
   "cell_type": "markdown",
   "metadata": {},
   "source": [
    "### reconstruct heroes dict\n"
   ]
  },
  {
   "cell_type": "code",
   "execution_count": 8,
   "metadata": {},
   "outputs": [],
   "source": [
    "# heroes_path = \"../data/heroes.json\"\n",
    "# with open(heroes_path, 'r') as fp:\n",
    "#     heroes = json.load(fp)\n",
    "    \n",
    "# new_heroes_d = {}\n",
    "# for hero in heroes:\n",
    "#     new_heroes_d[int(hero[\"id\"])] = hero[\"name\"]\n",
    "    \n",
    "# with open(\"../data/heroes_clean.json\", \"w\") as fp:\n",
    "#     fp.write(json.dumps(new_heroes_d))"
   ]
  },
  {
   "cell_type": "code",
   "execution_count": 10,
   "metadata": {},
   "outputs": [],
   "source": [
    "n_matches = 10000\n",
    "n_heroes = 119\n",
    "max_hero_id = 128\n",
    "\n",
    "test_match_path = \"../data/test_match_5607724594.json\"\n",
    "heroes_path = \"../data/heroes_clean.json\"\n",
    "\n",
    "with open(test_match_path, 'r') as fp:\n",
    "    match = json.load(fp)\n",
    "    \n",
    "with open(heroes_path, 'r') as fp:\n",
    "    heroes = json.load(fp)"
   ]
  },
  {
   "cell_type": "code",
   "execution_count": 15,
   "metadata": {},
   "outputs": [],
   "source": [
    "def is_match_valid(match):\n",
    "    # check if hero ids is within range\n",
    "    players = match[\"result\"][\"players\"]\n",
    "    hero_ids = [True if 0 < x[\"hero_id\"] and x[\"hero_id\"] < max_hero_id else False for x in players]\n",
    "    if not all(hero_ids):\n",
    "        return False\n",
    "    \n",
    "    # check matchtype is not all pick, random draft and ranked matchmaking\n",
    "    valid_game_modes = {1, 3, 22}\n",
    "    if not match[\"result\"][\"game_mode\"] in valid_game_modes:\n",
    "        return False\n",
    "    \n",
    "    # check match duration less than 10 minutes\n",
    "    if match[\"result\"][\"duration\"] <= 600: \n",
    "        return False\n",
    "    \n",
    "    # check if match is not 10 players\n",
    "    if not len(match[\"result\"][\"players\"]) == 10:\n",
    "        return False\n",
    "    \n",
    "    # check for leavers\n",
    "    no_dc = [True if x[\"leaver_status\"] in [0, 1] else False for x in players]\n",
    "    if not all(no_dc):\n",
    "        return False\n",
    "    \n",
    "    return True"
   ]
  },
  {
   "cell_type": "code",
   "execution_count": 17,
   "metadata": {},
   "outputs": [
    {
     "name": "stdout",
     "output_type": "stream",
     "text": [
      "  (0, 9)\t-1.0\n",
      "  (0, 16)\t-1.0\n",
      "  (0, 27)\t1.0\n",
      "  (0, 31)\t1.0\n",
      "  (0, 35)\t-1.0\n",
      "  (0, 36)\t1.0\n",
      "  (0, 41)\t1.0\n",
      "  (0, 67)\t-1.0\n",
      "  (0, 98)\t1.0\n",
      "  (0, 103)\t-1.0\n",
      "  (1, 10)\t1.0\n",
      "  (1, 14)\t1.0\n",
      "  (1, 18)\t1.0\n",
      "  (1, 28)\t-1.0\n",
      "  (1, 40)\t1.0\n",
      "  (1, 63)\t-1.0\n",
      "  (1, 67)\t-1.0\n",
      "  (1, 75)\t-1.0\n",
      "  (1, 97)\t1.0\n",
      "  (1, 100)\t-1.0\n",
      "  (2, 14)\t-1.0\n",
      "  (2, 22)\t1.0\n",
      "  (2, 41)\t-1.0\n",
      "  (2, 49)\t1.0\n",
      "  (2, 63)\t-1.0\n",
      "  :\t:\n",
      "  (6895, 44)\t-1.0\n",
      "  (6895, 60)\t-1.0\n",
      "  (6895, 71)\t-1.0\n",
      "  (6895, 99)\t1.0\n",
      "  (6895, 112)\t1.0\n",
      "  (6896, 14)\t1.0\n",
      "  (6896, 16)\t-1.0\n",
      "  (6896, 40)\t1.0\n",
      "  (6896, 45)\t-1.0\n",
      "  (6896, 51)\t-1.0\n",
      "  (6896, 52)\t-1.0\n",
      "  (6896, 54)\t1.0\n",
      "  (6896, 61)\t1.0\n",
      "  (6896, 94)\t-1.0\n",
      "  (6896, 121)\t1.0\n",
      "  (6897, 5)\t-1.0\n",
      "  (6897, 8)\t-1.0\n",
      "  (6897, 13)\t-1.0\n",
      "  (6897, 14)\t1.0\n",
      "  (6897, 60)\t1.0\n",
      "  (6897, 67)\t1.0\n",
      "  (6897, 94)\t1.0\n",
      "  (6897, 98)\t-1.0\n",
      "  (6897, 106)\t-1.0\n",
      "  (6897, 110)\t1.0\n"
     ]
    }
   ],
   "source": [
    "data_path = \"../data/dota_games.zip\"\n",
    "training_examples = []\n",
    "n_samples = 10000\n",
    "\n",
    "with ZipFile(data_path) as z:\n",
    "    for item in z.filelist[1:n_samples]:\n",
    "        match = z.read(item.filename)\n",
    "        match = json.loads(match)\n",
    "        players = match[\"result\"][\"players\"]\n",
    "    \n",
    "        # check if match req is fulfilled\n",
    "        if not is_match_valid(match):\n",
    "            continue\n",
    "\n",
    "        heroes_onehot = np.zeros(128, dtype=np.float)\n",
    "\n",
    "        for player in players:\n",
    "            hero_id = player[\"hero_id\"]\n",
    "            is_dire = 1 if player[\"player_slot\"] < 7 else -1\n",
    "            heroes_onehot[hero_id] = is_dire\n",
    "\n",
    "        # stack X\n",
    "        s_x = sp.sparse.csr_matrix(heroes_onehot)\n",
    "        training_examples.append(s_x)\n",
    "    \n",
    "    sparse_training = sp.sparse.vstack(training_examples)\n",
    "\n",
    "    # save \n",
    "    sp.sparse.save_npz(\"../data/training.npz\", sparse_training)\n",
    "\n",
    "    print(sparse_training)"
   ]
  },
  {
   "cell_type": "markdown",
   "metadata": {},
   "source": [
    "### test code"
   ]
  },
  {
   "cell_type": "code",
   "execution_count": 118,
   "metadata": {},
   "outputs": [
    {
     "name": "stdout",
     "output_type": "stream",
     "text": [
      "  (0, 9)\t-1.0\n",
      "  (0, 16)\t-1.0\n",
      "  (0, 27)\t1.0\n",
      "  (0, 31)\t1.0\n",
      "  (0, 35)\t-1.0\n",
      "  (0, 36)\t1.0\n",
      "  (0, 41)\t1.0\n",
      "  (0, 67)\t-1.0\n",
      "  (0, 98)\t1.0\n",
      "  (0, 103)\t-1.0\n"
     ]
    }
   ],
   "source": [
    "training_examples = []\n",
    "\n",
    "for match in matches:\n",
    "    players = match[\"result\"][\"players\"]\n",
    "    \n",
    "    # check if match req is fulfilled\n",
    "    if not is_match_valid(match):\n",
    "        continue\n",
    "    \n",
    "    heroes_onehot = np.zeros(128, dtype=np.float)\n",
    "    \n",
    "    for player in players:\n",
    "        hero_id = player[\"hero_id\"]\n",
    "        is_dire = 1 if player[\"player_slot\"] < 7 else -1\n",
    "        heroes_onehot[hero_id] = is_dire\n",
    "        \n",
    "    # stack X\n",
    "    s_x = sp.sparse.csr_matrix(heroes_onehot)\n",
    "    training_examples.append(s_x)\n",
    "    \n",
    "     \n",
    "sparse_training = sp.sparse.vstack(training_examples)\n",
    "\n",
    "# save \n",
    "sp.sparse.save_npz(\"../data/training.npz\", sparse_training)\n",
    "\n",
    "print(sparse_training)"
   ]
  },
  {
   "cell_type": "code",
   "execution_count": 119,
   "metadata": {},
   "outputs": [
    {
     "name": "stdout",
     "output_type": "stream",
     "text": [
      "  (0, 9)\t-1.0\n",
      "  (0, 16)\t-1.0\n",
      "  (0, 27)\t1.0\n",
      "  (0, 31)\t1.0\n",
      "  (0, 35)\t-1.0\n",
      "  (0, 36)\t1.0\n",
      "  (0, 41)\t1.0\n",
      "  (0, 67)\t-1.0\n",
      "  (0, 98)\t1.0\n",
      "  (0, 103)\t-1.0\n"
     ]
    }
   ],
   "source": [
    "a = sp.sparse.load_npz(\"../data/training.npz\")\n",
    "print(a)"
   ]
  },
  {
   "cell_type": "code",
   "execution_count": 108,
   "metadata": {},
   "outputs": [
    {
     "name": "stdout",
     "output_type": "stream",
     "text": [
      "Mirana\n",
      "Sand King\n",
      "Shadow Shaman\n",
      "Lich\n",
      "Sniper\n",
      "Necrophos\n",
      "Faceless Void\n",
      "Spectre\n",
      "Timbersaw\n",
      "Skywrath Mage\n",
      "Elder Titan\n"
     ]
    }
   ],
   "source": [
    "# check if hero_id matches the match info\n",
    "row, col = sparse_training.nonzero()\n",
    "    \n",
    "for i in col:\n",
    "    print(heroes[str(i)])"
   ]
  }
 ],
 "metadata": {
  "kernelspec": {
   "display_name": "Python 3",
   "language": "python",
   "name": "python3"
  },
  "language_info": {
   "codemirror_mode": {
    "name": "ipython",
    "version": 3
   },
   "file_extension": ".py",
   "mimetype": "text/x-python",
   "name": "python",
   "nbconvert_exporter": "python",
   "pygments_lexer": "ipython3",
   "version": "3.8.5"
  }
 },
 "nbformat": 4,
 "nbformat_minor": 5
}
