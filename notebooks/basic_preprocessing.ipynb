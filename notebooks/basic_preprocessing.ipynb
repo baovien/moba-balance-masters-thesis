{
 "cells": [
  {
   "cell_type": "code",
   "execution_count": 2,
   "id": "a51a04df",
   "metadata": {},
   "outputs": [],
   "source": [
    "import os\n",
    "import gzip\n",
    "import json\n",
    "import numpy as np\n",
    "import pandas as pd\n",
    "import tqdm\n",
    "pd.set_option('display.max_rows', 100)"
   ]
  },
  {
   "cell_type": "markdown",
   "id": "219c0ab3",
   "metadata": {},
   "source": [
    "## Heroes information and stats"
   ]
  },
  {
   "cell_type": "code",
   "execution_count": 6,
   "id": "fe617952",
   "metadata": {
    "tags": []
   },
   "outputs": [],
   "source": [
    "with open(\"../data/heroes.json\", \"r\") as fp: \n",
    "    heroes = json.load(fp)\n",
    "    \n",
    "df_heroes = pd.DataFrame(heroes)"
   ]
  },
  {
   "cell_type": "code",
   "execution_count": 4,
   "id": "e23219c2",
   "metadata": {},
   "outputs": [
    {
     "data": {
      "text/html": [
       "<div>\n",
       "<style scoped>\n",
       "    .dataframe tbody tr th:only-of-type {\n",
       "        vertical-align: middle;\n",
       "    }\n",
       "\n",
       "    .dataframe tbody tr th {\n",
       "        vertical-align: top;\n",
       "    }\n",
       "\n",
       "    .dataframe thead th {\n",
       "        text-align: right;\n",
       "    }\n",
       "</style>\n",
       "<table border=\"1\" class=\"dataframe\">\n",
       "  <thead>\n",
       "    <tr style=\"text-align: right;\">\n",
       "      <th></th>\n",
       "      <th>id</th>\n",
       "      <th>localized_name</th>\n",
       "    </tr>\n",
       "  </thead>\n",
       "  <tbody>\n",
       "    <tr>\n",
       "      <th>0</th>\n",
       "      <td>1</td>\n",
       "      <td>Anti-Mage</td>\n",
       "    </tr>\n",
       "    <tr>\n",
       "      <th>1</th>\n",
       "      <td>2</td>\n",
       "      <td>Axe</td>\n",
       "    </tr>\n",
       "    <tr>\n",
       "      <th>2</th>\n",
       "      <td>3</td>\n",
       "      <td>Bane</td>\n",
       "    </tr>\n",
       "    <tr>\n",
       "      <th>3</th>\n",
       "      <td>4</td>\n",
       "      <td>Bloodseeker</td>\n",
       "    </tr>\n",
       "    <tr>\n",
       "      <th>4</th>\n",
       "      <td>5</td>\n",
       "      <td>Crystal Maiden</td>\n",
       "    </tr>\n",
       "    <tr>\n",
       "      <th>...</th>\n",
       "      <td>...</td>\n",
       "      <td>...</td>\n",
       "    </tr>\n",
       "    <tr>\n",
       "      <th>117</th>\n",
       "      <td>126</td>\n",
       "      <td>Void Spirit</td>\n",
       "    </tr>\n",
       "    <tr>\n",
       "      <th>118</th>\n",
       "      <td>128</td>\n",
       "      <td>Snapfire</td>\n",
       "    </tr>\n",
       "    <tr>\n",
       "      <th>119</th>\n",
       "      <td>129</td>\n",
       "      <td>Mars</td>\n",
       "    </tr>\n",
       "    <tr>\n",
       "      <th>120</th>\n",
       "      <td>135</td>\n",
       "      <td>Dawnbreaker</td>\n",
       "    </tr>\n",
       "    <tr>\n",
       "      <th>121</th>\n",
       "      <td>136</td>\n",
       "      <td>Marci</td>\n",
       "    </tr>\n",
       "  </tbody>\n",
       "</table>\n",
       "<p>122 rows × 2 columns</p>\n",
       "</div>"
      ],
      "text/plain": [
       "      id  localized_name\n",
       "0      1       Anti-Mage\n",
       "1      2             Axe\n",
       "2      3            Bane\n",
       "3      4     Bloodseeker\n",
       "4      5  Crystal Maiden\n",
       "..   ...             ...\n",
       "117  126     Void Spirit\n",
       "118  128        Snapfire\n",
       "119  129            Mars\n",
       "120  135     Dawnbreaker\n",
       "121  136           Marci\n",
       "\n",
       "[122 rows x 2 columns]"
      ]
     },
     "execution_count": 4,
     "metadata": {},
     "output_type": "execute_result"
    }
   ],
   "source": [
    "df_heroes_dict = df_heroes[[\"id\", \"localized_name\"]]\n",
    "df_heroes_dict"
   ]
  },
  {
   "cell_type": "markdown",
   "id": "749039b4",
   "metadata": {},
   "source": [
    "As seen in the table above, the heroids in dota are not incremental, but have gaps. We have to make a `id to heroid` map and vice versa for lookup."
   ]
  },
  {
   "cell_type": "markdown",
   "id": "8b4e2305",
   "metadata": {},
   "source": [
    "### Notes:\n",
    "\n",
    "* We will look from the alliance side\n",
    "* There are 121 heroes as of 7.30 patch\n",
    "* Newest hero is Dawnbreaker\n",
    "* 63 ranged, 58 melee\n",
    "* 43 int, 40 str, 38 str"
   ]
  },
  {
   "cell_type": "markdown",
   "id": "200cb560",
   "metadata": {},
   "source": [
    "## Preprocessing loop"
   ]
  },
  {
   "cell_type": "code",
   "execution_count": 8,
   "id": "d7254bb0",
   "metadata": {},
   "outputs": [],
   "source": [
    "def get_comp_by_training_sample(sample):\n",
    "    radiant_win = sample[-1]\n",
    "    radiant = []\n",
    "    dire = []\n",
    "    for i, h in enumerate(sample[:-1]):\n",
    "        if h == 1:\n",
    "            radiant.append(_get_hero_name_by_id(i))\n",
    "        elif h == -1:\n",
    "            dire.append(_get_hero_name_by_id(i))\n",
    "    print(radiant, dire, radiant_win)\n",
    "\n",
    "def _get_hero_name_by_id(idx: int):\n",
    "    return df_heroes[df_heroes[\"id\"].index == idx][\"localized_name\"].values[0]"
   ]
  },
  {
   "cell_type": "code",
   "execution_count": 5,
   "id": "3c45d563",
   "metadata": {},
   "outputs": [
    {
     "name": "stderr",
     "output_type": "stream",
     "text": [
      "0it [00:00, ?it/s]"
     ]
    },
    {
     "name": "stdout",
     "output_type": "stream",
     "text": [
      "seen matches: 1, len samples: 1\n"
     ]
    },
    {
     "name": "stderr",
     "output_type": "stream",
     "text": [
      "\n"
     ]
    }
   ],
   "source": [
    "id_to_hid = df_heroes[[\"id\"]].to_dict()[\"id\"]\n",
    "hid_to_id = {v:k for k,v in id_to_hid.items()}\n",
    "\n",
    "results = []\n",
    "seen_matches = set()\n",
    "dup_counter = 0\n",
    "invalid = 0\n",
    "# [[1, 0, -1, ... , n_heroes_121, winner], ... ]\n",
    "count = 0\n",
    "with gzip.open(\"../data/raw/matches_5148330922-5148330922.gz\", \"r\") as fp:\n",
    "    for line in tqdm.tqdm(fp):\n",
    "        training_sample = np.zeros((122,))\n",
    "        match = json.loads(line)\n",
    "        players = match[\"players\"]\n",
    "        match_id = match[\"match_id\"]\n",
    "        invalid_index = False\n",
    "        \n",
    "        if not \"match_id\" in match:\n",
    "            # invalid += 1 \n",
    "            continue\n",
    "        \n",
    "        if len(players) != 10:\n",
    "            # invalid += 1\n",
    "            continue\n",
    "        \n",
    "        if match_id in seen_matches:\n",
    "            # dup_counter += 1\n",
    "            continue\n",
    "        \n",
    "        \n",
    "\n",
    "        for p in players:\n",
    "            if p[\"hero_id\"] not in hid_to_id.keys():\n",
    "                invalid_index = True\n",
    "                # invalid += 1\n",
    "                break\n",
    "\n",
    "            hero_i = hid_to_id[p[\"hero_id\"]]\n",
    "\n",
    "            is_radiant = True if p[\"player_slot\"] <= 7 else False # DETTE ER RIKTIG!!! \n",
    "\n",
    "            if is_radiant: # radiant slot\n",
    "                training_sample[hero_i] = 1\n",
    "            else: \n",
    "                training_sample[hero_i] = -1\n",
    "        \n",
    "        if invalid_index:\n",
    "            continue\n",
    "\n",
    "        training_sample[-1] = match[\"radiant_win\"]\n",
    "        results.append(training_sample)\n",
    "        seen_matches.add(match_id)\n",
    "        break\n",
    "        \n",
    "# print(\"# duplicates\", dup_counter)\n",
    "print(\"seen matches: {}, len samples: {}\".format(len(seen_matches), len(results)))\n",
    "# print(\"# invalid\", invalid)\n",
    "\n",
    "# with open(\"../data/preprocessed/test_dataset.npy\", \"wb\") as fp:\n",
    "#     np.save(fp, np.array(results, dtype=np.int8), allow_pickle=True)"
   ]
  },
  {
   "cell_type": "code",
   "execution_count": 28,
   "id": "366738a5",
   "metadata": {},
   "outputs": [
    {
     "name": "stdout",
     "output_type": "stream",
     "text": [
      "401\n"
     ]
    }
   ],
   "source": [
    "pp_matches = np.load(\"../data/matches_5148330922-5148330922.npy\")\n",
    "\n",
    "print(len(pp_matches))\n",
    "\n",
    "# [h1_carry, h1_mid, h1_off, h1_jungle, h1_support, h2_carry, h2_mid, h2_off, h2_jungle, h2_support]\n",
    "\n"
   ]
  },
  {
   "cell_type": "code",
   "execution_count": null,
   "id": "ea09e75f",
   "metadata": {},
   "outputs": [],
   "source": []
  }
 ],
 "metadata": {
  "interpreter": {
   "hash": "544be3553ddadaf6d7c555d544e2c6bd40fc324aa49651f5ed5dcc9cf0af65f8"
  },
  "kernelspec": {
   "display_name": "Python 3.8.3 64-bit ('torch': conda)",
   "name": "python3"
  },
  "language_info": {
   "codemirror_mode": {
    "name": "ipython",
    "version": 3
   },
   "file_extension": ".py",
   "mimetype": "text/x-python",
   "name": "python",
   "nbconvert_exporter": "python",
   "pygments_lexer": "ipython3",
   "version": "3.8.5"
  }
 },
 "nbformat": 4,
 "nbformat_minor": 5
}
