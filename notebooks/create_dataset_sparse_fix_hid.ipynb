{
 "cells": [
  {
   "cell_type": "code",
   "execution_count": 20,
   "id": "df1e4496",
   "metadata": {},
   "outputs": [],
   "source": [
    "import json\n",
    "import os\n",
    "from zipfile import ZipFile, ZipInfo\n",
    "\n",
    "import scipy as sp\n",
    "import scipy.sparse\n",
    "import numpy as np\n",
    "import pandas as pd\n",
    "import tqdm"
   ]
  },
  {
   "cell_type": "code",
   "execution_count": 21,
   "id": "7708607e",
   "metadata": {},
   "outputs": [],
   "source": [
    "def is_match_valid(match):\n",
    "    # check if hero ids is within range\n",
    "    max_hero_id = 129 + 1 # hero id range 1-129\n",
    "    try:\n",
    "        players = match[\"players\"]\n",
    "        hero_ids = [True if 0 < x[\"hero_id\"] and x[\"hero_id\"] < max_hero_id else False for x in players]\n",
    "        if not all(hero_ids):\n",
    "            return False\n",
    "\n",
    "        # check matchtype is not all pick, random draft and ranked matchmaking\n",
    "        valid_game_modes = {1, 3, 22}\n",
    "        if not match[\"game_mode\"] in valid_game_modes:\n",
    "            return False\n",
    "\n",
    "        # check match duration less than 10 minutes\n",
    "        if match[\"duration\"] <= 600: \n",
    "            return False\n",
    "\n",
    "        # check if match is not 10 players\n",
    "        if not len(match[\"players\"]) == 10:\n",
    "            return False\n",
    "\n",
    "        # check for leavers\n",
    "        no_dc = [True if x[\"leaver_status\"] in [0, 1] else False for x in players]\n",
    "        if not all(no_dc):\n",
    "            return False\n",
    "    except:\n",
    "        print(\"Exception: \", match)\n",
    "        return False\n",
    "    \n",
    "    return True"
   ]
  },
  {
   "cell_type": "code",
   "execution_count": 22,
   "id": "6b5a40f4",
   "metadata": {},
   "outputs": [],
   "source": [
    "def rid_to_hid(rid):\n",
    "    d_heroes_path = \"../data/hid_to_rid_dict.json\"\n",
    "    with open(d_heroes_path, 'r') as fp:\n",
    "        d_heroes = json.load(fp)\n",
    "        d_heroes = {int(v): int(k) for k, v in d_heroes.items()}    \n",
    "    \n",
    "    return d_heroes[rid]"
   ]
  },
  {
   "cell_type": "code",
   "execution_count": 23,
   "id": "e29ddeb3",
   "metadata": {},
   "outputs": [
    {
     "name": "stderr",
     "output_type": "stream",
     "text": [
      "100%|██████████| 2338044/2338044 [37:52<00:00, 1028.85it/s] \n"
     ]
    },
    {
     "name": "stdout",
     "output_type": "stream",
     "text": [
      "done\n"
     ]
    }
   ],
   "source": [
    "data_path = \"../data/dota_games.zip\"\n",
    "training_examples = []\n",
    "match_winner = []\n",
    "seen_matches = set()\n",
    "n_heroes = 118 + 1\n",
    "draft_out_path = \"../data/ds4_hero_selection.npz\"\n",
    "match_winner_out = \"../data/ds4_match_winner.npy\"\n",
    "assert not os.path.isfile(draft_out_path)\n",
    "    \n",
    "with ZipFile(data_path) as z:\n",
    "    for item in tqdm.tqdm(z.filelist):\n",
    "        if not item.filename.endswith(\".json\"):\n",
    "            continue\n",
    "        \n",
    "        raw_match = z.read(item.filename)\n",
    "        match = json.loads(raw_match)[\"result\"]\n",
    "        if \"error\" in match:\n",
    "            continue\n",
    "        \n",
    "        match_id = match[\"match_id\"]\n",
    "        \n",
    "        # check if match has been seen\n",
    "        if match_id in seen_matches:\n",
    "            continue\n",
    "        \n",
    "        seen_matches.add(match_id)\n",
    "        \n",
    "        # check if match req is fulfilled\n",
    "        if not is_match_valid(match):\n",
    "            continue\n",
    "        \n",
    "        players = match[\"players\"]\n",
    "        heroes_onehot = np.zeros(n_heroes, dtype=np.float)\n",
    "\n",
    "        for player in players:\n",
    "            rid = player[\"hero_id\"]\n",
    "            hid = rid_to_hid(rid)\n",
    "            \n",
    "            is_radiant = -1 if player[\"player_slot\"] < 7 else 1\n",
    "            heroes_onehot[hid] = is_radiant\n",
    "\n",
    "        # stack X\n",
    "        s_x = sp.sparse.csr_matrix(heroes_onehot)\n",
    "        training_examples.append(s_x)\n",
    "        \n",
    "        # y\n",
    "        match_winner.append(int(match[\"radiant_win\"]))\n",
    "        \n",
    "        \n",
    "    sparse_training = sp.sparse.vstack(training_examples)\n",
    "    \n",
    "    # save \n",
    "    sp.sparse.save_npz(draft_out_path, sparse_training)\n",
    "    np.save(match_winner_out, np.array(match_winner))\n",
    "    \n",
    "    print(\"done\")"
   ]
  }
 ],
 "metadata": {
  "kernelspec": {
   "display_name": "Python 3",
   "language": "python",
   "name": "python3"
  },
  "language_info": {
   "codemirror_mode": {
    "name": "ipython",
    "version": 3
   },
   "file_extension": ".py",
   "mimetype": "text/x-python",
   "name": "python",
   "nbconvert_exporter": "python",
   "pygments_lexer": "ipython3",
   "version": "3.8.5"
  }
 },
 "nbformat": 4,
 "nbformat_minor": 5
}
