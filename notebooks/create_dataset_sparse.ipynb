{
 "cells": [
  {
   "cell_type": "code",
   "execution_count": 8,
   "id": "nuclear-lover",
   "metadata": {},
   "outputs": [],
   "source": [
    "import json\n",
    "import os\n",
    "from zipfile import ZipFile, ZipInfo\n",
    "\n",
    "import scipy as sp\n",
    "import scipy.sparse\n",
    "import numpy as np\n",
    "import pandas as pd\n",
    "import tqdm"
   ]
  },
  {
   "cell_type": "code",
   "execution_count": 9,
   "id": "dying-principle",
   "metadata": {},
   "outputs": [],
   "source": [
    "n_heroes = 119\n",
    "max_hero_id = 128\n",
    "\n",
    "heroes_path = \"../data/heroes_clean.json\"\n",
    "    \n",
    "with open(heroes_path, 'r') as fp:\n",
    "    heroes = json.load(fp)"
   ]
  },
  {
   "cell_type": "code",
   "execution_count": 15,
   "id": "short-loading",
   "metadata": {},
   "outputs": [],
   "source": [
    "def is_match_valid(match):\n",
    "    # check if hero ids is within range\n",
    "    try:\n",
    "        players = match[\"players\"]\n",
    "        hero_ids = [True if 0 < x[\"hero_id\"] and x[\"hero_id\"] < max_hero_id else False for x in players]\n",
    "        if not all(hero_ids):\n",
    "            return False\n",
    "\n",
    "        # check matchtype is not all pick, random draft and ranked matchmaking\n",
    "        valid_game_modes = {1, 3, 22}\n",
    "        if not match[\"game_mode\"] in valid_game_modes:\n",
    "            return False\n",
    "\n",
    "        # check match duration less than 10 minutes\n",
    "        if match[\"duration\"] <= 600: \n",
    "            return False\n",
    "\n",
    "        # check if match is not 10 players\n",
    "        if not len(match[\"players\"]) == 10:\n",
    "            return False\n",
    "\n",
    "        # check for leavers\n",
    "        no_dc = [True if x[\"leaver_status\"] in [0, 1] else False for x in players]\n",
    "        if not all(no_dc):\n",
    "            return False\n",
    "    except:\n",
    "        print(\"Exception: \", match)\n",
    "        return False\n",
    "    \n",
    "    return True"
   ]
  },
  {
   "cell_type": "code",
   "execution_count": 16,
   "id": "relative-constitution",
   "metadata": {},
   "outputs": [
    {
     "name": "stderr",
     "output_type": "stream",
     "text": [
      " 11%|█▏        | 268074/2338044 [02:16<16:25, 2099.87it/s] "
     ]
    },
    {
     "name": "stdout",
     "output_type": "stream",
     "text": [
      "Exception:  {'error': 'Match ID not found'}\n"
     ]
    },
    {
     "name": "stderr",
     "output_type": "stream",
     "text": [
      " 31%|███       | 723837/2338044 [06:03<13:13, 2034.10it/s]"
     ]
    },
    {
     "name": "stdout",
     "output_type": "stream",
     "text": [
      "Exception:  {'error': 'Match ID not found'}\n"
     ]
    },
    {
     "name": "stderr",
     "output_type": "stream",
     "text": [
      " 32%|███▏      | 750742/2338044 [06:17<13:02, 2027.61it/s]"
     ]
    },
    {
     "name": "stdout",
     "output_type": "stream",
     "text": [
      "Exception:  {'error': 'Match ID not found'}\n"
     ]
    },
    {
     "name": "stderr",
     "output_type": "stream",
     "text": [
      " 58%|█████▊    | 1353853/2338044 [11:39<09:11, 1783.04it/s]"
     ]
    },
    {
     "name": "stdout",
     "output_type": "stream",
     "text": [
      "Exception:  {'error': 'Match ID not found'}\n"
     ]
    },
    {
     "name": "stderr",
     "output_type": "stream",
     "text": [
      " 65%|██████▍   | 1509508/2338044 [13:01<06:55, 1995.12it/s]"
     ]
    },
    {
     "name": "stdout",
     "output_type": "stream",
     "text": [
      "Exception:  {'error': 'Match ID not found'}\n"
     ]
    },
    {
     "name": "stderr",
     "output_type": "stream",
     "text": [
      " 65%|██████▌   | 1520564/2338044 [13:06<06:48, 2001.83it/s]"
     ]
    },
    {
     "name": "stdout",
     "output_type": "stream",
     "text": [
      "Exception:  {'error': 'Match ID not found'}\n"
     ]
    },
    {
     "name": "stderr",
     "output_type": "stream",
     "text": [
      " 99%|█████████▊| 2304913/2338044 [19:22<00:16, 2019.80it/s]"
     ]
    },
    {
     "name": "stdout",
     "output_type": "stream",
     "text": [
      "Exception:  {'error': 'Match ID not found'}\n"
     ]
    },
    {
     "name": "stderr",
     "output_type": "stream",
     "text": [
      "100%|██████████| 2338044/2338044 [19:39<00:00, 1982.50it/s]\n"
     ]
    },
    {
     "name": "stdout",
     "output_type": "stream",
     "text": [
      "  (0, 9)\t-1.0\n",
      "  (0, 16)\t-1.0\n",
      "  (0, 27)\t1.0\n",
      "  (0, 31)\t1.0\n",
      "  (0, 35)\t-1.0\n",
      "  (0, 36)\t1.0\n",
      "  (0, 41)\t1.0\n",
      "  (0, 67)\t-1.0\n",
      "  (0, 98)\t1.0\n",
      "  (0, 103)\t-1.0\n",
      "  (1, 10)\t1.0\n",
      "  (1, 14)\t1.0\n",
      "  (1, 18)\t1.0\n",
      "  (1, 28)\t-1.0\n",
      "  (1, 40)\t1.0\n",
      "  (1, 63)\t-1.0\n",
      "  (1, 67)\t-1.0\n",
      "  (1, 75)\t-1.0\n",
      "  (1, 97)\t1.0\n",
      "  (1, 100)\t-1.0\n",
      "  (2, 14)\t-1.0\n",
      "  (2, 22)\t1.0\n",
      "  (2, 41)\t-1.0\n",
      "  (2, 49)\t1.0\n",
      "  (2, 63)\t-1.0\n",
      "  :\t:\n",
      "  (1635709, 99)\t-1.0\n",
      "  (1635709, 101)\t1.0\n",
      "  (1635709, 104)\t1.0\n",
      "  (1635709, 119)\t1.0\n",
      "  (1635709, 121)\t-1.0\n",
      "  (1635710, 6)\t1.0\n",
      "  (1635710, 11)\t1.0\n",
      "  (1635710, 14)\t-1.0\n",
      "  (1635710, 26)\t-1.0\n",
      "  (1635710, 31)\t1.0\n",
      "  (1635710, 35)\t-1.0\n",
      "  (1635710, 67)\t-1.0\n",
      "  (1635710, 104)\t-1.0\n",
      "  (1635710, 105)\t1.0\n",
      "  (1635710, 126)\t1.0\n",
      "  (1635711, 7)\t-1.0\n",
      "  (1635711, 10)\t-1.0\n",
      "  (1635711, 26)\t1.0\n",
      "  (1635711, 44)\t1.0\n",
      "  (1635711, 47)\t1.0\n",
      "  (1635711, 54)\t-1.0\n",
      "  (1635711, 64)\t-1.0\n",
      "  (1635711, 71)\t1.0\n",
      "  (1635711, 83)\t1.0\n",
      "  (1635711, 84)\t-1.0\n"
     ]
    }
   ],
   "source": [
    "data_path = \"../data/dota_games.zip\"\n",
    "training_examples = []\n",
    "match_winner = []\n",
    "\n",
    "out_path = \"../data/hero_selection.npz\"\n",
    "assert not os.path.isfile(out_path)\n",
    "    \n",
    "with ZipFile(data_path) as z:\n",
    "    for item in tqdm.tqdm(z.filelist):\n",
    "        if not item.filename.endswith(\".json\"):\n",
    "            continue\n",
    "        \n",
    "        raw_match = z.read(item.filename)\n",
    "        match = json.loads(raw_match)[\"result\"]\n",
    "        \n",
    "        # check if match req is fulfilled\n",
    "        if not is_match_valid(match):\n",
    "            continue\n",
    "        \n",
    "        players = match[\"players\"]\n",
    "        heroes_onehot = np.zeros(128, dtype=np.float)\n",
    "\n",
    "        for player in players:\n",
    "            hero_id = player[\"hero_id\"]\n",
    "            is_dire = 1 if player[\"player_slot\"] < 7 else -1\n",
    "            heroes_onehot[hero_id] = is_dire\n",
    "\n",
    "        # stack X\n",
    "        s_x = sp.sparse.csr_matrix(heroes_onehot)\n",
    "        training_examples.append(s_x)\n",
    "        \n",
    "        # y\n",
    "        match_winner.append(int(match[\"radiant_win\"]))\n",
    "        \n",
    "        \n",
    "    sparse_training = sp.sparse.vstack(training_examples)\n",
    "    \n",
    "    # save \n",
    "    sp.sparse.save_npz(out_path, sparse_training)\n",
    "    np.save(\"../data/match_winner.npy\", np.array(match_winner))\n",
    "    \n",
    "    print(\"done\")"
   ]
  },
  {
   "cell_type": "markdown",
   "id": "liable-alliance",
   "metadata": {},
   "source": [
    "### test code"
   ]
  },
  {
   "cell_type": "markdown",
   "id": "postal-radio",
   "metadata": {},
   "source": [
    "# reconstruct heroes data\n",
    "\n",
    "heroes_path = \"../data/heroes.json\"\n",
    "with open(heroes_path, 'r') as fp:\n",
    "    heroes = json.load(fp)\n",
    "    \n",
    "new_heroes_d = {}\n",
    "for hero in heroes:\n",
    "    new_heroes_d[int(hero[\"id\"])] = hero[\"name\"]\n",
    "    \n",
    "with open(\"../data/heroes_clean.json\", \"w\") as fp:\n",
    "    fp.write(json.dumps(new_heroes_d))"
   ]
  },
  {
   "cell_type": "markdown",
   "id": "variable-extraction",
   "metadata": {},
   "source": [
    "# extract test match\n",
    "data_path = \"../data/dota_games.zip\"\n",
    "test_match_path = \"../data/test_match_5607724594.json\"\n",
    "\n",
    "with ZipFile(data_path) as z:\n",
    "    z.extract('dota_games/5607724594.json', \"../data/test_match.json\")\n",
    "\n",
    "with open(test_match_path, 'r') as fp:\n",
    "    match = json.load(fp)\n",
    "\n",
    "training_examples = []\n",
    "matches = [match]\n",
    "\n",
    "for match in matches:\n",
    "    players = match[\"result\"][\"players\"]\n",
    "    \n",
    "    # check if match req is fulfilled\n",
    "    if not is_match_valid(match):\n",
    "        continue\n",
    "    \n",
    "    heroes_onehot = np.zeros(128, dtype=np.float)\n",
    "    \n",
    "    for player in players:\n",
    "        hero_id = player[\"hero_id\"]\n",
    "        is_dire = 1 if player[\"player_slot\"] < 7 else -1\n",
    "        heroes_onehot[hero_id] = is_dire\n",
    "        \n",
    "    # stack X\n",
    "    s_x = sp.sparse.csr_matrix(heroes_onehot)\n",
    "    training_examples.append(s_x)\n",
    "    \n",
    "     \n",
    "sparse_training = sp.sparse.vstack(training_examples)\n",
    "\n",
    "# save \n",
    "sp.sparse.save_npz(\"../data/test_match.npz\", sparse_training)\n",
    "\n",
    "print(sparse_training)"
   ]
  },
  {
   "cell_type": "markdown",
   "id": "hollywood-village",
   "metadata": {},
   "source": [
    "### Load npz and npy"
   ]
  },
  {
   "cell_type": "code",
   "execution_count": 19,
   "id": "freelance-brand",
   "metadata": {},
   "outputs": [
    {
     "name": "stdout",
     "output_type": "stream",
     "text": [
      "(1635712, 128)\n",
      "(1635712,)\n"
     ]
    }
   ],
   "source": [
    "a = sp.sparse.load_npz(\"../data/hero_selection.npz\")\n",
    "b = np.load(\"../data/match_winner.npy\")\n",
    "print(a.shape)\n",
    "print(b.shape)"
   ]
  },
  {
   "cell_type": "code",
   "execution_count": 108,
   "id": "favorite-single",
   "metadata": {},
   "outputs": [
    {
     "name": "stdout",
     "output_type": "stream",
     "text": [
      "Mirana\n",
      "Sand King\n",
      "Shadow Shaman\n",
      "Lich\n",
      "Sniper\n",
      "Necrophos\n",
      "Faceless Void\n",
      "Spectre\n",
      "Timbersaw\n",
      "Skywrath Mage\n",
      "Elder Titan\n"
     ]
    }
   ],
   "source": [
    "# check if hero_id matches the match info\n",
    "row, col = sparse_training.nonzero()\n",
    "    \n",
    "for i in col:\n",
    "    print(heroes[str(i)])"
   ]
  }
 ],
 "metadata": {
  "kernelspec": {
   "display_name": "Python 3",
   "language": "python",
   "name": "python3"
  },
  "language_info": {
   "codemirror_mode": {
    "name": "ipython",
    "version": 3
   },
   "file_extension": ".py",
   "mimetype": "text/x-python",
   "name": "python",
   "nbconvert_exporter": "python",
   "pygments_lexer": "ipython3",
   "version": "3.8.5"
  }
 },
 "nbformat": 4,
 "nbformat_minor": 5
}
