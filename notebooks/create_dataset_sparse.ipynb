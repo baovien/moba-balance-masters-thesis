{
 "cells": [
  {
   "cell_type": "code",
   "execution_count": 1,
   "id": "5d77e0cf",
   "metadata": {},
   "outputs": [],
   "source": [
    "import json\n",
    "import os\n",
    "from zipfile import ZipFile, ZipInfo\n",
    "\n",
    "import scipy as sp\n",
    "import scipy.sparse\n",
    "import numpy as np\n",
    "import pandas as pd\n",
    "import tqdm"
   ]
  },
  {
   "cell_type": "code",
   "execution_count": 2,
   "id": "3e25e3cb",
   "metadata": {},
   "outputs": [],
   "source": [
    "n_heroes = 119\n",
    "max_hero_id = 128\n",
    "\n",
    "# heroes_path = \"../data/heroes_clean.json\"\n",
    "    \n",
    "# with open(heroes_path, 'r') as fp:\n",
    "#     heroes = json.load(fp)"
   ]
  },
  {
   "cell_type": "code",
   "execution_count": 3,
   "id": "b6799f20",
   "metadata": {},
   "outputs": [],
   "source": [
    "def is_match_valid(match):\n",
    "    # check if hero ids is within range\n",
    "    try:\n",
    "        players = match[\"players\"]\n",
    "        hero_ids = [True if 0 < x[\"hero_id\"] and x[\"hero_id\"] < max_hero_id else False for x in players]\n",
    "        if not all(hero_ids):\n",
    "            return False\n",
    "\n",
    "        # check matchtype is not all pick, random draft and ranked matchmaking\n",
    "        valid_game_modes = {1, 3, 22}\n",
    "        if not match[\"game_mode\"] in valid_game_modes:\n",
    "            return False\n",
    "\n",
    "        # check match duration less than 10 minutes\n",
    "        if match[\"duration\"] <= 600: \n",
    "            return False\n",
    "\n",
    "        # check if match is not 10 players\n",
    "        if not len(match[\"players\"]) == 10:\n",
    "            return False\n",
    "\n",
    "        # check for leavers\n",
    "        no_dc = [True if x[\"leaver_status\"] in [0, 1] else False for x in players]\n",
    "        if not all(no_dc):\n",
    "            return False\n",
    "    except:\n",
    "        print(\"Exception: \", match)\n",
    "        return False\n",
    "    \n",
    "    return True"
   ]
  },
  {
   "cell_type": "code",
   "execution_count": 7,
   "id": "189a0117",
   "metadata": {},
   "outputs": [
    {
     "name": "stderr",
     "output_type": "stream",
     "text": [
      "100%|██████████| 2338044/2338044 [20:21<00:00, 1913.38it/s]\n"
     ]
    },
    {
     "name": "stdout",
     "output_type": "stream",
     "text": [
      "done\n"
     ]
    }
   ],
   "source": [
    "data_path = \"../data/dota_games.zip\"\n",
    "training_examples = []\n",
    "match_winner = []\n",
    "seen_matches = set()\n",
    "\n",
    "draft_out_path = \"../data/ds3_hero_selection.npz\"\n",
    "match_winner_out = \"../data/ds3_match_winner.npy\"\n",
    "assert not os.path.isfile(draft_out_path)\n",
    "    \n",
    "with ZipFile(data_path) as z:\n",
    "    for item in tqdm.tqdm(z.filelist):\n",
    "        if not item.filename.endswith(\".json\"):\n",
    "            continue\n",
    "        \n",
    "        raw_match = z.read(item.filename)\n",
    "        match = json.loads(raw_match)[\"result\"]\n",
    "        if \"error\" in match:\n",
    "            continue\n",
    "        \n",
    "        match_id = match[\"match_id\"]\n",
    "        \n",
    "        # check if match has been seen\n",
    "        if match_id in seen_matches:\n",
    "            continue\n",
    "        \n",
    "        seen_matches.add(match_id)\n",
    "        \n",
    "        # check if match req is fulfilled\n",
    "        if not is_match_valid(match):\n",
    "            continue\n",
    "        \n",
    "        players = match[\"players\"]\n",
    "        heroes_onehot = np.zeros(129, dtype=np.float)\n",
    "\n",
    "        for player in players:\n",
    "            hero_id = player[\"hero_id\"]\n",
    "            is_radiant = -1 if player[\"player_slot\"] < 7 else 1\n",
    "            heroes_onehot[hero_id] = is_radiant\n",
    "\n",
    "        # stack X\n",
    "        s_x = sp.sparse.csr_matrix(heroes_onehot)\n",
    "        training_examples.append(s_x)\n",
    "        \n",
    "        # y\n",
    "        match_winner.append(int(match[\"radiant_win\"]))\n",
    "        \n",
    "        \n",
    "    sparse_training = sp.sparse.vstack(training_examples)\n",
    "    \n",
    "    # save \n",
    "    sp.sparse.save_npz(draft_out_path, sparse_training)\n",
    "    np.save(match_winner_out, np.array(match_winner))\n",
    "    \n",
    "    print(\"done\")"
   ]
  },
  {
   "cell_type": "markdown",
   "id": "0d022335",
   "metadata": {},
   "source": [
    "### test code"
   ]
  },
  {
   "cell_type": "markdown",
   "id": "c39e6a44",
   "metadata": {},
   "source": [
    "# reconstruct heroes data\n",
    "\n",
    "heroes_path = \"../data/heroes.json\"\n",
    "with open(heroes_path, 'r') as fp:\n",
    "    heroes = json.load(fp)\n",
    "    \n",
    "new_heroes_d = {}\n",
    "for hero in heroes:\n",
    "    new_heroes_d[int(hero[\"id\"])] = hero[\"name\"]\n",
    "    \n",
    "with open(\"../data/heroes_clean.json\", \"w\") as fp:\n",
    "    fp.write(json.dumps(new_heroes_d))"
   ]
  },
  {
   "cell_type": "markdown",
   "id": "6068878f",
   "metadata": {},
   "source": [
    "# extract test match\n",
    "data_path = \"../data/dota_games.zip\"\n",
    "test_match_path = \"../data/test_match_5607724594.json\"\n",
    "\n",
    "with ZipFile(data_path) as z:\n",
    "    z.extract('dota_games/5607724594.json', \"../data/test_match.json\")\n",
    "\n",
    "with open(test_match_path, 'r') as fp:\n",
    "    match = json.load(fp)\n",
    "\n",
    "training_examples = []\n",
    "matches = [match]\n",
    "\n",
    "for match in matches:\n",
    "    players = match[\"result\"][\"players\"]\n",
    "    \n",
    "    # check if match req is fulfilled\n",
    "    if not is_match_valid(match):\n",
    "        continue\n",
    "    \n",
    "    heroes_onehot = np.zeros(128, dtype=np.float)\n",
    "    \n",
    "    for player in players:\n",
    "        hero_id = player[\"hero_id\"]\n",
    "        is_dire = 1 if player[\"player_slot\"] < 7 else -1\n",
    "        heroes_onehot[hero_id] = is_dire\n",
    "        \n",
    "    # stack X\n",
    "    s_x = sp.sparse.csr_matrix(heroes_onehot)\n",
    "    training_examples.append(s_x)\n",
    "    \n",
    "     \n",
    "sparse_training = sp.sparse.vstack(training_examples)\n",
    "\n",
    "# save \n",
    "sp.sparse.save_npz(\"../data/test_match.npz\", sparse_training)\n",
    "\n",
    "print(sparse_training)"
   ]
  },
  {
   "cell_type": "markdown",
   "id": "b664c4bd",
   "metadata": {},
   "source": [
    "### Load npz and npy"
   ]
  },
  {
   "cell_type": "code",
   "execution_count": 19,
   "id": "1127b85a",
   "metadata": {},
   "outputs": [
    {
     "name": "stdout",
     "output_type": "stream",
     "text": [
      "(1635712, 128)\n",
      "(1635712,)\n"
     ]
    }
   ],
   "source": [
    "a = sp.sparse.load_npz(\"../data/hero_selection.npz\")\n",
    "b = np.load(\"../data/match_winner.npy\")\n",
    "print(a.shape)\n",
    "print(b.shape)"
   ]
  },
  {
   "cell_type": "code",
   "execution_count": 108,
   "id": "8d258038",
   "metadata": {},
   "outputs": [
    {
     "name": "stdout",
     "output_type": "stream",
     "text": [
      "Mirana\n",
      "Sand King\n",
      "Shadow Shaman\n",
      "Lich\n",
      "Sniper\n",
      "Necrophos\n",
      "Faceless Void\n",
      "Spectre\n",
      "Timbersaw\n",
      "Skywrath Mage\n",
      "Elder Titan\n"
     ]
    }
   ],
   "source": [
    "# check if hero_id matches the match info\n",
    "row, col = sparse_training.nonzero()\n",
    "    \n",
    "for i in col:\n",
    "    print(heroes[str(i)])"
   ]
  }
 ],
 "metadata": {
  "kernelspec": {
   "display_name": "Python 3",
   "language": "python",
   "name": "python3"
  },
  "language_info": {
   "codemirror_mode": {
    "name": "ipython",
    "version": 3
   },
   "file_extension": ".py",
   "mimetype": "text/x-python",
   "name": "python",
   "nbconvert_exporter": "python",
   "pygments_lexer": "ipython3",
   "version": "3.8.5"
  }
 },
 "nbformat": 4,
 "nbformat_minor": 5
}
