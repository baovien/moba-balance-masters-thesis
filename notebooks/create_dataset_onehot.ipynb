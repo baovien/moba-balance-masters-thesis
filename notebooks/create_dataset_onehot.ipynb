{
 "cells": [
  {
   "cell_type": "code",
   "execution_count": 41,
   "id": "affected-moore",
   "metadata": {},
   "outputs": [],
   "source": [
    "import json\n",
    "import os\n",
    "import copy\n",
    "from zipfile import ZipFile, ZipInfo\n",
    "\n",
    "import scipy as sp\n",
    "import scipy.sparse\n",
    "import numpy as np\n",
    "import pandas as pd\n",
    "import tqdm"
   ]
  },
  {
   "cell_type": "code",
   "execution_count": 42,
   "id": "careful-suspension",
   "metadata": {},
   "outputs": [],
   "source": [
    "n_heroes = 119\n",
    "max_hero_id = 128\n",
    "\n",
    "heroes_path = \"../data/heroes_clean.json\"\n",
    "    \n",
    "with open(heroes_path, 'r') as fp:\n",
    "    heroes = json.load(fp)"
   ]
  },
  {
   "cell_type": "code",
   "execution_count": 43,
   "id": "cloudy-orbit",
   "metadata": {},
   "outputs": [],
   "source": [
    "def is_match_valid(match):\n",
    "    # check if hero ids is within range\n",
    "    try:\n",
    "        players = match[\"players\"]\n",
    "        hero_ids = [True if 0 < x[\"hero_id\"] and x[\"hero_id\"] < max_hero_id else False for x in players]\n",
    "        if not all(hero_ids):\n",
    "            return False\n",
    "\n",
    "        # check matchtype is not all pick, random draft and ranked matchmaking\n",
    "        valid_game_modes = {1, 3, 22}\n",
    "        if not match[\"game_mode\"] in valid_game_modes:\n",
    "            return False\n",
    "\n",
    "        # check match duration less than 10 minutes\n",
    "        if match[\"duration\"] <= 600: \n",
    "            return False\n",
    "\n",
    "        # check if match is not 10 players\n",
    "        if not len(match[\"players\"]) == 10:\n",
    "            return False\n",
    "\n",
    "        # check for leavers\n",
    "        no_dc = [True if x[\"leaver_status\"] in [0, 1] else False for x in players]\n",
    "        if not all(no_dc):\n",
    "            return False\n",
    "    except:\n",
    "        print(\"Exception: \", match)\n",
    "        return False\n",
    "    \n",
    "    return True"
   ]
  },
  {
   "cell_type": "code",
   "execution_count": 44,
   "id": "opened-kennedy",
   "metadata": {},
   "outputs": [
    {
     "name": "stderr",
     "output_type": "stream",
     "text": [
      " 11%|█▏        | 267916/2338044 [04:12<34:56, 987.50it/s]  "
     ]
    },
    {
     "name": "stdout",
     "output_type": "stream",
     "text": [
      "Exception:  {'error': 'Match ID not found'}\n"
     ]
    },
    {
     "name": "stderr",
     "output_type": "stream",
     "text": [
      " 31%|███       | 723718/2338044 [09:22<17:03, 1577.92it/s]"
     ]
    },
    {
     "name": "stdout",
     "output_type": "stream",
     "text": [
      "Exception:  {'error': 'Match ID not found'}\n"
     ]
    },
    {
     "name": "stderr",
     "output_type": "stream",
     "text": [
      " 32%|███▏      | 750730/2338044 [09:35<13:10, 2007.20it/s]"
     ]
    },
    {
     "name": "stdout",
     "output_type": "stream",
     "text": [
      "Exception:  {'error': 'Match ID not found'}\n"
     ]
    },
    {
     "name": "stderr",
     "output_type": "stream",
     "text": [
      " 45%|████▍     | 1040809/2338044 [12:09<15:09, 1426.02it/s]\n"
     ]
    },
    {
     "ename": "KeyboardInterrupt",
     "evalue": "",
     "output_type": "error",
     "traceback": [
      "\u001b[0;31m---------------------------------------------------------------------------\u001b[0m",
      "\u001b[0;31mKeyboardInterrupt\u001b[0m                         Traceback (most recent call last)",
      "\u001b[0;32m<ipython-input-44-a058e4f3a352>\u001b[0m in \u001b[0;36m<module>\u001b[0;34m\u001b[0m\n\u001b[1;32m     36\u001b[0m \u001b[0;34m\u001b[0m\u001b[0m\n\u001b[1;32m     37\u001b[0m         \u001b[0;31m# stack X\u001b[0m\u001b[0;34m\u001b[0m\u001b[0;34m\u001b[0m\u001b[0;34m\u001b[0m\u001b[0m\n\u001b[0;32m---> 38\u001b[0;31m         \u001b[0ms_x\u001b[0m \u001b[0;34m=\u001b[0m \u001b[0msp\u001b[0m\u001b[0;34m.\u001b[0m\u001b[0msparse\u001b[0m\u001b[0;34m.\u001b[0m\u001b[0mcsr_matrix\u001b[0m\u001b[0;34m(\u001b[0m\u001b[0mheroes_onehot\u001b[0m\u001b[0;34m)\u001b[0m\u001b[0;34m\u001b[0m\u001b[0;34m\u001b[0m\u001b[0m\n\u001b[0m\u001b[1;32m     39\u001b[0m         \u001b[0mhero_selection\u001b[0m\u001b[0;34m.\u001b[0m\u001b[0mappend\u001b[0m\u001b[0;34m(\u001b[0m\u001b[0ms_x\u001b[0m\u001b[0;34m)\u001b[0m\u001b[0;34m\u001b[0m\u001b[0;34m\u001b[0m\u001b[0m\n\u001b[1;32m     40\u001b[0m \u001b[0;34m\u001b[0m\u001b[0m\n",
      "\u001b[0;32m~/anaconda3/envs/dota-scraper/lib/python3.8/site-packages/scipy/sparse/compressed.py\u001b[0m in \u001b[0;36m__init__\u001b[0;34m(self, arg1, shape, dtype, copy)\u001b[0m\n\u001b[1;32m    103\u001b[0m             \u001b[0mself\u001b[0m\u001b[0;34m.\u001b[0m\u001b[0mdata\u001b[0m \u001b[0;34m=\u001b[0m \u001b[0mself\u001b[0m\u001b[0;34m.\u001b[0m\u001b[0mdata\u001b[0m\u001b[0;34m.\u001b[0m\u001b[0mastype\u001b[0m\u001b[0;34m(\u001b[0m\u001b[0mdtype\u001b[0m\u001b[0;34m,\u001b[0m \u001b[0mcopy\u001b[0m\u001b[0;34m=\u001b[0m\u001b[0;32mFalse\u001b[0m\u001b[0;34m)\u001b[0m\u001b[0;34m\u001b[0m\u001b[0;34m\u001b[0m\u001b[0m\n\u001b[1;32m    104\u001b[0m \u001b[0;34m\u001b[0m\u001b[0m\n\u001b[0;32m--> 105\u001b[0;31m         \u001b[0mself\u001b[0m\u001b[0;34m.\u001b[0m\u001b[0mcheck_format\u001b[0m\u001b[0;34m(\u001b[0m\u001b[0mfull_check\u001b[0m\u001b[0;34m=\u001b[0m\u001b[0;32mFalse\u001b[0m\u001b[0;34m)\u001b[0m\u001b[0;34m\u001b[0m\u001b[0;34m\u001b[0m\u001b[0m\n\u001b[0m\u001b[1;32m    106\u001b[0m \u001b[0;34m\u001b[0m\u001b[0m\n\u001b[1;32m    107\u001b[0m     \u001b[0;32mdef\u001b[0m \u001b[0mgetnnz\u001b[0m\u001b[0;34m(\u001b[0m\u001b[0mself\u001b[0m\u001b[0;34m,\u001b[0m \u001b[0maxis\u001b[0m\u001b[0;34m=\u001b[0m\u001b[0;32mNone\u001b[0m\u001b[0;34m)\u001b[0m\u001b[0;34m:\u001b[0m\u001b[0;34m\u001b[0m\u001b[0;34m\u001b[0m\u001b[0m\n",
      "\u001b[0;32m~/anaconda3/envs/dota-scraper/lib/python3.8/site-packages/scipy/sparse/compressed.py\u001b[0m in \u001b[0;36mcheck_format\u001b[0;34m(self, full_check)\u001b[0m\n\u001b[1;32m    154\u001b[0m                  \"\".format(self.indices.dtype.name), stacklevel=3)\n\u001b[1;32m    155\u001b[0m \u001b[0;34m\u001b[0m\u001b[0m\n\u001b[0;32m--> 156\u001b[0;31m         \u001b[0midx_dtype\u001b[0m \u001b[0;34m=\u001b[0m \u001b[0mget_index_dtype\u001b[0m\u001b[0;34m(\u001b[0m\u001b[0;34m(\u001b[0m\u001b[0mself\u001b[0m\u001b[0;34m.\u001b[0m\u001b[0mindptr\u001b[0m\u001b[0;34m,\u001b[0m \u001b[0mself\u001b[0m\u001b[0;34m.\u001b[0m\u001b[0mindices\u001b[0m\u001b[0;34m)\u001b[0m\u001b[0;34m)\u001b[0m\u001b[0;34m\u001b[0m\u001b[0;34m\u001b[0m\u001b[0m\n\u001b[0m\u001b[1;32m    157\u001b[0m         \u001b[0mself\u001b[0m\u001b[0;34m.\u001b[0m\u001b[0mindptr\u001b[0m \u001b[0;34m=\u001b[0m \u001b[0mnp\u001b[0m\u001b[0;34m.\u001b[0m\u001b[0masarray\u001b[0m\u001b[0;34m(\u001b[0m\u001b[0mself\u001b[0m\u001b[0;34m.\u001b[0m\u001b[0mindptr\u001b[0m\u001b[0;34m,\u001b[0m \u001b[0mdtype\u001b[0m\u001b[0;34m=\u001b[0m\u001b[0midx_dtype\u001b[0m\u001b[0;34m)\u001b[0m\u001b[0;34m\u001b[0m\u001b[0;34m\u001b[0m\u001b[0m\n\u001b[1;32m    158\u001b[0m         \u001b[0mself\u001b[0m\u001b[0;34m.\u001b[0m\u001b[0mindices\u001b[0m \u001b[0;34m=\u001b[0m \u001b[0mnp\u001b[0m\u001b[0;34m.\u001b[0m\u001b[0masarray\u001b[0m\u001b[0;34m(\u001b[0m\u001b[0mself\u001b[0m\u001b[0;34m.\u001b[0m\u001b[0mindices\u001b[0m\u001b[0;34m,\u001b[0m \u001b[0mdtype\u001b[0m\u001b[0;34m=\u001b[0m\u001b[0midx_dtype\u001b[0m\u001b[0;34m)\u001b[0m\u001b[0;34m\u001b[0m\u001b[0;34m\u001b[0m\u001b[0m\n",
      "\u001b[0;32m~/anaconda3/envs/dota-scraper/lib/python3.8/site-packages/scipy/sparse/sputils.py\u001b[0m in \u001b[0;36mget_index_dtype\u001b[0;34m(arrays, maxval, check_contents)\u001b[0m\n\u001b[1;32m    139\u001b[0m     \"\"\"\n\u001b[1;32m    140\u001b[0m \u001b[0;34m\u001b[0m\u001b[0m\n\u001b[0;32m--> 141\u001b[0;31m     \u001b[0mint32min\u001b[0m \u001b[0;34m=\u001b[0m \u001b[0mnp\u001b[0m\u001b[0;34m.\u001b[0m\u001b[0miinfo\u001b[0m\u001b[0;34m(\u001b[0m\u001b[0mnp\u001b[0m\u001b[0;34m.\u001b[0m\u001b[0mint32\u001b[0m\u001b[0;34m)\u001b[0m\u001b[0;34m.\u001b[0m\u001b[0mmin\u001b[0m\u001b[0;34m\u001b[0m\u001b[0;34m\u001b[0m\u001b[0m\n\u001b[0m\u001b[1;32m    142\u001b[0m     \u001b[0mint32max\u001b[0m \u001b[0;34m=\u001b[0m \u001b[0mnp\u001b[0m\u001b[0;34m.\u001b[0m\u001b[0miinfo\u001b[0m\u001b[0;34m(\u001b[0m\u001b[0mnp\u001b[0m\u001b[0;34m.\u001b[0m\u001b[0mint32\u001b[0m\u001b[0;34m)\u001b[0m\u001b[0;34m.\u001b[0m\u001b[0mmax\u001b[0m\u001b[0;34m\u001b[0m\u001b[0;34m\u001b[0m\u001b[0m\n\u001b[1;32m    143\u001b[0m \u001b[0;34m\u001b[0m\u001b[0m\n",
      "\u001b[0;32m~/anaconda3/envs/dota-scraper/lib/python3.8/site-packages/numpy/core/getlimits.py\u001b[0m in \u001b[0;36m__init__\u001b[0;34m(self, int_type)\u001b[0m\n\u001b[1;32m    503\u001b[0m         \u001b[0mself\u001b[0m\u001b[0;34m.\u001b[0m\u001b[0mkind\u001b[0m \u001b[0;34m=\u001b[0m \u001b[0mself\u001b[0m\u001b[0;34m.\u001b[0m\u001b[0mdtype\u001b[0m\u001b[0;34m.\u001b[0m\u001b[0mkind\u001b[0m\u001b[0;34m\u001b[0m\u001b[0;34m\u001b[0m\u001b[0m\n\u001b[1;32m    504\u001b[0m         \u001b[0mself\u001b[0m\u001b[0;34m.\u001b[0m\u001b[0mbits\u001b[0m \u001b[0;34m=\u001b[0m \u001b[0mself\u001b[0m\u001b[0;34m.\u001b[0m\u001b[0mdtype\u001b[0m\u001b[0;34m.\u001b[0m\u001b[0mitemsize\u001b[0m \u001b[0;34m*\u001b[0m \u001b[0;36m8\u001b[0m\u001b[0;34m\u001b[0m\u001b[0;34m\u001b[0m\u001b[0m\n\u001b[0;32m--> 505\u001b[0;31m         \u001b[0mself\u001b[0m\u001b[0;34m.\u001b[0m\u001b[0mkey\u001b[0m \u001b[0;34m=\u001b[0m \u001b[0;34m\"%s%d\"\u001b[0m \u001b[0;34m%\u001b[0m \u001b[0;34m(\u001b[0m\u001b[0mself\u001b[0m\u001b[0;34m.\u001b[0m\u001b[0mkind\u001b[0m\u001b[0;34m,\u001b[0m \u001b[0mself\u001b[0m\u001b[0;34m.\u001b[0m\u001b[0mbits\u001b[0m\u001b[0;34m)\u001b[0m\u001b[0;34m\u001b[0m\u001b[0;34m\u001b[0m\u001b[0m\n\u001b[0m\u001b[1;32m    506\u001b[0m         \u001b[0;32mif\u001b[0m \u001b[0mself\u001b[0m\u001b[0;34m.\u001b[0m\u001b[0mkind\u001b[0m \u001b[0;32mnot\u001b[0m \u001b[0;32min\u001b[0m \u001b[0;34m'iu'\u001b[0m\u001b[0;34m:\u001b[0m\u001b[0;34m\u001b[0m\u001b[0;34m\u001b[0m\u001b[0m\n\u001b[1;32m    507\u001b[0m             \u001b[0;32mraise\u001b[0m \u001b[0mValueError\u001b[0m\u001b[0;34m(\u001b[0m\u001b[0;34m\"Invalid integer data type %r.\"\u001b[0m \u001b[0;34m%\u001b[0m \u001b[0;34m(\u001b[0m\u001b[0mself\u001b[0m\u001b[0;34m.\u001b[0m\u001b[0mkind\u001b[0m\u001b[0;34m,\u001b[0m\u001b[0;34m)\u001b[0m\u001b[0;34m)\u001b[0m\u001b[0;34m\u001b[0m\u001b[0;34m\u001b[0m\u001b[0m\n",
      "\u001b[0;31mKeyboardInterrupt\u001b[0m: "
     ]
    }
   ],
   "source": [
    "data_path = \"../data/dota_games.zip\"\n",
    "hero_selection = []\n",
    "match_winner = []\n",
    "\n",
    "out_path = \"../data/hero_selection_onehot.npz\"\n",
    "assert not os.path.isfile(out_path)\n",
    "    \n",
    "with ZipFile(data_path) as z:\n",
    "    for item in tqdm.tqdm(z.filelist):\n",
    "        if not item.filename.endswith(\".json\"):\n",
    "            continue\n",
    "        \n",
    "        raw_match = z.read(item.filename)\n",
    "        match = json.loads(raw_match)[\"result\"]\n",
    "        \n",
    "        # check if match req is fulfilled\n",
    "        if not is_match_valid(match):\n",
    "            continue\n",
    "        \n",
    "        players = match[\"players\"]\n",
    "        heroes = np.zeros(128, dtype=np.float)\n",
    "\n",
    "        for player in players:\n",
    "            hero_id = player[\"hero_id\"]\n",
    "            is_dire = 1 if player[\"player_slot\"] < 7 else -1\n",
    "            heroes[hero_id] = is_dire\n",
    "        \n",
    "        \n",
    "        radiant = heroes \n",
    "        dire = copy.deepcopy(heroes)\n",
    "        radiant[radiant == -1] = 0\n",
    "        dire[dire == 1] = 0\n",
    "        dire[dire == -1] = 1\n",
    "\n",
    "        heroes_onehot = np.concatenate((radiant, dire))\n",
    "        \n",
    "        # stack X\n",
    "        s_x = sp.sparse.csr_matrix(heroes_onehot)\n",
    "        hero_selection.append(s_x)\n",
    "        \n",
    "        # y\n",
    "        match_winner.append(int(match[\"radiant_win\"]))\n",
    "        \n",
    "        \n",
    "    sparse_hero_selection = sp.sparse.vstack(hero_selection)\n",
    "    \n",
    "    # save \n",
    "    sp.sparse.save_npz(out_path, sparse_training)\n",
    "    np.save(\"../data/match_winner_onehot.npy\", np.array(match_winner))\n",
    "    \n",
    "    print(\"done\")"
   ]
  },
  {
   "cell_type": "markdown",
   "id": "comparable-buddy",
   "metadata": {},
   "source": [
    "### test code"
   ]
  },
  {
   "cell_type": "markdown",
   "id": "superb-margin",
   "metadata": {},
   "source": [
    "#reconstruct heroes data\n",
    "\n",
    "heroes_path = \"../data/heroes.json\"\n",
    "with open(heroes_path, 'r') as fp:\n",
    "    heroes = json.load(fp)\n",
    "    \n",
    "new_heroes_d = {}\n",
    "for hero in heroes:\n",
    "    new_heroes_d[int(hero[\"id\"])] = hero[\"name\"]\n",
    "    \n",
    "with open(\"../data/heroes_clean.json\", \"w\") as fp:\n",
    "    fp.write(json.dumps(new_heroes_d))"
   ]
  },
  {
   "cell_type": "markdown",
   "id": "confirmed-screen",
   "metadata": {},
   "source": [
    "# extract test match\n",
    "data_path = \"../data/dota_games.zip\"\n",
    "test_match_path = \"../data/test_match_5607724594.json\"\n",
    "\n",
    "with ZipFile(data_path) as z:\n",
    "    z.extract('dota_games/5607724594.json', \"../data/test_match.json\")\n",
    "\n",
    "with open(test_match_path, 'r') as fp:\n",
    "    match = json.load(fp)\n",
    "\n",
    "training_examples = []\n",
    "matches = [match]\n",
    "\n",
    "for match in matches:\n",
    "    players = match[\"result\"][\"players\"]\n",
    "    \n",
    "    # check if match req is fulfilled\n",
    "    if not is_match_valid(match):\n",
    "        continue\n",
    "    \n",
    "    heroes_onehot = np.zeros(128, dtype=np.float)\n",
    "    \n",
    "    for player in players:\n",
    "        hero_id = player[\"hero_id\"]\n",
    "        is_dire = 1 if player[\"player_slot\"] < 7 else -1\n",
    "        heroes_onehot[hero_id] = is_dire\n",
    "        \n",
    "    # stack X\n",
    "    s_x = sp.sparse.csr_matrix(heroes_onehot)\n",
    "    training_examples.append(s_x)\n",
    "    \n",
    "     \n",
    "sparse_training = sp.sparse.vstack(training_examples)\n",
    "\n",
    "# save \n",
    "sp.sparse.save_npz(\"../data/test_match.npz\", sparse_training)\n",
    "\n",
    "print(sparse_training)"
   ]
  },
  {
   "cell_type": "code",
   "execution_count": 40,
   "id": "handed-biotechnology",
   "metadata": {},
   "outputs": [
    {
     "name": "stdout",
     "output_type": "stream",
     "text": [
      "[0. 0. 0. 0. 0. 0. 0. 0. 0. 0. 0. 0. 0. 0. 0. 0. 0. 0. 0. 0. 0. 0. 0. 0.\n",
      " 0. 0. 0. 1. 0. 0. 0. 1. 0. 0. 0. 0. 1. 0. 0. 0. 0. 1. 0. 0. 0. 0. 0. 0.\n",
      " 0. 0. 0. 0. 0. 0. 0. 0. 0. 0. 0. 0. 0. 0. 0. 0. 0. 0. 0. 0. 0. 0. 0. 0.\n",
      " 0. 0. 0. 0. 0. 0. 0. 0. 0. 0. 0. 0. 0. 0. 0. 0. 0. 0. 0. 0. 0. 0. 0. 0.\n",
      " 0. 0. 1. 0. 0. 0. 0. 0. 0. 0. 0. 0. 0. 0. 0. 0. 0. 0. 0. 0. 0. 0. 0. 0.\n",
      " 0. 0. 0. 0. 0. 0. 0. 0. 0. 0. 0. 0. 0. 0. 0. 0. 0. 1. 0. 0. 0. 0. 0. 0.\n",
      " 1. 0. 0. 0. 0. 0. 0. 0. 0. 0. 0. 0. 0. 0. 0. 0. 0. 0. 0. 1. 0. 0. 0. 0.\n",
      " 0. 0. 0. 0. 0. 0. 0. 0. 0. 0. 0. 0. 0. 0. 0. 0. 0. 0. 0. 0. 0. 0. 0. 0.\n",
      " 0. 0. 0. 1. 0. 0. 0. 0. 0. 0. 0. 0. 0. 0. 0. 0. 0. 0. 0. 0. 0. 0. 0. 0.\n",
      " 0. 0. 0. 0. 0. 0. 0. 0. 0. 0. 0. 0. 0. 0. 0. 1. 0. 0. 0. 0. 0. 0. 0. 0.\n",
      " 0. 0. 0. 0. 0. 0. 0. 0. 0. 0. 0. 0. 0. 0. 0. 0. 0. 0. 0. 0. 0. 0. 0. 0.\n",
      " 0. 0. 0. 0. 0. 0. 0. 0. 0. 0. 0. 0. 0. 0. 0. 0. 0. 0. 0. 0. 0. 0. 0. 0.\n",
      " 0. 0. 0. 0. 0. 0. 0. 0. 0. 0. 0. 0. 0. 0. 0. 0. 0. 0. 0. 0. 0. 0. 0. 0.\n",
      " 0. 0. 0. 0. 0. 0. 0. 0. 0. 0. 0. 0. 0. 0. 0. 0. 0. 0. 0. 0. 0. 0. 0. 0.\n",
      " 0. 0. 0. 0. 0. 0. 0. 0. 0. 0. 0. 0. 0. 0. 0. 0. 0. 0. 0. 0. 0. 0. 0. 0.\n",
      " 0. 0. 0. 0. 0. 0. 0. 0. 0. 0. 0. 0. 0. 0. 0. 0. 0. 0. 0. 0. 0. 0. 0. 0.\n",
      " 0. 0. 0. 0. 0. 0. 0. 0. 0. 0. 0. 0. 0. 0. 0. 0. 0. 0. 0. 0. 0. 0. 0. 0.\n",
      " 0. 0. 0. 0. 0. 0. 0. 0. 0. 0. 0. 0. 0. 0. 0. 0. 0. 0. 0. 0. 0. 0. 0. 0.\n",
      " 0. 0. 0. 0. 0. 0. 0. 0. 0. 0. 0. 0. 0. 0. 0. 0. 0. 0. 0. 0. 0. 0. 0. 0.\n",
      " 0. 0. 0. 0. 0. 0. 0. 0. 0. 0. 0. 0. 0. 0. 0. 0. 0. 0. 0. 0. 0. 0. 0. 0.\n",
      " 0. 0. 0. 0. 0. 0. 0. 0. 0. 0. 0. 0. 0. 0. 0. 0. 0. 0. 0. 0. 0. 0. 0. 0.\n",
      " 0. 0. 0. 0. 0. 0. 0. 0.]\n",
      "  (0, 27)\t1.0\n",
      "  (0, 31)\t1.0\n",
      "  (0, 36)\t1.0\n",
      "  (0, 41)\t1.0\n",
      "  (0, 98)\t1.0\n",
      "  (0, 137)\t1.0\n",
      "  (0, 144)\t1.0\n",
      "  (0, 163)\t1.0\n",
      "  (0, 195)\t1.0\n",
      "  (0, 231)\t1.0\n"
     ]
    }
   ],
   "source": [
    "test_match_path = \"../data/test_match_5607724594.json\"\n",
    "\n",
    "training_examples = []\n",
    "match_winner = []\n",
    "with open(test_match_path, 'r') as fp:\n",
    "    match = json.load(fp)\n",
    "\n",
    "out_path = \"../data/hero_selection_test.npz\"\n",
    "\n",
    "match = match[\"result\"]\n",
    "# check if match req is fulfilled\n",
    "if not is_match_valid(match):\n",
    "    raise False\n",
    "\n",
    "players = match[\"players\"]\n",
    "heroes = np.zeros(128, dtype=np.float)\n",
    "\n",
    "for player in players:\n",
    "    hero_id = player[\"hero_id\"]\n",
    "    is_dire = 1 if player[\"player_slot\"] < 7 else -1\n",
    "    heroes[hero_id] = is_dire\n",
    "\n",
    "# create list for dire and radiant\n",
    "# print(heroes_onehot)\n",
    "\n",
    "heroes = np.array(heroes)\n",
    "radiant = heroes \n",
    "dire = copy.deepcopy(heroes)\n",
    "radiant[radiant == -1] = 0\n",
    "dire[dire == 1] = 0\n",
    "dire[dire == -1] = 1\n",
    "\n",
    "heroes_onehot = np.concatenate((radiant, dire))\n",
    "print(heroes_onehot)\n",
    "\n",
    "# stack X\n",
    "s_x = sp.sparse.csr_matrix(heroes_onehot)\n",
    "training_examples.append(s_x)\n",
    "\n",
    "# y\n",
    "match_winner.append(int(match[\"radiant_win\"]))\n",
    "\n",
    "\n",
    "sparse_training = sp.sparse.vstack(training_examples)\n",
    "\n",
    "print(sparse_training)\n",
    "# save \n",
    "# sp.sparse.save_npz(out_path, sparse_training)\n",
    "# np.save(\"../data/test_match_winner.npy\", np.array(match_winner))\n"
   ]
  },
  {
   "cell_type": "markdown",
   "id": "actual-fighter",
   "metadata": {},
   "source": [
    "### Load npz and npy"
   ]
  },
  {
   "cell_type": "code",
   "execution_count": 19,
   "id": "broken-identifier",
   "metadata": {},
   "outputs": [
    {
     "name": "stdout",
     "output_type": "stream",
     "text": [
      "(1635712, 128)\n",
      "(1635712,)\n"
     ]
    }
   ],
   "source": [
    "a = sp.sparse.load_npz(\"../data/hero_selection.npz\")\n",
    "b = np.load(\"../data/match_winner.npy\")\n",
    "print(a.shape)\n",
    "print(b.shape)"
   ]
  },
  {
   "cell_type": "code",
   "execution_count": 108,
   "id": "loaded-snowboard",
   "metadata": {},
   "outputs": [
    {
     "name": "stdout",
     "output_type": "stream",
     "text": [
      "Mirana\n",
      "Sand King\n",
      "Shadow Shaman\n",
      "Lich\n",
      "Sniper\n",
      "Necrophos\n",
      "Faceless Void\n",
      "Spectre\n",
      "Timbersaw\n",
      "Skywrath Mage\n",
      "Elder Titan\n"
     ]
    }
   ],
   "source": [
    "# check if hero_id matches the match info\n",
    "row, col = sparse_training.nonzero()\n",
    "    \n",
    "for i in col:\n",
    "    print(heroes[str(i)])"
   ]
  }
 ],
 "metadata": {
  "kernelspec": {
   "display_name": "Python 3",
   "language": "python",
   "name": "python3"
  },
  "language_info": {
   "codemirror_mode": {
    "name": "ipython",
    "version": 3
   },
   "file_extension": ".py",
   "mimetype": "text/x-python",
   "name": "python",
   "nbconvert_exporter": "python",
   "pygments_lexer": "ipython3",
   "version": "3.8.5"
  }
 },
 "nbformat": 4,
 "nbformat_minor": 5
}
