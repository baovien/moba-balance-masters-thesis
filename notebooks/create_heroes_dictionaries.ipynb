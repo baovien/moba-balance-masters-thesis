{
 "cells": [
  {
   "cell_type": "code",
   "execution_count": 2,
   "id": "medieval-productivity",
   "metadata": {},
   "outputs": [],
   "source": [
    "import json"
   ]
  },
  {
   "cell_type": "code",
   "execution_count": 5,
   "id": "southern-logistics",
   "metadata": {},
   "outputs": [],
   "source": [
    "# n heroes = 119\n",
    "# create new heroes dictionary\n",
    "\n",
    "with open(\"../data/heroes.json\", 'r') as fp:\n",
    "    heroes = json.load(fp)\n",
    "\n",
    "heroes_dict = {k:str(i) for i, (k, v) in enumerate(heroes.items())}\n",
    "heroes_dict_reverse = {v:str(k) for (k, v) in heroes_dict.items()}\n",
    "\n",
    "with open('../data/heroes_dict.json', 'w') as fp:\n",
    "    json.dump(heroes_dict, fp)\n",
    "    \n",
    "with open('../data/heroes_dict_reverse.json', 'w') as fp:\n",
    "    json.dump(heroes_dict_reverse, fp)\n",
    "    \n"
   ]
  },
  {
   "cell_type": "code",
   "execution_count": null,
   "id": "disturbed-history",
   "metadata": {},
   "outputs": [],
   "source": []
  }
 ],
 "metadata": {
  "kernelspec": {
   "display_name": "Python 3",
   "language": "python",
   "name": "python3"
  },
  "language_info": {
   "codemirror_mode": {
    "name": "ipython",
    "version": 3
   },
   "file_extension": ".py",
   "mimetype": "text/x-python",
   "name": "python",
   "nbconvert_exporter": "python",
   "pygments_lexer": "ipython3",
   "version": "3.8.5"
  }
 },
 "nbformat": 4,
 "nbformat_minor": 5
}
