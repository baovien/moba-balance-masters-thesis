{
 "cells": [
  {
   "cell_type": "markdown",
   "metadata": {},
   "source": [
    "# DOTA"
   ]
  },
  {
   "cell_type": "markdown",
   "metadata": {},
   "source": [
    "DELTAZERO VS RANDOM\n",
    "\n",
    "    DELTAZERO AS  P1    P2\n",
    "    -----------------------    \n",
    "    captains  : 80.2  85.3\n",
    "    split     : 80.6  87.3\n",
    "    schoolyard: 86.3  97.4\n",
    "\n",
    "DELTAZERO VS DELTAZERO\n",
    "\n",
    "    DELTAZERO AS  P1    P2\n",
    "    -----------------------    \n",
    "    captains  : 50.5  49.5\n",
    "    split     : 41.2  58.8\n",
    "    schoolyard: 50.9  49.1  \n",
    "\n",
    "\n",
    "LIMAZERO VS LIMAZERO\n",
    "    LIMAZERO AS  P1    P2\n",
    "    -----------------------    \n",
    "    captains  : 54.5  45.5\n",
    "    split     : 50.4  49.6\n",
    "    schoolyard: 48.6  51.2\n"
   ]
  },
  {
   "cell_type": "markdown",
   "metadata": {},
   "source": [
    "## Captains\n",
    "    Average win %: p1 50.52% vs p2 49.48%\n",
    "\n",
    "\n",
    "### Top 5 comps:\n",
    "    [(('Crystal Maiden', 'Earthshaker', 'Enigma', 'Razor', 'Sand King'), 2544), (('Dark Seer', 'Drow Ranger', 'Omniknight', 'Pudge', 'Storm Spirit'), 2544), (('Crystal Maiden', 'Earthshaker', 'Kunkka', 'Razor', 'Sand King'), 2508), (('Drow Ranger', 'Omniknight', 'Pudge', 'Storm Spirit', 'Sven'), 2508), (('Earthshaker', 'Kunkka', 'Razor', 'Sand King', 'Sven'), 2483)]\n",
    "### Top 8 picked heroes:\n",
    "    [('Crystal Maiden', 10000), ('Earthshaker', 10000), ('Razor', 10000), ('Sand King', 10000), ('Drow Ranger', 10000), ('Pudge', 10000), ('Storm Spirit', 10000), ('Kunkka', 7456)]\n",
    "### Least 8 common heroes picked:\n",
    "    [('Zeus', 2465), ('Lina', 2483), ('Enigma', 2544), ('Sven', 4991), ('Dark Seer', 5009), ('Omniknight', 5052), ('Kunkka', 7456), ('Storm Spirit', 10000)]\n",
    "### Top 8 picked heroes winner:\n",
    "    [('Drow Ranger', 5052), ('Omniknight', 5052), ('Pudge', 5052), ('Storm Spirit', 5052), ('Dark Seer', 5009), ('Sven', 4991), ('Earthshaker', 4948), ('Razor', 4948)]\n",
    "### Win rate per hero selected\n",
    "    [('Dark Seer', 1.0), ('Omniknight', 1.0), ('Zeus', 1.0), ('Sven', 1.0), ('Drow Ranger', 0.51), ('Pudge', 0.51), ('Storm Spirit', 0.51), ('Earthshaker', 0.49), ('Razor', 0.49), ('Sand King', 0.49)]\n",
    "\n",
    "### Top 10 bans\n",
    "    [('Anti-Mage', 10000), ('Axe', 10000), ('Bane', 10000), ('Bloodseeker', 10000), ('Juggernaut', 10000), ('Mirana', 10000), ('Morphling', 10000), ('Phantom Lancer', 10000), ('Puck', 10000), ('Shadow Fiend', 10000)]\n",
    "\n",
    "### Most common draft sequence\n",
    "    [(\"['BAN 1 Anti-Mage', 'BAN -1 Axe', 'BAN 1 Bane', 'BAN -1 Bloodseeker', 'PICK 1 Crystal Maiden', 'PICK -1 Drow Ranger', 'PICK -1 Dark Seer', 'PICK 1 Earthshaker', 'BAN 1 Juggernaut', 'BAN -1 Mirana', 'BAN 1 Morphling', 'BAN -1 Shadow Fiend', 'BAN 1 Phantom Lancer', 'BAN -1 Puck', 'PICK -1 Pudge', 'PICK 1 Razor', 'PICK 1 Sand King', 'PICK -1 Storm Spirit', 'BAN 1 Sven', 'BAN -1 Tiny', 'BAN 1 Vengeful Spirit', 'BAN -1 Lycan', 'PICK 1 Enigma', 'PICK -1 Omniknight']\", 2544), (\"['BAN 1 Anti-Mage', 'BAN -1 Axe', 'BAN 1 Bane', 'BAN -1 Bloodseeker', 'PICK 1 Crystal Maiden', 'PICK -1 Drow Ranger', 'PICK -1 Sven', 'PICK 1 Earthshaker', 'BAN 1 Juggernaut', 'BAN -1 Mirana', 'BAN 1 Morphling', 'BAN -1 Shadow Fiend', 'BAN 1 Phantom Lancer', 'BAN -1 Puck', 'PICK -1 Pudge', 'PICK 1 Razor', 'PICK 1 Sand King', 'PICK -1 Storm Spirit', 'BAN 1 Tiny', 'BAN -1 Vengeful Spirit', 'BAN 1 Windranger', 'BAN -1 Zeus', 'PICK 1 Kunkka', 'PICK -1 Omniknight']\", 2508)]\n",
    "\n",
    "### args\n",
    "\n",
    "    'draft_type': 'captains',\n",
    "    'first_pick': 1,\n",
    "    'game': 'dota',\n",
    "    'num_games': 10000,\n",
    "    'num_iterations': 1,\n",
    "    'num_simulations': 20\n"
   ]
  },
  {
   "cell_type": "markdown",
   "metadata": {},
   "source": [
    "## Schoolyard\n",
    "    Average win %: p1 50.28% vs p2 49.72%\n",
    "\n",
    "### Top 5 comps:\n",
    "     [(('Axe', 'Bloodseeker', 'Drow Ranger', 'Juggernaut', 'Lycan'), 2569), (('Anti-Mage', 'Bane', 'Crystal Maiden', 'Earthshaker', 'Mirana'), 2569), (('Anti-Mage', 'Bane', 'Enigma', 'Sven', 'Wraith King'), 2499), (('Axe', 'Bloodseeker', 'Dark Seer', 'Lycan', 'Omniknight'), 2499), (('Anti-Mage', 'Axe', 'Bloodseeker', 'Drow Ranger', 'Omniknight'), 2473)]\n",
    "### Top 8 picked heroes:\n",
    "    [('Axe', 10000), ('Lycan', 10000), ('Anti-Mage', 10000), ('Bane', 10000), ('Bloodseeker', 10000), ('Omniknight', 7431), ('Sven', 7431), ('Drow Ranger', 5042)]\n",
    "### Least 8 common heroes picked:\n",
    "    [('Dark Seer', 2499), ('Mirana', 2569), ('Earthshaker', 2569), ('Juggernaut', 2569), ('Beastmaster', 4932), ('Wraith King', 4958), ('Enigma', 4958), ('Crystal Maiden', 5042)]\n",
    "### Top 8 picked heroes winner:\n",
    "    [('Lycan', 10000), ('Axe', 7527), ('Bloodseeker', 5068), ('Omniknight', 4958), ('Beastmaster', 4932), ('Sven', 4932), ('Drow Ranger', 2569), ('Juggernaut', 2569)]\n",
    "### Win rate\n",
    "    [('Beastmaster', 1.0), ('Lycan', 1.0), ('Dark Seer', 1.0), ('Juggernaut', 1.0), ('Axe', 0.75), ('Omniknight', 0.67), ('Sven', 0.66), ('Bloodseeker', 0.51), ('Drow Ranger', 0.51), ('Crystal Maiden', 0.49)]\n",
    "\n",
    "### Most common draft sequence\n",
    "    [(\"['PICK 1 Lycan', 'PICK -1 Anti-Mage', 'PICK 1 Axe', 'PICK -1 Bane', 'PICK 1 Bloodseeker', 'PICK -1 Crystal Maiden', 'PICK 1 Drow Ranger', 'PICK -1 Earthshaker', 'PICK 1 Juggernaut', 'PICK -1 Mirana']\", 2569), (\"['PICK 1 Enigma', 'PICK -1 Lycan', 'PICK 1 Sven', 'PICK -1 Omniknight', 'PICK 1 Wraith King', 'PICK -1 Dark Seer', 'PICK 1 Anti-Mage', 'PICK -1 Axe', 'PICK 1 Bane', 'PICK -1 Bloodseeker']\", 2499)]\n",
    "\n",
    "### args\n",
    "    'draft_type': 'schoolyard',\n",
    "    'first_pick': 1,\n",
    "    'game': 'dota',\n",
    "    'num_games': 10000,\n",
    "    'num_iterations': 1,\n",
    "    'num_simulations': 20\n",
    "\n"
   ]
  },
  {
   "cell_type": "markdown",
   "metadata": {},
   "source": [
    "## Split\n",
    "    Average win %: p1 24.85% vs p2 75.15%\n",
    "\n",
    "### Top 5 comps:\n",
    "    [(('Earthshaker', 'Morphling', 'Shadow Fiend', 'Slark', 'Sven'), 5030), (('Juggernaut', 'Mirana', 'Omniknight', 'Phantom Lancer', 'Storm Spirit'), 2522), (('Juggernaut', 'Lycan', 'Mirana', 'Phantom Lancer', 'Storm Spirit'), 2508), (('Mirana', 'Morphling', 'Storm Spirit', 'Sven', 'Vengeful Spirit'), 2485), (('Earthshaker', 'Juggernaut', 'Lycan', 'Sand King', 'Shadow Fiend'), 2485)]\n",
    "### Top 8 picked heroes:\n",
    "    [('Earthshaker', 10000), ('Morphling', 10000), ('Shadow Fiend', 10000), ('Sven', 10000), ('Juggernaut', 10000), ('Mirana', 10000), ('Storm Spirit', 10000), ('Lycan', 7478)]\n",
    "### Least 8 common heroes picked:\n",
    "    [('Dark Seer', 2485), ('Vengeful Spirit', 2485), ('Omniknight', 2522), ('Sand King', 4970), ('Phantom Lancer', 5030), ('Slark', 5030), ('Lycan', 7478), ('Storm Spirit', 10000)]\n",
    "### Top 8 picked heroes winner:\n",
    "    [('Juggernaut', 7515), ('Mirana', 7515), ('Storm Spirit', 7515), ('Lycan', 7478), ('Phantom Lancer', 5030), ('Omniknight', 2522), ('Earthshaker', 2485), ('Sand King', 2485)]\n",
    "### Win rate\n",
    "    [('Lycan', 1.0), ('Phantom Lancer', 1.0), ('Omniknight', 1.0), ('Dark Seer', 1.0), ('Juggernaut', 0.75), ('Mirana', 0.75), ('Storm Spirit', 0.75), ('Sand King', 0.5), ('Earthshaker', 0.25), ('Shadow Fiend', 0.25)]\n",
    "    \n",
    "### Top 10 bans\n",
    "    [('Anti-Mage', 10000), ('Axe', 10000), ('Bane', 10000), ('Bloodseeker', 10000), ('Crystal Maiden', 10000), ('Drow Ranger', 10000), ('Puck', 10000), ('Pudge', 10000), ('Razor', 10000), ('Sand King', 5030)]\n",
    "\n",
    "### Most common draft sequence\n",
    "    [(\"['BAN 1 Anti-Mage', 'BAN -1 Axe', 'BAN 1 Bane', 'BAN -1 Bloodseeker', 'BAN 1 Crystal Maiden', 'BAN -1 Drow Ranger', 'PICK 1 Earthshaker', 'PICK -1 Juggernaut', 'PICK -1 Mirana', 'PICK 1 Morphling', 'PICK 1 Shadow Fiend', 'PICK -1 Phantom Lancer', 'BAN -1 Puck', 'BAN 1 Pudge', 'BAN -1 Razor', 'BAN 1 Sand King', 'PICK -1 Storm Spirit', 'PICK 1 Slark', 'PICK 1 Sven', 'PICK -1 Omniknight']\", 2522), (\"['BAN 1 Anti-Mage', 'BAN -1 Axe', 'BAN 1 Bane', 'BAN -1 Bloodseeker', 'BAN 1 Crystal Maiden', 'BAN -1 Drow Ranger', 'PICK 1 Earthshaker', 'PICK -1 Juggernaut', 'PICK -1 Mirana', 'PICK 1 Morphling', 'PICK 1 Shadow Fiend', 'PICK -1 Phantom Lancer', 'BAN -1 Puck', 'BAN 1 Pudge', 'BAN -1 Razor', 'BAN 1 Sand King', 'PICK -1 Storm Spirit', 'PICK 1 Slark', 'PICK 1 Sven', 'PICK -1 Lycan']\", 2508)]\n",
    "\n",
    "### args\n",
    "    'draft_type': 'tournament',\n",
    "    'first_pick': 1,\n",
    "    'game': 'dota',\n",
    "    'num_games': 10000,\n",
    "    'num_iterations': 1,\n",
    "    'num_simulations': 20"
   ]
  },
  {
   "cell_type": "markdown",
   "metadata": {},
   "source": [
    "# LOL"
   ]
  },
  {
   "cell_type": "markdown",
   "metadata": {},
   "source": [
    "### Split Draft\n",
    "    p1 50.47% vs p2 49.53%\n",
    "#### Top 5 comps:\n",
    "    [(('aatrox', 'alistar', 'annie', 'skarner', 'urgot'), 2537), (('akshan', 'aphelios', 'bard', 'blitzcrank', 'malphite'), 2537), (('alistar', 'aphelios', 'ashe', 'aurelionsol', 'darius'), 2521), (('malphite', 'ryze', 'shyvana', 'skarner', 'zilean'), 2521), (('aatrox', 'alistar', 'skarner', 'thresh', 'urgot'), 2510)]\n",
    "#### Top 8 picked heroes:\n",
    "    [('alistar', 10000), ('skarner', 10000), ('aphelios', 10000), ('malphite', 7568), ('ryze', 7463), ('aatrox', 5047), ('urgot', 5047), ('aurelionsol', 5031)]\n",
    "#### Least 8 common heroes picked:\n",
    "    [('seraphine', 2432), ('anivia', 2432), ('gangplank', 2432), ('zilean', 2521), ('shyvana', 2521), ('darius', 2521), ('ashe', 2521), ('blitzcrank', 2537)]\n",
    "#### Top 8 picked heroes winner:\n",
    "    [('skarner', 7568), ('aatrox', 5047), ('alistar', 5047), ('urgot', 5047), ('thresh', 4942), ('annie', 2537), ('malphite', 2521), ('ryze', 2521)]\n",
    "#### Win rate per seleted heroes\n",
    "    [('aatrox', 1.0), ('thresh', 1.0), ('urgot', 1.0), ('annie', 1.0), ('anivia', 1.0), ('seraphine', 1.0), ('shyvana', 1.0), ('zilean', 1.0), ('skarner', 0.76), ('alistar', 0.5)]\n",
    "\n",
    "#### top bans\n",
    "    [('ahri', 10000), ('akali', 10000), ('amumu', 10000), ('draven', 10000), ('nasus', 10000), ('ornn', 10000), ('anivia', 7568), ('ashe', 7479), ('annie', 7463), ('akshan', 5031)]\n",
    "\n",
    "#### most common draft seq\n",
    "    [(\"['BAN 1 nasus', 'BAN -1 akali', 'BAN 1 amumu', 'BAN -1 anivia', 'BAN 1 ahri', 'BAN -1 ornn', 'PICK 1 aatrox', 'PICK -1 malphite', 'PICK -1 akshan', 'PICK 1 alistar', 'PICK 1 annie', 'PICK -1 aphelios', 'BAN -1 ashe', 'BAN 1 draven', 'BAN -1 aurelionsol', 'BAN 1 azir', 'PICK -1 bard', 'PICK 1 skarner', 'BAN 1 urgot', 'PICK -1 blitzcrank']\", 2537), (\"['BAN 1 aatrox', 'BAN -1 ahri', 'BAN 1 nasus', 'BAN -1 akshan', 'BAN 1 akali', 'BAN -1 amumu', 'PICK 1 darius', 'PICK -1 malphite', 'PICK -1 shyvana', 'PICK 1 alistar', 'PICK 1 aphelios', 'PICK -1 ryze', 'BAN -1 ornn', 'BAN 1 anivia', 'BAN -1 draven', 'BAN 1 annie', 'PICK -1 skarner', 'PICK 1 ashe', 'PICK 1 aurelionsol', 'BAN -1 zilean']\", 2521)]\n",
    "\n",
    "#### args\n",
    "    {'draft_type': 'tournament',\n",
    "    'first_pick': 1,\n",
    "    'game': 'lol',\n",
    "    'num_games': 10000,\n",
    "    'num_iterations': 1,\n",
    "    'num_simulations': 20}\n"
   ]
  },
  {
   "cell_type": "code",
   "execution_count": null,
   "metadata": {},
   "outputs": [],
   "source": []
  }
 ],
 "metadata": {
  "interpreter": {
   "hash": "76d279d9dda3f104956abaa709c4930fec7a5837133fea297357827d52b43a61"
  },
  "kernelspec": {
   "display_name": "Python 3.8.8 64-bit ('dota': conda)",
   "language": "python",
   "name": "python3"
  },
  "language_info": {
   "name": "python",
   "version": "3.8.12"
  },
  "orig_nbformat": 4
 },
 "nbformat": 4,
 "nbformat_minor": 2
}
