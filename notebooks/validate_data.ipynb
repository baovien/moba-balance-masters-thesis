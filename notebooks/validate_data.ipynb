{
 "cells": [
  {
   "cell_type": "code",
   "execution_count": null,
   "id": "offshore-winning",
   "metadata": {},
   "outputs": [],
   "source": [
    "import json\n",
    "import numpy as np"
   ]
  },
  {
   "cell_type": "code",
   "execution_count": null,
   "id": "saved-albuquerque",
   "metadata": {},
   "outputs": [],
   "source": [
    "heroes_path = \"../data/heroes.json\"\n",
    "    \n",
    "with open(heroes_path, 'r') as fp:\n",
    "    heroes_raw = json.load(fp)\n",
    "    heroes = dict(((int(k), v) for k,v in heroes_raw.items()))\n",
    "\n",
    "def is_match_valid(match):\n",
    "    # check if hero ids is within range\n",
    "    try:\n",
    "        players = match[\"players\"]\n",
    "        hero_ids = [True if 0 < x[\"hero_id\"] and x[\"hero_id\"] < 128 else False for x in players]\n",
    "        if not all(hero_ids):\n",
    "            print(\"Hero ids not in range\")\n",
    "            return False\n",
    "\n",
    "        # check matchtype is not all pick, random draft and ranked matchmaking\n",
    "        valid_game_modes = {1, 3, 22}\n",
    "        game_mode = match[\"game_mode\"]\n",
    "        if not game_mode in valid_game_modes:\n",
    "            print(f\"Matchtype not in range (1, 3, 22), got {game_mode}\")\n",
    "            return False\n",
    "\n",
    "        # check match duration less than 10 minutes\n",
    "        if match[\"duration\"] <= 600: \n",
    "            print(\"Matchduration is less than 10 minutes\")\n",
    "            return False\n",
    "\n",
    "        # check if match is not 10 players\n",
    "        if not len(match[\"players\"]) == 10:\n",
    "            print(\"n players are less than 10\")\n",
    "            return False\n",
    "\n",
    "        # check for leavers\n",
    "        no_dc = [True if x[\"leaver_status\"] in [0, 1] else False for x in players]\n",
    "        if not all(no_dc):\n",
    "            print(\"Leavers in game\")\n",
    "            return False\n",
    "    except:\n",
    "        print(\"Invalid match\")\n",
    "        return False\n",
    "    \n",
    "    return True"
   ]
  }
 ],
 "metadata": {
  "kernelspec": {
   "display_name": "Python 3",
   "language": "python",
   "name": "python3"
  },
  "language_info": {
   "codemirror_mode": {
    "name": "ipython",
    "version": 3
   },
   "file_extension": ".py",
   "mimetype": "text/x-python",
   "name": "python",
   "nbconvert_exporter": "python",
   "pygments_lexer": "ipython3",
   "version": "3.8.5"
  }
 },
 "nbformat": 4,
 "nbformat_minor": 5
}
