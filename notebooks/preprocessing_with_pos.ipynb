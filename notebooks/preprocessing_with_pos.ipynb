{
 "cells": [
  {
   "cell_type": "code",
   "execution_count": 96,
   "metadata": {},
   "outputs": [],
   "source": [
    "import os\n",
    "import json\n",
    "import numpy as np\n",
    "import pickle \n",
    "import tqdm\n",
    "from scipy import sparse\n",
    "from collections import defaultdict\n",
    "from pprint import pprint\n",
    "from collections import Counter\n",
    "from itertools import permutations\n",
    "\n",
    "class PositionOptimizer:\n",
    "    def __init__(self, clfs_path: str, hero_path: str) -> None:\n",
    "        self.clfs_path = clfs_path\n",
    "        self.hero_path = hero_path\n",
    "        self.opendota_data = {}\n",
    "        self.clfs = defaultdict(list)\n",
    "        self.role_counts = defaultdict(dict)\n",
    "        self.hero_data = {}\n",
    "\n",
    "        self._load_clfs(clfs_path)\n",
    "        self._load_hero_data(hero_path)\n",
    "        self._load_opendota_data()\n",
    "        self.hid_to_name = {h[\"id\"]: h[\"localized_name\"] for h in self.hero_data}\n",
    "\n",
    "    def find_optimal_roles(self, match):\n",
    "        players = match[\"players\"]\n",
    "        t0 = [p for p in players if p[\"player_slot\"] < 128]\n",
    "        t1 = [p for p in players if p[\"player_slot\"] >= 128]\n",
    "        team_optimal_positions = {}\n",
    "\n",
    "\n",
    "        for team, marker in zip([t0, t1], [0, 1]):\n",
    "\n",
    "            # !Ranks\n",
    "            attributes = [\"gold_per_min\", \"xp_per_min\", \"kills\", \"deaths\", \"assists\", \"last_hits\", \"hero_damage\", \"tower_damage\"]\n",
    "            ranks = {attr: sorted([(p[\"hero_id\"], p[attr]) for p in team], key=lambda x: x[1], reverse=True) for attr in attributes}\n",
    "            hids = [p[\"hero_id\"] for p in team]\n",
    "            team_position_proba = defaultdict(list)\n",
    "\n",
    "            # !Create c\n",
    "            for p in team:\n",
    "                features = []\n",
    "                hid = p[\"hero_id\"]\n",
    "\n",
    "                teammates = np.zeros((136))\n",
    "                for team_hid in hids:\n",
    "                    if team_hid != hid:\n",
    "                        teammates[team_hid] = 1.\n",
    "                \n",
    "                features.append(teammates)\n",
    "                \n",
    "                for rank in ranks: \n",
    "                    r = ranks[rank].index((hid, p[rank]))\n",
    "                    features.append(self._get_rank(r))\n",
    "\n",
    "                x = np.concatenate(features)\n",
    "                y_pred = self.clfs[hid].predict_log_proba(x.reshape(1, -1))\n",
    "                updated_y_pred = self._remove_unplayed_roles(hid, y_pred.ravel())         \n",
    "                team_position_proba[hid] = updated_y_pred\n",
    "\n",
    "            best_log_p = -np.inf\n",
    "            best_comp = None\n",
    "\n",
    "            # Optimal \n",
    "            for comp in permutations(range(5), 5):\n",
    "                comp_with_heroid = [(comp[i], hid, self.hid_to_name[hid], round(team_position_proba[hid][comp[i]], 2)) for i, hid in enumerate(hids)]\n",
    "                comp_with_heroid_dict = {c[1]: (c[0], c[2], c[3]) for c in comp_with_heroid}\n",
    "                \n",
    "                log_p = np.array([team_position_proba[hid][comp[i]] for i, hid in enumerate(hids)]).sum()\n",
    "                if log_p > best_log_p:\n",
    "                    best_log_p = log_p\n",
    "                    best_comp = comp_with_heroid_dict\n",
    "                    # best_comp = sorted(comp_with_heroid, key=lambda x: x[0])\n",
    "            \n",
    "            team_optimal_positions[marker] = best_comp\n",
    "            # Greedy            \n",
    "\n",
    "            # break\n",
    "                # arg_max = np.argmax(team_position_proba[hid])\n",
    "                \n",
    "            # argmax team_position_proba\n",
    "            # sett alt annet en pos til -inf\n",
    "\n",
    "\n",
    "\n",
    "            # print(\"{} => {:.2f}\".format(best_comp, best_log_p))\n",
    "\n",
    "        # Return both teams\n",
    "        return team_optimal_positions\n",
    "\n",
    "    def _remove_unplayed_roles(self, hid, y_pred, threshold=200):\n",
    "        ys = self.opendota_data[\"ys\"]\n",
    "        role_counts = dict(Counter(ys[hid]))\n",
    "        updated_y_pred = np.zeros(y_pred.shape)\n",
    "\n",
    "        for k in range(0,5):\n",
    "            if role_counts[k + 1] < threshold:\n",
    "                updated_y_pred[k] = -1000.\n",
    "            else:\n",
    "                updated_y_pred[k] = y_pred[k]\n",
    "        return updated_y_pred\n",
    "\n",
    "    def _get_rank(self, rank):\n",
    "        oh = np.zeros(5)\n",
    "        oh[rank] = 1\n",
    "        return oh\n",
    "\n",
    "    def _load_clfs(self, clf_path):\n",
    "        \"\"\"\n",
    "        Load clfs from pickle file\n",
    "        \"\"\"\n",
    "        with open(clf_path, 'rb') as f:\n",
    "            self.clfs = pickle.load(f)\n",
    "\n",
    "    def _load_opendota_data(self) -> None:\n",
    "        \"\"\"\n",
    "        Load opendota data from data/opendota_data.json\n",
    "        \"\"\"\n",
    "        with open('../position_optimizer/data/dataset_positions_all.pkl', 'rb') as f:\n",
    "            self.opendota_data = pickle.load(f)\n",
    "\n",
    "\n",
    "    def _load_hero_data(self, hero_path) -> None:\n",
    "        \"\"\"\n",
    "        Load hero data from data/heroes.json\n",
    "        \"\"\"\n",
    "        with open(hero_path, 'r') as f:\n",
    "            self.hero_data = json.load(f)\n"
   ]
  },
  {
   "cell_type": "markdown",
   "metadata": {},
   "source": [
    "Annotate each hero with position"
   ]
  },
  {
   "cell_type": "code",
   "execution_count": 115,
   "metadata": {},
   "outputs": [
    {
     "name": "stderr",
     "output_type": "stream",
     "text": [
      "262it [00:02, 110.01it/s]"
     ]
    },
    {
     "name": "stdout",
     "output_type": "stream",
     "text": [
      "Invalid lobby type: 4\n"
     ]
    },
    {
     "name": "stderr",
     "output_type": "stream",
     "text": [
      "375it [00:03, 109.99it/s]"
     ]
    },
    {
     "name": "stdout",
     "output_type": "stream",
     "text": [
      "Invalid lobby type: 4\n"
     ]
    },
    {
     "name": "stderr",
     "output_type": "stream",
     "text": [
      "410it [00:03, 109.20it/s]"
     ]
    },
    {
     "name": "stdout",
     "output_type": "stream",
     "text": [
      "Invalid lobby type: 4\n"
     ]
    },
    {
     "name": "stderr",
     "output_type": "stream",
     "text": [
      "781it [00:07, 103.27it/s]"
     ]
    },
    {
     "name": "stdout",
     "output_type": "stream",
     "text": [
      "Invalid lobby type: 4\n"
     ]
    },
    {
     "name": "stderr",
     "output_type": "stream",
     "text": [
      "1058it [00:09, 106.73it/s]"
     ]
    },
    {
     "name": "stdout",
     "output_type": "stream",
     "text": [
      "Invalid lobby type: 4\n"
     ]
    },
    {
     "name": "stderr",
     "output_type": "stream",
     "text": [
      "1203it [00:11, 105.07it/s]"
     ]
    },
    {
     "name": "stdout",
     "output_type": "stream",
     "text": [
      "Invalid lobby type: 4\n"
     ]
    },
    {
     "name": "stderr",
     "output_type": "stream",
     "text": [
      "1382it [00:12, 111.70it/s]"
     ]
    },
    {
     "name": "stdout",
     "output_type": "stream",
     "text": [
      "Invalid lobby type: 1\n"
     ]
    },
    {
     "name": "stderr",
     "output_type": "stream",
     "text": [
      "1452it [00:13, 111.15it/s]"
     ]
    },
    {
     "name": "stdout",
     "output_type": "stream",
     "text": [
      "Invalid lobby type: 1\n"
     ]
    },
    {
     "name": "stderr",
     "output_type": "stream",
     "text": [
      "1777it [00:16, 105.35it/s]"
     ]
    },
    {
     "name": "stdout",
     "output_type": "stream",
     "text": [
      "Invalid duration: 1163\n"
     ]
    },
    {
     "name": "stderr",
     "output_type": "stream",
     "text": [
      "1875it [00:17, 100.91it/s]"
     ]
    },
    {
     "name": "stdout",
     "output_type": "stream",
     "text": [
      "Invalid lobby type: 4\n"
     ]
    },
    {
     "name": "stderr",
     "output_type": "stream",
     "text": [
      "1898it [00:17, 104.71it/s]"
     ]
    },
    {
     "name": "stdout",
     "output_type": "stream",
     "text": [
      "Invalid lobby type: 4\n"
     ]
    },
    {
     "name": "stderr",
     "output_type": "stream",
     "text": [
      "1964it [00:18, 103.51it/s]"
     ]
    },
    {
     "name": "stdout",
     "output_type": "stream",
     "text": [
      "Invalid lobby type: 4\n"
     ]
    },
    {
     "name": "stderr",
     "output_type": "stream",
     "text": [
      "1987it [00:18, 106.50it/s]"
     ]
    },
    {
     "name": "stdout",
     "output_type": "stream",
     "text": [
      "Invalid lobby type: 4\n"
     ]
    },
    {
     "name": "stderr",
     "output_type": "stream",
     "text": [
      "2100it [00:19, 110.32it/s]"
     ]
    },
    {
     "name": "stdout",
     "output_type": "stream",
     "text": [
      "Invalid duration: 1146\n",
      "Invalid lobby type: 4\n"
     ]
    },
    {
     "name": "stderr",
     "output_type": "stream",
     "text": [
      "2157it [00:20, 102.66it/s]"
     ]
    },
    {
     "name": "stdout",
     "output_type": "stream",
     "text": [
      "Invalid lobby type: 4\n"
     ]
    },
    {
     "name": "stderr",
     "output_type": "stream",
     "text": [
      "2212it [00:20, 105.77it/s]"
     ]
    },
    {
     "name": "stdout",
     "output_type": "stream",
     "text": [
      "Invalid lobby type: 4\n"
     ]
    },
    {
     "name": "stderr",
     "output_type": "stream",
     "text": [
      "2235it [00:21, 106.81it/s]"
     ]
    },
    {
     "name": "stdout",
     "output_type": "stream",
     "text": [
      "Invalid lobby type: 4\n"
     ]
    },
    {
     "name": "stderr",
     "output_type": "stream",
     "text": [
      "2270it [00:21, 107.60it/s]"
     ]
    },
    {
     "name": "stdout",
     "output_type": "stream",
     "text": [
      "Invalid lobby type: 4\n"
     ]
    },
    {
     "name": "stderr",
     "output_type": "stream",
     "text": [
      "2359it [00:22, 107.83it/s]"
     ]
    },
    {
     "name": "stdout",
     "output_type": "stream",
     "text": [
      "Invalid lobby type: 1\n"
     ]
    },
    {
     "name": "stderr",
     "output_type": "stream",
     "text": [
      "2393it [00:22, 108.46it/s]"
     ]
    },
    {
     "name": "stdout",
     "output_type": "stream",
     "text": [
      "Invalid lobby type: 4\n"
     ]
    },
    {
     "name": "stderr",
     "output_type": "stream",
     "text": [
      "2439it [00:22, 109.58it/s]"
     ]
    },
    {
     "name": "stdout",
     "output_type": "stream",
     "text": [
      "Invalid duration: 1166\n",
      "Invalid lobby type: 4\n"
     ]
    },
    {
     "name": "stderr",
     "output_type": "stream",
     "text": [
      "2484it [00:23, 108.10it/s]"
     ]
    },
    {
     "name": "stdout",
     "output_type": "stream",
     "text": [
      "Invalid lobby type: 4\n"
     ]
    },
    {
     "name": "stderr",
     "output_type": "stream",
     "text": [
      "2594it [00:24, 98.57it/s] "
     ]
    },
    {
     "name": "stdout",
     "output_type": "stream",
     "text": [
      "Invalid duration: 1165\n"
     ]
    },
    {
     "name": "stderr",
     "output_type": "stream",
     "text": [
      "2678it [00:25, 105.90it/s]"
     ]
    },
    {
     "name": "stdout",
     "output_type": "stream",
     "text": [
      "Invalid duration: 1153\n",
      "Invalid duration: 1152\n"
     ]
    },
    {
     "name": "stderr",
     "output_type": "stream",
     "text": [
      "2867it [00:27, 109.91it/s]"
     ]
    },
    {
     "name": "stdout",
     "output_type": "stream",
     "text": [
      "Invalid lobby type: 4\n",
      "Invalid lobby type: 4\n"
     ]
    },
    {
     "name": "stderr",
     "output_type": "stream",
     "text": [
      "2926it [00:27, 105.65it/s]\n"
     ]
    },
    {
     "ename": "KeyboardInterrupt",
     "evalue": "",
     "output_type": "error",
     "traceback": [
      "\u001b[0;31m---------------------------------------------------------------------------\u001b[0m",
      "\u001b[0;31mKeyboardInterrupt\u001b[0m                         Traceback (most recent call last)",
      "\u001b[0;32m<ipython-input-115-22906945c2e8>\u001b[0m in \u001b[0;36m<module>\u001b[0;34m\u001b[0m\n\u001b[1;32m     54\u001b[0m         \u001b[0minvalid_index\u001b[0m \u001b[0;34m=\u001b[0m \u001b[0;32mFalse\u001b[0m\u001b[0;34m\u001b[0m\u001b[0;34m\u001b[0m\u001b[0m\n\u001b[1;32m     55\u001b[0m \u001b[0;34m\u001b[0m\u001b[0m\n\u001b[0;32m---> 56\u001b[0;31m         \u001b[0moptimal_positions\u001b[0m \u001b[0;34m=\u001b[0m \u001b[0mpo\u001b[0m\u001b[0;34m.\u001b[0m\u001b[0mfind_optimal_roles\u001b[0m\u001b[0;34m(\u001b[0m\u001b[0mmatch\u001b[0m\u001b[0;34m)\u001b[0m\u001b[0;34m\u001b[0m\u001b[0;34m\u001b[0m\u001b[0m\n\u001b[0m\u001b[1;32m     57\u001b[0m         \u001b[0;31m# pprint(optimal_positions)\u001b[0m\u001b[0;34m\u001b[0m\u001b[0;34m\u001b[0m\u001b[0;34m\u001b[0m\u001b[0m\n\u001b[1;32m     58\u001b[0m         \u001b[0;32mfor\u001b[0m \u001b[0mi\u001b[0m\u001b[0;34m,\u001b[0m \u001b[0mh\u001b[0m \u001b[0;32min\u001b[0m \u001b[0menumerate\u001b[0m\u001b[0;34m(\u001b[0m\u001b[0mpo\u001b[0m\u001b[0;34m.\u001b[0m\u001b[0mhero_data\u001b[0m\u001b[0;34m)\u001b[0m\u001b[0;34m:\u001b[0m\u001b[0;34m\u001b[0m\u001b[0;34m\u001b[0m\u001b[0m\n",
      "\u001b[0;32m<ipython-input-96-80754cbaa6bf>\u001b[0m in \u001b[0;36mfind_optimal_roles\u001b[0;34m(self, match)\u001b[0m\n\u001b[1;32m     65\u001b[0m             \u001b[0;31m# Optimal\u001b[0m\u001b[0;34m\u001b[0m\u001b[0;34m\u001b[0m\u001b[0;34m\u001b[0m\u001b[0m\n\u001b[1;32m     66\u001b[0m             \u001b[0;32mfor\u001b[0m \u001b[0mcomp\u001b[0m \u001b[0;32min\u001b[0m \u001b[0mpermutations\u001b[0m\u001b[0;34m(\u001b[0m\u001b[0mrange\u001b[0m\u001b[0;34m(\u001b[0m\u001b[0;36m5\u001b[0m\u001b[0;34m)\u001b[0m\u001b[0;34m,\u001b[0m \u001b[0;36m5\u001b[0m\u001b[0;34m)\u001b[0m\u001b[0;34m:\u001b[0m\u001b[0;34m\u001b[0m\u001b[0;34m\u001b[0m\u001b[0m\n\u001b[0;32m---> 67\u001b[0;31m                 \u001b[0mcomp_with_heroid\u001b[0m \u001b[0;34m=\u001b[0m \u001b[0;34m[\u001b[0m\u001b[0;34m(\u001b[0m\u001b[0mcomp\u001b[0m\u001b[0;34m[\u001b[0m\u001b[0mi\u001b[0m\u001b[0;34m]\u001b[0m\u001b[0;34m,\u001b[0m \u001b[0mhid\u001b[0m\u001b[0;34m,\u001b[0m \u001b[0mself\u001b[0m\u001b[0;34m.\u001b[0m\u001b[0mhid_to_name\u001b[0m\u001b[0;34m[\u001b[0m\u001b[0mhid\u001b[0m\u001b[0;34m]\u001b[0m\u001b[0;34m,\u001b[0m \u001b[0mround\u001b[0m\u001b[0;34m(\u001b[0m\u001b[0mteam_position_proba\u001b[0m\u001b[0;34m[\u001b[0m\u001b[0mhid\u001b[0m\u001b[0;34m]\u001b[0m\u001b[0;34m[\u001b[0m\u001b[0mcomp\u001b[0m\u001b[0;34m[\u001b[0m\u001b[0mi\u001b[0m\u001b[0;34m]\u001b[0m\u001b[0;34m]\u001b[0m\u001b[0;34m,\u001b[0m \u001b[0;36m2\u001b[0m\u001b[0;34m)\u001b[0m\u001b[0;34m)\u001b[0m \u001b[0;32mfor\u001b[0m \u001b[0mi\u001b[0m\u001b[0;34m,\u001b[0m \u001b[0mhid\u001b[0m \u001b[0;32min\u001b[0m \u001b[0menumerate\u001b[0m\u001b[0;34m(\u001b[0m\u001b[0mhids\u001b[0m\u001b[0;34m)\u001b[0m\u001b[0;34m]\u001b[0m\u001b[0;34m\u001b[0m\u001b[0;34m\u001b[0m\u001b[0m\n\u001b[0m\u001b[1;32m     68\u001b[0m                 \u001b[0mcomp_with_heroid_dict\u001b[0m \u001b[0;34m=\u001b[0m \u001b[0;34m{\u001b[0m\u001b[0mc\u001b[0m\u001b[0;34m[\u001b[0m\u001b[0;36m1\u001b[0m\u001b[0;34m]\u001b[0m\u001b[0;34m:\u001b[0m \u001b[0;34m(\u001b[0m\u001b[0mc\u001b[0m\u001b[0;34m[\u001b[0m\u001b[0;36m0\u001b[0m\u001b[0;34m]\u001b[0m\u001b[0;34m,\u001b[0m \u001b[0mc\u001b[0m\u001b[0;34m[\u001b[0m\u001b[0;36m2\u001b[0m\u001b[0;34m]\u001b[0m\u001b[0;34m,\u001b[0m \u001b[0mc\u001b[0m\u001b[0;34m[\u001b[0m\u001b[0;36m3\u001b[0m\u001b[0;34m]\u001b[0m\u001b[0;34m)\u001b[0m \u001b[0;32mfor\u001b[0m \u001b[0mc\u001b[0m \u001b[0;32min\u001b[0m \u001b[0mcomp_with_heroid\u001b[0m\u001b[0;34m}\u001b[0m\u001b[0;34m\u001b[0m\u001b[0;34m\u001b[0m\u001b[0m\n\u001b[1;32m     69\u001b[0m \u001b[0;34m\u001b[0m\u001b[0m\n",
      "\u001b[0;32m<ipython-input-96-80754cbaa6bf>\u001b[0m in \u001b[0;36m<listcomp>\u001b[0;34m(.0)\u001b[0m\n\u001b[1;32m     65\u001b[0m             \u001b[0;31m# Optimal\u001b[0m\u001b[0;34m\u001b[0m\u001b[0;34m\u001b[0m\u001b[0;34m\u001b[0m\u001b[0m\n\u001b[1;32m     66\u001b[0m             \u001b[0;32mfor\u001b[0m \u001b[0mcomp\u001b[0m \u001b[0;32min\u001b[0m \u001b[0mpermutations\u001b[0m\u001b[0;34m(\u001b[0m\u001b[0mrange\u001b[0m\u001b[0;34m(\u001b[0m\u001b[0;36m5\u001b[0m\u001b[0;34m)\u001b[0m\u001b[0;34m,\u001b[0m \u001b[0;36m5\u001b[0m\u001b[0;34m)\u001b[0m\u001b[0;34m:\u001b[0m\u001b[0;34m\u001b[0m\u001b[0;34m\u001b[0m\u001b[0m\n\u001b[0;32m---> 67\u001b[0;31m                 \u001b[0mcomp_with_heroid\u001b[0m \u001b[0;34m=\u001b[0m \u001b[0;34m[\u001b[0m\u001b[0;34m(\u001b[0m\u001b[0mcomp\u001b[0m\u001b[0;34m[\u001b[0m\u001b[0mi\u001b[0m\u001b[0;34m]\u001b[0m\u001b[0;34m,\u001b[0m \u001b[0mhid\u001b[0m\u001b[0;34m,\u001b[0m \u001b[0mself\u001b[0m\u001b[0;34m.\u001b[0m\u001b[0mhid_to_name\u001b[0m\u001b[0;34m[\u001b[0m\u001b[0mhid\u001b[0m\u001b[0;34m]\u001b[0m\u001b[0;34m,\u001b[0m \u001b[0mround\u001b[0m\u001b[0;34m(\u001b[0m\u001b[0mteam_position_proba\u001b[0m\u001b[0;34m[\u001b[0m\u001b[0mhid\u001b[0m\u001b[0;34m]\u001b[0m\u001b[0;34m[\u001b[0m\u001b[0mcomp\u001b[0m\u001b[0;34m[\u001b[0m\u001b[0mi\u001b[0m\u001b[0;34m]\u001b[0m\u001b[0;34m]\u001b[0m\u001b[0;34m,\u001b[0m \u001b[0;36m2\u001b[0m\u001b[0;34m)\u001b[0m\u001b[0;34m)\u001b[0m \u001b[0;32mfor\u001b[0m \u001b[0mi\u001b[0m\u001b[0;34m,\u001b[0m \u001b[0mhid\u001b[0m \u001b[0;32min\u001b[0m \u001b[0menumerate\u001b[0m\u001b[0;34m(\u001b[0m\u001b[0mhids\u001b[0m\u001b[0;34m)\u001b[0m\u001b[0;34m]\u001b[0m\u001b[0;34m\u001b[0m\u001b[0;34m\u001b[0m\u001b[0m\n\u001b[0m\u001b[1;32m     68\u001b[0m                 \u001b[0mcomp_with_heroid_dict\u001b[0m \u001b[0;34m=\u001b[0m \u001b[0;34m{\u001b[0m\u001b[0mc\u001b[0m\u001b[0;34m[\u001b[0m\u001b[0;36m1\u001b[0m\u001b[0;34m]\u001b[0m\u001b[0;34m:\u001b[0m \u001b[0;34m(\u001b[0m\u001b[0mc\u001b[0m\u001b[0;34m[\u001b[0m\u001b[0;36m0\u001b[0m\u001b[0;34m]\u001b[0m\u001b[0;34m,\u001b[0m \u001b[0mc\u001b[0m\u001b[0;34m[\u001b[0m\u001b[0;36m2\u001b[0m\u001b[0;34m]\u001b[0m\u001b[0;34m,\u001b[0m \u001b[0mc\u001b[0m\u001b[0;34m[\u001b[0m\u001b[0;36m3\u001b[0m\u001b[0;34m]\u001b[0m\u001b[0;34m)\u001b[0m \u001b[0;32mfor\u001b[0m \u001b[0mc\u001b[0m \u001b[0;32min\u001b[0m \u001b[0mcomp_with_heroid\u001b[0m\u001b[0;34m}\u001b[0m\u001b[0;34m\u001b[0m\u001b[0;34m\u001b[0m\u001b[0m\n\u001b[1;32m     69\u001b[0m \u001b[0;34m\u001b[0m\u001b[0m\n",
      "\u001b[0;31mKeyboardInterrupt\u001b[0m: "
     ]
    }
   ],
   "source": [
    "import os\n",
    "import json\n",
    "import numpy as np\n",
    "import pickle\n",
    "import tqdm\n",
    "import gzip\n",
    "from scipy import sparse\n",
    "from collections import defaultdict\n",
    "from pprint import pprint\n",
    "from collections import Counter\n",
    "\n",
    "\n",
    "def is_valid_match(match):\n",
    "    if \"match_id\" not in match:\n",
    "        return False\n",
    "    if not match[\"lobby_type\"] in {0, 6, 7}:\n",
    "        # print(\"Invalid lobby type:\", match[\"lobby_type\"])\n",
    "        return False\n",
    "    if match[\"duration\"] < 60 * 20:\n",
    "        # print(\"Invalid duration:\", match[\"duration\"])\n",
    "        return False\n",
    "    if not match[\"game_mode\"] in {1, 2, 16, 22}:\n",
    "        # print(\"Invalid game mode:\", match[\"game_mode\"])\n",
    "        return False\n",
    "\n",
    "    return True\n",
    "\n",
    "\n",
    "results = []\n",
    "seen_matches = set()\n",
    "invalid = 0\n",
    "count = 0\n",
    "po = PositionOptimizer(\n",
    "    '../position_optimizer/data/clfs/logreg_clfs_all.pkl', '../data/heroes.json')\n",
    "\n",
    "training_data = []\n",
    "\n",
    "\n",
    "with gzip.open(\"../data/raw/dataset_batch1_900k.gz\", \"r\") as fp:\n",
    "    for line in tqdm.tqdm(fp):\n",
    "        match_array = np.zeros(shape=(121, 5))\n",
    "\n",
    "        match = json.loads(line)\n",
    "        # Check if match is valid\n",
    "        if not is_valid_match(match):\n",
    "            invalid += 1\n",
    "            continue\n",
    "\n",
    "        players = match[\"players\"]\n",
    "        t0 = [p for p in players if p[\"player_slot\"] < 128]\n",
    "        t1 = [p for p in players if p[\"player_slot\"] >= 128]\n",
    "        match_id = match[\"match_id\"]\n",
    "        # print(match_id)\n",
    "        invalid_index = False\n",
    "\n",
    "        optimal_positions = po.find_optimal_roles(match)\n",
    "        # pprint(optimal_positions)\n",
    "        for i, h in enumerate(po.hero_data):\n",
    "            participant_hero_lane = np.zeros(shape=(5))\n",
    "            for p in t0:\n",
    "                hid = p['hero_id']\n",
    "                pos = optimal_positions[0][hid][0]\n",
    "                if hid == h['id']:\n",
    "                    participant_hero_lane[pos] = 1\n",
    "                    match_array[i] = participant_hero_lane\n",
    "            for hero in t1:\n",
    "                hid = p['hero_id']\n",
    "                pos = optimal_positions[0][hid][0]\n",
    "                if hid == h['id']:\n",
    "                    participant_hero_lane[pos] = -1\n",
    "                    match_array[i] = participant_hero_lane\n",
    "        # print(match_array.shape)\n",
    "        training_data.append(np.concatenate(match_array))\n",
    "\n",
    "x = np.vstack(training_data)\n",
    "\n",
    "with open(\"../data/preprocessed/dataset_batch1_pos.npy\", \"wb\") as f:\n",
    "    np.save(f, x)\n",
    "\n",
    "\n",
    "print(x.shape)\n",
    "print(\"seen matches: {}, len samples: {}\".format(\n",
    "    len(seen_matches), len(results)))\n",
    "\n",
    "# with open(\"../data/preprocessed/test_dataset.npy\", \"wb\") as fp:\n",
    "#     np.save(fp, np.array(results, dtype=np.int8), allow_pickle=True)\n"
   ]
  },
  {
   "cell_type": "code",
   "execution_count": 110,
   "metadata": {},
   "outputs": [
    {
     "data": {
      "text/plain": [
       "array([0., 0., 0., 0., 0., 0., 0., 0., 0., 0., 0., 0., 0., 0., 0.])"
      ]
     },
     "execution_count": 110,
     "metadata": {},
     "output_type": "execute_result"
    }
   ],
   "source": [
    "\n",
    "x[0]\n"
   ]
  }
 ],
 "metadata": {
  "interpreter": {
   "hash": "76d279d9dda3f104956abaa709c4930fec7a5837133fea297357827d52b43a61"
  },
  "kernelspec": {
   "display_name": "Python 3.8.5 64-bit ('dota': conda)",
   "language": "python",
   "name": "python3"
  },
  "language_info": {
   "codemirror_mode": {
    "name": "ipython",
    "version": 3
   },
   "file_extension": ".py",
   "mimetype": "text/x-python",
   "name": "python",
   "nbconvert_exporter": "python",
   "pygments_lexer": "ipython3",
   "version": "3.8.5"
  },
  "orig_nbformat": 4
 },
 "nbformat": 4,
 "nbformat_minor": 2
}
