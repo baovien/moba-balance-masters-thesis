{
 "cells": [
  {
   "cell_type": "code",
   "execution_count": 6,
   "id": "abcc585d-0825-47e4-8aca-3f0966c5f645",
   "metadata": {},
   "outputs": [
    {
     "data": {
      "text/plain": [
       "'/home/bao/dota-drafter'"
      ]
     },
     "execution_count": 6,
     "metadata": {},
     "output_type": "execute_result"
    }
   ],
   "source": [
    "import os \n",
    "os.getcwd()"
   ]
  },
  {
   "cell_type": "code",
   "execution_count": 7,
   "id": "ded4e0d2-53e7-44b6-80d0-5c81982d535f",
   "metadata": {},
   "outputs": [],
   "source": [
    "from sklearn.linear_model import LogisticRegression\n",
    "from sklearn.model_selection import train_test_split\n",
    "import numpy as np\n",
    "\n"
   ]
  },
  {
   "cell_type": "code",
   "execution_count": 9,
   "id": "12c8cec8-f429-4cd7-bfe9-2f4ba2c3c57d",
   "metadata": {},
   "outputs": [
    {
     "name": "stdout",
     "output_type": "stream",
     "text": [
      "(898617, 605)\n",
      "X: (898617, 605), y: (898617,)\n",
      "x_train: (602073, 605), x_test: (296544, 605), y_train: (602073,), y_test: (296544,)\n"
     ]
    },
    {
     "name": "stderr",
     "output_type": "stream",
     "text": [
      "[Parallel(n_jobs=1)]: Using backend SequentialBackend with 1 concurrent workers.\n"
     ]
    },
    {
     "name": "stdout",
     "output_type": "stream",
     "text": [
      "RUNNING THE L-BFGS-B CODE\n",
      "\n",
      "           * * *\n",
      "\n",
      "Machine precision = 2.220D-16\n",
      " N =          606     M =           10\n",
      "\n",
      "At X0         0 variables are exactly at the bounds\n",
      "\n",
      "At iterate    0    f=  4.17325D+05    |proj g|=  1.31915D+04\n"
     ]
    },
    {
     "name": "stderr",
     "output_type": "stream",
     "text": [
      " This problem is unconstrained.\n"
     ]
    },
    {
     "name": "stdout",
     "output_type": "stream",
     "text": [
      "\n",
      "At iterate   50    f=  4.14824D+05    |proj g|=  4.63233D+01\n",
      "\n",
      "At iterate  100    f=  4.14809D+05    |proj g|=  1.11279D+01\n",
      "\n",
      "At iterate  150    f=  4.14808D+05    |proj g|=  2.79784D+00\n",
      "\n",
      "At iterate  200    f=  4.14807D+05    |proj g|=  1.53100D+00\n",
      "\n",
      "           * * *\n",
      "\n",
      "Tit   = total number of iterations\n",
      "Tnf   = total number of function evaluations\n",
      "Tnint = total number of segments explored during Cauchy searches\n",
      "Skip  = number of BFGS updates skipped\n",
      "Nact  = number of active bounds at final generalized Cauchy point\n",
      "Projg = norm of the final projected gradient\n",
      "F     = final function value\n",
      "\n",
      "           * * *\n",
      "\n",
      "   N    Tit     Tnf  Tnint  Skip  Nact     Projg        F\n",
      "  606    205    236      1     0     0   1.344D+00   4.148D+05\n",
      "  F =   414807.30422742182     \n",
      "\n",
      "CONVERGENCE: REL_REDUCTION_OF_F_<=_FACTR*EPSMCH             \n"
     ]
    },
    {
     "name": "stderr",
     "output_type": "stream",
     "text": [
      "[Parallel(n_jobs=1)]: Done   1 out of   1 | elapsed:   45.2s finished\n"
     ]
    },
    {
     "name": "stdout",
     "output_type": "stream",
     "text": [
      "0.5340253048451494\n"
     ]
    }
   ],
   "source": [
    "matches = np.load(\"data/dataset_batch1_pos.npy\")\n",
    "winners = np.load(\"data/dataset_batch1_pos_winner.npy\")\n",
    "\n",
    "print(matches.shape)\n",
    "\n",
    "X = matches\n",
    "y = winners\n",
    "print(\"X: {}, y: {}\".format(X.shape, y.shape))\n",
    "\n",
    "\n",
    "x_train, x_test, y_train, y_test = train_test_split(X, y, test_size=0.33, random_state=42, stratify=y)\n",
    "print(\"x_train: {}, x_test: {}, y_train: {}, y_test: {}\".format(x_train.shape, x_test.shape, y_train.shape, y_test.shape))\n",
    "\n",
    "clf = LogisticRegression(max_iter=300, verbose=True)\n",
    "clf.fit(x_train, y_train)\n",
    "print(clf.score(x_test, y_test))\n"
   ]
  },
  {
   "cell_type": "code",
   "execution_count": null,
   "id": "ecb5227b-f45b-4dcf-87c2-f4be31ba6afd",
   "metadata": {},
   "outputs": [],
   "source": []
  },
  {
   "cell_type": "code",
   "execution_count": null,
   "id": "9267bfe3-afb6-4180-91b5-b003c01450ed",
   "metadata": {},
   "outputs": [],
   "source": []
  }
 ],
 "metadata": {
  "kernelspec": {
   "display_name": "Python 3 (ipykernel)",
   "language": "python",
   "name": "python3"
  },
  "language_info": {
   "codemirror_mode": {
    "name": "ipython",
    "version": 3
   },
   "file_extension": ".py",
   "mimetype": "text/x-python",
   "name": "python",
   "nbconvert_exporter": "python",
   "pygments_lexer": "ipython3",
   "version": "3.8.12"
  }
 },
 "nbformat": 4,
 "nbformat_minor": 5
}
