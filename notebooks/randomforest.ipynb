{
 "cells": [
  {
   "cell_type": "code",
   "execution_count": 16,
   "id": "annual-gardening",
   "metadata": {},
   "outputs": [],
   "source": [
    "import numpy as np\n",
    "import shap\n",
    "import joblib\n",
    "from tqdm import tqdm\n",
    "\n",
    "\n",
    "from scipy.sparse import load_npz\n",
    "from sklearn.ensemble import RandomForestClassifier\n",
    "from sklearn.model_selection import train_test_split\n",
    "from sklearn.metrics import accuracy_score, confusion_matrix, roc_auc_score"
   ]
  },
  {
   "cell_type": "code",
   "execution_count": 17,
   "id": "handy-inspector",
   "metadata": {},
   "outputs": [],
   "source": [
    "x = load_npz(\"../data/ds4_hero_selection.npz\")\n",
    "y = np.load(\"../data/ds4_match_winner.npy\")\n",
    "\n",
    "x_train, x_test, y_train, y_test = train_test_split(x, y, shuffle=True, random_state=42, test_size=0.3)"
   ]
  },
  {
   "cell_type": "code",
   "execution_count": 13,
   "id": "capable-carry",
   "metadata": {},
   "outputs": [],
   "source": [
    "# clf = RandomForestClassifier(max_depth=5, random_state=42, n_estimators=1000)\n",
    "# %time clf.fit(x_train, y_train)\n",
    "clf = joblib.load(\"../models/rfclassifier_5depth_1000trees.joblib\")"
   ]
  },
  {
   "cell_type": "code",
   "execution_count": 4,
   "id": "floating-equality",
   "metadata": {},
   "outputs": [],
   "source": [
    "y_pred = clf.predict(x_test)"
   ]
  },
  {
   "cell_type": "code",
   "execution_count": 5,
   "id": "bright-prize",
   "metadata": {},
   "outputs": [
    {
     "data": {
      "text/plain": [
       "0.5768306314223384"
      ]
     },
     "execution_count": 5,
     "metadata": {},
     "output_type": "execute_result"
    }
   ],
   "source": [
    "accuracy_score(y_test, y_pred)"
   ]
  },
  {
   "cell_type": "code",
   "execution_count": 18,
   "id": "foster-audience",
   "metadata": {},
   "outputs": [],
   "source": [
    "def transform_match(match):\n",
    "    features = np.array([dt.predict(x)for dt in clf.estimators_])\n",
    "    return features "
   ]
  },
  {
   "cell_type": "code",
   "execution_count": null,
   "id": "million-colonial",
   "metadata": {},
   "outputs": [],
   "source": [
    "transform_match(x_test[69])"
   ]
  },
  {
   "cell_type": "code",
   "execution_count": null,
   "id": "distributed-seminar",
   "metadata": {},
   "outputs": [],
   "source": [
    "clf.predict(x_test[1]) #use bayesian inference?"
   ]
  }
 ],
 "metadata": {
  "kernelspec": {
   "display_name": "Python 3",
   "language": "python",
   "name": "python3"
  },
  "language_info": {
   "codemirror_mode": {
    "name": "ipython",
    "version": 3
   },
   "file_extension": ".py",
   "mimetype": "text/x-python",
   "name": "python",
   "nbconvert_exporter": "python",
   "pygments_lexer": "ipython3",
   "version": "3.8.5"
  }
 },
 "nbformat": 4,
 "nbformat_minor": 5
}
