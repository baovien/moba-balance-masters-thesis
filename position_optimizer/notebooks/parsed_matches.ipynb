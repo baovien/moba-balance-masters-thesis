{
 "cells": [
  {
   "cell_type": "code",
   "execution_count": 8,
   "metadata": {},
   "outputs": [],
   "source": [
    "import json"
   ]
  },
  {
   "cell_type": "code",
   "execution_count": 7,
   "metadata": {},
   "outputs": [
    {
     "name": "stdout",
     "output_type": "stream",
     "text": [
      "4385\n"
     ]
    }
   ],
   "source": [
    "with open(\"../data/parsed_matches.json\", \"r\") as f:\n",
    "    all_data = f.readlines()\n",
    "    print(len(all_data)) \n",
    "    # for l in all_data:\n",
    "    #     match = json.loads(l)\n",
    "        \n"
   ]
  },
  {
   "cell_type": "code",
   "execution_count": null,
   "metadata": {},
   "outputs": [],
   "source": []
  }
 ],
 "metadata": {
  "interpreter": {
   "hash": "9795b5b0f359c9a3e41b413a20d82be0b706bb1e3ab3cb76e6b985ca6d9563dc"
  },
  "kernelspec": {
   "display_name": "Python 3.8.8 64-bit ('dota': conda)",
   "name": "python3"
  },
  "language_info": {
   "codemirror_mode": {
    "name": "ipython",
    "version": 3
   },
   "file_extension": ".py",
   "mimetype": "text/x-python",
   "name": "python",
   "nbconvert_exporter": "python",
   "pygments_lexer": "ipython3",
   "version": "3.8.8"
  }
 },
 "nbformat": 4,
 "nbformat_minor": 4
}
