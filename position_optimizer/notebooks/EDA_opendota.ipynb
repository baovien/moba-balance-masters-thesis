{
 "cells": [
  {
   "cell_type": "code",
   "execution_count": 1,
   "metadata": {},
   "outputs": [],
   "source": [
    "import pandas as pd\n",
    "import os\n",
    "import json\n",
    "import numpy as np\n",
    "import pickle \n",
    "import tqdm\n",
    "import tarfile\n",
    "from scipy import sparse\n",
    "from collections import defaultdict\n",
    "from pprint import pprint\n",
    "from collections import Counter\n",
    "# read ../data/opendota_parsed_matches.tar.gz\n",
    "zfp = tarfile.open(\"../data/opendota_parsed_matches.tar.gz\", 'r:gz')\n",
    "all_filenames = zfp.getnames()\n",
    "filenames = all_filenames[1:]"
   ]
  },
  {
   "cell_type": "code",
   "execution_count": 6,
   "metadata": {},
   "outputs": [
    {
     "name": "stderr",
     "output_type": "stream",
     "text": [
      " 51%|█████     | 25459/50000 [06:10<07:45, 52.77it/s]"
     ]
    }
   ],
   "source": [
    "def is_valid_match(match):\n",
    "    if not match[\"lobby_type\"] in {0, 5, 6, 7}:\n",
    "        return False\n",
    "    if match[\"duration\"] < 60 * 20:\n",
    "        return False\n",
    "    if not match[\"game_mode\"] in {1, 2, 16, 22}:\n",
    "        return False\n",
    "\n",
    "    return True\n",
    "all_matches = []\n",
    "for fname in tqdm.tqdm(filenames):\n",
    "    fp = zfp.extractfile(fname)\n",
    "    fp.seek(0)\n",
    "    match = pickle.loads(fp.read())\n",
    "    if not is_valid_match(match):\n",
    "        continue\n",
    "    all_matches.append((match[\"players\"], match[\"radiant_win\"]))\n"
   ]
  },
  {
   "cell_type": "code",
   "execution_count": null,
   "metadata": {},
   "outputs": [],
   "source": [
    "with open(\"../data/opendota_as_records.json\", \"w\") as fp:\n",
    "    json.dump(all_matches, fp)\n",
    "\n"
   ]
  }
 ],
 "metadata": {
  "interpreter": {
   "hash": "76d279d9dda3f104956abaa709c4930fec7a5837133fea297357827d52b43a61"
  },
  "kernelspec": {
   "display_name": "Python 3.8.8 64-bit ('dota': conda)",
   "language": "python",
   "name": "python3"
  },
  "language_info": {
   "codemirror_mode": {
    "name": "ipython",
    "version": 3
   },
   "file_extension": ".py",
   "mimetype": "text/x-python",
   "name": "python",
   "nbconvert_exporter": "python",
   "pygments_lexer": "ipython3",
   "version": "3.8.8"
  },
  "orig_nbformat": 4
 },
 "nbformat": 4,
 "nbformat_minor": 2
}
