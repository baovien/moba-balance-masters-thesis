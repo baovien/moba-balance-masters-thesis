{
 "cells": [
  {
   "cell_type": "markdown",
   "metadata": {},
   "source": [
    "Todo: \n",
    "\n",
    "* Classifier per hero * role"
   ]
  },
  {
   "cell_type": "code",
   "execution_count": 15,
   "metadata": {},
   "outputs": [],
   "source": [
    "import os\n",
    "import json\n",
    "import numpy as np\n",
    "import pickle \n",
    "import tqdm\n",
    "import tarfile\n",
    "from scipy import sparse\n",
    "from collections import defaultdict\n",
    "from pprint import pprint\n",
    "from collections import Counter"
   ]
  },
  {
   "cell_type": "code",
   "execution_count": 16,
   "metadata": {},
   "outputs": [],
   "source": [
    "# with tarfile.open(\"../data/parsed/opendota_parsed_matches.tar.gz\", 'r:gz') as zfp:\n",
    "#     for filename in zfp.getnames():\n",
    "#         match = pickle.load(zfp.extractfile(filename))\n",
    "#         print(match)\n",
    "#         break\n",
    "\n",
    "zfp = tarfile.open(\"../data/opendota_parsed_matches.tar.gz\", 'r:gz')\n",
    "all_filenames = zfp.getnames()\n",
    "filenames = all_filenames[1:]\n",
    "\n",
    "# fp = zfp.extractfile(filenames[0])\n",
    "# fp.seek(0)\n",
    "# match = pickle.loads(fp.read())"
   ]
  },
  {
   "cell_type": "code",
   "execution_count": 24,
   "metadata": {},
   "outputs": [
    {
     "name": "stderr",
     "output_type": "stream",
     "text": [
      "  1%|          | 489/50000 [00:03<06:24, 128.90it/s]"
     ]
    },
    {
     "name": "stdout",
     "output_type": "stream",
     "text": [
      "====================\n",
      "final roles:  {1: 86, 2: 14}\n",
      "defaultdict(<class 'list'>,\n",
      "            {1: [{'gpm': 727, 'hid': 86, 'wards': 3},\n",
      "                 {'gpm': 650, 'hid': 107, 'wards': 0}],\n",
      "             2: [{'gpm': 319, 'hid': 14, 'wards': 6},\n",
      "                 {'gpm': 283, 'hid': 54, 'wards': 10},\n",
      "                 {'gpm': 249, 'hid': 91, 'wards': 0}],\n",
      "             3: []})\n"
     ]
    },
    {
     "name": "stderr",
     "output_type": "stream",
     "text": [
      "  1%|▏         | 682/50000 [00:04<05:43, 143.61it/s]"
     ]
    },
    {
     "name": "stdout",
     "output_type": "stream",
     "text": [
      "====================\n",
      "final roles:  {2: 22, 3: 135}\n",
      "defaultdict(<class 'list'>,\n",
      "            {1: [],\n",
      "             2: [{'gpm': 621, 'hid': 22, 'wards': 1},\n",
      "                 {'gpm': 143, 'hid': 109, 'wards': 0},\n",
      "                 {'gpm': 194, 'hid': 129, 'wards': 0},\n",
      "                 {'gpm': 188, 'hid': 55, 'wards': 1}],\n",
      "             3: [{'gpm': 624, 'hid': 135, 'wards': 2}]})\n"
     ]
    },
    {
     "name": "stderr",
     "output_type": "stream",
     "text": [
      "  2%|▏         | 769/50000 [00:05<06:03, 135.37it/s]"
     ]
    },
    {
     "name": "stdout",
     "output_type": "stream",
     "text": [
      "====================\n",
      "final roles:  {2: 126, 3: 70}\n",
      "defaultdict(<class 'list'>,\n",
      "            {1: [],\n",
      "             2: [{'gpm': 328, 'hid': 7, 'wards': 1},\n",
      "                 {'gpm': 690, 'hid': 126, 'wards': 4}],\n",
      "             3: [{'gpm': 515, 'hid': 70, 'wards': 0},\n",
      "                 {'gpm': 400, 'hid': 68, 'wards': 58}],\n",
      "             5: [{'gpm': 630, 'hid': 11, 'wards': 7}]})\n"
     ]
    },
    {
     "name": "stderr",
     "output_type": "stream",
     "text": [
      "  2%|▏         | 901/50000 [00:06<05:53, 138.86it/s]"
     ]
    },
    {
     "name": "stdout",
     "output_type": "stream",
     "text": [
      "====================\n",
      "final roles:  {1: 8, 2: 56}\n",
      "defaultdict(<class 'list'>,\n",
      "            {1: [{'gpm': 1345, 'hid': 8, 'wards': 0},\n",
      "                 {'gpm': 937, 'hid': 119, 'wards': 0}],\n",
      "             2: [{'gpm': 1552, 'hid': 56, 'wards': 7},\n",
      "                 {'gpm': 972, 'hid': 70, 'wards': 0}],\n",
      "             3: [],\n",
      "             4: [{'gpm': 1078, 'hid': 67, 'wards': 18}]})\n",
      "====================\n",
      "final roles:  {1: 114, 2: 34}\n",
      "defaultdict(<class 'list'>,\n",
      "            {1: [{'gpm': 923, 'hid': 114, 'wards': 0}],\n",
      "             2: [{'gpm': 116, 'hid': 50, 'wards': 1},\n",
      "                 {'gpm': 173, 'hid': 34, 'wards': 1},\n",
      "                 {'gpm': 135, 'hid': 108, 'wards': 0},\n",
      "                 {'gpm': 122, 'hid': 14, 'wards': 0}],\n",
      "             3: []})\n"
     ]
    },
    {
     "name": "stderr",
     "output_type": "stream",
     "text": [
      "  2%|▏         | 942/50000 [00:06<06:26, 126.78it/s]"
     ]
    },
    {
     "name": "stdout",
     "output_type": "stream",
     "text": [
      "====================\n",
      "final roles:  {2: 97, 3: 41}\n",
      "defaultdict(<class 'list'>,\n",
      "            {1: [],\n",
      "             2: [{'gpm': 716, 'hid': 97, 'wards': 7},\n",
      "                 {'gpm': 566, 'hid': 34, 'wards': 3},\n",
      "                 {'gpm': 561, 'hid': 71, 'wards': 4}],\n",
      "             3: [{'gpm': 365, 'hid': 90, 'wards': 29},\n",
      "                 {'gpm': 748, 'hid': 41, 'wards': 3}]})\n"
     ]
    },
    {
     "name": "stderr",
     "output_type": "stream",
     "text": [
      "  2%|▏         | 1130/50000 [00:08<06:54, 117.93it/s]"
     ]
    },
    {
     "name": "stdout",
     "output_type": "stream",
     "text": [
      "====================\n",
      "final roles:  {1: 84, 2: 74}\n",
      "defaultdict(<class 'list'>,\n",
      "            {1: [{'gpm': 493, 'hid': 97, 'wards': 0},\n",
      "                 {'gpm': 453, 'hid': 128, 'wards': 44},\n",
      "                 {'gpm': 563, 'hid': 84, 'wards': 0}],\n",
      "             2: [{'gpm': 717, 'hid': 74, 'wards': 4}],\n",
      "             3: [],\n",
      "             5: [{'gpm': 678, 'hid': 67, 'wards': 0}]})\n",
      "====================\n",
      "final roles:  {2: 93, 3: 70}\n",
      "defaultdict(<class 'list'>,\n",
      "            {1: [],\n",
      "             2: [{'gpm': 385, 'hid': 13, 'wards': 0},\n",
      "                 {'gpm': 1400, 'hid': 93, 'wards': 8},\n",
      "                 {'gpm': 660, 'hid': 89, 'wards': 0}],\n",
      "             3: [{'gpm': 529, 'hid': 70, 'wards': 0}],\n",
      "             5: [{'gpm': 900, 'hid': 54, 'wards': 0}]})\n"
     ]
    },
    {
     "name": "stderr",
     "output_type": "stream",
     "text": [
      "  3%|▎         | 1534/50000 [00:11<05:33, 145.32it/s]"
     ]
    },
    {
     "name": "stdout",
     "output_type": "stream",
     "text": [
      "====================\n",
      "final roles:  {2: 76, 3: 70}\n",
      "defaultdict(<class 'list'>,\n",
      "            {1: [],\n",
      "             2: [{'gpm': 278, 'hid': 104, 'wards': 0},\n",
      "                 {'gpm': 319, 'hid': 76, 'wards': 9},\n",
      "                 {'gpm': 205, 'hid': 20, 'wards': 9}],\n",
      "             3: [{'gpm': 252, 'hid': 128, 'wards': 20},\n",
      "                 {'gpm': 282, 'hid': 70, 'wards': 0}]})\n"
     ]
    },
    {
     "name": "stderr",
     "output_type": "stream",
     "text": [
      "  4%|▍         | 2009/50000 [00:14<05:46, 138.31it/s]"
     ]
    },
    {
     "name": "stdout",
     "output_type": "stream",
     "text": [
      "====================\n",
      "final roles:  {2: 47, 3: 34}\n",
      "defaultdict(<class 'list'>,\n",
      "            {1: [],\n",
      "             2: [{'gpm': 317, 'hid': 1, 'wards': 0},\n",
      "                 {'gpm': 494, 'hid': 47, 'wards': 2},\n",
      "                 {'gpm': 368, 'hid': 67, 'wards': 0},\n",
      "                 {'gpm': 396, 'hid': 16, 'wards': 0}],\n",
      "             3: [{'gpm': 461, 'hid': 34, 'wards': 0}]})\n",
      "====================\n",
      "final roles:  {2: 20, 3: 82}\n",
      "defaultdict(<class 'list'>,\n",
      "            {1: [],\n",
      "             2: [{'gpm': 261, 'hid': 29, 'wards': 0},\n",
      "                 {'gpm': 299, 'hid': 20, 'wards': 4}],\n",
      "             3: [{'gpm': 316, 'hid': 40, 'wards': 0},\n",
      "                 {'gpm': 174, 'hid': 54, 'wards': 0},\n",
      "                 {'gpm': 357, 'hid': 82, 'wards': 2}]})\n"
     ]
    },
    {
     "name": "stderr",
     "output_type": "stream",
     "text": [
      "  4%|▍         | 2099/50000 [00:15<05:33, 143.67it/s]"
     ]
    },
    {
     "name": "stdout",
     "output_type": "stream",
     "text": [
      "====================\n",
      "final roles:  {1: 93, 2: 11}\n",
      "defaultdict(<class 'list'>,\n",
      "            {1: [{'gpm': 1368, 'hid': 93, 'wards': 0}],\n",
      "             2: [{'gpm': 586, 'hid': 14, 'wards': 1},\n",
      "                 {'gpm': 778, 'hid': 23, 'wards': 0},\n",
      "                 {'gpm': 967, 'hid': 11, 'wards': 0},\n",
      "                 {'gpm': 504, 'hid': 119, 'wards': 1}],\n",
      "             3: []})\n",
      "====================\n",
      "final roles:  {1: 19, 2: 128}\n",
      "defaultdict(<class 'list'>,\n",
      "            {1: [{'gpm': 394, 'hid': 19, 'wards': 0}],\n",
      "             2: [{'gpm': 783, 'hid': 128, 'wards': 17},\n",
      "                 {'gpm': 412, 'hid': 25, 'wards': 0},\n",
      "                 {'gpm': 293, 'hid': 89, 'wards': 0},\n",
      "                 {'gpm': 375, 'hid': 126, 'wards': 0}],\n",
      "             3: []})\n"
     ]
    },
    {
     "name": "stderr",
     "output_type": "stream",
     "text": [
      "  4%|▍         | 2129/50000 [00:15<05:30, 144.72it/s]"
     ]
    },
    {
     "name": "stdout",
     "output_type": "stream",
     "text": [
      "====================\n",
      "final roles:  {1: 54, 2: 106}\n",
      "defaultdict(<class 'list'>,\n",
      "            {1: [{'gpm': 377, 'hid': 54, 'wards': 0}],\n",
      "             2: [{'gpm': 704, 'hid': 106, 'wards': 5},\n",
      "                 {'gpm': 338, 'hid': 11, 'wards': 0},\n",
      "                 {'gpm': 340, 'hid': 128, 'wards': 0}],\n",
      "             3: [],\n",
      "             5: [{'gpm': 617, 'hid': 44, 'wards': 1}]})\n"
     ]
    },
    {
     "name": "stderr",
     "output_type": "stream",
     "text": [
      "  5%|▍         | 2310/50000 [00:16<05:49, 136.29it/s]"
     ]
    },
    {
     "name": "stdout",
     "output_type": "stream",
     "text": [
      "====================\n",
      "final roles:  {1: 21, 2: 11}\n",
      "defaultdict(<class 'list'>,\n",
      "            {1: [{'gpm': 865, 'hid': 21, 'wards': 10},\n",
      "                 {'gpm': 600, 'hid': 100, 'wards': 44}],\n",
      "             2: [{'gpm': 1066, 'hid': 46, 'wards': 0},\n",
      "                 {'gpm': 1182, 'hid': 11, 'wards': 3}],\n",
      "             3: [],\n",
      "             5: [{'gpm': 550, 'hid': 54, 'wards': 0}]})\n"
     ]
    },
    {
     "name": "stderr",
     "output_type": "stream",
     "text": [
      "  5%|▌         | 2612/50000 [00:18<06:03, 130.51it/s]"
     ]
    },
    {
     "name": "stdout",
     "output_type": "stream",
     "text": [
      "====================\n",
      "final roles:  {1: 97, 2: 126}\n",
      "defaultdict(<class 'list'>,\n",
      "            {1: [{'gpm': 428, 'hid': 97, 'wards': 0},\n",
      "                 {'gpm': 248, 'hid': 74, 'wards': 2},\n",
      "                 {'gpm': 343, 'hid': 30, 'wards': 38}],\n",
      "             2: [{'gpm': 596, 'hid': 126, 'wards': 2}],\n",
      "             3: [],\n",
      "             5: [{'gpm': 947, 'hid': 109, 'wards': 1}]})\n"
     ]
    },
    {
     "name": "stderr",
     "output_type": "stream",
     "text": [
      "  6%|▌         | 3056/50000 [00:21<05:27, 143.37it/s]"
     ]
    },
    {
     "name": "stdout",
     "output_type": "stream",
     "text": [
      "====================\n",
      "final roles:  {1: 7, 2: 22}\n",
      "defaultdict(<class 'list'>,\n",
      "            {1: [{'gpm': 390, 'hid': 121, 'wards': 48},\n",
      "                 {'gpm': 369, 'hid': 105, 'wards': 15},\n",
      "                 {'gpm': 491, 'hid': 7, 'wards': 3}],\n",
      "             2: [{'gpm': 703, 'hid': 4, 'wards': 1},\n",
      "                 {'gpm': 712, 'hid': 22, 'wards': 1}],\n",
      "             3: []})\n"
     ]
    },
    {
     "name": "stderr",
     "output_type": "stream",
     "text": [
      "  6%|▋         | 3196/50000 [00:22<05:12, 149.85it/s]"
     ]
    },
    {
     "name": "stdout",
     "output_type": "stream",
     "text": [
      "====================\n",
      "final roles:  {1: 75, 2: 47}\n",
      "defaultdict(<class 'list'>,\n",
      "            {1: [{'gpm': 299, 'hid': 75, 'wards': 0}],\n",
      "             2: [{'gpm': 222, 'hid': 84, 'wards': 3},\n",
      "                 {'gpm': 417, 'hid': 47, 'wards': 2},\n",
      "                 {'gpm': 128, 'hid': 99, 'wards': 0},\n",
      "                 {'gpm': 176, 'hid': 18, 'wards': 0}],\n",
      "             3: []})\n"
     ]
    },
    {
     "name": "stderr",
     "output_type": "stream",
     "text": [
      "  7%|▋         | 3291/50000 [00:23<05:24, 144.15it/s]"
     ]
    },
    {
     "name": "stdout",
     "output_type": "stream",
     "text": [
      "====================\n",
      "final roles:  {1: 35, 2: 21}\n",
      "defaultdict(<class 'list'>,\n",
      "            {1: [{'gpm': 1301, 'hid': 35, 'wards': 1},\n",
      "                 {'gpm': 815, 'hid': 110, 'wards': 1}],\n",
      "             2: [{'gpm': 243, 'hid': 84, 'wards': 0},\n",
      "                 {'gpm': 458, 'hid': 98, 'wards': 2},\n",
      "                 {'gpm': 502, 'hid': 21, 'wards': 1}],\n",
      "             3: []})\n",
      "====================\n",
      "final roles:  {1: 97, 2: 22}\n",
      "defaultdict(<class 'list'>,\n",
      "            {1: [{'gpm': 373, 'hid': 97, 'wards': 0}],\n",
      "             2: [{'gpm': 771, 'hid': 22, 'wards': 0},\n",
      "                 {'gpm': 444, 'hid': 19, 'wards': 1},\n",
      "                 {'gpm': 369, 'hid': 77, 'wards': 0},\n",
      "                 {'gpm': 287, 'hid': 128, 'wards': 0}],\n",
      "             3: []})\n",
      "====================\n",
      "final roles:  {2: 8, 3: 74}\n",
      "defaultdict(<class 'list'>,\n",
      "            {1: [],\n",
      "             2: [{'gpm': 163, 'hid': 70, 'wards': 0},\n",
      "                 {'gpm': 164, 'hid': 10, 'wards': 0},\n",
      "                 {'gpm': 175, 'hid': 8, 'wards': 0}],\n",
      "             3: [{'gpm': 1168, 'hid': 74, 'wards': 3},\n",
      "                 {'gpm': 919, 'hid': 33, 'wards': 0}]})\n"
     ]
    },
    {
     "name": "stderr",
     "output_type": "stream",
     "text": [
      "  7%|▋         | 3474/50000 [00:24<05:35, 138.49it/s]"
     ]
    },
    {
     "name": "stdout",
     "output_type": "stream",
     "text": [
      "====================\n",
      "final roles:  {2: 64, 3: 36}\n",
      "defaultdict(<class 'list'>,\n",
      "            {1: [],\n",
      "             2: [{'gpm': 1271, 'hid': 64, 'wards': 2}],\n",
      "             3: [{'gpm': 1020, 'hid': 36, 'wards': 0},\n",
      "                 {'gpm': 758, 'hid': 14, 'wards': 8},\n",
      "                 {'gpm': 854, 'hid': 87, 'wards': 6}],\n",
      "             5: [{'gpm': 1071, 'hid': 8, 'wards': 7}]})\n"
     ]
    },
    {
     "name": "stderr",
     "output_type": "stream",
     "text": [
      "  7%|▋         | 3647/50000 [00:25<05:08, 150.47it/s]"
     ]
    },
    {
     "name": "stdout",
     "output_type": "stream",
     "text": [
      "====================\n",
      "final roles:  {1: 94, 2: 62}\n",
      "defaultdict(<class 'list'>,\n",
      "            {1: [{'gpm': 495, 'hid': 94, 'wards': 8},\n",
      "                 {'gpm': 464, 'hid': 47, 'wards': 0},\n",
      "                 {'gpm': 334, 'hid': 81, 'wards': 0}],\n",
      "             2: [{'gpm': 560, 'hid': 36, 'wards': 9},\n",
      "                 {'gpm': 570, 'hid': 62, 'wards': 20}],\n",
      "             3: []})\n"
     ]
    },
    {
     "name": "stderr",
     "output_type": "stream",
     "text": [
      "  8%|▊         | 3884/50000 [00:27<05:39, 135.83it/s]"
     ]
    },
    {
     "name": "stdout",
     "output_type": "stream",
     "text": [
      "====================\n",
      "final roles:  {1: 38, 2: 35}\n",
      "defaultdict(<class 'list'>,\n",
      "            {1: [{'gpm': 778, 'hid': 38, 'wards': 3},\n",
      "                 {'gpm': 777, 'hid': 14, 'wards': 0}],\n",
      "             2: [{'gpm': 725, 'hid': 35, 'wards': 25},\n",
      "                 {'gpm': 698, 'hid': 56, 'wards': 0},\n",
      "                 {'gpm': 391, 'hid': 5, 'wards': 4}],\n",
      "             3: []})\n"
     ]
    },
    {
     "name": "stderr",
     "output_type": "stream",
     "text": [
      "  8%|▊         | 4123/50000 [00:29<05:12, 146.71it/s]"
     ]
    },
    {
     "name": "stdout",
     "output_type": "stream",
     "text": [
      "====================\n",
      "final roles:  {1: 109, 2: 99}\n",
      "defaultdict(<class 'list'>,\n",
      "            {1: [{'gpm': 388, 'hid': 109, 'wards': 1},\n",
      "                 {'gpm': 348, 'hid': 126, 'wards': 0}],\n",
      "             2: [{'gpm': 439, 'hid': 99, 'wards': 0},\n",
      "                 {'gpm': 317, 'hid': 42, 'wards': 0}],\n",
      "             3: [],\n",
      "             4: [{'gpm': 294, 'hid': 8, 'wards': 15}]})\n"
     ]
    },
    {
     "name": "stderr",
     "output_type": "stream",
     "text": [
      "  8%|▊         | 4250/50000 [00:29<05:00, 152.04it/s]"
     ]
    },
    {
     "name": "stdout",
     "output_type": "stream",
     "text": [
      "====================\n",
      "final roles:  {2: 13, 3: 18}\n",
      "defaultdict(<class 'list'>,\n",
      "            {1: [],\n",
      "             2: [{'gpm': 398, 'hid': 13, 'wards': 5},\n",
      "                 {'gpm': 229, 'hid': 87, 'wards': 22}],\n",
      "             3: [{'gpm': 476, 'hid': 18, 'wards': 0},\n",
      "                 {'gpm': 281, 'hid': 75, 'wards': 22}],\n",
      "             5: [{'gpm': 403, 'hid': 60, 'wards': 0}]})\n"
     ]
    },
    {
     "name": "stderr",
     "output_type": "stream",
     "text": [
      "  9%|▉         | 4603/50000 [00:32<04:57, 152.43it/s]"
     ]
    },
    {
     "name": "stdout",
     "output_type": "stream",
     "text": [
      "====================\n",
      "final roles:  {1: 35, 2: 60}\n",
      "defaultdict(<class 'list'>,\n",
      "            {1: [{'gpm': 395, 'hid': 23, 'wards': 0},\n",
      "                 {'gpm': 644, 'hid': 35, 'wards': 0}],\n",
      "             2: [{'gpm': 263, 'hid': 51, 'wards': 2},\n",
      "                 {'gpm': 745, 'hid': 60, 'wards': 2},\n",
      "                 {'gpm': 687, 'hid': 63, 'wards': 0}],\n",
      "             3: []})\n",
      "====================\n",
      "final roles:  {1: 28, 2: 101}\n",
      "defaultdict(<class 'list'>,\n",
      "            {1: [{'gpm': 262, 'hid': 74, 'wards': 4},\n",
      "                 {'gpm': 526, 'hid': 28, 'wards': 0}],\n",
      "             2: [{'gpm': 469, 'hid': 12, 'wards': 3},\n",
      "                 {'gpm': 679, 'hid': 73, 'wards': 2},\n",
      "                 {'gpm': 728, 'hid': 101, 'wards': 3}],\n",
      "             3: []})\n"
     ]
    },
    {
     "name": "stderr",
     "output_type": "stream",
     "text": [
      "  9%|▉         | 4651/50000 [00:32<05:00, 150.98it/s]"
     ]
    },
    {
     "name": "stdout",
     "output_type": "stream",
     "text": [
      "====================\n",
      "final roles:  {2: 25, 3: 69}\n",
      "defaultdict(<class 'list'>,\n",
      "            {1: [],\n",
      "             2: [{'gpm': 132, 'hid': 25, 'wards': 0},\n",
      "                 {'gpm': 132, 'hid': 68, 'wards': 0},\n",
      "                 {'gpm': 132, 'hid': 42, 'wards': 0},\n",
      "                 {'gpm': 132, 'hid': 7, 'wards': 0}],\n",
      "             3: [{'gpm': 132, 'hid': 69, 'wards': 0}]})\n",
      "====================\n",
      "final roles:  {2: 100, 3: 51}\n",
      "defaultdict(<class 'list'>,\n",
      "            {1: [],\n",
      "             2: [{'gpm': 126, 'hid': 100, 'wards': 0},\n",
      "                 {'gpm': 126, 'hid': 43, 'wards': 0},\n",
      "                 {'gpm': 126, 'hid': 74, 'wards': 0}],\n",
      "             3: [{'gpm': 126, 'hid': 51, 'wards': 0},\n",
      "                 {'gpm': 126, 'hid': 48, 'wards': 0}]})\n"
     ]
    },
    {
     "name": "stderr",
     "output_type": "stream",
     "text": [
      " 10%|▉         | 4939/50000 [00:34<04:48, 156.44it/s]"
     ]
    },
    {
     "name": "stdout",
     "output_type": "stream",
     "text": [
      "====================\n",
      "final roles:  {2: 105, 3: 14}\n",
      "defaultdict(<class 'list'>,\n",
      "            {1: [],\n",
      "             2: [{'gpm': 592, 'hid': 34, 'wards': 7},\n",
      "                 {'gpm': 988, 'hid': 105, 'wards': 2},\n",
      "                 {'gpm': 499, 'hid': 19, 'wards': 5}],\n",
      "             3: [{'gpm': 638, 'hid': 114, 'wards': 0},\n",
      "                 {'gpm': 866, 'hid': 14, 'wards': 48}]})\n"
     ]
    },
    {
     "name": "stderr",
     "output_type": "stream",
     "text": [
      " 10%|█         | 5052/50000 [00:35<04:51, 154.08it/s]"
     ]
    },
    {
     "name": "stdout",
     "output_type": "stream",
     "text": [
      "====================\n",
      "final roles:  {2: 35, 3: 40}\n",
      "defaultdict(<class 'list'>,\n",
      "            {1: [],\n",
      "             2: [{'gpm': 233, 'hid': 1, 'wards': 11},\n",
      "                 {'gpm': 497, 'hid': 35, 'wards': 6}],\n",
      "             3: [{'gpm': 303, 'hid': 27, 'wards': 15},\n",
      "                 {'gpm': 345, 'hid': 40, 'wards': 9}],\n",
      "             4: [{'gpm': 206, 'hid': 81, 'wards': 0}]})\n"
     ]
    },
    {
     "name": "stderr",
     "output_type": "stream",
     "text": [
      " 11%|█         | 5260/50000 [00:36<04:48, 154.96it/s]"
     ]
    },
    {
     "name": "stdout",
     "output_type": "stream",
     "text": [
      "====================\n",
      "final roles:  {1: 40, 2: 7}\n",
      "defaultdict(<class 'list'>,\n",
      "            {1: [{'gpm': 286, 'hid': 15, 'wards': 1},\n",
      "                 {'gpm': 307, 'hid': 40, 'wards': 8}],\n",
      "             2: [{'gpm': 260, 'hid': 7, 'wards': 5}],\n",
      "             3: [],\n",
      "             4: [{'gpm': 255, 'hid': 97, 'wards': 1}],\n",
      "             5: [{'gpm': 331, 'hid': 19, 'wards': 27}]})\n"
     ]
    },
    {
     "name": "stderr",
     "output_type": "stream",
     "text": [
      " 11%|█         | 5388/50000 [00:37<05:04, 146.46it/s]"
     ]
    },
    {
     "name": "stdout",
     "output_type": "stream",
     "text": [
      "====================\n",
      "final roles:  {1: 19, 2: 47}\n",
      "defaultdict(<class 'list'>,\n",
      "            {1: [{'gpm': 1382, 'hid': 19, 'wards': 0},\n",
      "                 {'gpm': 922, 'hid': 30, 'wards': 0}],\n",
      "             2: [{'gpm': 737, 'hid': 33, 'wards': 23},\n",
      "                 {'gpm': 1188, 'hid': 47, 'wards': 2},\n",
      "                 {'gpm': 834, 'hid': 110, 'wards': 4}],\n",
      "             3: []})\n"
     ]
    },
    {
     "name": "stderr",
     "output_type": "stream",
     "text": [
      " 11%|█         | 5420/50000 [00:37<04:58, 149.56it/s]"
     ]
    },
    {
     "name": "stdout",
     "output_type": "stream",
     "text": [
      "====================\n",
      "final roles:  {1: 81, 3: 44}\n",
      "defaultdict(<class 'list'>,\n",
      "            {1: [{'gpm': 486, 'hid': 25, 'wards': 0},\n",
      "                 {'gpm': 511, 'hid': 81, 'wards': 0}],\n",
      "             2: [],\n",
      "             3: [{'gpm': 424, 'hid': 128, 'wards': 1},\n",
      "                 {'gpm': 895, 'hid': 44, 'wards': 0}],\n",
      "             5: [{'gpm': 374, 'hid': 83, 'wards': 58}]})\n"
     ]
    },
    {
     "name": "stderr",
     "output_type": "stream",
     "text": [
      " 11%|█         | 5500/50000 [00:38<04:46, 155.10it/s]"
     ]
    },
    {
     "name": "stdout",
     "output_type": "stream",
     "text": [
      "====================\n",
      "final roles:  {1: 67, 2: 35}\n",
      "defaultdict(<class 'list'>,\n",
      "            {1: [{'gpm': 172, 'hid': 5, 'wards': 2},\n",
      "                 {'gpm': 339, 'hid': 67, 'wards': 0}],\n",
      "             2: [{'gpm': 116, 'hid': 44, 'wards': 0},\n",
      "                 {'gpm': 694, 'hid': 35, 'wards': 5},\n",
      "                 {'gpm': 163, 'hid': 70, 'wards': 1}],\n",
      "             3: []})\n"
     ]
    },
    {
     "name": "stderr",
     "output_type": "stream",
     "text": [
      " 11%|█▏        | 5677/50000 [00:39<04:45, 155.29it/s]"
     ]
    },
    {
     "name": "stdout",
     "output_type": "stream",
     "text": [
      "====================\n",
      "final roles:  {2: 11, 3: 93}\n",
      "defaultdict(<class 'list'>,\n",
      "            {1: [],\n",
      "             2: [{'gpm': 743, 'hid': 106, 'wards': 0},\n",
      "                 {'gpm': 432, 'hid': 78, 'wards': 38},\n",
      "                 {'gpm': 561, 'hid': 28, 'wards': 4},\n",
      "                 {'gpm': 819, 'hid': 11, 'wards': 1}],\n",
      "             3: [{'gpm': 771, 'hid': 93, 'wards': 2}]})\n"
     ]
    },
    {
     "name": "stderr",
     "output_type": "stream",
     "text": [
      " 12%|█▏        | 5757/50000 [00:39<04:43, 156.17it/s]"
     ]
    },
    {
     "name": "stdout",
     "output_type": "stream",
     "text": [
      "====================\n",
      "final roles:  {1: 54, 2: 17}\n",
      "defaultdict(<class 'list'>,\n",
      "            {1: [{'gpm': 579, 'hid': 54, 'wards': 0},\n",
      "                 {'gpm': 430, 'hid': 68, 'wards': 7}],\n",
      "             2: [{'gpm': 469, 'hid': 104, 'wards': 40},\n",
      "                 {'gpm': 510, 'hid': 17, 'wards': 7}],\n",
      "             3: [],\n",
      "             4: [{'gpm': 651, 'hid': 33, 'wards': 4}]})\n"
     ]
    },
    {
     "name": "stderr",
     "output_type": "stream",
     "text": [
      " 12%|█▏        | 6098/50000 [00:42<04:46, 153.00it/s]"
     ]
    },
    {
     "name": "stdout",
     "output_type": "stream",
     "text": [
      "====================\n",
      "final roles:  {1: 105, 2: 44}\n",
      "defaultdict(<class 'list'>,\n",
      "            {1: [{'gpm': 685, 'hid': 105, 'wards': 24}],\n",
      "             2: [{'gpm': 835, 'hid': 86, 'wards': 12},\n",
      "                 {'gpm': 745, 'hid': 14, 'wards': 5},\n",
      "                 {'gpm': 850, 'hid': 106, 'wards': 0},\n",
      "                 {'gpm': 886, 'hid': 44, 'wards': 0}],\n",
      "             3: []})\n"
     ]
    },
    {
     "name": "stderr",
     "output_type": "stream",
     "text": [
      " 12%|█▏        | 6178/50000 [00:42<04:43, 154.38it/s]"
     ]
    },
    {
     "name": "stdout",
     "output_type": "stream",
     "text": [
      "====================\n",
      "final roles:  {2: 21, 3: 32}\n",
      "defaultdict(<class 'list'>,\n",
      "            {1: [],\n",
      "             2: [{'gpm': 1222, 'hid': 21, 'wards': 0},\n",
      "                 {'gpm': 994, 'hid': 14, 'wards': 0},\n",
      "                 {'gpm': 1175, 'hid': 105, 'wards': 4}],\n",
      "             3: [{'gpm': 1344, 'hid': 32, 'wards': 0},\n",
      "                 {'gpm': 663, 'hid': 5, 'wards': 40}]})\n"
     ]
    },
    {
     "name": "stderr",
     "output_type": "stream",
     "text": [
      " 12%|█▏        | 6210/50000 [00:42<04:42, 154.82it/s]"
     ]
    },
    {
     "name": "stdout",
     "output_type": "stream",
     "text": [
      "====================\n",
      "final roles:  {1: 59, 2: 61}\n",
      "defaultdict(<class 'list'>,\n",
      "            {1: [{'gpm': 570, 'hid': 59, 'wards': 0},\n",
      "                 {'gpm': 340, 'hid': 84, 'wards': 8}],\n",
      "             2: [{'gpm': 136, 'hid': 36, 'wards': 0},\n",
      "                 {'gpm': 411, 'hid': 68, 'wards': 1},\n",
      "                 {'gpm': 579, 'hid': 61, 'wards': 0}],\n",
      "             3: []})\n"
     ]
    },
    {
     "name": "stderr",
     "output_type": "stream",
     "text": [
      " 13%|█▎        | 6420/50000 [00:44<04:35, 158.25it/s]"
     ]
    },
    {
     "name": "stdout",
     "output_type": "stream",
     "text": [
      "====================\n",
      "final roles:  {2: 76, 3: 18}\n",
      "defaultdict(<class 'list'>,\n",
      "            {1: [],\n",
      "             2: [{'gpm': 592, 'hid': 76, 'wards': 1}],\n",
      "             3: [{'gpm': 361, 'hid': 26, 'wards': 3},\n",
      "                 {'gpm': 1154, 'hid': 18, 'wards': 0}],\n",
      "             5: [{'gpm': 552, 'hid': 68, 'wards': 12},\n",
      "                 {'gpm': 958, 'hid': 42, 'wards': 0}]})\n"
     ]
    },
    {
     "name": "stderr",
     "output_type": "stream",
     "text": [
      " 13%|█▎        | 6452/50000 [00:44<04:58, 145.70it/s]"
     ]
    },
    {
     "name": "stdout",
     "output_type": "stream",
     "text": [
      "====================\n",
      "final roles:  {2: 36, 3: 11}\n",
      "defaultdict(<class 'list'>,\n",
      "            {1: [],\n",
      "             2: [{'gpm': 153, 'hid': 6, 'wards': 0},\n",
      "                 {'gpm': 120, 'hid': 108, 'wards': 0},\n",
      "                 {'gpm': 159, 'hid': 36, 'wards': 0},\n",
      "                 {'gpm': 143, 'hid': 4, 'wards': 2}],\n",
      "             3: [{'gpm': 613, 'hid': 11, 'wards': 0}]})\n",
      "====================\n",
      "final roles:  {1: 105, 2: 44}\n",
      "defaultdict(<class 'list'>,\n",
      "            {1: [{'gpm': 685, 'hid': 105, 'wards': 24}],\n",
      "             2: [{'gpm': 835, 'hid': 86, 'wards': 12},\n",
      "                 {'gpm': 745, 'hid': 14, 'wards': 5},\n",
      "                 {'gpm': 850, 'hid': 106, 'wards': 0},\n",
      "                 {'gpm': 886, 'hid': 44, 'wards': 0}],\n",
      "             3: []})\n"
     ]
    },
    {
     "name": "stderr",
     "output_type": "stream",
     "text": [
      " 13%|█▎        | 6484/50000 [00:44<04:53, 148.51it/s]"
     ]
    },
    {
     "name": "stdout",
     "output_type": "stream",
     "text": [
      "====================\n",
      "final roles:  {1: 104, 2: 1}\n",
      "defaultdict(<class 'list'>,\n",
      "            {1: [{'gpm': 274, 'hid': 111, 'wards': 39},\n",
      "                 {'gpm': 297, 'hid': 64, 'wards': 0},\n",
      "                 {'gpm': 360, 'hid': 104, 'wards': 0}],\n",
      "             2: [{'gpm': 392, 'hid': 1, 'wards': 6}],\n",
      "             3: [],\n",
      "             5: [{'gpm': 380, 'hid': 10, 'wards': 0}]})\n",
      "====================\n",
      "final roles:  {2: 88, 3: 53}\n",
      "defaultdict(<class 'list'>,\n",
      "            {1: [],\n",
      "             2: [{'gpm': 1156, 'hid': 88, 'wards': 1}],\n",
      "             3: [{'gpm': 1111, 'hid': 53, 'wards': 6},\n",
      "                 {'gpm': 705, 'hid': 97, 'wards': 6},\n",
      "                 {'gpm': 859, 'hid': 36, 'wards': 38}],\n",
      "             5: [{'gpm': 1128, 'hid': 67, 'wards': 0}]})\n",
      "====================\n",
      "final roles:  {1: 42, 2: 21}\n",
      "defaultdict(<class 'list'>,\n",
      "            {1: [{'gpm': 258, 'hid': 42, 'wards': 0},\n",
      "                 {'gpm': 256, 'hid': 83, 'wards': 0}],\n",
      "             2: [{'gpm': 514, 'hid': 21, 'wards': 0},\n",
      "                 {'gpm': 272, 'hid': 74, 'wards': 4}],\n",
      "             3: [],\n",
      "             4: [{'gpm': 635, 'hid': 56, 'wards': 5}]})\n"
     ]
    },
    {
     "name": "stderr",
     "output_type": "stream",
     "text": [
      " 13%|█▎        | 6580/50000 [00:45<04:37, 156.46it/s]"
     ]
    },
    {
     "name": "stdout",
     "output_type": "stream",
     "text": [
      "====================\n",
      "final roles:  {1: 84, 2: 35}\n",
      "defaultdict(<class 'list'>,\n",
      "            {1: [{'gpm': 747, 'hid': 84, 'wards': 0}],\n",
      "             2: [{'gpm': 1982, 'hid': 35, 'wards': 1},\n",
      "                 {'gpm': 798, 'hid': 99, 'wards': 1},\n",
      "                 {'gpm': 1125, 'hid': 74, 'wards': 0}],\n",
      "             3: [],\n",
      "             4: [{'gpm': 421, 'hid': 33, 'wards': 1}]})\n"
     ]
    },
    {
     "name": "stderr",
     "output_type": "stream",
     "text": [
      " 14%|█▎        | 6865/50000 [00:47<04:29, 160.19it/s]"
     ]
    },
    {
     "name": "stdout",
     "output_type": "stream",
     "text": [
      "====================\n",
      "final roles:  {2: 71, 3: 100}\n",
      "defaultdict(<class 'list'>,\n",
      "            {1: [],\n",
      "             2: [{'gpm': 412, 'hid': 16, 'wards': 2},\n",
      "                 {'gpm': 299, 'hid': 30, 'wards': 0},\n",
      "                 {'gpm': 760, 'hid': 71, 'wards': 0},\n",
      "                 {'gpm': 297, 'hid': 54, 'wards': 2}],\n",
      "             3: [{'gpm': 464, 'hid': 100, 'wards': 0}]})\n",
      "====================\n",
      "final roles:  {2: 10, 3: 101}\n",
      "defaultdict(<class 'list'>,\n",
      "            {1: [],\n",
      "             2: [{'gpm': 557, 'hid': 60, 'wards': 2},\n",
      "                 {'gpm': 327, 'hid': 89, 'wards': 0},\n",
      "                 {'gpm': 1779, 'hid': 10, 'wards': 2}],\n",
      "             3: [{'gpm': 329, 'hid': 4, 'wards': 0},\n",
      "                 {'gpm': 363, 'hid': 101, 'wards': 1}]})\n"
     ]
    },
    {
     "name": "stderr",
     "output_type": "stream",
     "text": [
      " 14%|█▍        | 6998/50000 [00:48<04:29, 159.30it/s]"
     ]
    },
    {
     "name": "stdout",
     "output_type": "stream",
     "text": [
      "====================\n",
      "final roles:  {1: 70, 2: 34}\n",
      "defaultdict(<class 'list'>,\n",
      "            {1: [{'gpm': 390, 'hid': 40, 'wards': 62},\n",
      "                 {'gpm': 499, 'hid': 70, 'wards': 1}],\n",
      "             2: [{'gpm': 572, 'hid': 35, 'wards': 6},\n",
      "                 {'gpm': 610, 'hid': 34, 'wards': 3}],\n",
      "             3: [],\n",
      "             4: [{'gpm': 477, 'hid': 104, 'wards': 1}]})\n"
     ]
    },
    {
     "name": "stderr",
     "output_type": "stream",
     "text": [
      " 14%|█▍        | 7066/50000 [00:48<04:27, 160.39it/s]"
     ]
    },
    {
     "name": "stdout",
     "output_type": "stream",
     "text": [
      "====================\n",
      "final roles:  {2: 35, 3: 41}\n",
      "defaultdict(<class 'list'>,\n",
      "            {1: [],\n",
      "             2: [{'gpm': 613, 'hid': 61, 'wards': 0},\n",
      "                 {'gpm': 583, 'hid': 84, 'wards': 2},\n",
      "                 {'gpm': 733, 'hid': 35, 'wards': 2}],\n",
      "             3: [{'gpm': 662, 'hid': 41, 'wards': 0},\n",
      "                 {'gpm': 424, 'hid': 64, 'wards': 0}]})\n"
     ]
    },
    {
     "name": "stderr",
     "output_type": "stream",
     "text": [
      " 15%|█▌        | 7513/50000 [00:51<05:05, 139.11it/s]"
     ]
    },
    {
     "name": "stdout",
     "output_type": "stream",
     "text": [
      "====================\n",
      "final roles:  {1: 135, 2: 126}\n",
      "defaultdict(<class 'list'>,\n",
      "            {1: [{'gpm': 288, 'hid': 123, 'wards': 4},\n",
      "                 {'gpm': 440, 'hid': 135, 'wards': 16},\n",
      "                 {'gpm': 286, 'hid': 31, 'wards': 10}],\n",
      "             2: [{'gpm': 343, 'hid': 126, 'wards': 4}],\n",
      "             3: [],\n",
      "             5: [{'gpm': 544, 'hid': 18, 'wards': 4}]})\n",
      "====================\n",
      "final roles:  {2: 25, 3: 67}\n",
      "defaultdict(<class 'list'>,\n",
      "            {1: [],\n",
      "             2: [{'gpm': 490, 'hid': 25, 'wards': 3},\n",
      "                 {'gpm': 463, 'hid': 53, 'wards': 19}],\n",
      "             3: [{'gpm': 408, 'hid': 67, 'wards': 1},\n",
      "                 {'gpm': 273, 'hid': 87, 'wards': 12}],\n",
      "             5: [{'gpm': 400, 'hid': 2, 'wards': 2}]})\n"
     ]
    },
    {
     "name": "stderr",
     "output_type": "stream",
     "text": [
      " 15%|█▌        | 7562/50000 [00:51<04:47, 147.78it/s]"
     ]
    },
    {
     "name": "stdout",
     "output_type": "stream",
     "text": [
      "====================\n",
      "final roles:  {2: 48, 3: 129}\n",
      "defaultdict(<class 'list'>,\n",
      "            {1: [],\n",
      "             2: [{'gpm': 402, 'hid': 1, 'wards': 0},\n",
      "                 {'gpm': 170, 'hid': 112, 'wards': 4},\n",
      "                 {'gpm': 936, 'hid': 48, 'wards': 0}],\n",
      "             3: [{'gpm': 713, 'hid': 129, 'wards': 0},\n",
      "                 {'gpm': 583, 'hid': 86, 'wards': 74}]})\n"
     ]
    },
    {
     "name": "stderr",
     "output_type": "stream",
     "text": [
      " 15%|█▌        | 7644/50000 [00:52<04:33, 155.03it/s]"
     ]
    },
    {
     "name": "stdout",
     "output_type": "stream",
     "text": [
      "====================\n",
      "final roles:  {1: 93, 2: 76}\n",
      "defaultdict(<class 'list'>,\n",
      "            {1: [{'gpm': 509, 'hid': 50, 'wards': 17},\n",
      "                 {'gpm': 1485, 'hid': 93, 'wards': 3}],\n",
      "             2: [{'gpm': 990, 'hid': 76, 'wards': 4},\n",
      "                 {'gpm': 505, 'hid': 121, 'wards': 13},\n",
      "                 {'gpm': 564, 'hid': 88, 'wards': 0}],\n",
      "             3: []})\n"
     ]
    },
    {
     "name": "stderr",
     "output_type": "stream",
     "text": [
      " 16%|█▌        | 7791/50000 [00:53<04:34, 153.54it/s]"
     ]
    },
    {
     "name": "stdout",
     "output_type": "stream",
     "text": [
      "====================\n",
      "final roles:  {2: 74, 3: 41}\n",
      "defaultdict(<class 'list'>,\n",
      "            {1: [],\n",
      "             2: [{'gpm': 834, 'hid': 74, 'wards': 6},\n",
      "                 {'gpm': 180, 'hid': 60, 'wards': 0},\n",
      "                 {'gpm': 403, 'hid': 14, 'wards': 9}],\n",
      "             3: [{'gpm': 705, 'hid': 41, 'wards': 0},\n",
      "                 {'gpm': 624, 'hid': 27, 'wards': 79}]})\n"
     ]
    },
    {
     "name": "stderr",
     "output_type": "stream",
     "text": [
      " 17%|█▋        | 8310/50000 [00:56<04:26, 156.25it/s]"
     ]
    },
    {
     "name": "stdout",
     "output_type": "stream",
     "text": [
      "====================\n",
      "final roles:  {1: 14, 2: 56}\n",
      "defaultdict(<class 'list'>,\n",
      "            {1: [{'gpm': 302, 'hid': 64, 'wards': 43},\n",
      "                 {'gpm': 371, 'hid': 14, 'wards': 1},\n",
      "                 {'gpm': 326, 'hid': 49, 'wards': 1}],\n",
      "             2: [{'gpm': 706, 'hid': 56, 'wards': 5}],\n",
      "             3: [],\n",
      "             5: [{'gpm': 533, 'hid': 18, 'wards': 2}]})\n"
     ]
    },
    {
     "name": "stderr",
     "output_type": "stream",
     "text": [
      " 17%|█▋        | 8548/50000 [00:58<04:59, 138.52it/s]"
     ]
    },
    {
     "name": "stdout",
     "output_type": "stream",
     "text": [
      "====================\n",
      "final roles:  {1: 44, 3: 71}\n",
      "defaultdict(<class 'list'>,\n",
      "            {1: [{'gpm': 507, 'hid': 44, 'wards': 10},\n",
      "                 {'gpm': 453, 'hid': 56, 'wards': 0},\n",
      "                 {'gpm': 384, 'hid': 60, 'wards': 0}],\n",
      "             2: [],\n",
      "             3: [{'gpm': 443, 'hid': 71, 'wards': 0},\n",
      "                 {'gpm': 322, 'hid': 51, 'wards': 0}]})\n"
     ]
    },
    {
     "name": "stderr",
     "output_type": "stream",
     "text": [
      " 17%|█▋        | 8640/50000 [00:58<04:57, 139.02it/s]"
     ]
    },
    {
     "name": "stdout",
     "output_type": "stream",
     "text": [
      "====================\n",
      "final roles:  {1: 2, 2: 104}\n",
      "defaultdict(<class 'list'>,\n",
      "            {1: [{'gpm': 1067, 'hid': 2, 'wards': 3},\n",
      "                 {'gpm': 834, 'hid': 108, 'wards': 21},\n",
      "                 {'gpm': 708, 'hid': 14, 'wards': 14}],\n",
      "             2: [{'gpm': 1224, 'hid': 104, 'wards': 1}],\n",
      "             3: [],\n",
      "             5: [{'gpm': 1580, 'hid': 8, 'wards': 0}]})\n"
     ]
    },
    {
     "name": "stderr",
     "output_type": "stream",
     "text": [
      " 18%|█▊        | 9101/50000 [01:01<04:12, 162.23it/s]"
     ]
    },
    {
     "name": "stdout",
     "output_type": "stream",
     "text": [
      "====================\n",
      "final roles:  {2: 123, 3: 113}\n",
      "defaultdict(<class 'list'>,\n",
      "            {1: [],\n",
      "             2: [{'gpm': 344, 'hid': 17, 'wards': 0},\n",
      "                 {'gpm': 1095, 'hid': 123, 'wards': 0},\n",
      "                 {'gpm': 561, 'hid': 22, 'wards': 0}],\n",
      "             3: [{'gpm': 1837, 'hid': 113, 'wards': 3}],\n",
      "             5: [{'gpm': 2087, 'hid': 54, 'wards': 6}]})\n"
     ]
    },
    {
     "name": "stderr",
     "output_type": "stream",
     "text": [
      " 18%|█▊        | 9187/50000 [01:02<04:12, 161.51it/s]"
     ]
    },
    {
     "name": "stdout",
     "output_type": "stream",
     "text": [
      "====================\n",
      "final roles:  {2: 33, 3: 14}\n",
      "defaultdict(<class 'list'>,\n",
      "            {1: [],\n",
      "             2: [{'gpm': 341, 'hid': 94, 'wards': 0},\n",
      "                 {'gpm': 1106, 'hid': 83, 'wards': 4},\n",
      "                 {'gpm': 1191, 'hid': 33, 'wards': 0},\n",
      "                 {'gpm': 687, 'hid': 28, 'wards': 0}],\n",
      "             3: [{'gpm': 1417, 'hid': 14, 'wards': 26}]})\n"
     ]
    },
    {
     "name": "stderr",
     "output_type": "stream",
     "text": [
      " 19%|█▊        | 9368/50000 [01:03<04:19, 156.72it/s]"
     ]
    },
    {
     "name": "stdout",
     "output_type": "stream",
     "text": [
      "====================\n",
      "final roles:  {1: 18, 2: 104}\n",
      "defaultdict(<class 'list'>,\n",
      "            {1: [{'gpm': 281, 'hid': 18, 'wards': 0},\n",
      "                 {'gpm': 200, 'hid': 3, 'wards': 28}],\n",
      "             2: [{'gpm': 505, 'hid': 104, 'wards': 0},\n",
      "                 {'gpm': 173, 'hid': 25, 'wards': 1},\n",
      "                 {'gpm': 287, 'hid': 19, 'wards': 3}],\n",
      "             3: []})\n"
     ]
    },
    {
     "name": "stderr",
     "output_type": "stream",
     "text": [
      " 19%|█▉        | 9481/50000 [01:04<04:40, 144.48it/s]"
     ]
    },
    {
     "name": "stdout",
     "output_type": "stream",
     "text": [
      "====================\n",
      "final roles:  {2: 69, 3: 6}\n",
      "defaultdict(<class 'list'>,\n",
      "            {1: [],\n",
      "             2: [{'gpm': 111, 'hid': 128, 'wards': 3},\n",
      "                 {'gpm': 130, 'hid': 106, 'wards': 0},\n",
      "                 {'gpm': 154, 'hid': 69, 'wards': 0}],\n",
      "             3: [{'gpm': 537, 'hid': 6, 'wards': 1},\n",
      "                 {'gpm': 456, 'hid': 85, 'wards': 5}]})\n",
      "====================\n",
      "final roles:  {1: 73, 2: 95}\n",
      "defaultdict(<class 'list'>,\n",
      "            {1: [{'gpm': 660, 'hid': 73, 'wards': 0},\n",
      "                 {'gpm': 448, 'hid': 26, 'wards': 4}],\n",
      "             2: [{'gpm': 493, 'hid': 92, 'wards': 61},\n",
      "                 {'gpm': 623, 'hid': 95, 'wards': 0}],\n",
      "             3: [],\n",
      "             5: [{'gpm': 432, 'hid': 94, 'wards': 7}]})\n"
     ]
    },
    {
     "name": "stderr",
     "output_type": "stream",
     "text": [
      " 19%|█▉        | 9580/50000 [01:05<04:14, 158.62it/s]"
     ]
    },
    {
     "name": "stdout",
     "output_type": "stream",
     "text": [
      "====================\n",
      "final roles:  {1: 29, 2: 49}\n",
      "defaultdict(<class 'list'>,\n",
      "            {1: [{'gpm': 355, 'hid': 9, 'wards': 47},\n",
      "                 {'gpm': 418, 'hid': 29, 'wards': 1}],\n",
      "             2: [{'gpm': 426, 'hid': 49, 'wards': 1}],\n",
      "             3: [],\n",
      "             5: [{'gpm': 977, 'hid': 89, 'wards': 0},\n",
      "                 {'gpm': 308, 'hid': 71, 'wards': 17}]})\n",
      "====================\n",
      "final roles:  {1: 129, 2: 53}\n",
      "defaultdict(<class 'list'>,\n",
      "            {1: [{'gpm': 330, 'hid': 128, 'wards': 43},\n",
      "                 {'gpm': 427, 'hid': 129, 'wards': 0}],\n",
      "             2: [{'gpm': 684, 'hid': 53, 'wards': 0},\n",
      "                 {'gpm': 305, 'hid': 107, 'wards': 28}],\n",
      "             3: [],\n",
      "             5: [{'gpm': 610, 'hid': 109, 'wards': 0}]})\n"
     ]
    },
    {
     "name": "stderr",
     "output_type": "stream",
     "text": [
      " 19%|█▉        | 9665/50000 [01:05<04:39, 144.10it/s]"
     ]
    },
    {
     "name": "stdout",
     "output_type": "stream",
     "text": [
      "====================\n",
      "final roles:  {1: 44, 2: 105}\n",
      "defaultdict(<class 'list'>,\n",
      "            {1: [{'gpm': 463, 'hid': 44, 'wards': 0},\n",
      "                 {'gpm': 203, 'hid': 3, 'wards': 5}],\n",
      "             2: [{'gpm': 405, 'hid': 105, 'wards': 2},\n",
      "                 {'gpm': 284, 'hid': 14, 'wards': 57}],\n",
      "             3: [],\n",
      "             4: [{'gpm': 433, 'hid': 53, 'wards': 0}]})\n"
     ]
    },
    {
     "name": "stderr",
     "output_type": "stream",
     "text": [
      " 20%|█▉        | 9801/50000 [01:06<04:05, 164.03it/s]"
     ]
    },
    {
     "name": "stdout",
     "output_type": "stream",
     "text": [
      "====================\n",
      "final roles:  {1: 104, 2: 1}\n",
      "defaultdict(<class 'list'>,\n",
      "            {1: [{'gpm': 274, 'hid': 111, 'wards': 39},\n",
      "                 {'gpm': 297, 'hid': 64, 'wards': 0},\n",
      "                 {'gpm': 360, 'hid': 104, 'wards': 0}],\n",
      "             2: [{'gpm': 392, 'hid': 1, 'wards': 6}],\n",
      "             3: [],\n",
      "             5: [{'gpm': 380, 'hid': 10, 'wards': 0}]})\n"
     ]
    },
    {
     "name": "stderr",
     "output_type": "stream",
     "text": [
      " 20%|█▉        | 9852/50000 [01:06<04:08, 161.66it/s]"
     ]
    },
    {
     "name": "stdout",
     "output_type": "stream",
     "text": [
      "====================\n",
      "final roles:  {1: 19, 2: 36}\n",
      "defaultdict(<class 'list'>,\n",
      "            {1: [{'gpm': 743, 'hid': 19, 'wards': 0}],\n",
      "             2: [{'gpm': 1233, 'hid': 25, 'wards': 1},\n",
      "                 {'gpm': 1281, 'hid': 36, 'wards': 1},\n",
      "                 {'gpm': 709, 'hid': 18, 'wards': 12},\n",
      "                 {'gpm': 697, 'hid': 30, 'wards': 13}],\n",
      "             3: []})\n"
     ]
    },
    {
     "name": "stderr",
     "output_type": "stream",
     "text": [
      " 20%|██        | 10142/50000 [01:08<04:07, 160.89it/s]"
     ]
    },
    {
     "name": "stdout",
     "output_type": "stream",
     "text": [
      "====================\n",
      "final roles:  {2: 14, 3: 54}\n",
      "defaultdict(<class 'list'>,\n",
      "            {1: [],\n",
      "             2: [{'gpm': 295, 'hid': 26, 'wards': 0},\n",
      "                 {'gpm': 184, 'hid': 95, 'wards': 0},\n",
      "                 {'gpm': 404, 'hid': 14, 'wards': 5}],\n",
      "             3: [{'gpm': 298, 'hid': 54, 'wards': 0},\n",
      "                 {'gpm': 266, 'hid': 81, 'wards': 0}]})\n",
      "====================\n",
      "final roles:  {2: 46, 3: 99}\n",
      "defaultdict(<class 'list'>,\n",
      "            {1: [],\n",
      "             2: [{'gpm': 984, 'hid': 46, 'wards': 3},\n",
      "                 {'gpm': 661, 'hid': 14, 'wards': 0}],\n",
      "             3: [{'gpm': 1112, 'hid': 99, 'wards': 1},\n",
      "                 {'gpm': 968, 'hid': 90, 'wards': 19}],\n",
      "             4: [{'gpm': 1233, 'hid': 4, 'wards': 0}]})\n"
     ]
    },
    {
     "name": "stderr",
     "output_type": "stream",
     "text": [
      " 20%|██        | 10228/50000 [01:09<04:02, 163.83it/s]"
     ]
    },
    {
     "name": "stdout",
     "output_type": "stream",
     "text": [
      "====================\n",
      "final roles:  {1: 23, 2: 39}\n",
      "defaultdict(<class 'list'>,\n",
      "            {1: [{'gpm': 306, 'hid': 23, 'wards': 4}],\n",
      "             2: [{'gpm': 301, 'hid': 97, 'wards': 25},\n",
      "                 {'gpm': 331, 'hid': 39, 'wards': 8}],\n",
      "             3: [],\n",
      "             4: [{'gpm': 257, 'hid': 31, 'wards': 1},\n",
      "                 {'gpm': 219, 'hid': 44, 'wards': 0}]})\n"
     ]
    },
    {
     "name": "stderr",
     "output_type": "stream",
     "text": [
      " 21%|██        | 10608/50000 [01:11<04:01, 162.88it/s]"
     ]
    },
    {
     "name": "stdout",
     "output_type": "stream",
     "text": [
      "====================\n",
      "final roles:  {2: 17, 3: 63}\n",
      "defaultdict(<class 'list'>,\n",
      "            {1: [],\n",
      "             2: [{'gpm': 649, 'hid': 17, 'wards': 0}],\n",
      "             3: [{'gpm': 296, 'hid': 3, 'wards': 35},\n",
      "                 {'gpm': 365, 'hid': 105, 'wards': 44},\n",
      "                 {'gpm': 535, 'hid': 63, 'wards': 0}],\n",
      "             4: [{'gpm': 585, 'hid': 54, 'wards': 0}]})\n",
      "====================\n",
      "final roles:  {1: 47, 3: 31}\n",
      "defaultdict(<class 'list'>,\n",
      "            {1: [{'gpm': 842, 'hid': 47, 'wards': 4}],\n",
      "             2: [],\n",
      "             3: [{'gpm': 288, 'hid': 21, 'wards': 1},\n",
      "                 {'gpm': 944, 'hid': 31, 'wards': 20},\n",
      "                 {'gpm': 757, 'hid': 28, 'wards': 0},\n",
      "                 {'gpm': 622, 'hid': 83, 'wards': 6}]})\n",
      "Assigned 28 to role 2\n",
      "====================\n",
      "final roles:  {2: 22, 3: 9}\n",
      "defaultdict(<class 'list'>,\n",
      "            {1: [],\n",
      "             2: [{'gpm': 158, 'hid': 46, 'wards': 0},\n",
      "                 {'gpm': 906, 'hid': 22, 'wards': 2},\n",
      "                 {'gpm': 448, 'hid': 33, 'wards': 0},\n",
      "                 {'gpm': 153, 'hid': 67, 'wards': 0}],\n",
      "             3: [{'gpm': 433, 'hid': 9, 'wards': 0}]})\n"
     ]
    },
    {
     "name": "stderr",
     "output_type": "stream",
     "text": [
      " 21%|██▏       | 10659/50000 [01:11<04:02, 162.31it/s]"
     ]
    },
    {
     "name": "stdout",
     "output_type": "stream",
     "text": [
      "====================\n",
      "final roles:  {2: 86, 3: 53}\n",
      "defaultdict(<class 'list'>,\n",
      "            {1: [],\n",
      "             2: [{'gpm': 594, 'hid': 10, 'wards': 5},\n",
      "                 {'gpm': 671, 'hid': 86, 'wards': 8}],\n",
      "             3: [{'gpm': 677, 'hid': 53, 'wards': 0},\n",
      "                 {'gpm': 557, 'hid': 97, 'wards': 1}],\n",
      "             4: [{'gpm': 907, 'hid': 9, 'wards': 13}]})\n"
     ]
    },
    {
     "name": "stderr",
     "output_type": "stream",
     "text": [
      " 22%|██▏       | 10816/50000 [01:12<03:55, 166.14it/s]"
     ]
    },
    {
     "name": "stdout",
     "output_type": "stream",
     "text": [
      "====================\n",
      "final roles:  {1: 49, 2: 74}\n",
      "defaultdict(<class 'list'>,\n",
      "            {1: [{'gpm': 726, 'hid': 37, 'wards': 6},\n",
      "                 {'gpm': 841, 'hid': 31, 'wards': 25},\n",
      "                 {'gpm': 912, 'hid': 35, 'wards': 0},\n",
      "                 {'gpm': 998, 'hid': 49, 'wards': 0}],\n",
      "             2: [{'gpm': 1430, 'hid': 74, 'wards': 10}],\n",
      "             3: []})\n"
     ]
    },
    {
     "name": "stderr",
     "output_type": "stream",
     "text": [
      " 22%|██▏       | 11081/50000 [01:14<03:50, 168.51it/s]"
     ]
    },
    {
     "name": "stdout",
     "output_type": "stream",
     "text": [
      "====================\n",
      "final roles:  {1: 97, 2: 126}\n",
      "defaultdict(<class 'list'>,\n",
      "            {1: [{'gpm': 590, 'hid': 84, 'wards': 5},\n",
      "                 {'gpm': 594, 'hid': 97, 'wards': 0}],\n",
      "             2: [{'gpm': 521, 'hid': 85, 'wards': 31},\n",
      "                 {'gpm': 631, 'hid': 126, 'wards': 1}],\n",
      "             3: [],\n",
      "             5: [{'gpm': 1039, 'hid': 89, 'wards': 0}]})\n"
     ]
    },
    {
     "name": "stderr",
     "output_type": "stream",
     "text": [
      " 23%|██▎       | 11365/50000 [01:16<03:46, 170.24it/s]"
     ]
    },
    {
     "name": "stdout",
     "output_type": "stream",
     "text": [
      "====================\n",
      "final roles:  {1: 109, 2: 44}\n",
      "defaultdict(<class 'list'>,\n",
      "            {1: [{'gpm': 422, 'hid': 109, 'wards': 0},\n",
      "                 {'gpm': 300, 'hid': 30, 'wards': 52},\n",
      "                 {'gpm': 285, 'hid': 97, 'wards': 0}],\n",
      "             2: [{'gpm': 397, 'hid': 44, 'wards': 2},\n",
      "                 {'gpm': 280, 'hid': 58, 'wards': 8}],\n",
      "             3: []})\n"
     ]
    },
    {
     "name": "stderr",
     "output_type": "stream",
     "text": [
      " 23%|██▎       | 11508/50000 [01:16<03:46, 170.22it/s]"
     ]
    },
    {
     "name": "stdout",
     "output_type": "stream",
     "text": [
      "====================\n",
      "final roles:  {1: 71, 2: 74}\n",
      "defaultdict(<class 'list'>,\n",
      "            {1: [{'gpm': 653, 'hid': 71, 'wards': 0},\n",
      "                 {'gpm': 438, 'hid': 84, 'wards': 51},\n",
      "                 {'gpm': 350, 'hid': 86, 'wards': 2}],\n",
      "             2: [{'gpm': 691, 'hid': 74, 'wards': 6},\n",
      "                 {'gpm': 540, 'hid': 6, 'wards': 0}],\n",
      "             3: []})\n"
     ]
    },
    {
     "name": "stderr",
     "output_type": "stream",
     "text": [
      " 23%|██▎       | 11562/50000 [01:17<03:45, 170.16it/s]"
     ]
    },
    {
     "name": "stdout",
     "output_type": "stream",
     "text": [
      "====================\n",
      "final roles:  {2: 74, 3: 19}\n",
      "defaultdict(<class 'list'>,\n",
      "            {1: [],\n",
      "             2: [{'gpm': 424, 'hid': 74, 'wards': 2}],\n",
      "             3: [{'gpm': 450, 'hid': 70, 'wards': 1},\n",
      "                 {'gpm': 453, 'hid': 19, 'wards': 0},\n",
      "                 {'gpm': 320, 'hid': 112, 'wards': 79}],\n",
      "             4: [{'gpm': 476, 'hid': 9, 'wards': 0}]})\n",
      "====================\n",
      "final roles:  {2: 23, 3: 94}\n",
      "defaultdict(<class 'list'>,\n",
      "            {1: [],\n",
      "             2: [{'gpm': 391, 'hid': 23, 'wards': 0},\n",
      "                 {'gpm': 195, 'hid': 5, 'wards': 1},\n",
      "                 {'gpm': 224, 'hid': 66, 'wards': 3}],\n",
      "             3: [{'gpm': 135, 'hid': 10, 'wards': 0},\n",
      "                 {'gpm': 182, 'hid': 94, 'wards': 2}]})\n",
      "====================\n",
      "final roles:  {1: 101, 2: 54}\n",
      "defaultdict(<class 'list'>,\n",
      "            {1: [{'gpm': 1031, 'hid': 101, 'wards': 12}],\n",
      "             2: [{'gpm': 414, 'hid': 99, 'wards': 0},\n",
      "                 {'gpm': 396, 'hid': 102, 'wards': 0},\n",
      "                 {'gpm': 475, 'hid': 54, 'wards': 1},\n",
      "                 {'gpm': 337, 'hid': 14, 'wards': 5}],\n",
      "             3: []})\n",
      "====================\n",
      "final roles:  {1: 40, 2: 6}\n",
      "defaultdict(<class 'list'>,\n",
      "            {1: [{'gpm': 782, 'hid': 40, 'wards': 8}],\n",
      "             2: [{'gpm': 1040, 'hid': 25, 'wards': 0},\n",
      "                 {'gpm': 1357, 'hid': 6, 'wards': 0},\n",
      "                 {'gpm': 1041, 'hid': 44, 'wards': 0},\n",
      "                 {'gpm': 771, 'hid': 84, 'wards': 1}],\n",
      "             3: []})\n"
     ]
    },
    {
     "name": "stderr",
     "output_type": "stream",
     "text": [
      " 23%|██▎       | 11615/50000 [01:17<04:05, 156.19it/s]"
     ]
    },
    {
     "name": "stdout",
     "output_type": "stream",
     "text": [
      "====================\n",
      "final roles:  {1: 91, 2: 17}\n",
      "defaultdict(<class 'list'>,\n",
      "            {1: [{'gpm': 184, 'hid': 91, 'wards': 1}],\n",
      "             2: [{'gpm': 127, 'hid': 48, 'wards': 0},\n",
      "                 {'gpm': 145, 'hid': 62, 'wards': 2},\n",
      "                 {'gpm': 161, 'hid': 17, 'wards': 1}],\n",
      "             3: [],\n",
      "             5: [{'gpm': 826, 'hid': 2, 'wards': 0}]})\n"
     ]
    },
    {
     "name": "stderr",
     "output_type": "stream",
     "text": [
      " 23%|██▎       | 11701/50000 [01:18<03:48, 167.26it/s]"
     ]
    },
    {
     "name": "stdout",
     "output_type": "stream",
     "text": [
      "====================\n",
      "final roles:  {1: 10, 3: 7}\n",
      "defaultdict(<class 'list'>,\n",
      "            {1: [{'gpm': 747, 'hid': 10, 'wards': 2},\n",
      "                 {'gpm': 490, 'hid': 21, 'wards': 1},\n",
      "                 {'gpm': 285, 'hid': 103, 'wards': 30}],\n",
      "             2: [],\n",
      "             3: [{'gpm': 533, 'hid': 7, 'wards': 0},\n",
      "                 {'gpm': 325, 'hid': 71, 'wards': 20}]})\n"
     ]
    },
    {
     "name": "stderr",
     "output_type": "stream",
     "text": [
      " 24%|██▎       | 11791/50000 [01:18<03:42, 171.65it/s]"
     ]
    },
    {
     "name": "stdout",
     "output_type": "stream",
     "text": [
      "====================\n",
      "final roles:  {1: 10, 2: 135}\n",
      "defaultdict(<class 'list'>,\n",
      "            {1: [{'gpm': 1508, 'hid': 10, 'wards': 0},\n",
      "                 {'gpm': 721, 'hid': 87, 'wards': 17}],\n",
      "             2: [{'gpm': 1197, 'hid': 135, 'wards': 6},\n",
      "                 {'gpm': 627, 'hid': 126, 'wards': 1},\n",
      "                 {'gpm': 725, 'hid': 107, 'wards': 7}],\n",
      "             3: []})\n",
      "====================\n",
      "final roles:  {1: 25, 2: 17}\n",
      "defaultdict(<class 'list'>,\n",
      "            {1: [{'gpm': 513, 'hid': 25, 'wards': 0}],\n",
      "             2: [{'gpm': 642, 'hid': 14, 'wards': 8},\n",
      "                 {'gpm': 664, 'hid': 8, 'wards': 2},\n",
      "                 {'gpm': 670, 'hid': 35, 'wards': 0},\n",
      "                 {'gpm': 1961, 'hid': 17, 'wards': 1}],\n",
      "             3: []})\n"
     ]
    },
    {
     "name": "stderr",
     "output_type": "stream",
     "text": [
      " 24%|██▎       | 11862/50000 [01:19<03:50, 165.16it/s]"
     ]
    },
    {
     "name": "stdout",
     "output_type": "stream",
     "text": [
      "====================\n",
      "final roles:  {2: 22, 3: 63}\n",
      "defaultdict(<class 'list'>,\n",
      "            {1: [],\n",
      "             2: [{'gpm': 766, 'hid': 22, 'wards': 1},\n",
      "                 {'gpm': 275, 'hid': 14, 'wards': 11},\n",
      "                 {'gpm': 388, 'hid': 55, 'wards': 0},\n",
      "                 {'gpm': 265, 'hid': 74, 'wards': 7}],\n",
      "             3: [{'gpm': 767, 'hid': 63, 'wards': 1}]})\n"
     ]
    },
    {
     "name": "stderr",
     "output_type": "stream",
     "text": [
      " 24%|██▍       | 11970/50000 [01:19<03:45, 168.47it/s]"
     ]
    },
    {
     "name": "stdout",
     "output_type": "stream",
     "text": [
      "====================\n",
      "final roles:  {1: 41, 2: 25}\n",
      "defaultdict(<class 'list'>,\n",
      "            {1: [{'gpm': 505, 'hid': 18, 'wards': 0},\n",
      "                 {'gpm': 514, 'hid': 41, 'wards': 0}],\n",
      "             2: [{'gpm': 355, 'hid': 27, 'wards': 49},\n",
      "                 {'gpm': 688, 'hid': 25, 'wards': 2},\n",
      "                 {'gpm': 272, 'hid': 91, 'wards': 3}],\n",
      "             3: []})\n",
      "====================\n",
      "final roles:  {2: 75, 3: 7}\n",
      "defaultdict(<class 'list'>,\n",
      "            {1: [],\n",
      "             2: [{'gpm': 383, 'hid': 75, 'wards': 0},\n",
      "                 {'gpm': 215, 'hid': 100, 'wards': 1},\n",
      "                 {'gpm': 117, 'hid': 70, 'wards': 0}],\n",
      "             3: [{'gpm': 264, 'hid': 7, 'wards': 0}],\n",
      "             4: [{'gpm': 350, 'hid': 40, 'wards': 0}]})\n"
     ]
    },
    {
     "name": "stderr",
     "output_type": "stream",
     "text": [
      " 24%|██▍       | 12056/50000 [01:20<03:55, 161.44it/s]"
     ]
    },
    {
     "name": "stdout",
     "output_type": "stream",
     "text": [
      "====================\n",
      "final roles:  {1: 42, 2: 2}\n",
      "defaultdict(<class 'list'>,\n",
      "            {1: [{'gpm': 349, 'hid': 42, 'wards': 0},\n",
      "                 {'gpm': 216, 'hid': 111, 'wards': 41},\n",
      "                 {'gpm': 230, 'hid': 14, 'wards': 1}],\n",
      "             2: [{'gpm': 325, 'hid': 2, 'wards': 0},\n",
      "                 {'gpm': 309, 'hid': 34, 'wards': 2}],\n",
      "             3: []})\n"
     ]
    },
    {
     "name": "stderr",
     "output_type": "stream",
     "text": [
      " 25%|██▍       | 12344/50000 [01:21<03:40, 170.78it/s]"
     ]
    },
    {
     "name": "stdout",
     "output_type": "stream",
     "text": [
      "====================\n",
      "final roles:  {1: 62, 2: 11}\n",
      "defaultdict(<class 'list'>,\n",
      "            {1: [{'gpm': 278, 'hid': 44, 'wards': 4},\n",
      "                 {'gpm': 520, 'hid': 62, 'wards': 6}],\n",
      "             2: [{'gpm': 217, 'hid': 35, 'wards': 0},\n",
      "                 {'gpm': 180, 'hid': 42, 'wards': 0},\n",
      "                 {'gpm': 494, 'hid': 11, 'wards': 0}],\n",
      "             3: []})\n",
      "====================\n",
      "final roles:  {1: 123, 2: 6}\n",
      "defaultdict(<class 'list'>,\n",
      "            {1: [{'gpm': 1628, 'hid': 123, 'wards': 1},\n",
      "                 {'gpm': 436, 'hid': 49, 'wards': 0}],\n",
      "             2: [{'gpm': 405, 'hid': 83, 'wards': 0},\n",
      "                 {'gpm': 457, 'hid': 63, 'wards': 1},\n",
      "                 {'gpm': 1784, 'hid': 6, 'wards': 7}],\n",
      "             3: []})\n"
     ]
    },
    {
     "name": "stderr",
     "output_type": "stream",
     "text": [
      " 25%|██▍       | 12452/50000 [01:22<03:55, 159.10it/s]"
     ]
    },
    {
     "name": "stdout",
     "output_type": "stream",
     "text": [
      "====================\n",
      "final roles:  {1: 114, 2: 94}\n",
      "defaultdict(<class 'list'>,\n",
      "            {1: [{'gpm': 560, 'hid': 114, 'wards': 0}],\n",
      "             2: [{'gpm': 303, 'hid': 91, 'wards': 4},\n",
      "                 {'gpm': 453, 'hid': 71, 'wards': 15},\n",
      "                 {'gpm': 775, 'hid': 94, 'wards': 4}],\n",
      "             3: [],\n",
      "             5: [{'gpm': 676, 'hid': 104, 'wards': 2}]})\n"
     ]
    },
    {
     "name": "stderr",
     "output_type": "stream",
     "text": [
      " 25%|██▌       | 12704/50000 [01:24<03:38, 170.47it/s]"
     ]
    },
    {
     "name": "stdout",
     "output_type": "stream",
     "text": [
      "====================\n",
      "final roles:  {2: 56, 3: 12}\n",
      "defaultdict(<class 'list'>,\n",
      "            {1: [],\n",
      "             2: [{'gpm': 406, 'hid': 56, 'wards': 4}],\n",
      "             3: [{'gpm': 316, 'hid': 93, 'wards': 0},\n",
      "                 {'gpm': 389, 'hid': 12, 'wards': 0},\n",
      "                 {'gpm': 182, 'hid': 112, 'wards': 18}],\n",
      "             5: [{'gpm': 377, 'hid': 2, 'wards': 7}]})\n"
     ]
    },
    {
     "name": "stderr",
     "output_type": "stream",
     "text": [
      " 26%|██▌       | 12758/50000 [01:24<03:41, 168.42it/s]"
     ]
    },
    {
     "name": "stdout",
     "output_type": "stream",
     "text": [
      "====================\n",
      "final roles:  {1: 101, 2: 22}\n",
      "defaultdict(<class 'list'>,\n",
      "            {1: [{'gpm': 969, 'hid': 101, 'wards': 0},\n",
      "                 {'gpm': 418, 'hid': 123, 'wards': 25}],\n",
      "             2: [{'gpm': 355, 'hid': 65, 'wards': 0},\n",
      "                 {'gpm': 513, 'hid': 121, 'wards': 1},\n",
      "                 {'gpm': 746, 'hid': 22, 'wards': 1}],\n",
      "             3: []})\n",
      "====================\n",
      "final roles:  {1: 7, 2: 11}\n",
      "defaultdict(<class 'list'>,\n",
      "            {1: [{'gpm': 272, 'hid': 7, 'wards': 4},\n",
      "                 {'gpm': 188, 'hid': 6, 'wards': 0}],\n",
      "             2: [{'gpm': 287, 'hid': 11, 'wards': 2},\n",
      "                 {'gpm': 175, 'hid': 22, 'wards': 0},\n",
      "                 {'gpm': 144, 'hid': 2, 'wards': 0}],\n",
      "             3: []})\n"
     ]
    },
    {
     "name": "stderr",
     "output_type": "stream",
     "text": [
      " 26%|██▌       | 12918/50000 [01:25<03:44, 165.14it/s]"
     ]
    },
    {
     "name": "stdout",
     "output_type": "stream",
     "text": [
      "====================\n",
      "final roles:  {2: 79, 3: 19}\n",
      "defaultdict(<class 'list'>,\n",
      "            {1: [],\n",
      "             2: [{'gpm': 577, 'hid': 79, 'wards': 35},\n",
      "                 {'gpm': 307, 'hid': 75, 'wards': 4},\n",
      "                 {'gpm': 577, 'hid': 106, 'wards': 5}],\n",
      "             3: [{'gpm': 696, 'hid': 19, 'wards': 3}],\n",
      "             5: [{'gpm': 673, 'hid': 34, 'wards': 0}]})\n"
     ]
    },
    {
     "name": "stderr",
     "output_type": "stream",
     "text": [
      " 26%|██▋       | 13206/50000 [01:27<03:31, 173.88it/s]"
     ]
    },
    {
     "name": "stdout",
     "output_type": "stream",
     "text": [
      "====================\n",
      "final roles:  {1: 43, 2: 34}\n",
      "defaultdict(<class 'list'>,\n",
      "            {1: [{'gpm': 285, 'hid': 43, 'wards': 1},\n",
      "                 {'gpm': 181, 'hid': 26, 'wards': 18}],\n",
      "             2: [{'gpm': 298, 'hid': 9, 'wards': 19},\n",
      "                 {'gpm': 324, 'hid': 34, 'wards': 1}],\n",
      "             3: [],\n",
      "             5: [{'gpm': 538, 'hid': 42, 'wards': 2}]})\n",
      "====================\n",
      "final roles:  {1: 7, 2: 126}\n",
      "defaultdict(<class 'list'>,\n",
      "            {1: [{'gpm': 270, 'hid': 21, 'wards': 23},\n",
      "                 {'gpm': 371, 'hid': 7, 'wards': 0}],\n",
      "             2: [{'gpm': 195, 'hid': 84, 'wards': 33},\n",
      "                 {'gpm': 511, 'hid': 126, 'wards': 4}],\n",
      "             3: [],\n",
      "             5: [{'gpm': 443, 'hid': 10, 'wards': 0}]})\n"
     ]
    },
    {
     "name": "stderr",
     "output_type": "stream",
     "text": [
      " 27%|██▋       | 13260/50000 [01:27<03:32, 172.96it/s]"
     ]
    },
    {
     "name": "stdout",
     "output_type": "stream",
     "text": [
      "====================\n",
      "final roles:  {2: 13, 3: 48}\n",
      "defaultdict(<class 'list'>,\n",
      "            {1: [],\n",
      "             2: [{'gpm': 284, 'hid': 105, 'wards': 14},\n",
      "                 {'gpm': 381, 'hid': 13, 'wards': 7}],\n",
      "             3: [{'gpm': 693, 'hid': 48, 'wards': 2},\n",
      "                 {'gpm': 268, 'hid': 10, 'wards': 7}],\n",
      "             5: [{'gpm': 390, 'hid': 82, 'wards': 4}]})\n"
     ]
    },
    {
     "name": "stderr",
     "output_type": "stream",
     "text": [
      " 27%|██▋       | 13350/50000 [01:27<03:34, 171.17it/s]"
     ]
    },
    {
     "name": "stdout",
     "output_type": "stream",
     "text": [
      "====================\n",
      "final roles:  {1: 38, 2: 8}\n",
      "defaultdict(<class 'list'>,\n",
      "            {1: [{'gpm': 344, 'hid': 3, 'wards': 4},\n",
      "                 {'gpm': 432, 'hid': 18, 'wards': 0},\n",
      "                 {'gpm': 573, 'hid': 38, 'wards': 20}],\n",
      "             2: [{'gpm': 478, 'hid': 83, 'wards': 1},\n",
      "                 {'gpm': 926, 'hid': 8, 'wards': 0}],\n",
      "             3: []})\n"
     ]
    },
    {
     "name": "stderr",
     "output_type": "stream",
     "text": [
      " 27%|██▋       | 13532/50000 [01:28<03:39, 166.23it/s]"
     ]
    },
    {
     "name": "stdout",
     "output_type": "stream",
     "text": [
      "====================\n",
      "final roles:  {2: 75, 3: 35}\n",
      "defaultdict(<class 'list'>,\n",
      "            {1: [],\n",
      "             2: [{'gpm': 699, 'hid': 11, 'wards': 1},\n",
      "                 {'gpm': 777, 'hid': 105, 'wards': 2},\n",
      "                 {'gpm': 964, 'hid': 75, 'wards': 4},\n",
      "                 {'gpm': 452, 'hid': 14, 'wards': 0}],\n",
      "             3: [{'gpm': 600, 'hid': 35, 'wards': 6}]})\n",
      "====================\n",
      "final roles:  {1: 12, 2: 46}\n",
      "defaultdict(<class 'list'>,\n",
      "            {1: [{'gpm': 338, 'hid': 121, 'wards': 48},\n",
      "                 {'gpm': 704, 'hid': 12, 'wards': 0},\n",
      "                 {'gpm': 380, 'hid': 129, 'wards': 0}],\n",
      "             2: [{'gpm': 647, 'hid': 46, 'wards': 2},\n",
      "                 {'gpm': 360, 'hid': 14, 'wards': 26}],\n",
      "             3: []})\n"
     ]
    },
    {
     "name": "stderr",
     "output_type": "stream",
     "text": [
      " 27%|██▋       | 13696/50000 [01:29<03:24, 177.22it/s]"
     ]
    },
    {
     "name": "stdout",
     "output_type": "stream",
     "text": [
      "====================\n",
      "final roles:  {2: 93, 3: 36}\n",
      "defaultdict(<class 'list'>,\n",
      "            {1: [],\n",
      "             2: [{'gpm': 131, 'hid': 93, 'wards': 0},\n",
      "                 {'gpm': 131, 'hid': 25, 'wards': 0},\n",
      "                 {'gpm': 131, 'hid': 7, 'wards': 0},\n",
      "                 {'gpm': 131, 'hid': 86, 'wards': 0}],\n",
      "             3: [{'gpm': 131, 'hid': 36, 'wards': 0}]})\n",
      "====================\n",
      "final roles:  {2: 85, 3: 97}\n",
      "defaultdict(<class 'list'>,\n",
      "            {1: [],\n",
      "             2: [{'gpm': 129, 'hid': 85, 'wards': 0},\n",
      "                 {'gpm': 129, 'hid': 18, 'wards': 0},\n",
      "                 {'gpm': 129, 'hid': 26, 'wards': 2},\n",
      "                 {'gpm': 129, 'hid': 74, 'wards': 0}],\n",
      "             3: [{'gpm': 129, 'hid': 97, 'wards': 0}]})\n",
      "====================\n",
      "final roles:  {1: 114, 2: 19}\n",
      "defaultdict(<class 'list'>,\n",
      "            {1: [{'gpm': 1493, 'hid': 114, 'wards': 3},\n",
      "                 {'gpm': 705, 'hid': 97, 'wards': 1}],\n",
      "             2: [{'gpm': 1348, 'hid': 19, 'wards': 2}],\n",
      "             3: [],\n",
      "             5: [{'gpm': 1164, 'hid': 17, 'wards': 5},\n",
      "                 {'gpm': 1338, 'hid': 44, 'wards': 0}]})\n"
     ]
    },
    {
     "name": "stderr",
     "output_type": "stream",
     "text": [
      " 28%|██▊       | 13751/50000 [01:30<03:34, 168.62it/s]"
     ]
    },
    {
     "name": "stdout",
     "output_type": "stream",
     "text": [
      "====================\n",
      "final roles:  {2: 108, 3: 81}\n",
      "defaultdict(<class 'list'>,\n",
      "            {1: [],\n",
      "             2: [{'gpm': 133, 'hid': 6, 'wards': 0},\n",
      "                 {'gpm': 133, 'hid': 5, 'wards': 0},\n",
      "                 {'gpm': 474, 'hid': 108, 'wards': 5}],\n",
      "             3: [{'gpm': 332, 'hid': 40, 'wards': 23},\n",
      "                 {'gpm': 578, 'hid': 81, 'wards': 0}]})\n"
     ]
    },
    {
     "name": "stderr",
     "output_type": "stream",
     "text": [
      " 28%|██▊       | 13878/50000 [01:31<03:25, 175.55it/s]"
     ]
    },
    {
     "name": "stdout",
     "output_type": "stream",
     "text": [
      "====================\n",
      "final roles:  {2: 53, 3: 22}\n",
      "defaultdict(<class 'list'>,\n",
      "            {1: [],\n",
      "             2: [{'gpm': 132, 'hid': 46, 'wards': 1},\n",
      "                 {'gpm': 1215, 'hid': 53, 'wards': 5},\n",
      "                 {'gpm': 226, 'hid': 39, 'wards': 0}],\n",
      "             3: [{'gpm': 838, 'hid': 22, 'wards': 0},\n",
      "                 {'gpm': 210, 'hid': 126, 'wards': 4}]})\n"
     ]
    },
    {
     "name": "stderr",
     "output_type": "stream",
     "text": [
      " 28%|██▊       | 14043/50000 [01:31<03:24, 176.11it/s]"
     ]
    },
    {
     "name": "stdout",
     "output_type": "stream",
     "text": [
      "====================\n",
      "final roles:  {1: 44, 2: 106}\n",
      "defaultdict(<class 'list'>,\n",
      "            {1: [{'gpm': 1170, 'hid': 44, 'wards': 0}],\n",
      "             2: [{'gpm': 1156, 'hid': 106, 'wards': 1},\n",
      "                 {'gpm': 1074, 'hid': 6, 'wards': 0},\n",
      "                 {'gpm': 698, 'hid': 14, 'wards': 7},\n",
      "                 {'gpm': 865, 'hid': 84, 'wards': 0}],\n",
      "             3: []})\n",
      "====================\n",
      "final roles:  {1: 128, 2: 65}\n",
      "defaultdict(<class 'list'>,\n",
      "            {1: [{'gpm': 602, 'hid': 128, 'wards': 0},\n",
      "                 {'gpm': 560, 'hid': 53, 'wards': 0}],\n",
      "             2: [{'gpm': 838, 'hid': 65, 'wards': 3},\n",
      "                 {'gpm': 579, 'hid': 45, 'wards': 16},\n",
      "                 {'gpm': 336, 'hid': 77, 'wards': 1}],\n",
      "             3: []})\n"
     ]
    },
    {
     "name": "stderr",
     "output_type": "stream",
     "text": [
      " 29%|██▊       | 14283/50000 [01:33<03:19, 179.09it/s]"
     ]
    },
    {
     "name": "stdout",
     "output_type": "stream",
     "text": [
      "====================\n",
      "final roles:  {2: 36, 3: 7}\n",
      "defaultdict(<class 'list'>,\n",
      "            {1: [],\n",
      "             2: [{'gpm': 584, 'hid': 69, 'wards': 2},\n",
      "                 {'gpm': 734, 'hid': 36, 'wards': 3}],\n",
      "             3: [{'gpm': 1018, 'hid': 7, 'wards': 0},\n",
      "                 {'gpm': 519, 'hid': 106, 'wards': 3}],\n",
      "             5: [{'gpm': 444, 'hid': 97, 'wards': 1}]})\n"
     ]
    },
    {
     "name": "stderr",
     "output_type": "stream",
     "text": [
      " 29%|██▉       | 14700/50000 [01:35<03:17, 178.59it/s]"
     ]
    },
    {
     "name": "stdout",
     "output_type": "stream",
     "text": [
      "====================\n",
      "final roles:  {1: 8, 2: 114}\n",
      "defaultdict(<class 'list'>,\n",
      "            {1: [{'gpm': 496, 'hid': 8, 'wards': 3},\n",
      "                 {'gpm': 280, 'hid': 74, 'wards': 16}],\n",
      "             2: [{'gpm': 442, 'hid': 114, 'wards': 1},\n",
      "                 {'gpm': 427, 'hid': 43, 'wards': 25}],\n",
      "             3: [],\n",
      "             4: [{'gpm': 420, 'hid': 91, 'wards': 0}]})\n"
     ]
    },
    {
     "name": "stderr",
     "output_type": "stream",
     "text": [
      " 30%|██▉       | 14773/50000 [01:36<03:15, 180.35it/s]"
     ]
    },
    {
     "name": "stdout",
     "output_type": "stream",
     "text": [
      "====================\n",
      "final roles:  {2: 34, 3: 35}\n",
      "defaultdict(<class 'list'>,\n",
      "            {1: [],\n",
      "             2: [{'gpm': 110, 'hid': 79, 'wards': 0},\n",
      "                 {'gpm': 559, 'hid': 34, 'wards': 2},\n",
      "                 {'gpm': 136, 'hid': 8, 'wards': 0},\n",
      "                 {'gpm': 158, 'hid': 102, 'wards': 2}],\n",
      "             3: [{'gpm': 221, 'hid': 35, 'wards': 1}]})\n"
     ]
    },
    {
     "name": "stderr",
     "output_type": "stream",
     "text": [
      " 30%|██▉       | 14886/50000 [01:36<03:16, 178.46it/s]"
     ]
    },
    {
     "name": "stdout",
     "output_type": "stream",
     "text": [
      "====================\n",
      "final roles:  {2: 35, 3: 48}\n",
      "defaultdict(<class 'list'>,\n",
      "            {1: [],\n",
      "             2: [{'gpm': 112, 'hid': 84, 'wards': 0},\n",
      "                 {'gpm': 296, 'hid': 35, 'wards': 4}],\n",
      "             3: [{'gpm': 238, 'hid': 26, 'wards': 4},\n",
      "                 {'gpm': 410, 'hid': 48, 'wards': 0}],\n",
      "             5: [{'gpm': 528, 'hid': 40, 'wards': 0}]})\n",
      "====================\n",
      "final roles:  {2: 105, 3: 44}\n",
      "defaultdict(<class 'list'>,\n",
      "            {1: [],\n",
      "             2: [{'gpm': 462, 'hid': 77, 'wards': 0},\n",
      "                 {'gpm': 829, 'hid': 105, 'wards': 5},\n",
      "                 {'gpm': 632, 'hid': 97, 'wards': 5}],\n",
      "             3: [{'gpm': 693, 'hid': 44, 'wards': 0},\n",
      "                 {'gpm': 406, 'hid': 82, 'wards': 1}]})\n"
     ]
    },
    {
     "name": "stderr",
     "output_type": "stream",
     "text": [
      " 30%|██▉       | 14960/50000 [01:37<03:15, 179.68it/s]"
     ]
    },
    {
     "name": "stdout",
     "output_type": "stream",
     "text": [
      "====================\n",
      "final roles:  {1: 104, 2: 126}\n",
      "defaultdict(<class 'list'>,\n",
      "            {1: [{'gpm': 527, 'hid': 104, 'wards': 0}],\n",
      "             2: [{'gpm': 483, 'hid': 126, 'wards': 1},\n",
      "                 {'gpm': 323, 'hid': 7, 'wards': 2},\n",
      "                 {'gpm': 254, 'hid': 3, 'wards': 91}],\n",
      "             3: [],\n",
      "             5: [{'gpm': 641, 'hid': 10, 'wards': 0}]})\n",
      "====================\n",
      "final roles:  {1: 50, 2: 35}\n",
      "defaultdict(<class 'list'>,\n",
      "            {1: [{'gpm': 370, 'hid': 30, 'wards': 13},\n",
      "                 {'gpm': 295, 'hid': 81, 'wards': 0},\n",
      "                 {'gpm': 420, 'hid': 50, 'wards': 21}],\n",
      "             2: [{'gpm': 1044, 'hid': 35, 'wards': 0}],\n",
      "             3: [],\n",
      "             5: [{'gpm': 824, 'hid': 48, 'wards': 2}]})\n"
     ]
    },
    {
     "name": "stderr",
     "output_type": "stream",
     "text": [
      " 30%|██▉       | 14998/50000 [01:37<03:38, 160.09it/s]"
     ]
    },
    {
     "name": "stdout",
     "output_type": "stream",
     "text": [
      "====================\n",
      "final roles:  {2: 35, 3: 114}\n",
      "defaultdict(<class 'list'>,\n",
      "            {1: [],\n",
      "             2: [{'gpm': 1312, 'hid': 35, 'wards': 0}],\n",
      "             3: [{'gpm': 987, 'hid': 114, 'wards': 1},\n",
      "                 {'gpm': 853, 'hid': 5, 'wards': 16},\n",
      "                 {'gpm': 751, 'hid': 30, 'wards': 28}],\n",
      "             5: [{'gpm': 907, 'hid': 9, 'wards': 0}]})\n"
     ]
    },
    {
     "name": "stderr",
     "output_type": "stream",
     "text": [
      " 30%|███       | 15204/50000 [01:38<03:17, 176.53it/s]"
     ]
    },
    {
     "name": "stdout",
     "output_type": "stream",
     "text": [
      "====================\n",
      "final roles:  {2: 10, 3: 30}\n",
      "defaultdict(<class 'list'>,\n",
      "            {1: [],\n",
      "             2: [{'gpm': 273, 'hid': 10, 'wards': 1},\n",
      "                 {'gpm': 183, 'hid': 22, 'wards': 0}],\n",
      "             3: [{'gpm': 302, 'hid': 93, 'wards': 0},\n",
      "                 {'gpm': 350, 'hid': 30, 'wards': 6}],\n",
      "             5: [{'gpm': 299, 'hid': 44, 'wards': 10}]})\n"
     ]
    },
    {
     "name": "stderr",
     "output_type": "stream",
     "text": [
      " 31%|███▏      | 15638/50000 [01:41<03:08, 182.44it/s]"
     ]
    },
    {
     "name": "stdout",
     "output_type": "stream",
     "text": [
      "====================\n",
      "final roles:  {2: 17, 3: 8}\n",
      "defaultdict(<class 'list'>,\n",
      "            {1: [],\n",
      "             2: [{'gpm': 344, 'hid': 17, 'wards': 1}],\n",
      "             3: [{'gpm': 188, 'hid': 7, 'wards': 27},\n",
      "                 {'gpm': 323, 'hid': 8, 'wards': 0}],\n",
      "             5: [{'gpm': 414, 'hid': 69, 'wards': 0},\n",
      "                 {'gpm': 261, 'hid': 104, 'wards': 0}]})\n"
     ]
    },
    {
     "name": "stderr",
     "output_type": "stream",
     "text": [
      " 31%|███▏      | 15711/50000 [01:41<03:20, 170.60it/s]"
     ]
    },
    {
     "name": "stdout",
     "output_type": "stream",
     "text": [
      "====================\n",
      "final roles:  {1: 9, 2: 94}\n",
      "defaultdict(<class 'list'>,\n",
      "            {1: [{'gpm': 464, 'hid': 9, 'wards': 0},\n",
      "                 {'gpm': 307, 'hid': 58, 'wards': 13}],\n",
      "             2: [{'gpm': 548, 'hid': 94, 'wards': 2},\n",
      "                 {'gpm': 410, 'hid': 68, 'wards': 0},\n",
      "                 {'gpm': 190, 'hid': 77, 'wards': 5}],\n",
      "             3: []})\n",
      "====================\n",
      "final roles:  {1: 2, 2: 126}\n",
      "defaultdict(<class 'list'>,\n",
      "            {1: [{'gpm': 329, 'hid': 40, 'wards': 24},\n",
      "                 {'gpm': 345, 'hid': 2, 'wards': 0}],\n",
      "             2: [{'gpm': 140, 'hid': 59, 'wards': 0},\n",
      "                 {'gpm': 332, 'hid': 126, 'wards': 4},\n",
      "                 {'gpm': 177, 'hid': 32, 'wards': 1}],\n",
      "             3: []})\n",
      "====================\n",
      "final roles:  {1: 53, 2: 107}\n",
      "defaultdict(<class 'list'>,\n",
      "            {1: [{'gpm': 748, 'hid': 50, 'wards': 22},\n",
      "                 {'gpm': 1321, 'hid': 53, 'wards': 0}],\n",
      "             2: [{'gpm': 1172, 'hid': 107, 'wards': 12},\n",
      "                 {'gpm': 629, 'hid': 52, 'wards': 1}],\n",
      "             3: [],\n",
      "             5: [{'gpm': 1007, 'hid': 67, 'wards': 9}]})\n"
     ]
    },
    {
     "name": "stderr",
     "output_type": "stream",
     "text": [
      " 32%|███▏      | 15786/50000 [01:41<03:08, 181.45it/s]"
     ]
    },
    {
     "name": "stdout",
     "output_type": "stream",
     "text": [
      "====================\n",
      "final roles:  {1: 104, 2: 10}\n",
      "defaultdict(<class 'list'>,\n",
      "            {1: [{'gpm': 336, 'hid': 26, 'wards': 0},\n",
      "                 {'gpm': 417, 'hid': 39, 'wards': 2},\n",
      "                 {'gpm': 520, 'hid': 104, 'wards': 0}],\n",
      "             2: [{'gpm': 703, 'hid': 10, 'wards': 6},\n",
      "                 {'gpm': 485, 'hid': 105, 'wards': 4}],\n",
      "             3: []})\n"
     ]
    },
    {
     "name": "stderr",
     "output_type": "stream",
     "text": [
      " 32%|███▏      | 15899/50000 [01:42<03:25, 166.05it/s]"
     ]
    },
    {
     "name": "stdout",
     "output_type": "stream",
     "text": [
      "====================\n",
      "final roles:  {1: 99, 2: 70}\n",
      "defaultdict(<class 'list'>,\n",
      "            {1: [{'gpm': 341, 'hid': 75, 'wards': 43},\n",
      "                 {'gpm': 566, 'hid': 99, 'wards': 0}],\n",
      "             2: [{'gpm': 604, 'hid': 70, 'wards': 2},\n",
      "                 {'gpm': 562, 'hid': 6, 'wards': 3}],\n",
      "             3: [],\n",
      "             5: [{'gpm': 404, 'hid': 97, 'wards': 7}]})\n"
     ]
    },
    {
     "name": "stderr",
     "output_type": "stream",
     "text": [
      " 32%|███▏      | 16032/50000 [01:43<03:03, 184.93it/s]"
     ]
    },
    {
     "name": "stdout",
     "output_type": "stream",
     "text": [
      "====================\n",
      "final roles:  {2: 22, 3: 96}\n",
      "defaultdict(<class 'list'>,\n",
      "            {1: [],\n",
      "             2: [{'gpm': 835, 'hid': 84, 'wards': 22},\n",
      "                 {'gpm': 1143, 'hid': 22, 'wards': 1},\n",
      "                 {'gpm': 866, 'hid': 17, 'wards': 3}],\n",
      "             3: [{'gpm': 986, 'hid': 96, 'wards': 0},\n",
      "                 {'gpm': 847, 'hid': 85, 'wards': 13}]})\n"
     ]
    },
    {
     "name": "stderr",
     "output_type": "stream",
     "text": [
      " 32%|███▏      | 16145/50000 [01:43<03:17, 171.06it/s]"
     ]
    },
    {
     "name": "stdout",
     "output_type": "stream",
     "text": [
      "====================\n",
      "final roles:  {2: 111, 3: 29}\n",
      "defaultdict(<class 'list'>,\n",
      "            {1: [],\n",
      "             2: [{'gpm': 139, 'hid': 111, 'wards': 0},\n",
      "                 {'gpm': 139, 'hid': 128, 'wards': 0}],\n",
      "             3: [{'gpm': 139, 'hid': 29, 'wards': 0},\n",
      "                 {'gpm': 139, 'hid': 48, 'wards': 0},\n",
      "                 {'gpm': 139, 'hid': 74, 'wards': 0}]})\n",
      "====================\n",
      "final roles:  {2: 27, 3: 126}\n",
      "defaultdict(<class 'list'>,\n",
      "            {1: [],\n",
      "             2: [{'gpm': 1271, 'hid': 27, 'wards': 1},\n",
      "                 {'gpm': 926, 'hid': 109, 'wards': 0}],\n",
      "             3: [{'gpm': 891, 'hid': 126, 'wards': 21},\n",
      "                 {'gpm': 636, 'hid': 21, 'wards': 0}],\n",
      "             4: [{'gpm': 597, 'hid': 26, 'wards': 0}]})\n"
     ]
    },
    {
     "name": "stderr",
     "output_type": "stream",
     "text": [
      " 32%|███▏      | 16221/50000 [01:44<03:06, 180.75it/s]"
     ]
    },
    {
     "name": "stdout",
     "output_type": "stream",
     "text": [
      "====================\n",
      "final roles:  {1: 96, 2: 63}\n",
      "defaultdict(<class 'list'>,\n",
      "            {1: [{'gpm': 873, 'hid': 51, 'wards': 13},\n",
      "                 {'gpm': 1049, 'hid': 96, 'wards': 6}],\n",
      "             2: [{'gpm': 1143, 'hid': 54, 'wards': 4},\n",
      "                 {'gpm': 1508, 'hid': 63, 'wards': 1}],\n",
      "             3: [],\n",
      "             5: [{'gpm': 843, 'hid': 66, 'wards': 16}]})\n"
     ]
    },
    {
     "name": "stderr",
     "output_type": "stream",
     "text": [
      " 33%|███▎      | 16297/50000 [01:44<03:05, 181.55it/s]"
     ]
    },
    {
     "name": "stdout",
     "output_type": "stream",
     "text": [
      "====================\n",
      "final roles:  {1: 1, 2: 18}\n",
      "defaultdict(<class 'list'>,\n",
      "            {1: [{'gpm': 747, 'hid': 1, 'wards': 0}],\n",
      "             2: [{'gpm': 213, 'hid': 128, 'wards': 0},\n",
      "                 {'gpm': 145, 'hid': 97, 'wards': 0},\n",
      "                 {'gpm': 142, 'hid': 14, 'wards': 1},\n",
      "                 {'gpm': 290, 'hid': 18, 'wards': 0}],\n",
      "             3: []})\n"
     ]
    },
    {
     "name": "stderr",
     "output_type": "stream",
     "text": [
      " 34%|███▍      | 16945/50000 [01:48<03:09, 174.48it/s]"
     ]
    },
    {
     "name": "stdout",
     "output_type": "stream",
     "text": [
      "====================\n",
      "final roles:  {1: 14, 2: 45}\n",
      "defaultdict(<class 'list'>,\n",
      "            {1: [{'gpm': 349, 'hid': 14, 'wards': 4},\n",
      "                 {'gpm': 158, 'hid': 42, 'wards': 0}],\n",
      "             2: [{'gpm': 228, 'hid': 45, 'wards': 0},\n",
      "                 {'gpm': 168, 'hid': 21, 'wards': 1},\n",
      "                 {'gpm': 220, 'hid': 6, 'wards': 0}],\n",
      "             3: []})\n",
      "====================\n",
      "final roles:  {1: 44, 2: 17}\n",
      "defaultdict(<class 'list'>,\n",
      "            {1: [{'gpm': 417, 'hid': 44, 'wards': 1},\n",
      "                 {'gpm': 187, 'hid': 26, 'wards': 0}],\n",
      "             2: [{'gpm': 472, 'hid': 17, 'wards': 1},\n",
      "                 {'gpm': 288, 'hid': 42, 'wards': 2}],\n",
      "             3: [],\n",
      "             5: [{'gpm': 480, 'hid': 53, 'wards': 0}]})\n"
     ]
    },
    {
     "name": "stderr",
     "output_type": "stream",
     "text": [
      " 34%|███▍      | 17016/50000 [01:48<03:18, 166.04it/s]"
     ]
    },
    {
     "name": "stdout",
     "output_type": "stream",
     "text": [
      "====================\n",
      "final roles:  {2: 70, 3: 110}\n",
      "defaultdict(<class 'list'>,\n",
      "            {1: [],\n",
      "             2: [{'gpm': 506, 'hid': 14, 'wards': 15},\n",
      "                 {'gpm': 745, 'hid': 100, 'wards': 1},\n",
      "                 {'gpm': 768, 'hid': 70, 'wards': 6}],\n",
      "             3: [{'gpm': 940, 'hid': 110, 'wards': 9}],\n",
      "             5: [{'gpm': 694, 'hid': 97, 'wards': 0}]})\n"
     ]
    },
    {
     "name": "stderr",
     "output_type": "stream",
     "text": [
      " 34%|███▍      | 17225/50000 [01:50<03:08, 174.12it/s]"
     ]
    },
    {
     "name": "stdout",
     "output_type": "stream",
     "text": [
      "====================\n",
      "final roles:  {1: 44, 2: 73}\n",
      "defaultdict(<class 'list'>,\n",
      "            {1: [{'gpm': 701, 'hid': 44, 'wards': 0}],\n",
      "             2: [{'gpm': 569, 'hid': 22, 'wards': 0},\n",
      "                 {'gpm': 506, 'hid': 105, 'wards': 49},\n",
      "                 {'gpm': 667, 'hid': 62, 'wards': 13},\n",
      "                 {'gpm': 671, 'hid': 73, 'wards': 5}],\n",
      "             3: []})\n"
     ]
    },
    {
     "name": "stderr",
     "output_type": "stream",
     "text": [
      " 35%|███▍      | 17281/50000 [01:50<03:03, 177.99it/s]"
     ]
    },
    {
     "name": "stdout",
     "output_type": "stream",
     "text": [
      "====================\n",
      "final roles:  {1: 65, 3: 12}\n",
      "defaultdict(<class 'list'>,\n",
      "            {1: [{'gpm': 287, 'hid': 65, 'wards': 5},\n",
      "                 {'gpm': 247, 'hid': 64, 'wards': 5}],\n",
      "             2: [],\n",
      "             3: [{'gpm': 317, 'hid': 12, 'wards': 2},\n",
      "                 {'gpm': 313, 'hid': 123, 'wards': 0}],\n",
      "             5: [{'gpm': 307, 'hid': 5, 'wards': 20}]})\n"
     ]
    },
    {
     "name": "stderr",
     "output_type": "stream",
     "text": [
      " 35%|███▍      | 17336/50000 [01:50<03:03, 178.14it/s]"
     ]
    },
    {
     "name": "stdout",
     "output_type": "stream",
     "text": [
      "====================\n",
      "final roles:  {1: 85, 2: 106}\n",
      "defaultdict(<class 'list'>,\n",
      "            {1: [{'gpm': 611, 'hid': 85, 'wards': 9},\n",
      "                 {'gpm': 481, 'hid': 123, 'wards': 4}],\n",
      "             2: [{'gpm': 572, 'hid': 31, 'wards': 0},\n",
      "                 {'gpm': 777, 'hid': 106, 'wards': 1},\n",
      "                 {'gpm': 385, 'hid': 58, 'wards': 4}],\n",
      "             3: []})\n"
     ]
    },
    {
     "name": "stderr",
     "output_type": "stream",
     "text": [
      " 35%|███▍      | 17474/50000 [01:51<03:33, 152.15it/s]"
     ]
    },
    {
     "name": "stdout",
     "output_type": "stream",
     "text": [
      "====================\n",
      "final roles:  {2: 72, 3: 123}\n",
      "defaultdict(<class 'list'>,\n",
      "            {1: [],\n",
      "             2: [{'gpm': 1069, 'hid': 101, 'wards': 14},\n",
      "                 {'gpm': 894, 'hid': 44, 'wards': 8},\n",
      "                 {'gpm': 1234, 'hid': 72, 'wards': 0}],\n",
      "             3: [{'gpm': 1023, 'hid': 123, 'wards': 2},\n",
      "                 {'gpm': 995, 'hid': 129, 'wards': 2}]})\n"
     ]
    },
    {
     "name": "stderr",
     "output_type": "stream",
     "text": [
      " 35%|███▌      | 17628/50000 [01:52<03:35, 150.38it/s]"
     ]
    },
    {
     "name": "stdout",
     "output_type": "stream",
     "text": [
      "====================\n",
      "final roles:  {1: 101, 2: 106}\n",
      "defaultdict(<class 'list'>,\n",
      "            {1: [{'gpm': 632, 'hid': 101, 'wards': 6}],\n",
      "             2: [{'gpm': 576, 'hid': 14, 'wards': 1},\n",
      "                 {'gpm': 631, 'hid': 106, 'wards': 6},\n",
      "                 {'gpm': 543, 'hid': 46, 'wards': 16},\n",
      "                 {'gpm': 606, 'hid': 75, 'wards': 1}],\n",
      "             3: []})\n"
     ]
    },
    {
     "name": "stderr",
     "output_type": "stream",
     "text": [
      " 35%|███▌      | 17734/50000 [01:53<03:06, 173.04it/s]"
     ]
    },
    {
     "name": "stdout",
     "output_type": "stream",
     "text": [
      "====================\n",
      "final roles:  {1: 42, 2: 126}\n",
      "defaultdict(<class 'list'>,\n",
      "            {1: [{'gpm': 353, 'hid': 26, 'wards': 56},\n",
      "                 {'gpm': 384, 'hid': 28, 'wards': 0},\n",
      "                 {'gpm': 500, 'hid': 42, 'wards': 0}],\n",
      "             2: [{'gpm': 552, 'hid': 126, 'wards': 1}],\n",
      "             3: [],\n",
      "             5: [{'gpm': 542, 'hid': 105, 'wards': 16}]})\n"
     ]
    },
    {
     "name": "stderr",
     "output_type": "stream",
     "text": [
      " 36%|███▌      | 17788/50000 [01:53<03:24, 157.81it/s]"
     ]
    },
    {
     "name": "stdout",
     "output_type": "stream",
     "text": [
      "====================\n",
      "final roles:  {1: 10, 2: 19}\n",
      "defaultdict(<class 'list'>,\n",
      "            {1: [{'gpm': 766, 'hid': 10, 'wards': 0},\n",
      "                 {'gpm': 680, 'hid': 101, 'wards': 4}],\n",
      "             2: [{'gpm': 1222, 'hid': 19, 'wards': 8}],\n",
      "             3: [],\n",
      "             4: [{'gpm': 592, 'hid': 40, 'wards': 25},\n",
      "                 {'gpm': 769, 'hid': 53, 'wards': 0}]})\n",
      "====================\n",
      "final roles:  {2: 126, 3: 87}\n",
      "defaultdict(<class 'list'>,\n",
      "            {1: [],\n",
      "             2: [{'gpm': 153, 'hid': 48, 'wards': 16},\n",
      "                 {'gpm': 865, 'hid': 126, 'wards': 2}],\n",
      "             3: [{'gpm': 174, 'hid': 50, 'wards': 1},\n",
      "                 {'gpm': 415, 'hid': 129, 'wards': 0},\n",
      "                 {'gpm': 629, 'hid': 87, 'wards': 11}]})\n"
     ]
    },
    {
     "name": "stderr",
     "output_type": "stream",
     "text": [
      " 36%|███▌      | 17826/50000 [01:53<03:09, 170.20it/s]"
     ]
    },
    {
     "name": "stdout",
     "output_type": "stream",
     "text": [
      "====================\n",
      "final roles:  {1: 64, 2: 21}\n",
      "defaultdict(<class 'list'>,\n",
      "            {1: [{'gpm': 500, 'hid': 64, 'wards': 0},\n",
      "                 {'gpm': 481, 'hid': 14, 'wards': 0}],\n",
      "             2: [{'gpm': 889, 'hid': 84, 'wards': 32},\n",
      "                 {'gpm': 1228, 'hid': 21, 'wards': 3},\n",
      "                 {'gpm': 628, 'hid': 111, 'wards': 0}],\n",
      "             3: []})\n"
     ]
    },
    {
     "name": "stderr",
     "output_type": "stream",
     "text": [
      " 36%|███▌      | 18042/50000 [01:54<03:02, 175.02it/s]"
     ]
    },
    {
     "name": "stdout",
     "output_type": "stream",
     "text": [
      "====================\n",
      "final roles:  {1: 97, 2: 17}\n",
      "defaultdict(<class 'list'>,\n",
      "            {1: [{'gpm': 309, 'hid': 3, 'wards': 32},\n",
      "                 {'gpm': 318, 'hid': 97, 'wards': 0}],\n",
      "             2: [{'gpm': 370, 'hid': 5, 'wards': 32},\n",
      "                 {'gpm': 617, 'hid': 17, 'wards': 4}],\n",
      "             3: [],\n",
      "             5: [{'gpm': 510, 'hid': 94, 'wards': 2}]})\n"
     ]
    },
    {
     "name": "stderr",
     "output_type": "stream",
     "text": [
      " 36%|███▌      | 18099/50000 [01:55<02:54, 182.45it/s]"
     ]
    },
    {
     "name": "stdout",
     "output_type": "stream",
     "text": [
      "====================\n",
      "final roles:  {1: 114, 2: 27}\n",
      "defaultdict(<class 'list'>,\n",
      "            {1: [{'gpm': 489, 'hid': 114, 'wards': 1},\n",
      "                 {'gpm': 395, 'hid': 74, 'wards': 1}],\n",
      "             2: [{'gpm': 277, 'hid': 20, 'wards': 8},\n",
      "                 {'gpm': 551, 'hid': 27, 'wards': 32}],\n",
      "             3: [],\n",
      "             5: [{'gpm': 748, 'hid': 4, 'wards': 0}]})\n"
     ]
    },
    {
     "name": "stderr",
     "output_type": "stream",
     "text": [
      " 36%|███▋      | 18177/50000 [01:55<02:54, 182.67it/s]"
     ]
    },
    {
     "name": "stdout",
     "output_type": "stream",
     "text": [
      "====================\n",
      "final roles:  {2: 12, 3: 61}\n",
      "defaultdict(<class 'list'>,\n",
      "            {1: [],\n",
      "             2: [{'gpm': 133, 'hid': 86, 'wards': 0},\n",
      "                 {'gpm': 127, 'hid': 10, 'wards': 0},\n",
      "                 {'gpm': 149, 'hid': 12, 'wards': 3},\n",
      "                 {'gpm': 135, 'hid': 105, 'wards': 0}],\n",
      "             3: [{'gpm': 121, 'hid': 61, 'wards': 0}]})\n",
      "====================\n",
      "final roles:  {1: 25, 2: 17}\n",
      "defaultdict(<class 'list'>,\n",
      "            {1: [{'gpm': 826, 'hid': 25, 'wards': 7},\n",
      "                 {'gpm': 667, 'hid': 98, 'wards': 1}],\n",
      "             2: [{'gpm': 465, 'hid': 64, 'wards': 30},\n",
      "                 {'gpm': 836, 'hid': 17, 'wards': 0}],\n",
      "             3: [],\n",
      "             5: [{'gpm': 795, 'hid': 89, 'wards': 6}]})\n"
     ]
    },
    {
     "name": "stderr",
     "output_type": "stream",
     "text": [
      " 36%|███▋      | 18215/50000 [01:55<03:09, 167.98it/s]"
     ]
    },
    {
     "name": "stdout",
     "output_type": "stream",
     "text": [
      "====================\n",
      "final roles:  {2: 97, 3: 21}\n",
      "defaultdict(<class 'list'>,\n",
      "            {1: [],\n",
      "             2: [{'gpm': 277, 'hid': 97, 'wards': 5},\n",
      "                 {'gpm': 183, 'hid': 41, 'wards': 0},\n",
      "                 {'gpm': 262, 'hid': 17, 'wards': 0}],\n",
      "             3: [{'gpm': 227, 'hid': 71, 'wards': 0},\n",
      "                 {'gpm': 301, 'hid': 21, 'wards': 1}]})\n",
      "====================\n",
      "final roles:  {2: 135, 3: 1}\n",
      "defaultdict(<class 'list'>,\n",
      "            {1: [],\n",
      "             2: [{'gpm': 186, 'hid': 103, 'wards': 1},\n",
      "                 {'gpm': 221, 'hid': 135, 'wards': 0},\n",
      "                 {'gpm': 152, 'hid': 65, 'wards': 0}],\n",
      "             3: [{'gpm': 313, 'hid': 1, 'wards': 0},\n",
      "                 {'gpm': 127, 'hid': 10, 'wards': 0}]})\n"
     ]
    },
    {
     "name": "stderr",
     "output_type": "stream",
     "text": [
      " 37%|███▋      | 18269/50000 [01:56<03:05, 171.31it/s]"
     ]
    },
    {
     "name": "stdout",
     "output_type": "stream",
     "text": [
      "====================\n",
      "final roles:  {2: 14, 3: 44}\n",
      "defaultdict(<class 'list'>,\n",
      "            {1: [],\n",
      "             2: [{'gpm': 916, 'hid': 8, 'wards': 0},\n",
      "                 {'gpm': 394, 'hid': 5, 'wards': 0},\n",
      "                 {'gpm': 929, 'hid': 14, 'wards': 0}],\n",
      "             3: [{'gpm': 703, 'hid': 21, 'wards': 2},\n",
      "                 {'gpm': 859, 'hid': 44, 'wards': 0}]})\n",
      "====================\n",
      "final roles:  {2: 37, 3: 31}\n",
      "defaultdict(<class 'list'>,\n",
      "            {1: [],\n",
      "             2: [{'gpm': 454, 'hid': 37, 'wards': 0},\n",
      "                 {'gpm': 321, 'hid': 22, 'wards': 0},\n",
      "                 {'gpm': 285, 'hid': 6, 'wards': 0},\n",
      "                 {'gpm': 324, 'hid': 29, 'wards': 0}],\n",
      "             3: [{'gpm': 304, 'hid': 31, 'wards': 0}]})\n"
     ]
    },
    {
     "name": "stderr",
     "output_type": "stream",
     "text": [
      " 37%|███▋      | 18418/50000 [01:57<03:21, 156.47it/s]"
     ]
    },
    {
     "name": "stdout",
     "output_type": "stream",
     "text": [
      "====================\n",
      "final roles:  {2: 10, 3: 44}\n",
      "defaultdict(<class 'list'>,\n",
      "            {1: [],\n",
      "             2: [{'gpm': 931, 'hid': 10, 'wards': 1},\n",
      "                 {'gpm': 498, 'hid': 55, 'wards': 5}],\n",
      "             3: [{'gpm': 548, 'hid': 8, 'wards': 0},\n",
      "                 {'gpm': 711, 'hid': 44, 'wards': 2}],\n",
      "             5: [{'gpm': 614, 'hid': 33, 'wards': 3}]})\n"
     ]
    },
    {
     "name": "stderr",
     "output_type": "stream",
     "text": [
      " 38%|███▊      | 18842/50000 [01:59<03:04, 168.74it/s]"
     ]
    },
    {
     "name": "stdout",
     "output_type": "stream",
     "text": [
      "====================\n",
      "final roles:  {2: 17, 3: 39}\n",
      "defaultdict(<class 'list'>,\n",
      "            {1: [],\n",
      "             2: [{'gpm': 200, 'hid': 103, 'wards': 3},\n",
      "                 {'gpm': 239, 'hid': 17, 'wards': 0}],\n",
      "             3: [{'gpm': 330, 'hid': 39, 'wards': 0}],\n",
      "             4: [{'gpm': 132, 'hid': 80, 'wards': 0},\n",
      "                 {'gpm': 165, 'hid': 9, 'wards': 2}]})\n",
      "====================\n",
      "final roles:  {1: 48, 2: 17}\n",
      "defaultdict(<class 'list'>,\n",
      "            {1: [{'gpm': 790, 'hid': 68, 'wards': 3},\n",
      "                 {'gpm': 797, 'hid': 48, 'wards': 3}],\n",
      "             2: [{'gpm': 1084, 'hid': 17, 'wards': 15},\n",
      "                 {'gpm': 587, 'hid': 40, 'wards': 4},\n",
      "                 {'gpm': 612, 'hid': 23, 'wards': 0}],\n",
      "             3: []})\n"
     ]
    },
    {
     "name": "stderr",
     "output_type": "stream",
     "text": [
      " 38%|███▊      | 19178/50000 [02:01<02:52, 178.98it/s]"
     ]
    },
    {
     "name": "stdout",
     "output_type": "stream",
     "text": [
      "====================\n",
      "final roles:  {1: 35, 2: 19}\n",
      "defaultdict(<class 'list'>,\n",
      "            {1: [{'gpm': 342, 'hid': 84, 'wards': 33},\n",
      "                 {'gpm': 635, 'hid': 35, 'wards': 0}],\n",
      "             2: [{'gpm': 438, 'hid': 59, 'wards': 5},\n",
      "                 {'gpm': 527, 'hid': 126, 'wards': 7},\n",
      "                 {'gpm': 643, 'hid': 19, 'wards': 1}],\n",
      "             3: []})\n"
     ]
    },
    {
     "name": "stderr",
     "output_type": "stream",
     "text": [
      " 38%|███▊      | 19235/50000 [02:01<02:48, 182.56it/s]"
     ]
    },
    {
     "name": "stdout",
     "output_type": "stream",
     "text": [
      "====================\n",
      "final roles:  {2: 10, 3: 41}\n",
      "defaultdict(<class 'list'>,\n",
      "            {1: [],\n",
      "             2: [{'gpm': 709, 'hid': 10, 'wards': 0},\n",
      "                 {'gpm': 488, 'hid': 48, 'wards': 2}],\n",
      "             3: [{'gpm': 407, 'hid': 41, 'wards': 1},\n",
      "                 {'gpm': 271, 'hid': 14, 'wards': 9}],\n",
      "             4: [{'gpm': 671, 'hid': 54, 'wards': 12}]})\n"
     ]
    },
    {
     "name": "stderr",
     "output_type": "stream",
     "text": [
      " 39%|███▉      | 19642/50000 [02:04<02:40, 188.61it/s]"
     ]
    },
    {
     "name": "stdout",
     "output_type": "stream",
     "text": [
      "====================\n",
      "final roles:  {1: 19, 2: 74}\n",
      "defaultdict(<class 'list'>,\n",
      "            {1: [{'gpm': 826, 'hid': 19, 'wards': 0},\n",
      "                 {'gpm': 509, 'hid': 9, 'wards': 59},\n",
      "                 {'gpm': 412, 'hid': 33, 'wards': 19}],\n",
      "             2: [{'gpm': 582, 'hid': 74, 'wards': 0}],\n",
      "             3: [],\n",
      "             4: [{'gpm': 696, 'hid': 1, 'wards': 7}]})\n",
      "====================\n",
      "final roles:  {1: 104, 2: 76}\n",
      "defaultdict(<class 'list'>,\n",
      "            {1: [{'gpm': 361, 'hid': 104, 'wards': 19}],\n",
      "             2: [{'gpm': 270, 'hid': 111, 'wards': 2},\n",
      "                 {'gpm': 247, 'hid': 71, 'wards': 1},\n",
      "                 {'gpm': 352, 'hid': 76, 'wards': 2}],\n",
      "             3: [],\n",
      "             5: [{'gpm': 301, 'hid': 10, 'wards': 0}]})\n"
     ]
    },
    {
     "name": "stderr",
     "output_type": "stream",
     "text": [
      " 40%|███▉      | 19803/50000 [02:04<02:36, 192.36it/s]"
     ]
    },
    {
     "name": "stdout",
     "output_type": "stream",
     "text": [
      "====================\n",
      "final roles:  {1: 41, 2: 22}\n",
      "defaultdict(<class 'list'>,\n",
      "            {1: [{'gpm': 625, 'hid': 41, 'wards': 4},\n",
      "                 {'gpm': 570, 'hid': 51, 'wards': 0}],\n",
      "             2: [{'gpm': 698, 'hid': 22, 'wards': 29},\n",
      "                 {'gpm': 470, 'hid': 114, 'wards': 0},\n",
      "                 {'gpm': 391, 'hid': 74, 'wards': 6}],\n",
      "             3: []})\n"
     ]
    },
    {
     "name": "stderr",
     "output_type": "stream",
     "text": [
      " 40%|███▉      | 19843/50000 [02:05<02:40, 187.40it/s]"
     ]
    },
    {
     "name": "stdout",
     "output_type": "stream",
     "text": [
      "====================\n",
      "final roles:  {1: 19, 2: 85}\n",
      "defaultdict(<class 'list'>,\n",
      "            {1: [{'gpm': 1585, 'hid': 19, 'wards': 0},\n",
      "                 {'gpm': 593, 'hid': 83, 'wards': 12}],\n",
      "             2: [{'gpm': 823, 'hid': 4, 'wards': 0},\n",
      "                 {'gpm': 853, 'hid': 85, 'wards': 5},\n",
      "                 {'gpm': 564, 'hid': 74, 'wards': 1}],\n",
      "             3: []})\n",
      "====================\n",
      "final roles:  {1: 22, 2: 36}\n",
      "defaultdict(<class 'list'>,\n",
      "            {1: [{'gpm': 480, 'hid': 47, 'wards': 36},\n",
      "                 {'gpm': 818, 'hid': 22, 'wards': 0}],\n",
      "             2: [{'gpm': 920, 'hid': 36, 'wards': 1},\n",
      "                 {'gpm': 727, 'hid': 119, 'wards': 2}],\n",
      "             3: [],\n",
      "             5: [{'gpm': 569, 'hid': 41, 'wards': 0}]})\n"
     ]
    },
    {
     "name": "stderr",
     "output_type": "stream",
     "text": [
      " 40%|███▉      | 19900/50000 [02:05<03:04, 162.85it/s]"
     ]
    },
    {
     "name": "stdout",
     "output_type": "stream",
     "text": [
      "====================\n",
      "final roles:  {1: 86, 2: 84}\n",
      "defaultdict(<class 'list'>,\n",
      "            {1: [{'gpm': 329, 'hid': 8, 'wards': 19},\n",
      "                 {'gpm': 339, 'hid': 86, 'wards': 2}],\n",
      "             2: [{'gpm': 508, 'hid': 84, 'wards': 18},\n",
      "                 {'gpm': 364, 'hid': 42, 'wards': 4}],\n",
      "             3: [],\n",
      "             4: [{'gpm': 424, 'hid': 11, 'wards': 3}]})\n",
      "====================\n",
      "final roles:  {1: 67, 2: 35}\n",
      "defaultdict(<class 'list'>,\n",
      "            {1: [{'gpm': 1075, 'hid': 67, 'wards': 0}],\n",
      "             2: [{'gpm': 1260, 'hid': 35, 'wards': 25},\n",
      "                 {'gpm': 329, 'hid': 14, 'wards': 0},\n",
      "                 {'gpm': 927, 'hid': 94, 'wards': 1},\n",
      "                 {'gpm': 928, 'hid': 123, 'wards': 14}],\n",
      "             3: []})\n"
     ]
    },
    {
     "name": "stderr",
     "output_type": "stream",
     "text": [
      " 40%|████      | 20032/50000 [02:06<02:43, 183.75it/s]"
     ]
    },
    {
     "name": "stdout",
     "output_type": "stream",
     "text": [
      "====================\n",
      "final roles:  {2: 34, 3: 18}\n",
      "defaultdict(<class 'list'>,\n",
      "            {1: [],\n",
      "             2: [{'gpm': 423, 'hid': 34, 'wards': 3}],\n",
      "             3: [{'gpm': 204, 'hid': 16, 'wards': 34},\n",
      "                 {'gpm': 185, 'hid': 91, 'wards': 12},\n",
      "                 {'gpm': 359, 'hid': 18, 'wards': 0}],\n",
      "             5: [{'gpm': 385, 'hid': 29, 'wards': 0}]})\n"
     ]
    },
    {
     "name": "stderr",
     "output_type": "stream",
     "text": [
      " 41%|████      | 20252/50000 [02:07<02:33, 194.02it/s]"
     ]
    },
    {
     "name": "stdout",
     "output_type": "stream",
     "text": [
      "====================\n",
      "final roles:  {1: 63, 3: 1}\n",
      "defaultdict(<class 'list'>,\n",
      "            {1: [{'gpm': 679, 'hid': 97, 'wards': 1},\n",
      "                 {'gpm': 734, 'hid': 70, 'wards': 0},\n",
      "                 {'gpm': 1136, 'hid': 63, 'wards': 5}],\n",
      "             2: [],\n",
      "             3: [{'gpm': 667, 'hid': 93, 'wards': 2},\n",
      "                 {'gpm': 739, 'hid': 1, 'wards': 0}]})\n"
     ]
    },
    {
     "name": "stderr",
     "output_type": "stream",
     "text": [
      " 41%|████      | 20369/50000 [02:08<02:43, 180.91it/s]"
     ]
    },
    {
     "name": "stdout",
     "output_type": "stream",
     "text": [
      "====================\n",
      "final roles:  {1: 48, 2: 17}\n",
      "defaultdict(<class 'list'>,\n",
      "            {1: [{'gpm': 1006, 'hid': 48, 'wards': 6}],\n",
      "             2: [{'gpm': 564, 'hid': 6, 'wards': 0},\n",
      "                 {'gpm': 524, 'hid': 14, 'wards': 10},\n",
      "                 {'gpm': 508, 'hid': 90, 'wards': 1},\n",
      "                 {'gpm': 1347, 'hid': 17, 'wards': 2}],\n",
      "             3: []})\n",
      "====================\n",
      "final roles:  {1: 99, 2: 106}\n",
      "defaultdict(<class 'list'>,\n",
      "            {1: [{'gpm': 1265, 'hid': 99, 'wards': 0},\n",
      "                 {'gpm': 692, 'hid': 71, 'wards': 0},\n",
      "                 {'gpm': 1009, 'hid': 85, 'wards': 0}],\n",
      "             2: [{'gpm': 1208, 'hid': 106, 'wards': 1},\n",
      "                 {'gpm': 726, 'hid': 5, 'wards': 31}],\n",
      "             3: []})\n"
     ]
    },
    {
     "name": "stderr",
     "output_type": "stream",
     "text": [
      " 41%|████      | 20445/50000 [02:08<02:43, 180.82it/s]"
     ]
    },
    {
     "name": "stdout",
     "output_type": "stream",
     "text": [
      "====================\n",
      "final roles:  {2: 101, 3: 19}\n",
      "defaultdict(<class 'list'>,\n",
      "            {1: [],\n",
      "             2: [{'gpm': 350, 'hid': 101, 'wards': 1}],\n",
      "             3: [{'gpm': 397, 'hid': 19, 'wards': 0},\n",
      "                 {'gpm': 170, 'hid': 3, 'wards': 52}],\n",
      "             5: [{'gpm': 387, 'hid': 78, 'wards': 0},\n",
      "                 {'gpm': 260, 'hid': 135, 'wards': 3}]})\n"
     ]
    },
    {
     "name": "stderr",
     "output_type": "stream",
     "text": [
      " 41%|████      | 20482/50000 [02:08<02:53, 169.65it/s]"
     ]
    },
    {
     "name": "stdout",
     "output_type": "stream",
     "text": [
      "====================\n",
      "final roles:  {2: 94, 3: 55}\n",
      "defaultdict(<class 'list'>,\n",
      "            {1: [],\n",
      "             2: [{'gpm': 716, 'hid': 94, 'wards': 2},\n",
      "                 {'gpm': 314, 'hid': 14, 'wards': 40},\n",
      "                 {'gpm': 454, 'hid': 42, 'wards': 0}],\n",
      "             3: [{'gpm': 370, 'hid': 62, 'wards': 18},\n",
      "                 {'gpm': 480, 'hid': 55, 'wards': 5}]})\n",
      "====================\n",
      "final roles:  {1: 7, 2: 1}\n",
      "defaultdict(<class 'list'>,\n",
      "            {1: [{'gpm': 1135, 'hid': 7, 'wards': 4},\n",
      "                 {'gpm': 790, 'hid': 27, 'wards': 17}],\n",
      "             2: [{'gpm': 1175, 'hid': 1, 'wards': 1},\n",
      "                 {'gpm': 700, 'hid': 20, 'wards': 5}],\n",
      "             3: [],\n",
      "             5: [{'gpm': 1101, 'hid': 18, 'wards': 0}]})\n"
     ]
    },
    {
     "name": "stderr",
     "output_type": "stream",
     "text": [
      " 41%|████      | 20588/50000 [02:09<03:01, 162.12it/s]"
     ]
    },
    {
     "name": "stdout",
     "output_type": "stream",
     "text": [
      "====================\n",
      "final roles:  {1: 48, 2: 114}\n",
      "defaultdict(<class 'list'>,\n",
      "            {1: [{'gpm': 288, 'hid': 48, 'wards': 0},\n",
      "                 {'gpm': 184, 'hid': 68, 'wards': 10}],\n",
      "             2: [{'gpm': 440, 'hid': 114, 'wards': 2},\n",
      "                 {'gpm': 289, 'hid': 54, 'wards': 3},\n",
      "                 {'gpm': 197, 'hid': 7, 'wards': 0}],\n",
      "             3: []})\n"
     ]
    },
    {
     "name": "stderr",
     "output_type": "stream",
     "text": [
      " 42%|████▏     | 20761/50000 [02:10<02:53, 168.24it/s]"
     ]
    },
    {
     "name": "stdout",
     "output_type": "stream",
     "text": [
      "====================\n",
      "final roles:  {1: 48, 2: 76}\n",
      "defaultdict(<class 'list'>,\n",
      "            {1: [{'gpm': 587, 'hid': 110, 'wards': 2},\n",
      "                 {'gpm': 709, 'hid': 48, 'wards': 1}],\n",
      "             2: [{'gpm': 855, 'hid': 7, 'wards': 16},\n",
      "                 {'gpm': 1514, 'hid': 76, 'wards': 9}],\n",
      "             3: [],\n",
      "             5: [{'gpm': 1073, 'hid': 12, 'wards': 1}]})\n"
     ]
    },
    {
     "name": "stderr",
     "output_type": "stream",
     "text": [
      " 42%|████▏     | 20817/50000 [02:10<02:44, 176.93it/s]"
     ]
    },
    {
     "name": "stdout",
     "output_type": "stream",
     "text": [
      "====================\n",
      "final roles:  {1: 86, 2: 11}\n",
      "defaultdict(<class 'list'>,\n",
      "            {1: [{'gpm': 314, 'hid': 12, 'wards': 5},\n",
      "                 {'gpm': 371, 'hid': 86, 'wards': 1}],\n",
      "             2: [{'gpm': 244, 'hid': 95, 'wards': 4},\n",
      "                 {'gpm': 509, 'hid': 11, 'wards': 11},\n",
      "                 {'gpm': 127, 'hid': 93, 'wards': 0}],\n",
      "             3: []})\n",
      "====================\n",
      "final roles:  {2: 5, 3: 97}\n",
      "defaultdict(<class 'list'>,\n",
      "            {1: [],\n",
      "             2: [{'gpm': 281, 'hid': 5, 'wards': 5},\n",
      "                 {'gpm': 163, 'hid': 120, 'wards': 2}],\n",
      "             3: [{'gpm': 261, 'hid': 114, 'wards': 16},\n",
      "                 {'gpm': 600, 'hid': 97, 'wards': 0}],\n",
      "             5: [{'gpm': 345, 'hid': 77, 'wards': 0}]})\n",
      "====================\n",
      "final roles:  {1: 135, 2: 123}\n",
      "defaultdict(<class 'list'>,\n",
      "            {1: [{'gpm': 388, 'hid': 3, 'wards': 13},\n",
      "                 {'gpm': 797, 'hid': 135, 'wards': 0}],\n",
      "             2: [{'gpm': 745, 'hid': 74, 'wards': 22},\n",
      "                 {'gpm': 550, 'hid': 114, 'wards': 3},\n",
      "                 {'gpm': 1009, 'hid': 123, 'wards': 1}],\n",
      "             3: []})\n",
      "====================\n",
      "final roles:  {1: 47, 2: 30}\n",
      "defaultdict(<class 'list'>,\n",
      "            {1: [{'gpm': 452, 'hid': 47, 'wards': 0}],\n",
      "             2: [{'gpm': 298, 'hid': 89, 'wards': 0},\n",
      "                 {'gpm': 456, 'hid': 56, 'wards': 0},\n",
      "                 {'gpm': 320, 'hid': 9, 'wards': 0},\n",
      "                 {'gpm': 518, 'hid': 30, 'wards': 0}],\n",
      "             3: []})\n"
     ]
    },
    {
     "name": "stderr",
     "output_type": "stream",
     "text": [
      " 42%|████▏     | 20919/50000 [02:11<02:28, 195.93it/s]"
     ]
    },
    {
     "name": "stdout",
     "output_type": "stream",
     "text": [
      "====================\n",
      "final roles:  {1: 71, 2: 126}\n",
      "defaultdict(<class 'list'>,\n",
      "            {1: [{'gpm': 674, 'hid': 106, 'wards': 10},\n",
      "                 {'gpm': 805, 'hid': 17, 'wards': 0},\n",
      "                 {'gpm': 893, 'hid': 71, 'wards': 2}],\n",
      "             2: [{'gpm': 835, 'hid': 107, 'wards': 0},\n",
      "                 {'gpm': 1053, 'hid': 126, 'wards': 2}],\n",
      "             3: []})\n"
     ]
    },
    {
     "name": "stderr",
     "output_type": "stream",
     "text": [
      " 42%|████▏     | 20960/50000 [02:11<02:28, 195.54it/s]"
     ]
    },
    {
     "name": "stdout",
     "output_type": "stream",
     "text": [
      "====================\n",
      "final roles:  {1: 34, 2: 46}\n",
      "defaultdict(<class 'list'>,\n",
      "            {1: [{'gpm': 102, 'hid': 34, 'wards': 0}],\n",
      "             2: [{'gpm': 102, 'hid': 114, 'wards': 0},\n",
      "                 {'gpm': 102, 'hid': 67, 'wards': 0},\n",
      "                 {'gpm': 119, 'hid': 22, 'wards': 0},\n",
      "                 {'gpm': 193, 'hid': 46, 'wards': 0}],\n",
      "             3: []})\n",
      "====================\n",
      "final roles:  {1: 11, 2: 59}\n",
      "defaultdict(<class 'list'>,\n",
      "            {1: [{'gpm': 665, 'hid': 31, 'wards': 1},\n",
      "                 {'gpm': 1034, 'hid': 11, 'wards': 0}],\n",
      "             2: [{'gpm': 986, 'hid': 47, 'wards': 0},\n",
      "                 {'gpm': 1204, 'hid': 59, 'wards': 2}],\n",
      "             3: [],\n",
      "             5: [{'gpm': 841, 'hid': 70, 'wards': 0}]})\n"
     ]
    },
    {
     "name": "stderr",
     "output_type": "stream",
     "text": [
      " 42%|████▏     | 21001/50000 [02:11<02:38, 182.59it/s]"
     ]
    },
    {
     "name": "stdout",
     "output_type": "stream",
     "text": [
      "====================\n",
      "final roles:  {1: 48, 2: 8}\n",
      "defaultdict(<class 'list'>,\n",
      "            {1: [{'gpm': 367, 'hid': 91, 'wards': 6},\n",
      "                 {'gpm': 745, 'hid': 48, 'wards': 1}],\n",
      "             2: [{'gpm': 146, 'hid': 43, 'wards': 0},\n",
      "                 {'gpm': 209, 'hid': 70, 'wards': 0},\n",
      "                 {'gpm': 760, 'hid': 8, 'wards': 0}],\n",
      "             3: []})\n",
      "====================\n",
      "final roles:  {1: 44, 2: 23}\n",
      "defaultdict(<class 'list'>,\n",
      "            {1: [{'gpm': 1564, 'hid': 44, 'wards': 12},\n",
      "                 {'gpm': 788, 'hid': 105, 'wards': 14},\n",
      "                 {'gpm': 680, 'hid': 68, 'wards': 2}],\n",
      "             2: [{'gpm': 430, 'hid': 11, 'wards': 0},\n",
      "                 {'gpm': 1071, 'hid': 23, 'wards': 6}],\n",
      "             3: []})\n"
     ]
    },
    {
     "name": "stderr",
     "output_type": "stream",
     "text": [
      " 43%|████▎     | 21523/50000 [02:14<02:19, 204.66it/s]"
     ]
    },
    {
     "name": "stdout",
     "output_type": "stream",
     "text": [
      "====================\n",
      "final roles:  {2: 74, 3: 14}\n",
      "defaultdict(<class 'list'>,\n",
      "            {1: [],\n",
      "             2: [{'gpm': 617, 'hid': 74, 'wards': 5}],\n",
      "             3: [{'gpm': 361, 'hid': 26, 'wards': 52},\n",
      "                 {'gpm': 388, 'hid': 14, 'wards': 0},\n",
      "                 {'gpm': 268, 'hid': 107, 'wards': 16}],\n",
      "             4: [{'gpm': 837, 'hid': 42, 'wards': 1}]})\n"
     ]
    },
    {
     "name": "stderr",
     "output_type": "stream",
     "text": [
      " 43%|████▎     | 21586/50000 [02:14<02:22, 200.03it/s]"
     ]
    },
    {
     "name": "stdout",
     "output_type": "stream",
     "text": [
      "====================\n",
      "final roles:  {2: 67, 3: 30}\n",
      "defaultdict(<class 'list'>,\n",
      "            {1: [],\n",
      "             2: [{'gpm': 178, 'hid': 85, 'wards': 0},\n",
      "                 {'gpm': 195, 'hid': 29, 'wards': 3},\n",
      "                 {'gpm': 263, 'hid': 67, 'wards': 2}],\n",
      "             3: [{'gpm': 173, 'hid': 80, 'wards': 0},\n",
      "                 {'gpm': 248, 'hid': 30, 'wards': 1}]})\n"
     ]
    },
    {
     "name": "stderr",
     "output_type": "stream",
     "text": [
      " 43%|████▎     | 21649/50000 [02:14<02:27, 192.81it/s]"
     ]
    },
    {
     "name": "stdout",
     "output_type": "stream",
     "text": [
      "====================\n",
      "final roles:  {2: 94, 3: 97}\n",
      "defaultdict(<class 'list'>,\n",
      "            {1: [],\n",
      "             2: [{'gpm': 631, 'hid': 50, 'wards': 25},\n",
      "                 {'gpm': 1288, 'hid': 101, 'wards': 3},\n",
      "                 {'gpm': 1475, 'hid': 94, 'wards': 0}],\n",
      "             3: [{'gpm': 647, 'hid': 44, 'wards': 0},\n",
      "                 {'gpm': 851, 'hid': 97, 'wards': 3}]})\n"
     ]
    },
    {
     "name": "stderr",
     "output_type": "stream",
     "text": [
      " 44%|████▎     | 21858/50000 [02:16<02:29, 188.61it/s]"
     ]
    },
    {
     "name": "stdout",
     "output_type": "stream",
     "text": [
      "====================\n",
      "final roles:  {2: 17, 3: 14}\n",
      "defaultdict(<class 'list'>,\n",
      "            {1: [],\n",
      "             2: [{'gpm': 423, 'hid': 42, 'wards': 0},\n",
      "                 {'gpm': 404, 'hid': 50, 'wards': 8},\n",
      "                 {'gpm': 686, 'hid': 101, 'wards': 0},\n",
      "                 {'gpm': 977, 'hid': 17, 'wards': 1}],\n",
      "             3: [{'gpm': 621, 'hid': 14, 'wards': 0}]})\n",
      "====================\n",
      "final roles:  {2: 72, 3: 109}\n",
      "defaultdict(<class 'list'>,\n",
      "            {1: [],\n",
      "             2: [{'gpm': 1197, 'hid': 72, 'wards': 3},\n",
      "                 {'gpm': 458, 'hid': 53, 'wards': 0},\n",
      "                 {'gpm': 974, 'hid': 19, 'wards': 0},\n",
      "                 {'gpm': 597, 'hid': 45, 'wards': 2}],\n",
      "             3: [{'gpm': 847, 'hid': 109, 'wards': 1}]})\n"
     ]
    },
    {
     "name": "stderr",
     "output_type": "stream",
     "text": [
      " 44%|████▍     | 22159/50000 [02:17<02:19, 199.08it/s]"
     ]
    },
    {
     "name": "stdout",
     "output_type": "stream",
     "text": [
      "====================\n",
      "final roles:  {1: 54, 2: 89}\n",
      "defaultdict(<class 'list'>,\n",
      "            {1: [{'gpm': 801, 'hid': 46, 'wards': 0},\n",
      "                 {'gpm': 866, 'hid': 54, 'wards': 0}],\n",
      "             2: [{'gpm': 1101, 'hid': 89, 'wards': 1},\n",
      "                 {'gpm': 630, 'hid': 32, 'wards': 0},\n",
      "                 {'gpm': 715, 'hid': 74, 'wards': 0}],\n",
      "             3: []})\n"
     ]
    },
    {
     "name": "stderr",
     "output_type": "stream",
     "text": [
      " 44%|████▍     | 22201/50000 [02:17<02:19, 199.17it/s]"
     ]
    },
    {
     "name": "stdout",
     "output_type": "stream",
     "text": [
      "====================\n",
      "final roles:  {1: 67, 2: 74}\n",
      "defaultdict(<class 'list'>,\n",
      "            {1: [{'gpm': 313, 'hid': 14, 'wards': 32},\n",
      "                 {'gpm': 504, 'hid': 123, 'wards': 0},\n",
      "                 {'gpm': 591, 'hid': 67, 'wards': 0}],\n",
      "             2: [{'gpm': 656, 'hid': 74, 'wards': 4}],\n",
      "             3: [],\n",
      "             4: [{'gpm': 573, 'hid': 59, 'wards': 4}]})\n"
     ]
    },
    {
     "name": "stderr",
     "output_type": "stream",
     "text": [
      " 45%|████▍     | 22347/50000 [02:18<02:18, 200.02it/s]"
     ]
    },
    {
     "name": "stdout",
     "output_type": "stream",
     "text": [
      "====================\n",
      "final roles:  {2: 11, 3: 60}\n",
      "defaultdict(<class 'list'>,\n",
      "            {1: [],\n",
      "             2: [{'gpm': 1450, 'hid': 11, 'wards': 7}],\n",
      "             3: [{'gpm': 689, 'hid': 14, 'wards': 0},\n",
      "                 {'gpm': 860, 'hid': 60, 'wards': 0},\n",
      "                 {'gpm': 714, 'hid': 75, 'wards': 22}],\n",
      "             4: [{'gpm': 1257, 'hid': 73, 'wards': 0}]})\n"
     ]
    },
    {
     "name": "stderr",
     "output_type": "stream",
     "text": [
      " 45%|████▍     | 22388/50000 [02:18<02:23, 192.95it/s]"
     ]
    },
    {
     "name": "stdout",
     "output_type": "stream",
     "text": [
      "====================\n",
      "final roles:  {1: 7, 2: 63}\n",
      "defaultdict(<class 'list'>,\n",
      "            {1: [{'gpm': 624, 'hid': 86, 'wards': 12},\n",
      "                 {'gpm': 744, 'hid': 7, 'wards': 0}],\n",
      "             2: [{'gpm': 1313, 'hid': 63, 'wards': 2}],\n",
      "             3: [],\n",
      "             5: [{'gpm': 1259, 'hid': 44, 'wards': 2},\n",
      "                 {'gpm': 875, 'hid': 33, 'wards': 0}]})\n"
     ]
    },
    {
     "name": "stderr",
     "output_type": "stream",
     "text": [
      " 45%|████▍     | 22465/50000 [02:19<02:45, 165.99it/s]"
     ]
    },
    {
     "name": "stdout",
     "output_type": "stream",
     "text": [
      "====================\n",
      "final roles:  {1: 64, 2: 35}\n",
      "defaultdict(<class 'list'>,\n",
      "            {1: [{'gpm': 603, 'hid': 64, 'wards': 0},\n",
      "                 {'gpm': 564, 'hid': 49, 'wards': 0}],\n",
      "             2: [{'gpm': 1048, 'hid': 14, 'wards': 3},\n",
      "                 {'gpm': 2120, 'hid': 35, 'wards': 2},\n",
      "                 {'gpm': 481, 'hid': 21, 'wards': 0}],\n",
      "             3: []})\n"
     ]
    },
    {
     "name": "stderr",
     "output_type": "stream",
     "text": [
      " 45%|████▌     | 22638/50000 [02:20<02:34, 177.39it/s]"
     ]
    },
    {
     "name": "stdout",
     "output_type": "stream",
     "text": [
      "====================\n",
      "final roles:  {1: 129, 2: 19}\n",
      "defaultdict(<class 'list'>,\n",
      "            {1: [{'gpm': 1353, 'hid': 129, 'wards': 0},\n",
      "                 {'gpm': 959, 'hid': 114, 'wards': 58}],\n",
      "             2: [{'gpm': 1513, 'hid': 19, 'wards': 0},\n",
      "                 {'gpm': 623, 'hid': 101, 'wards': 1}],\n",
      "             3: [],\n",
      "             5: [{'gpm': 643, 'hid': 38, 'wards': 0}]})\n"
     ]
    },
    {
     "name": "stderr",
     "output_type": "stream",
     "text": [
      " 46%|████▌     | 22960/50000 [02:21<02:22, 189.24it/s]"
     ]
    },
    {
     "name": "stdout",
     "output_type": "stream",
     "text": [
      "====================\n",
      "final roles:  {1: 14, 2: 20}\n",
      "defaultdict(<class 'list'>,\n",
      "            {1: [{'gpm': 268, 'hid': 14, 'wards': 0}],\n",
      "             2: [{'gpm': 233, 'hid': 85, 'wards': 3},\n",
      "                 {'gpm': 205, 'hid': 119, 'wards': 2},\n",
      "                 {'gpm': 119, 'hid': 10, 'wards': 0},\n",
      "                 {'gpm': 293, 'hid': 20, 'wards': 0}],\n",
      "             3: []})\n"
     ]
    },
    {
     "name": "stderr",
     "output_type": "stream",
     "text": [
      " 47%|████▋     | 23366/50000 [02:23<02:13, 199.66it/s]"
     ]
    },
    {
     "name": "stdout",
     "output_type": "stream",
     "text": [
      "====================\n",
      "final roles:  {2: 126, 3: 39}\n",
      "defaultdict(<class 'list'>,\n",
      "            {1: [],\n",
      "             2: [{'gpm': 183, 'hid': 128, 'wards': 0},\n",
      "                 {'gpm': 446, 'hid': 110, 'wards': 0},\n",
      "                 {'gpm': 251, 'hid': 107, 'wards': 0},\n",
      "                 {'gpm': 992, 'hid': 126, 'wards': 4}],\n",
      "             3: [{'gpm': 1196, 'hid': 39, 'wards': 4}]})\n"
     ]
    },
    {
     "name": "stderr",
     "output_type": "stream",
     "text": [
      " 47%|████▋     | 23670/50000 [02:25<02:05, 209.25it/s]"
     ]
    },
    {
     "name": "stdout",
     "output_type": "stream",
     "text": [
      "====================\n",
      "final roles:  {2: 44, 3: 93}\n",
      "defaultdict(<class 'list'>,\n",
      "            {1: [],\n",
      "             2: [{'gpm': 300, 'hid': 44, 'wards': 1},\n",
      "                 {'gpm': 297, 'hid': 123, 'wards': 0},\n",
      "                 {'gpm': 267, 'hid': 34, 'wards': 1}],\n",
      "             3: [{'gpm': 523, 'hid': 14, 'wards': 2},\n",
      "                 {'gpm': 670, 'hid': 93, 'wards': 0}]})\n"
     ]
    },
    {
     "name": "stderr",
     "output_type": "stream",
     "text": [
      " 48%|████▊     | 23756/50000 [02:25<02:19, 188.24it/s]"
     ]
    },
    {
     "name": "stdout",
     "output_type": "stream",
     "text": [
      "====================\n",
      "final roles:  {1: 129, 2: 97}\n",
      "defaultdict(<class 'list'>,\n",
      "            {1: [{'gpm': 806, 'hid': 129, 'wards': 0},\n",
      "                 {'gpm': 755, 'hid': 71, 'wards': 4}],\n",
      "             2: [{'gpm': 819, 'hid': 114, 'wards': 47},\n",
      "                 {'gpm': 1097, 'hid': 97, 'wards': 1}],\n",
      "             3: [],\n",
      "             5: [{'gpm': 946, 'hid': 8, 'wards': 0}]})\n",
      "====================\n",
      "final roles:  {1: 8, 2: 81}\n",
      "defaultdict(<class 'list'>,\n",
      "            {1: [{'gpm': 1121, 'hid': 8, 'wards': 0}],\n",
      "             2: [{'gpm': 158, 'hid': 41, 'wards': 0},\n",
      "                 {'gpm': 318, 'hid': 81, 'wards': 0},\n",
      "                 {'gpm': 124, 'hid': 26, 'wards': 0},\n",
      "                 {'gpm': 138, 'hid': 87, 'wards': 2}],\n",
      "             3: []})\n"
     ]
    },
    {
     "name": "stderr",
     "output_type": "stream",
     "text": [
      " 48%|████▊     | 24033/50000 [02:27<02:06, 205.78it/s]"
     ]
    },
    {
     "name": "stdout",
     "output_type": "stream",
     "text": [
      "====================\n",
      "final roles:  {1: 75, 2: 71}\n",
      "defaultdict(<class 'list'>,\n",
      "            {1: [{'gpm': 883, 'hid': 97, 'wards': 4},\n",
      "                 {'gpm': 901, 'hid': 75, 'wards': 14}],\n",
      "             2: [{'gpm': 730, 'hid': 71, 'wards': 2},\n",
      "                 {'gpm': 623, 'hid': 8, 'wards': 0}],\n",
      "             3: [],\n",
      "             5: [{'gpm': 922, 'hid': 48, 'wards': 2}]})\n",
      "====================\n",
      "final roles:  {1: 67, 2: 84}\n",
      "defaultdict(<class 'list'>,\n",
      "            {1: [{'gpm': 937, 'hid': 67, 'wards': 0},\n",
      "                 {'gpm': 482, 'hid': 53, 'wards': 0}],\n",
      "             2: [{'gpm': 959, 'hid': 84, 'wards': 4}],\n",
      "             3: [],\n",
      "             4: [{'gpm': 1178, 'hid': 74, 'wards': 41},\n",
      "                 {'gpm': 600, 'hid': 105, 'wards': 2}]})\n"
     ]
    },
    {
     "name": "stderr",
     "output_type": "stream",
     "text": [
      " 48%|████▊     | 24075/50000 [02:27<02:06, 204.47it/s]"
     ]
    },
    {
     "name": "stdout",
     "output_type": "stream",
     "text": [
      "====================\n",
      "final roles:  {2: 46, 3: 27}\n",
      "defaultdict(<class 'list'>,\n",
      "            {1: [],\n",
      "             2: [{'gpm': 233, 'hid': 46, 'wards': 0},\n",
      "                 {'gpm': 200, 'hid': 88, 'wards': 0},\n",
      "                 {'gpm': 220, 'hid': 129, 'wards': 0}],\n",
      "             3: [{'gpm': 931, 'hid': 27, 'wards': 10},\n",
      "                 {'gpm': 762, 'hid': 93, 'wards': 0}]})\n",
      "====================\n",
      "final roles:  {1: 54, 3: 68}\n",
      "defaultdict(<class 'list'>,\n",
      "            {1: [{'gpm': 1380, 'hid': 54, 'wards': 0},\n",
      "                 {'gpm': 695, 'hid': 7, 'wards': 46}],\n",
      "             2: [],\n",
      "             3: [{'gpm': 862, 'hid': 71, 'wards': 4},\n",
      "                 {'gpm': 1033, 'hid': 68, 'wards': 4}],\n",
      "             4: [{'gpm': 1098, 'hid': 109, 'wards': 1}]})\n"
     ]
    },
    {
     "name": "stderr",
     "output_type": "stream",
     "text": [
      " 49%|████▊     | 24302/50000 [02:28<01:55, 222.32it/s]"
     ]
    },
    {
     "name": "stdout",
     "output_type": "stream",
     "text": [
      "====================\n",
      "final roles:  {2: 11, 3: 44}\n",
      "defaultdict(<class 'list'>,\n",
      "            {1: [],\n",
      "             2: [{'gpm': 307, 'hid': 70, 'wards': 0},\n",
      "                 {'gpm': 323, 'hid': 11, 'wards': 3}],\n",
      "             3: [{'gpm': 360, 'hid': 44, 'wards': 1},\n",
      "                 {'gpm': 199, 'hid': 68, 'wards': 16},\n",
      "                 {'gpm': 279, 'hid': 105, 'wards': 1}]})\n"
     ]
    },
    {
     "name": "stderr",
     "output_type": "stream",
     "text": [
      " 49%|████▉     | 24718/50000 [02:30<01:53, 222.52it/s]"
     ]
    },
    {
     "name": "stdout",
     "output_type": "stream",
     "text": [
      "====================\n",
      "final roles:  {1: 16, 2: 11}\n",
      "defaultdict(<class 'list'>,\n",
      "            {1: [{'gpm': 221, 'hid': 70, 'wards': 1},\n",
      "                 {'gpm': 513, 'hid': 16, 'wards': 1}],\n",
      "             2: [{'gpm': 267, 'hid': 11, 'wards': 2}],\n",
      "             3: [],\n",
      "             5: [{'gpm': 297, 'hid': 9, 'wards': 2},\n",
      "                 {'gpm': 310, 'hid': 73, 'wards': 4}]})\n"
     ]
    },
    {
     "name": "stderr",
     "output_type": "stream",
     "text": [
      " 50%|████▉     | 24998/50000 [02:31<02:04, 200.43it/s]"
     ]
    },
    {
     "name": "stdout",
     "output_type": "stream",
     "text": [
      "====================\n",
      "final roles:  {2: 44, 3: 22}\n",
      "defaultdict(<class 'list'>,\n",
      "            {1: [],\n",
      "             2: [{'gpm': 526, 'hid': 35, 'wards': 3},\n",
      "                 {'gpm': 871, 'hid': 44, 'wards': 5},\n",
      "                 {'gpm': 425, 'hid': 101, 'wards': 1}],\n",
      "             3: [{'gpm': 698, 'hid': 22, 'wards': 10},\n",
      "                 {'gpm': 528, 'hid': 4, 'wards': 3}]})\n"
     ]
    },
    {
     "name": "stderr",
     "output_type": "stream",
     "text": [
      " 51%|█████     | 25604/50000 [02:34<01:48, 225.37it/s]"
     ]
    },
    {
     "name": "stdout",
     "output_type": "stream",
     "text": [
      "====================\n",
      "final roles:  {1: 14, 2: 6}\n",
      "defaultdict(<class 'list'>,\n",
      "            {1: [{'gpm': 837, 'hid': 14, 'wards': 0}],\n",
      "             2: [{'gpm': 622, 'hid': 105, 'wards': 1},\n",
      "                 {'gpm': 1492, 'hid': 6, 'wards': 3},\n",
      "                 {'gpm': 507, 'hid': 121, 'wards': 5}],\n",
      "             3: [],\n",
      "             4: [{'gpm': 711, 'hid': 28, 'wards': 0}]})\n"
     ]
    },
    {
     "name": "stderr",
     "output_type": "stream",
     "text": [
      " 51%|█████▏    | 25672/50000 [02:35<02:04, 194.66it/s]"
     ]
    },
    {
     "name": "stdout",
     "output_type": "stream",
     "text": [
      "====================\n",
      "final roles:  {2: 4, 3: 75}\n",
      "defaultdict(<class 'list'>,\n",
      "            {1: [],\n",
      "             2: [{'gpm': 1219, 'hid': 4, 'wards': 4},\n",
      "                 {'gpm': 914, 'hid': 104, 'wards': 0}],\n",
      "             3: [{'gpm': 823, 'hid': 14, 'wards': 20},\n",
      "                 {'gpm': 1001, 'hid': 75, 'wards': 3}],\n",
      "             5: [{'gpm': 1253, 'hid': 105, 'wards': 11}]})\n"
     ]
    },
    {
     "name": "stderr",
     "output_type": "stream",
     "text": [
      " 52%|█████▏    | 25812/50000 [02:35<02:05, 192.86it/s]"
     ]
    },
    {
     "name": "stdout",
     "output_type": "stream",
     "text": [
      "====================\n",
      "final roles:  {1: 47, 2: 42}\n",
      "defaultdict(<class 'list'>,\n",
      "            {1: [{'gpm': 1200, 'hid': 47, 'wards': 6},\n",
      "                 {'gpm': 848, 'hid': 14, 'wards': 37},\n",
      "                 {'gpm': 1012, 'hid': 104, 'wards': 0}],\n",
      "             2: [{'gpm': 1116, 'hid': 42, 'wards': 0},\n",
      "                 {'gpm': 893, 'hid': 126, 'wards': 0}],\n",
      "             3: []})\n"
     ]
    },
    {
     "name": "stderr",
     "output_type": "stream",
     "text": [
      " 52%|█████▏    | 26122/50000 [02:37<02:03, 193.31it/s]"
     ]
    },
    {
     "name": "stdout",
     "output_type": "stream",
     "text": [
      "====================\n",
      "final roles:  {2: 4, 3: 106}\n",
      "defaultdict(<class 'list'>,\n",
      "            {1: [],\n",
      "             2: [{'gpm': 972, 'hid': 4, 'wards': 9},\n",
      "                 {'gpm': 769, 'hid': 34, 'wards': 21},\n",
      "                 {'gpm': 729, 'hid': 114, 'wards': 0}],\n",
      "             3: [{'gpm': 1257, 'hid': 106, 'wards': 0},\n",
      "                 {'gpm': 1195, 'hid': 63, 'wards': 0}]})\n",
      "====================\n",
      "final roles:  {1: 88, 2: 101}\n",
      "defaultdict(<class 'list'>,\n",
      "            {1: [{'gpm': 810, 'hid': 88, 'wards': 1},\n",
      "                 {'gpm': 530, 'hid': 34, 'wards': 3}],\n",
      "             2: [{'gpm': 612, 'hid': 102, 'wards': 53},\n",
      "                 {'gpm': 829, 'hid': 101, 'wards': 0}],\n",
      "             3: [],\n",
      "             5: [{'gpm': 1161, 'hid': 42, 'wards': 0}]})\n"
     ]
    },
    {
     "name": "stderr",
     "output_type": "stream",
     "text": [
      " 53%|█████▎    | 26262/50000 [02:38<01:45, 225.83it/s]"
     ]
    },
    {
     "name": "stdout",
     "output_type": "stream",
     "text": [
      "====================\n",
      "final roles:  {1: 99, 2: 46}\n",
      "defaultdict(<class 'list'>,\n",
      "            {1: [{'gpm': 760, 'hid': 99, 'wards': 0},\n",
      "                 {'gpm': 752, 'hid': 44, 'wards': 0},\n",
      "                 {'gpm': 480, 'hid': 14, 'wards': 7}],\n",
      "             2: [{'gpm': 645, 'hid': 46, 'wards': 2}],\n",
      "             3: [],\n",
      "             5: [{'gpm': 831, 'hid': 109, 'wards': 1}]})\n"
     ]
    },
    {
     "name": "stderr",
     "output_type": "stream",
     "text": [
      " 53%|█████▎    | 26522/50000 [02:39<01:45, 222.02it/s]"
     ]
    },
    {
     "name": "stdout",
     "output_type": "stream",
     "text": [
      "====================\n",
      "final roles:  {1: 6, 2: 101}\n",
      "defaultdict(<class 'list'>,\n",
      "            {1: [{'gpm': 602, 'hid': 6, 'wards': 0},\n",
      "                 {'gpm': 587, 'hid': 27, 'wards': 12},\n",
      "                 {'gpm': 411, 'hid': 104, 'wards': 0}],\n",
      "             2: [{'gpm': 1077, 'hid': 101, 'wards': 1},\n",
      "                 {'gpm': 775, 'hid': 105, 'wards': 4}],\n",
      "             3: []})\n"
     ]
    },
    {
     "name": "stderr",
     "output_type": "stream",
     "text": [
      " 53%|█████▎    | 26746/50000 [02:40<02:01, 191.78it/s]"
     ]
    },
    {
     "name": "stdout",
     "output_type": "stream",
     "text": [
      "====================\n",
      "final roles:  {2: 34, 3: 42}\n",
      "defaultdict(<class 'list'>,\n",
      "            {1: [],\n",
      "             2: [{'gpm': 325, 'hid': 34, 'wards': 2},\n",
      "                 {'gpm': 205, 'hid': 3, 'wards': 28},\n",
      "                 {'gpm': 220, 'hid': 94, 'wards': 8}],\n",
      "             3: [{'gpm': 346, 'hid': 42, 'wards': 1}],\n",
      "             5: [{'gpm': 390, 'hid': 25, 'wards': 5}]})\n"
     ]
    },
    {
     "name": "stderr",
     "output_type": "stream",
     "text": [
      " 54%|█████▍    | 26875/50000 [02:41<01:55, 200.39it/s]"
     ]
    },
    {
     "name": "stdout",
     "output_type": "stream",
     "text": [
      "====================\n",
      "final roles:  {2: 106, 3: 12}\n",
      "defaultdict(<class 'list'>,\n",
      "            {1: [],\n",
      "             2: [{'gpm': 1281, 'hid': 106, 'wards': 2},\n",
      "                 {'gpm': 777, 'hid': 7, 'wards': 3}],\n",
      "             3: [{'gpm': 724, 'hid': 9, 'wards': 25},\n",
      "                 {'gpm': 1398, 'hid': 12, 'wards': 0}],\n",
      "             5: [{'gpm': 1262, 'hid': 33, 'wards': 0}]})\n"
     ]
    },
    {
     "name": "stderr",
     "output_type": "stream",
     "text": [
      " 54%|█████▍    | 26984/50000 [02:41<01:54, 200.25it/s]"
     ]
    },
    {
     "name": "stdout",
     "output_type": "stream",
     "text": [
      "====================\n",
      "final roles:  {2: 39}\n",
      "defaultdict(<class 'list'>,\n",
      "            {1: [],\n",
      "             2: [{'gpm': 377, 'hid': 39, 'wards': 1},\n",
      "                 {'gpm': 268, 'hid': 135, 'wards': 0},\n",
      "                 {'gpm': 170, 'hid': 46, 'wards': 0},\n",
      "                 {'gpm': 354, 'hid': 53, 'wards': 2}],\n",
      "             3: [],\n",
      "             5: [{'gpm': 275, 'hid': 14, 'wards': 0}]})\n"
     ]
    },
    {
     "name": "stderr",
     "output_type": "stream",
     "text": [
      " 54%|█████▍    | 27124/50000 [02:42<01:41, 225.63it/s]"
     ]
    },
    {
     "name": "stdout",
     "output_type": "stream",
     "text": [
      "====================\n",
      "final roles:  {2: 106, 3: 32}\n",
      "defaultdict(<class 'list'>,\n",
      "            {1: [],\n",
      "             2: [{'gpm': 698, 'hid': 106, 'wards': 0},\n",
      "                 {'gpm': 357, 'hid': 53, 'wards': 0}],\n",
      "             3: [{'gpm': 487, 'hid': 36, 'wards': 10},\n",
      "                 {'gpm': 826, 'hid': 32, 'wards': 7}],\n",
      "             5: [{'gpm': 730, 'hid': 8, 'wards': 1}]})\n"
     ]
    },
    {
     "name": "stderr",
     "output_type": "stream",
     "text": [
      " 55%|█████▍    | 27446/50000 [02:43<01:37, 230.66it/s]"
     ]
    },
    {
     "name": "stdout",
     "output_type": "stream",
     "text": [
      "====================\n",
      "final roles:  {2: 21, 3: 120}\n",
      "defaultdict(<class 'list'>,\n",
      "            {1: [],\n",
      "             2: [{'gpm': 862, 'hid': 21, 'wards': 5},\n",
      "                 {'gpm': 216, 'hid': 129, 'wards': 0}],\n",
      "             3: [{'gpm': 696, 'hid': 120, 'wards': 0},\n",
      "                 {'gpm': 467, 'hid': 84, 'wards': 15}],\n",
      "             5: [{'gpm': 617, 'hid': 112, 'wards': 8}]})\n",
      "====================\n",
      "final roles:  {2: 60, 3: 97}\n",
      "defaultdict(<class 'list'>,\n",
      "            {1: [],\n",
      "             2: [{'gpm': 660, 'hid': 14, 'wards': 31},\n",
      "                 {'gpm': 856, 'hid': 43, 'wards': 0},\n",
      "                 {'gpm': 1001, 'hid': 71, 'wards': 16},\n",
      "                 {'gpm': 1074, 'hid': 60, 'wards': 0}],\n",
      "             3: [{'gpm': 952, 'hid': 97, 'wards': 0}]})\n"
     ]
    },
    {
     "name": "stderr",
     "output_type": "stream",
     "text": [
      " 55%|█████▌    | 27541/50000 [02:44<01:38, 228.75it/s]"
     ]
    },
    {
     "name": "stdout",
     "output_type": "stream",
     "text": [
      "====================\n",
      "final roles:  {1: 48, 2: 100}\n",
      "defaultdict(<class 'list'>,\n",
      "            {1: [{'gpm': 1320, 'hid': 48, 'wards': 0}],\n",
      "             2: [{'gpm': 745, 'hid': 119, 'wards': 11},\n",
      "                 {'gpm': 921, 'hid': 21, 'wards': 0},\n",
      "                 {'gpm': 1147, 'hid': 100, 'wards': 0},\n",
      "                 {'gpm': 880, 'hid': 7, 'wards': 0}],\n",
      "             3: []})\n",
      "====================\n",
      "final roles:  {1: 42, 2: 74}\n",
      "defaultdict(<class 'list'>,\n",
      "            {1: [{'gpm': 211, 'hid': 5, 'wards': 11},\n",
      "                 {'gpm': 258, 'hid': 40, 'wards': 21},\n",
      "                 {'gpm': 378, 'hid': 42, 'wards': 0}],\n",
      "             2: [{'gpm': 311, 'hid': 135, 'wards': 0},\n",
      "                 {'gpm': 353, 'hid': 74, 'wards': 0}],\n",
      "             3: []})\n"
     ]
    },
    {
     "name": "stderr",
     "output_type": "stream",
     "text": [
      " 55%|█████▌    | 27713/50000 [02:44<01:37, 229.28it/s]"
     ]
    },
    {
     "name": "stdout",
     "output_type": "stream",
     "text": [
      "====================\n",
      "final roles:  {2: 55, 3: 71}\n",
      "defaultdict(<class 'list'>,\n",
      "            {1: [],\n",
      "             2: [{'gpm': 1125, 'hid': 55, 'wards': 2},\n",
      "                 {'gpm': 855, 'hid': 22, 'wards': 1},\n",
      "                 {'gpm': 671, 'hid': 86, 'wards': 24}],\n",
      "             3: [{'gpm': 847, 'hid': 128, 'wards': 15},\n",
      "                 {'gpm': 870, 'hid': 71, 'wards': 2}]})\n"
     ]
    },
    {
     "name": "stderr",
     "output_type": "stream",
     "text": [
      " 56%|█████▌    | 27785/50000 [02:45<01:48, 204.75it/s]"
     ]
    },
    {
     "name": "stdout",
     "output_type": "stream",
     "text": [
      "====================\n",
      "final roles:  {2: 22, 3: 29}\n",
      "defaultdict(<class 'list'>,\n",
      "            {1: [],\n",
      "             2: [{'gpm': 162, 'hid': 64, 'wards': 0},\n",
      "                 {'gpm': 600, 'hid': 22, 'wards': 2},\n",
      "                 {'gpm': 138, 'hid': 6, 'wards': 0}],\n",
      "             3: [{'gpm': 372, 'hid': 30, 'wards': 41},\n",
      "                 {'gpm': 530, 'hid': 29, 'wards': 2}]})\n"
     ]
    },
    {
     "name": "stderr",
     "output_type": "stream",
     "text": [
      " 56%|█████▌    | 27882/50000 [02:45<01:35, 231.11it/s]"
     ]
    },
    {
     "name": "stdout",
     "output_type": "stream",
     "text": [
      "====================\n",
      "final roles:  {1: 1, 2: 75}\n",
      "defaultdict(<class 'list'>,\n",
      "            {1: [{'gpm': 1344, 'hid': 1, 'wards': 0}],\n",
      "             2: [{'gpm': 1101, 'hid': 75, 'wards': 1},\n",
      "                 {'gpm': 965, 'hid': 101, 'wards': 27},\n",
      "                 {'gpm': 937, 'hid': 67, 'wards': 0}],\n",
      "             3: [],\n",
      "             4: [{'gpm': 1103, 'hid': 53, 'wards': 1}]})\n"
     ]
    },
    {
     "name": "stderr",
     "output_type": "stream",
     "text": [
      " 56%|█████▌    | 27954/50000 [02:46<01:35, 230.31it/s]"
     ]
    },
    {
     "name": "stdout",
     "output_type": "stream",
     "text": [
      "====================\n",
      "final roles:  {1: 62, 2: 11}\n",
      "defaultdict(<class 'list'>,\n",
      "            {1: [{'gpm': 584, 'hid': 87, 'wards': 31},\n",
      "                 {'gpm': 972, 'hid': 62, 'wards': 1}],\n",
      "             2: [{'gpm': 982, 'hid': 14, 'wards': 0},\n",
      "                 {'gpm': 710, 'hid': 81, 'wards': 0},\n",
      "                 {'gpm': 1325, 'hid': 11, 'wards': 1}],\n",
      "             3: []})\n",
      "====================\n",
      "final roles:  {1: 97, 2: 17}\n",
      "defaultdict(<class 'list'>,\n",
      "            {1: [{'gpm': 216, 'hid': 119, 'wards': 59},\n",
      "                 {'gpm': 362, 'hid': 97, 'wards': 1}],\n",
      "             2: [{'gpm': 291, 'hid': 106, 'wards': 7},\n",
      "                 {'gpm': 479, 'hid': 17, 'wards': 1}],\n",
      "             3: [],\n",
      "             5: [{'gpm': 266, 'hid': 33, 'wards': 0}]})\n"
     ]
    },
    {
     "name": "stderr",
     "output_type": "stream",
     "text": [
      " 56%|█████▌    | 28099/50000 [02:46<01:36, 227.53it/s]"
     ]
    },
    {
     "name": "stdout",
     "output_type": "stream",
     "text": [
      "====================\n",
      "final roles:  {1: 41, 2: 126}\n",
      "defaultdict(<class 'list'>,\n",
      "            {1: [{'gpm': 802, 'hid': 40, 'wards': 13},\n",
      "                 {'gpm': 1027, 'hid': 41, 'wards': 2}],\n",
      "             2: [{'gpm': 1245, 'hid': 126, 'wards': 1},\n",
      "                 {'gpm': 1107, 'hid': 14, 'wards': 14}],\n",
      "             3: [],\n",
      "             4: [{'gpm': 1046, 'hid': 34, 'wards': 9}]})\n"
     ]
    },
    {
     "name": "stderr",
     "output_type": "stream",
     "text": [
      " 56%|█████▋    | 28201/50000 [02:47<01:29, 242.60it/s]"
     ]
    },
    {
     "name": "stdout",
     "output_type": "stream",
     "text": [
      "====================\n",
      "final roles:  {1: 32, 2: 70}\n",
      "defaultdict(<class 'list'>,\n",
      "            {1: [{'gpm': 122, 'hid': 32, 'wards': 0},\n",
      "                 {'gpm': 122, 'hid': 10, 'wards': 0}],\n",
      "             2: [{'gpm': 226, 'hid': 70, 'wards': 7},\n",
      "                 {'gpm': 160, 'hid': 44, 'wards': 0},\n",
      "                 {'gpm': 159, 'hid': 113, 'wards': 0}],\n",
      "             3: []})\n"
     ]
    },
    {
     "name": "stderr",
     "output_type": "stream",
     "text": [
      " 57%|█████▋    | 28424/50000 [02:48<01:30, 237.51it/s]"
     ]
    },
    {
     "name": "stdout",
     "output_type": "stream",
     "text": [
      "====================\n",
      "final roles:  {2: 22, 3: 114}\n",
      "defaultdict(<class 'list'>,\n",
      "            {1: [],\n",
      "             2: [{'gpm': 159, 'hid': 87, 'wards': 1},\n",
      "                 {'gpm': 145, 'hid': 104, 'wards': 0},\n",
      "                 {'gpm': 160, 'hid': 110, 'wards': 5},\n",
      "                 {'gpm': 714, 'hid': 22, 'wards': 0}],\n",
      "             3: [{'gpm': 717, 'hid': 114, 'wards': 13}]})\n"
     ]
    },
    {
     "name": "stderr",
     "output_type": "stream",
     "text": [
      " 58%|█████▊    | 28768/50000 [02:49<01:28, 240.40it/s]"
     ]
    },
    {
     "name": "stdout",
     "output_type": "stream",
     "text": [
      "====================\n",
      "final roles:  {1: 85, 2: 74}\n",
      "defaultdict(<class 'list'>,\n",
      "            {1: [{'gpm': 286, 'hid': 85, 'wards': 1},\n",
      "                 {'gpm': 268, 'hid': 119, 'wards': 0}],\n",
      "             2: [{'gpm': 490, 'hid': 74, 'wards': 8}],\n",
      "             3: [],\n",
      "             5: [{'gpm': 451, 'hid': 1, 'wards': 2},\n",
      "                 {'gpm': 264, 'hid': 87, 'wards': 42}]})\n"
     ]
    },
    {
     "name": "stderr",
     "output_type": "stream",
     "text": [
      " 58%|█████▊    | 29018/50000 [02:50<01:28, 237.33it/s]"
     ]
    },
    {
     "name": "stdout",
     "output_type": "stream",
     "text": [
      "====================\n",
      "final roles:  {1: 93, 2: 25}\n",
      "defaultdict(<class 'list'>,\n",
      "            {1: [{'gpm': 415, 'hid': 93, 'wards': 19}],\n",
      "             2: [{'gpm': 481, 'hid': 17, 'wards': 6},\n",
      "                 {'gpm': 387, 'hid': 19, 'wards': 0},\n",
      "                 {'gpm': 500, 'hid': 25, 'wards': 3}],\n",
      "             3: [],\n",
      "             4: [{'gpm': 353, 'hid': 16, 'wards': 0}]})\n",
      "====================\n",
      "final roles:  {2: 11, 3: 48}\n",
      "defaultdict(<class 'list'>,\n",
      "            {1: [],\n",
      "             2: [{'gpm': 548, 'hid': 11, 'wards': 5}],\n",
      "             3: [{'gpm': 286, 'hid': 66, 'wards': 36},\n",
      "                 {'gpm': 592, 'hid': 48, 'wards': 2}],\n",
      "             4: [{'gpm': 377, 'hid': 9, 'wards': 9}],\n",
      "             5: [{'gpm': 370, 'hid': 104, 'wards': 8}]})\n"
     ]
    },
    {
     "name": "stderr",
     "output_type": "stream",
     "text": [
      " 58%|█████▊    | 29115/50000 [02:51<01:32, 225.41it/s]"
     ]
    },
    {
     "name": "stdout",
     "output_type": "stream",
     "text": [
      "====================\n",
      "final roles:  {2: 17, 3: 35}\n",
      "defaultdict(<class 'list'>,\n",
      "            {1: [],\n",
      "             2: [{'gpm': 682, 'hid': 17, 'wards': 0}],\n",
      "             3: [{'gpm': 453, 'hid': 86, 'wards': 56},\n",
      "                 {'gpm': 574, 'hid': 123, 'wards': 0},\n",
      "                 {'gpm': 824, 'hid': 35, 'wards': 0}],\n",
      "             4: [{'gpm': 820, 'hid': 104, 'wards': 1}]})\n",
      "====================\n",
      "final roles:  {1: 29, 2: 74}\n",
      "defaultdict(<class 'list'>,\n",
      "            {1: [{'gpm': 720, 'hid': 29, 'wards': 10},\n",
      "                 {'gpm': 671, 'hid': 27, 'wards': 17}],\n",
      "             2: [{'gpm': 991, 'hid': 74, 'wards': 4},\n",
      "                 {'gpm': 506, 'hid': 5, 'wards': 13}],\n",
      "             3: [],\n",
      "             5: [{'gpm': 1115, 'hid': 8, 'wards': 0}]})\n"
     ]
    },
    {
     "name": "stderr",
     "output_type": "stream",
     "text": [
      " 58%|█████▊    | 29214/50000 [02:51<01:27, 237.54it/s]"
     ]
    },
    {
     "name": "stdout",
     "output_type": "stream",
     "text": [
      "====================\n",
      "final roles:  {1: 26, 2: 84}\n",
      "defaultdict(<class 'list'>,\n",
      "            {1: [{'gpm': 320, 'hid': 26, 'wards': 0}],\n",
      "             2: [{'gpm': 443, 'hid': 20, 'wards': 26},\n",
      "                 {'gpm': 1067, 'hid': 84, 'wards': 12},\n",
      "                 {'gpm': 625, 'hid': 107, 'wards': 7}],\n",
      "             3: [],\n",
      "             5: [{'gpm': 1194, 'hid': 41, 'wards': 1}]})\n",
      "====================\n",
      "final roles:  {1: 68, 2: 106}\n",
      "defaultdict(<class 'list'>,\n",
      "            {1: [{'gpm': 570, 'hid': 68, 'wards': 3}],\n",
      "             2: [{'gpm': 138, 'hid': 1, 'wards': 0},\n",
      "                 {'gpm': 130, 'hid': 14, 'wards': 0},\n",
      "                 {'gpm': 728, 'hid': 106, 'wards': 1},\n",
      "                 {'gpm': 142, 'hid': 7, 'wards': 0}],\n",
      "             3: []})\n",
      "====================\n",
      "final roles:  {2: 52, 3: 70}\n",
      "defaultdict(<class 'list'>,\n",
      "            {1: [],\n",
      "             2: [{'gpm': 1224, 'hid': 52, 'wards': 3}],\n",
      "             3: [{'gpm': 1277, 'hid': 70, 'wards': 0},\n",
      "                 {'gpm': 586, 'hid': 50, 'wards': 25}],\n",
      "             5: [{'gpm': 992, 'hid': 33, 'wards': 0},\n",
      "                 {'gpm': 873, 'hid': 36, 'wards': 5}]})\n"
     ]
    },
    {
     "name": "stderr",
     "output_type": "stream",
     "text": [
      " 59%|█████▊    | 29339/50000 [02:52<01:30, 228.90it/s]"
     ]
    },
    {
     "name": "stdout",
     "output_type": "stream",
     "text": [
      "====================\n",
      "final roles:  {1: 42, 2: 44}\n",
      "defaultdict(<class 'list'>,\n",
      "            {1: [{'gpm': 253, 'hid': 17, 'wards': 0},\n",
      "                 {'gpm': 282, 'hid': 42, 'wards': 0}],\n",
      "             2: [{'gpm': 294, 'hid': 35, 'wards': 2},\n",
      "                 {'gpm': 145, 'hid': 82, 'wards': 0},\n",
      "                 {'gpm': 382, 'hid': 44, 'wards': 0}],\n",
      "             3: []})\n"
     ]
    },
    {
     "name": "stderr",
     "output_type": "stream",
     "text": [
      " 59%|█████▉    | 29387/50000 [02:52<01:28, 232.78it/s]"
     ]
    },
    {
     "name": "stdout",
     "output_type": "stream",
     "text": [
      "====================\n",
      "final roles:  {2: 114, 3: 7}\n",
      "defaultdict(<class 'list'>,\n",
      "            {1: [],\n",
      "             2: [{'gpm': 832, 'hid': 81, 'wards': 22},\n",
      "                 {'gpm': 741, 'hid': 109, 'wards': 1},\n",
      "                 {'gpm': 1222, 'hid': 114, 'wards': 1}],\n",
      "             3: [{'gpm': 881, 'hid': 7, 'wards': 0},\n",
      "                 {'gpm': 468, 'hid': 3, 'wards': 2}]})\n",
      "====================\n",
      "final roles:  {1: 129, 2: 25}\n",
      "defaultdict(<class 'list'>,\n",
      "            {1: [{'gpm': 336, 'hid': 31, 'wards': 35},\n",
      "                 {'gpm': 245, 'hid': 83, 'wards': 19},\n",
      "                 {'gpm': 341, 'hid': 129, 'wards': 0}],\n",
      "             2: [{'gpm': 547, 'hid': 25, 'wards': 2}],\n",
      "             3: [],\n",
      "             5: [{'gpm': 443, 'hid': 72, 'wards': 4}]})\n"
     ]
    },
    {
     "name": "stderr",
     "output_type": "stream",
     "text": [
      " 59%|█████▉    | 29672/50000 [02:53<01:23, 244.65it/s]"
     ]
    },
    {
     "name": "stdout",
     "output_type": "stream",
     "text": [
      "====================\n",
      "final roles:  {1: 109, 3: 56}\n",
      "defaultdict(<class 'list'>,\n",
      "            {1: [{'gpm': 602, 'hid': 43, 'wards': 10},\n",
      "                 {'gpm': 354, 'hid': 47, 'wards': 0},\n",
      "                 {'gpm': 839, 'hid': 109, 'wards': 0}],\n",
      "             2: [],\n",
      "             3: [{'gpm': 591, 'hid': 56, 'wards': 10},\n",
      "                 {'gpm': 391, 'hid': 97, 'wards': 6}]})\n"
     ]
    },
    {
     "name": "stderr",
     "output_type": "stream",
     "text": [
      " 60%|█████▉    | 29854/50000 [02:54<01:19, 252.60it/s]"
     ]
    },
    {
     "name": "stdout",
     "output_type": "stream",
     "text": [
      "====================\n",
      "final roles:  {1: 39, 2: 36}\n",
      "defaultdict(<class 'list'>,\n",
      "            {1: [{'gpm': 487, 'hid': 39, 'wards': 1},\n",
      "                 {'gpm': 373, 'hid': 13, 'wards': 10}],\n",
      "             2: [{'gpm': 288, 'hid': 26, 'wards': 63},\n",
      "                 {'gpm': 443, 'hid': 36, 'wards': 2}],\n",
      "             3: [],\n",
      "             5: [{'gpm': 781, 'hid': 10, 'wards': 1}]})\n"
     ]
    },
    {
     "name": "stderr",
     "output_type": "stream",
     "text": [
      " 60%|█████▉    | 29983/50000 [02:54<01:23, 239.93it/s]"
     ]
    },
    {
     "name": "stdout",
     "output_type": "stream",
     "text": [
      "====================\n",
      "final roles:  {2: 22, 3: 38}\n",
      "defaultdict(<class 'list'>,\n",
      "            {1: [],\n",
      "             2: [{'gpm': 384, 'hid': 22, 'wards': 0}],\n",
      "             3: [{'gpm': 327, 'hid': 84, 'wards': 0},\n",
      "                 {'gpm': 372, 'hid': 38, 'wards': 0},\n",
      "                 {'gpm': 265, 'hid': 5, 'wards': 28}],\n",
      "             4: [{'gpm': 389, 'hid': 53, 'wards': 1}]})\n"
     ]
    },
    {
     "name": "stderr",
     "output_type": "stream",
     "text": [
      " 61%|██████    | 30343/50000 [02:56<01:28, 221.30it/s]"
     ]
    },
    {
     "name": "stdout",
     "output_type": "stream",
     "text": [
      "====================\n",
      "final roles:  {1: 1, 3: 126}\n",
      "defaultdict(<class 'list'>,\n",
      "            {1: [{'gpm': 347, 'hid': 1, 'wards': 0},\n",
      "                 {'gpm': 311, 'hid': 14, 'wards': 0},\n",
      "                 {'gpm': 210, 'hid': 55, 'wards': 5}],\n",
      "             2: [],\n",
      "             3: [{'gpm': 235, 'hid': 128, 'wards': 5},\n",
      "                 {'gpm': 437, 'hid': 126, 'wards': 2}]})\n"
     ]
    },
    {
     "name": "stderr",
     "output_type": "stream",
     "text": [
      " 62%|██████▏   | 30945/50000 [02:58<01:17, 246.02it/s]"
     ]
    },
    {
     "name": "stdout",
     "output_type": "stream",
     "text": [
      "====================\n",
      "final roles:  {1: 32, 2: 1}\n",
      "defaultdict(<class 'list'>,\n",
      "            {1: [{'gpm': 1208, 'hid': 32, 'wards': 17},\n",
      "                 {'gpm': 243, 'hid': 106, 'wards': 1}],\n",
      "             2: [{'gpm': 367, 'hid': 121, 'wards': 0},\n",
      "                 {'gpm': 1636, 'hid': 1, 'wards': 5},\n",
      "                 {'gpm': 363, 'hid': 75, 'wards': 0}],\n",
      "             3: []})\n",
      "====================\n",
      "final roles:  {2: 8, 3: 74}\n",
      "defaultdict(<class 'list'>,\n",
      "            {1: [],\n",
      "             2: [{'gpm': 423, 'hid': 11, 'wards': 1},\n",
      "                 {'gpm': 527, 'hid': 8, 'wards': 0},\n",
      "                 {'gpm': 141, 'hid': 85, 'wards': 0}],\n",
      "             3: [{'gpm': 421, 'hid': 74, 'wards': 0},\n",
      "                 {'gpm': 393, 'hid': 17, 'wards': 0}]})\n"
     ]
    },
    {
     "name": "stderr",
     "output_type": "stream",
     "text": [
      " 62%|██████▏   | 31153/50000 [02:59<01:14, 253.38it/s]"
     ]
    },
    {
     "name": "stdout",
     "output_type": "stream",
     "text": [
      "====================\n",
      "final roles:  {2: 64, 3: 93}\n",
      "defaultdict(<class 'list'>,\n",
      "            {1: [],\n",
      "             2: [{'gpm': 912, 'hid': 64, 'wards': 10},\n",
      "                 {'gpm': 468, 'hid': 35, 'wards': 2},\n",
      "                 {'gpm': 142, 'hid': 42, 'wards': 0},\n",
      "                 {'gpm': 129, 'hid': 74, 'wards': 0}],\n",
      "             3: [{'gpm': 119, 'hid': 93, 'wards': 0}]})\n"
     ]
    },
    {
     "name": "stderr",
     "output_type": "stream",
     "text": [
      " 63%|██████▎   | 31286/50000 [03:00<01:15, 247.10it/s]"
     ]
    },
    {
     "name": "stdout",
     "output_type": "stream",
     "text": [
      "====================\n",
      "final roles:  {1: 25, 2: 53}\n",
      "defaultdict(<class 'list'>,\n",
      "            {1: [{'gpm': 491, 'hid': 25, 'wards': 0},\n",
      "                 {'gpm': 454, 'hid': 85, 'wards': 0}],\n",
      "             2: [{'gpm': 488, 'hid': 72, 'wards': 55},\n",
      "                 {'gpm': 409, 'hid': 17, 'wards': 2},\n",
      "                 {'gpm': 643, 'hid': 53, 'wards': 2}],\n",
      "             3: []})\n"
     ]
    },
    {
     "name": "stderr",
     "output_type": "stream",
     "text": [
      " 63%|██████▎   | 31339/50000 [03:00<01:16, 244.98it/s]"
     ]
    },
    {
     "name": "stdout",
     "output_type": "stream",
     "text": [
      "====================\n",
      "final roles:  {2: 119, 3: 53}\n",
      "defaultdict(<class 'list'>,\n",
      "            {1: [],\n",
      "             2: [{'gpm': 542, 'hid': 22, 'wards': 15},\n",
      "                 {'gpm': 711, 'hid': 119, 'wards': 0}],\n",
      "             3: [{'gpm': 585, 'hid': 54, 'wards': 5},\n",
      "                 {'gpm': 624, 'hid': 53, 'wards': 0}],\n",
      "             4: [{'gpm': 535, 'hid': 69, 'wards': 0}]})\n",
      "====================\n",
      "final roles:  {1: 1, 2: 9}\n",
      "defaultdict(<class 'list'>,\n",
      "            {1: [{'gpm': 1794, 'hid': 1, 'wards': 0},\n",
      "                 {'gpm': 1287, 'hid': 21, 'wards': 39}],\n",
      "             2: [{'gpm': 228, 'hid': 79, 'wards': 0},\n",
      "                 {'gpm': 298, 'hid': 119, 'wards': 1},\n",
      "                 {'gpm': 1421, 'hid': 9, 'wards': 19}],\n",
      "             3: []})\n"
     ]
    },
    {
     "name": "stderr",
     "output_type": "stream",
     "text": [
      " 63%|██████▎   | 31579/50000 [03:01<01:10, 262.18it/s]"
     ]
    },
    {
     "name": "stdout",
     "output_type": "stream",
     "text": [
      "====================\n",
      "final roles:  {1: 12, 2: 13}\n",
      "defaultdict(<class 'list'>,\n",
      "            {1: [{'gpm': 346, 'hid': 121, 'wards': 23},\n",
      "                 {'gpm': 328, 'hid': 3, 'wards': 39},\n",
      "                 {'gpm': 571, 'hid': 12, 'wards': 0}],\n",
      "             2: [{'gpm': 624, 'hid': 13, 'wards': 3}],\n",
      "             3: [],\n",
      "             4: [{'gpm': 409, 'hid': 96, 'wards': 3}]})\n",
      "====================\n",
      "final roles:  {1: 34, 2: 62}\n",
      "defaultdict(<class 'list'>,\n",
      "            {1: [{'gpm': 110, 'hid': 34, 'wards': 0}],\n",
      "             2: [{'gpm': 183, 'hid': 62, 'wards': 2},\n",
      "                 {'gpm': 102, 'hid': 67, 'wards': 0},\n",
      "                 {'gpm': 122, 'hid': 86, 'wards': 0},\n",
      "                 {'gpm': 150, 'hid': 46, 'wards': 0}],\n",
      "             3: []})\n"
     ]
    },
    {
     "name": "stderr",
     "output_type": "stream",
     "text": [
      " 63%|██████▎   | 31688/50000 [03:01<01:13, 250.78it/s]"
     ]
    },
    {
     "name": "stdout",
     "output_type": "stream",
     "text": [
      "====================\n",
      "final roles:  {1: 104, 2: 34}\n",
      "defaultdict(<class 'list'>,\n",
      "            {1: [{'gpm': 514, 'hid': 22, 'wards': 25},\n",
      "                 {'gpm': 897, 'hid': 104, 'wards': 0}],\n",
      "             2: [{'gpm': 1179, 'hid': 98, 'wards': 0},\n",
      "                 {'gpm': 1356, 'hid': 34, 'wards': 1}],\n",
      "             3: [],\n",
      "             4: [{'gpm': 1504, 'hid': 59, 'wards': 5}]})\n"
     ]
    },
    {
     "name": "stderr",
     "output_type": "stream",
     "text": [
      " 63%|██████▎   | 31740/50000 [03:02<01:12, 252.10it/s]"
     ]
    },
    {
     "name": "stdout",
     "output_type": "stream",
     "text": [
      "====================\n",
      "final roles:  {1: 114, 2: 17}\n",
      "defaultdict(<class 'list'>,\n",
      "            {1: [{'gpm': 1440, 'hid': 114, 'wards': 0},\n",
      "                 {'gpm': 731, 'hid': 27, 'wards': 19}],\n",
      "             2: [{'gpm': 1046, 'hid': 17, 'wards': 0},\n",
      "                 {'gpm': 923, 'hid': 14, 'wards': 2}],\n",
      "             3: [],\n",
      "             4: [{'gpm': 955, 'hid': 55, 'wards': 0}]})\n",
      "====================\n",
      "final roles:  {2: 32, 3: 54}\n",
      "defaultdict(<class 'list'>,\n",
      "            {1: [],\n",
      "             2: [{'gpm': 560, 'hid': 32, 'wards': 1}],\n",
      "             3: [{'gpm': 641, 'hid': 54, 'wards': 0},\n",
      "                 {'gpm': 305, 'hid': 14, 'wards': 26}],\n",
      "             5: [{'gpm': 608, 'hid': 9, 'wards': 17},\n",
      "                 {'gpm': 701, 'hid': 123, 'wards': 14}]})\n"
     ]
    },
    {
     "name": "stderr",
     "output_type": "stream",
     "text": [
      " 64%|██████▍   | 31957/50000 [03:02<01:10, 256.56it/s]"
     ]
    },
    {
     "name": "stdout",
     "output_type": "stream",
     "text": [
      "====================\n",
      "final roles:  {2: 28, 3: 70}\n",
      "defaultdict(<class 'list'>,\n",
      "            {1: [],\n",
      "             2: [{'gpm': 451, 'hid': 110, 'wards': 6},\n",
      "                 {'gpm': 399, 'hid': 63, 'wards': 37},\n",
      "                 {'gpm': 534, 'hid': 28, 'wards': 0}],\n",
      "             3: [{'gpm': 563, 'hid': 70, 'wards': 0},\n",
      "                 {'gpm': 396, 'hid': 30, 'wards': 36}]})\n"
     ]
    },
    {
     "name": "stderr",
     "output_type": "stream",
     "text": [
      " 64%|██████▍   | 32121/50000 [03:03<01:11, 250.21it/s]"
     ]
    },
    {
     "name": "stdout",
     "output_type": "stream",
     "text": [
      "====================\n",
      "final roles:  {2: 35, 3: 18}\n",
      "defaultdict(<class 'list'>,\n",
      "            {1: [],\n",
      "             2: [{'gpm': 878, 'hid': 35, 'wards': 11},\n",
      "                 {'gpm': 663, 'hid': 72, 'wards': 6}],\n",
      "             3: [{'gpm': 676, 'hid': 18, 'wards': 10},\n",
      "                 {'gpm': 359, 'hid': 101, 'wards': 7}],\n",
      "             4: [{'gpm': 681, 'hid': 106, 'wards': 0}]})\n",
      "====================\n",
      "final roles:  {1: 32, 2: 105}\n",
      "defaultdict(<class 'list'>,\n",
      "            {1: [{'gpm': 297, 'hid': 103, 'wards': 5},\n",
      "                 {'gpm': 364, 'hid': 32, 'wards': 0}],\n",
      "             2: [{'gpm': 567, 'hid': 105, 'wards': 26},\n",
      "                 {'gpm': 473, 'hid': 35, 'wards': 16}],\n",
      "             3: [],\n",
      "             4: [{'gpm': 462, 'hid': 73, 'wards': 2}]})\n"
     ]
    },
    {
     "name": "stderr",
     "output_type": "stream",
     "text": [
      " 64%|██████▍   | 32230/50000 [03:04<01:06, 265.96it/s]"
     ]
    },
    {
     "name": "stdout",
     "output_type": "stream",
     "text": [
      "====================\n",
      "final roles:  {2: 36, 3: 70}\n",
      "defaultdict(<class 'list'>,\n",
      "            {1: [],\n",
      "             2: [{'gpm': 1000, 'hid': 36, 'wards': 1},\n",
      "                 {'gpm': 757, 'hid': 71, 'wards': 20},\n",
      "                 {'gpm': 760, 'hid': 56, 'wards': 0}],\n",
      "             3: [{'gpm': 1093, 'hid': 70, 'wards': 0},\n",
      "                 {'gpm': 533, 'hid': 111, 'wards': 6}]})\n"
     ]
    },
    {
     "name": "stderr",
     "output_type": "stream",
     "text": [
      " 65%|██████▌   | 32646/50000 [03:05<01:07, 258.25it/s]"
     ]
    },
    {
     "name": "stdout",
     "output_type": "stream",
     "text": [
      "====================\n",
      "final roles:  {1: 41, 2: 8}\n",
      "defaultdict(<class 'list'>,\n",
      "            {1: [{'gpm': 759, 'hid': 41, 'wards': 1},\n",
      "                 {'gpm': 544, 'hid': 61, 'wards': 13}],\n",
      "             2: [{'gpm': 972, 'hid': 8, 'wards': 9},\n",
      "                 {'gpm': 803, 'hid': 65, 'wards': 0},\n",
      "                 {'gpm': 645, 'hid': 36, 'wards': 4}],\n",
      "             3: []})\n"
     ]
    },
    {
     "name": "stderr",
     "output_type": "stream",
     "text": [
      " 66%|██████▌   | 32779/50000 [03:06<01:06, 257.14it/s]"
     ]
    },
    {
     "name": "stdout",
     "output_type": "stream",
     "text": [
      "====================\n",
      "final roles:  {1: 14, 2: 65}\n",
      "defaultdict(<class 'list'>,\n",
      "            {1: [{'gpm': 1414, 'hid': 14, 'wards': 1}],\n",
      "             2: [{'gpm': 188, 'hid': 65, 'wards': 2},\n",
      "                 {'gpm': 153, 'hid': 109, 'wards': 0},\n",
      "                 {'gpm': 132, 'hid': 1, 'wards': 0},\n",
      "                 {'gpm': 175, 'hid': 49, 'wards': 0}],\n",
      "             3: []})\n",
      "====================\n",
      "final roles:  {2: 74, 3: 7}\n",
      "defaultdict(<class 'list'>,\n",
      "            {1: [],\n",
      "             2: [{'gpm': 480, 'hid': 14, 'wards': 12},\n",
      "                 {'gpm': 783, 'hid': 74, 'wards': 1}],\n",
      "             3: [{'gpm': 424, 'hid': 129, 'wards': 0},\n",
      "                 {'gpm': 568, 'hid': 7, 'wards': 6}],\n",
      "             4: [{'gpm': 1109, 'hid': 19, 'wards': 0}]})\n"
     ]
    },
    {
     "name": "stderr",
     "output_type": "stream",
     "text": [
      " 66%|██████▌   | 32946/50000 [03:06<01:07, 253.96it/s]"
     ]
    },
    {
     "name": "stdout",
     "output_type": "stream",
     "text": [
      "====================\n",
      "final roles:  {2: 4, 3: 54}\n",
      "defaultdict(<class 'list'>,\n",
      "            {1: [],\n",
      "             2: [{'gpm': 574, 'hid': 4, 'wards': 33},\n",
      "                 {'gpm': 573, 'hid': 106, 'wards': 2},\n",
      "                 {'gpm': 539, 'hid': 25, 'wards': 13}],\n",
      "             3: [{'gpm': 546, 'hid': 54, 'wards': 1}],\n",
      "             5: [{'gpm': 491, 'hid': 104, 'wards': 0}]})\n",
      "====================\n",
      "final roles:  {1: 23, 2: 77}\n",
      "defaultdict(<class 'list'>,\n",
      "            {1: [{'gpm': 709, 'hid': 121, 'wards': 43},\n",
      "                 {'gpm': 857, 'hid': 23, 'wards': 0}],\n",
      "             2: [{'gpm': 1383, 'hid': 77, 'wards': 0},\n",
      "                 {'gpm': 560, 'hid': 14, 'wards': 0}],\n",
      "             3: [],\n",
      "             5: [{'gpm': 1365, 'hid': 72, 'wards': 0}]})\n"
     ]
    },
    {
     "name": "stderr",
     "output_type": "stream",
     "text": [
      " 66%|██████▌   | 33055/50000 [03:07<01:04, 263.52it/s]"
     ]
    },
    {
     "name": "stdout",
     "output_type": "stream",
     "text": [
      "====================\n",
      "final roles:  {2: 97, 3: 98}\n",
      "defaultdict(<class 'list'>,\n",
      "            {1: [],\n",
      "             2: [{'gpm': 486, 'hid': 97, 'wards': 2},\n",
      "                 {'gpm': 477, 'hid': 75, 'wards': 4}],\n",
      "             3: [{'gpm': 389, 'hid': 25, 'wards': 36},\n",
      "                 {'gpm': 512, 'hid': 98, 'wards': 9}],\n",
      "             4: [{'gpm': 494, 'hid': 6, 'wards': 2}]})\n"
     ]
    },
    {
     "name": "stderr",
     "output_type": "stream",
     "text": [
      " 67%|██████▋   | 33469/50000 [03:08<01:01, 267.45it/s]"
     ]
    },
    {
     "name": "stdout",
     "output_type": "stream",
     "text": [
      "====================\n",
      "final roles:  {1: 81, 2: 45}\n",
      "defaultdict(<class 'list'>,\n",
      "            {1: [{'gpm': 515, 'hid': 81, 'wards': 2},\n",
      "                 {'gpm': 483, 'hid': 37, 'wards': 23}],\n",
      "             2: [{'gpm': 518, 'hid': 45, 'wards': 1},\n",
      "                 {'gpm': 160, 'hid': 3, 'wards': 0},\n",
      "                 {'gpm': 182, 'hid': 59, 'wards': 0}],\n",
      "             3: []})\n"
     ]
    },
    {
     "name": "stderr",
     "output_type": "stream",
     "text": [
      " 68%|██████▊   | 33883/50000 [03:10<01:00, 264.98it/s]"
     ]
    },
    {
     "name": "stdout",
     "output_type": "stream",
     "text": [
      "====================\n",
      "final roles:  {1: 74, 3: 71}\n",
      "defaultdict(<class 'list'>,\n",
      "            {1: [{'gpm': 1005, 'hid': 41, 'wards': 3},\n",
      "                 {'gpm': 803, 'hid': 86, 'wards': 35},\n",
      "                 {'gpm': 1327, 'hid': 74, 'wards': 1}],\n",
      "             2: [],\n",
      "             3: [{'gpm': 876, 'hid': 84, 'wards': 4},\n",
      "                 {'gpm': 905, 'hid': 71, 'wards': 2}]})\n"
     ]
    },
    {
     "name": "stderr",
     "output_type": "stream",
     "text": [
      " 68%|██████▊   | 33966/50000 [03:10<01:00, 266.93it/s]"
     ]
    },
    {
     "name": "stdout",
     "output_type": "stream",
     "text": [
      "====================\n",
      "final roles:  {1: 88, 2: 83}\n",
      "defaultdict(<class 'list'>,\n",
      "            {1: [{'gpm': 575, 'hid': 20, 'wards': 0},\n",
      "                 {'gpm': 628, 'hid': 88, 'wards': 11}],\n",
      "             2: [{'gpm': 632, 'hid': 14, 'wards': 43},\n",
      "                 {'gpm': 676, 'hid': 83, 'wards': 4}],\n",
      "             3: [],\n",
      "             5: [{'gpm': 1143, 'hid': 18, 'wards': 2}]})\n",
      "====================\n",
      "final roles:  {2: 74, 3: 105}\n",
      "defaultdict(<class 'list'>,\n",
      "            {1: [],\n",
      "             2: [{'gpm': 403, 'hid': 6, 'wards': 0},\n",
      "                 {'gpm': 512, 'hid': 26, 'wards': 0},\n",
      "                 {'gpm': 1342, 'hid': 74, 'wards': 1}],\n",
      "             3: [{'gpm': 509, 'hid': 7, 'wards': 3},\n",
      "                 {'gpm': 684, 'hid': 105, 'wards': 7}]})\n"
     ]
    },
    {
     "name": "stderr",
     "output_type": "stream",
     "text": [
      " 68%|██████▊   | 34020/50000 [03:11<01:06, 240.36it/s]"
     ]
    },
    {
     "name": "stdout",
     "output_type": "stream",
     "text": [
      "====================\n",
      "final roles:  {1: 28, 2: 43}\n",
      "defaultdict(<class 'list'>,\n",
      "            {1: [{'gpm': 333, 'hid': 97, 'wards': 44},\n",
      "                 {'gpm': 490, 'hid': 28, 'wards': 1}],\n",
      "             2: [{'gpm': 539, 'hid': 43, 'wards': 9}],\n",
      "             3: [],\n",
      "             5: [{'gpm': 617, 'hid': 48, 'wards': 1},\n",
      "                 {'gpm': 377, 'hid': 33, 'wards': 3}]})\n"
     ]
    },
    {
     "name": "stderr",
     "output_type": "stream",
     "text": [
      " 68%|██████▊   | 34103/50000 [03:11<01:02, 255.36it/s]"
     ]
    },
    {
     "name": "stdout",
     "output_type": "stream",
     "text": [
      "====================\n",
      "final roles:  {2: 17, 3: 68}\n",
      "defaultdict(<class 'list'>,\n",
      "            {1: [],\n",
      "             2: [{'gpm': 155, 'hid': 17, 'wards': 1},\n",
      "                 {'gpm': 137, 'hid': 33, 'wards': 1},\n",
      "                 {'gpm': 142, 'hid': 41, 'wards': 0}],\n",
      "             3: [{'gpm': 779, 'hid': 68, 'wards': 5},\n",
      "                 {'gpm': 173, 'hid': 97, 'wards': 0}]})\n"
     ]
    },
    {
     "name": "stderr",
     "output_type": "stream",
     "text": [
      " 68%|██████▊   | 34217/50000 [03:11<01:02, 253.58it/s]"
     ]
    },
    {
     "name": "stdout",
     "output_type": "stream",
     "text": [
      "====================\n",
      "final roles:  {1: 54, 2: 22}\n",
      "defaultdict(<class 'list'>,\n",
      "            {1: [{'gpm': 272, 'hid': 87, 'wards': 25},\n",
      "                 {'gpm': 340, 'hid': 54, 'wards': 0}],\n",
      "             2: [{'gpm': 408, 'hid': 22, 'wards': 0},\n",
      "                 {'gpm': 301, 'hid': 40, 'wards': 5}],\n",
      "             3: [],\n",
      "             4: [{'gpm': 573, 'hid': 53, 'wards': 6}]})\n"
     ]
    },
    {
     "name": "stderr",
     "output_type": "stream",
     "text": [
      " 69%|██████▊   | 34302/50000 [03:12<00:59, 264.10it/s]"
     ]
    },
    {
     "name": "stdout",
     "output_type": "stream",
     "text": [
      "====================\n",
      "final roles:  {2: 17, 3: 41}\n",
      "defaultdict(<class 'list'>,\n",
      "            {1: [],\n",
      "             2: [{'gpm': 869, 'hid': 17, 'wards': 2}],\n",
      "             3: [{'gpm': 632, 'hid': 41, 'wards': 0},\n",
      "                 {'gpm': 254, 'hid': 5, 'wards': 2}],\n",
      "             5: [{'gpm': 279, 'hid': 60, 'wards': 6},\n",
      "                 {'gpm': 289, 'hid': 22, 'wards': 0}]})\n",
      "====================\n",
      "final roles:  {1: 22, 2: 97}\n",
      "defaultdict(<class 'list'>,\n",
      "            {1: [{'gpm': 962, 'hid': 22, 'wards': 3}],\n",
      "             2: [{'gpm': 759, 'hid': 14, 'wards': 2},\n",
      "                 {'gpm': 785, 'hid': 97, 'wards': 32},\n",
      "                 {'gpm': 723, 'hid': 57, 'wards': 0}],\n",
      "             3: [],\n",
      "             5: [{'gpm': 1630, 'hid': 44, 'wards': 3}]})\n"
     ]
    },
    {
     "name": "stderr",
     "output_type": "stream",
     "text": [
      " 69%|██████▉   | 34414/50000 [03:12<01:03, 245.35it/s]"
     ]
    },
    {
     "name": "stdout",
     "output_type": "stream",
     "text": [
      "====================\n",
      "final roles:  {2: 36, 3: 56}\n",
      "defaultdict(<class 'list'>,\n",
      "            {1: [],\n",
      "             2: [{'gpm': 928, 'hid': 36, 'wards': 1},\n",
      "                 {'gpm': 532, 'hid': 41, 'wards': 0},\n",
      "                 {'gpm': 396, 'hid': 31, 'wards': 1}],\n",
      "             3: [{'gpm': 312, 'hid': 56, 'wards': 2}],\n",
      "             5: [{'gpm': 984, 'hid': 95, 'wards': 30}]})\n"
     ]
    },
    {
     "name": "stderr",
     "output_type": "stream",
     "text": [
      " 69%|██████▉   | 34500/50000 [03:12<00:58, 262.78it/s]"
     ]
    },
    {
     "name": "stdout",
     "output_type": "stream",
     "text": [
      "====================\n",
      "final roles:  {1: 93, 2: 53}\n",
      "defaultdict(<class 'list'>,\n",
      "            {1: [{'gpm': 590, 'hid': 83, 'wards': 27},\n",
      "                 {'gpm': 1113, 'hid': 93, 'wards': 0}],\n",
      "             2: [{'gpm': 1089, 'hid': 53, 'wards': 4},\n",
      "                 {'gpm': 790, 'hid': 22, 'wards': 7}],\n",
      "             3: [],\n",
      "             5: [{'gpm': 777, 'hid': 67, 'wards': 0}]})\n"
     ]
    },
    {
     "name": "stderr",
     "output_type": "stream",
     "text": [
      " 69%|██████▉   | 34734/50000 [03:13<00:54, 278.54it/s]"
     ]
    },
    {
     "name": "stdout",
     "output_type": "stream",
     "text": [
      "====================\n",
      "final roles:  {1: 96, 2: 63}\n",
      "defaultdict(<class 'list'>,\n",
      "            {1: [{'gpm': 687, 'hid': 27, 'wards': 1},\n",
      "                 {'gpm': 921, 'hid': 96, 'wards': 1}],\n",
      "             2: [{'gpm': 1300, 'hid': 63, 'wards': 0},\n",
      "                 {'gpm': 867, 'hid': 22, 'wards': 0},\n",
      "                 {'gpm': 688, 'hid': 14, 'wards': 22}],\n",
      "             3: []})\n"
     ]
    },
    {
     "name": "stderr",
     "output_type": "stream",
     "text": [
      " 70%|██████▉   | 34972/50000 [03:14<00:52, 285.52it/s]"
     ]
    },
    {
     "name": "stdout",
     "output_type": "stream",
     "text": [
      "====================\n",
      "final roles:  {2: 54, 3: 95}\n",
      "defaultdict(<class 'list'>,\n",
      "            {1: [],\n",
      "             2: [{'gpm': 929, 'hid': 34, 'wards': 2},\n",
      "                 {'gpm': 630, 'hid': 105, 'wards': 12},\n",
      "                 {'gpm': 754, 'hid': 20, 'wards': 15},\n",
      "                 {'gpm': 1112, 'hid': 54, 'wards': 0}],\n",
      "             3: [{'gpm': 1242, 'hid': 95, 'wards': 0}]})\n"
     ]
    },
    {
     "name": "stderr",
     "output_type": "stream",
     "text": [
      " 70%|███████   | 35092/50000 [03:15<00:55, 268.55it/s]"
     ]
    },
    {
     "name": "stdout",
     "output_type": "stream",
     "text": [
      "====================\n",
      "final roles:  {1: 6, 3: 104}\n",
      "defaultdict(<class 'list'>,\n",
      "            {1: [{'gpm': 535, 'hid': 6, 'wards': 0},\n",
      "                 {'gpm': 300, 'hid': 28, 'wards': 2},\n",
      "                 {'gpm': 312, 'hid': 14, 'wards': 3}],\n",
      "             2: [],\n",
      "             3: [{'gpm': 375, 'hid': 27, 'wards': 60},\n",
      "                 {'gpm': 515, 'hid': 104, 'wards': 2}]})\n"
     ]
    },
    {
     "name": "stderr",
     "output_type": "stream",
     "text": [
      " 70%|███████   | 35209/50000 [03:15<00:52, 284.19it/s]"
     ]
    },
    {
     "name": "stdout",
     "output_type": "stream",
     "text": [
      "====================\n",
      "final roles:  {2: 35, 3: 94}\n",
      "defaultdict(<class 'list'>,\n",
      "            {1: [],\n",
      "             2: [{'gpm': 961, 'hid': 35, 'wards': 15}],\n",
      "             3: [{'gpm': 1243, 'hid': 94, 'wards': 0},\n",
      "                 {'gpm': 436, 'hid': 14, 'wards': 2},\n",
      "                 {'gpm': 886, 'hid': 68, 'wards': 1}],\n",
      "             5: [{'gpm': 1152, 'hid': 17, 'wards': 9}]})\n",
      "====================\n",
      "final roles:  {1: 1, 2: 35}\n",
      "defaultdict(<class 'list'>,\n",
      "            {1: [{'gpm': 797, 'hid': 1, 'wards': 0},\n",
      "                 {'gpm': 504, 'hid': 84, 'wards': 23}],\n",
      "             2: [{'gpm': 691, 'hid': 14, 'wards': 8},\n",
      "                 {'gpm': 914, 'hid': 35, 'wards': 1},\n",
      "                 {'gpm': 490, 'hid': 68, 'wards': 6}],\n",
      "             3: []})\n"
     ]
    },
    {
     "name": "stderr",
     "output_type": "stream",
     "text": [
      " 71%|███████   | 35267/50000 [03:15<01:01, 241.00it/s]"
     ]
    },
    {
     "name": "stdout",
     "output_type": "stream",
     "text": [
      "====================\n",
      "final roles:  {2: 35, 3: 8}\n",
      "defaultdict(<class 'list'>,\n",
      "            {1: [],\n",
      "             2: [{'gpm': 310, 'hid': 32, 'wards': 20},\n",
      "                 {'gpm': 415, 'hid': 97, 'wards': 37},\n",
      "                 {'gpm': 612, 'hid': 35, 'wards': 1}],\n",
      "             3: [{'gpm': 513, 'hid': 8, 'wards': 0}],\n",
      "             5: [{'gpm': 676, 'hid': 53, 'wards': 16}]})\n"
     ]
    },
    {
     "name": "stderr",
     "output_type": "stream",
     "text": [
      " 71%|███████   | 35612/50000 [03:17<00:51, 278.62it/s]"
     ]
    },
    {
     "name": "stdout",
     "output_type": "stream",
     "text": [
      "====================\n",
      "final roles:  {2: 50, 3: 84}\n",
      "defaultdict(<class 'list'>,\n",
      "            {1: [],\n",
      "             2: [{'gpm': 1976, 'hid': 50, 'wards': 3},\n",
      "                 {'gpm': 351, 'hid': 120, 'wards': 0},\n",
      "                 {'gpm': 242, 'hid': 42, 'wards': 0}],\n",
      "             3: [{'gpm': 347, 'hid': 84, 'wards': 3},\n",
      "                 {'gpm': 318, 'hid': 6, 'wards': 0}]})\n",
      "====================\n",
      "final roles:  {1: 25, 3: 101}\n",
      "defaultdict(<class 'list'>,\n",
      "            {1: [{'gpm': 1714, 'hid': 25, 'wards': 0},\n",
      "                 {'gpm': 1469, 'hid': 114, 'wards': 4},\n",
      "                 {'gpm': 275, 'hid': 8, 'wards': 0}],\n",
      "             2: [],\n",
      "             3: [{'gpm': 889, 'hid': 101, 'wards': 1},\n",
      "                 {'gpm': 514, 'hid': 20, 'wards': 5}]})\n"
     ]
    },
    {
     "name": "stderr",
     "output_type": "stream",
     "text": [
      " 72%|███████▏  | 35887/50000 [03:18<00:56, 248.88it/s]"
     ]
    },
    {
     "name": "stdout",
     "output_type": "stream",
     "text": [
      "====================\n",
      "final roles:  {2: 22, 3: 21}\n",
      "defaultdict(<class 'list'>,\n",
      "            {1: [],\n",
      "             2: [{'gpm': 350, 'hid': 2, 'wards': 0},\n",
      "                 {'gpm': 955, 'hid': 22, 'wards': 4}],\n",
      "             3: [{'gpm': 520, 'hid': 123, 'wards': 11},\n",
      "                 {'gpm': 841, 'hid': 21, 'wards': 0}],\n",
      "             5: [{'gpm': 592, 'hid': 70, 'wards': 2}]})\n"
     ]
    },
    {
     "name": "stderr",
     "output_type": "stream",
     "text": [
      " 72%|███████▏  | 36238/50000 [03:19<00:52, 262.07it/s]"
     ]
    },
    {
     "name": "stdout",
     "output_type": "stream",
     "text": [
      "====================\n",
      "final roles:  {1: 80, 2: 58}\n",
      "defaultdict(<class 'list'>,\n",
      "            {1: [{'gpm': 508, 'hid': 80, 'wards': 22},\n",
      "                 {'gpm': 475, 'hid': 4, 'wards': 10}],\n",
      "             2: [{'gpm': 490, 'hid': 58, 'wards': 0},\n",
      "                 {'gpm': 418, 'hid': 95, 'wards': 9}],\n",
      "             3: [],\n",
      "             5: [{'gpm': 873, 'hid': 31, 'wards': 15}]})\n"
     ]
    },
    {
     "name": "stderr",
     "output_type": "stream",
     "text": [
      " 73%|███████▎  | 36429/50000 [03:20<00:57, 237.34it/s]"
     ]
    },
    {
     "name": "stdout",
     "output_type": "stream",
     "text": [
      "====================\n",
      "final roles:  {1: 93, 2: 25}\n",
      "defaultdict(<class 'list'>,\n",
      "            {1: [{'gpm': 495, 'hid': 14, 'wards': 5},\n",
      "                 {'gpm': 546, 'hid': 93, 'wards': 0}],\n",
      "             2: [{'gpm': 225, 'hid': 89, 'wards': 0},\n",
      "                 {'gpm': 967, 'hid': 25, 'wards': 0},\n",
      "                 {'gpm': 153, 'hid': 99, 'wards': 0}],\n",
      "             3: []})\n",
      "====================\n",
      "final roles:  {1: 1, 2: 35}\n",
      "defaultdict(<class 'list'>,\n",
      "            {1: [{'gpm': 1058, 'hid': 1, 'wards': 0},\n",
      "                 {'gpm': 784, 'hid': 40, 'wards': 10}],\n",
      "             2: [{'gpm': 1076, 'hid': 53, 'wards': 0},\n",
      "                 {'gpm': 1208, 'hid': 35, 'wards': 1},\n",
      "                 {'gpm': 1037, 'hid': 99, 'wards': 7}],\n",
      "             3: []})\n"
     ]
    },
    {
     "name": "stderr",
     "output_type": "stream",
     "text": [
      " 73%|███████▎  | 36633/50000 [03:21<00:54, 246.12it/s]"
     ]
    },
    {
     "name": "stdout",
     "output_type": "stream",
     "text": [
      "====================\n",
      "final roles:  {2: 34, 3: 35}\n",
      "defaultdict(<class 'list'>,\n",
      "            {1: [],\n",
      "             2: [{'gpm': 110, 'hid': 79, 'wards': 0},\n",
      "                 {'gpm': 559, 'hid': 34, 'wards': 2},\n",
      "                 {'gpm': 136, 'hid': 8, 'wards': 0},\n",
      "                 {'gpm': 158, 'hid': 102, 'wards': 2}],\n",
      "             3: [{'gpm': 221, 'hid': 35, 'wards': 1}]})\n"
     ]
    },
    {
     "name": "stderr",
     "output_type": "stream",
     "text": [
      " 74%|███████▍  | 37087/50000 [03:23<00:48, 263.82it/s]"
     ]
    },
    {
     "name": "stdout",
     "output_type": "stream",
     "text": [
      "====================\n",
      "final roles:  {1: 32, 2: 1}\n",
      "defaultdict(<class 'list'>,\n",
      "            {1: [{'gpm': 456, 'hid': 32, 'wards': 4},\n",
      "                 {'gpm': 267, 'hid': 3, 'wards': 50}],\n",
      "             2: [{'gpm': 380, 'hid': 101, 'wards': 6},\n",
      "                 {'gpm': 484, 'hid': 1, 'wards': 0}],\n",
      "             3: [],\n",
      "             5: [{'gpm': 423, 'hid': 10, 'wards': 0}]})\n"
     ]
    },
    {
     "name": "stderr",
     "output_type": "stream",
     "text": [
      " 74%|███████▍  | 37207/50000 [03:23<00:43, 291.49it/s]"
     ]
    },
    {
     "name": "stdout",
     "output_type": "stream",
     "text": [
      "====================\n",
      "final roles:  {1: 44, 2: 9}\n",
      "defaultdict(<class 'list'>,\n",
      "            {1: [{'gpm': 745, 'hid': 44, 'wards': 0},\n",
      "                 {'gpm': 319, 'hid': 5, 'wards': 5}],\n",
      "             2: [{'gpm': 553, 'hid': 84, 'wards': 20},\n",
      "                 {'gpm': 546, 'hid': 102, 'wards': 1},\n",
      "                 {'gpm': 587, 'hid': 9, 'wards': 4}],\n",
      "             3: []})\n"
     ]
    },
    {
     "name": "stderr",
     "output_type": "stream",
     "text": [
      " 75%|███████▌  | 37538/50000 [03:24<00:49, 253.80it/s]"
     ]
    },
    {
     "name": "stdout",
     "output_type": "stream",
     "text": [
      "====================\n",
      "final roles:  {1: 67, 2: 109}\n",
      "defaultdict(<class 'list'>,\n",
      "            {1: [{'gpm': 606, 'hid': 27, 'wards': 26},\n",
      "                 {'gpm': 1094, 'hid': 67, 'wards': 0}],\n",
      "             2: [{'gpm': 1150, 'hid': 109, 'wards': 0},\n",
      "                 {'gpm': 942, 'hid': 114, 'wards': 0},\n",
      "                 {'gpm': 598, 'hid': 26, 'wards': 14}],\n",
      "             3: []})\n",
      "====================\n",
      "final roles:  {2: 73, 3: 56}\n",
      "defaultdict(<class 'list'>,\n",
      "            {1: [],\n",
      "             2: [{'gpm': 676, 'hid': 14, 'wards': 7},\n",
      "                 {'gpm': 511, 'hid': 19, 'wards': 5},\n",
      "                 {'gpm': 603, 'hid': 104, 'wards': 2},\n",
      "                 {'gpm': 829, 'hid': 73, 'wards': 0}],\n",
      "             3: [{'gpm': 917, 'hid': 56, 'wards': 0}]})\n"
     ]
    },
    {
     "name": "stderr",
     "output_type": "stream",
     "text": [
      " 76%|███████▌  | 37768/50000 [03:25<00:45, 269.57it/s]"
     ]
    },
    {
     "name": "stdout",
     "output_type": "stream",
     "text": [
      "====================\n",
      "final roles:  {1: 93, 3: 102}\n",
      "defaultdict(<class 'list'>,\n",
      "            {1: [{'gpm': 542, 'hid': 93, 'wards': 0},\n",
      "                 {'gpm': 434, 'hid': 128, 'wards': 34}],\n",
      "             2: [],\n",
      "             3: [{'gpm': 376, 'hid': 13, 'wards': 6},\n",
      "                 {'gpm': 455, 'hid': 102, 'wards': 0}],\n",
      "             4: [{'gpm': 538, 'hid': 46, 'wards': 3}]})\n"
     ]
    },
    {
     "name": "stderr",
     "output_type": "stream",
     "text": [
      " 76%|███████▌  | 38008/50000 [03:26<00:41, 289.74it/s]"
     ]
    },
    {
     "name": "stdout",
     "output_type": "stream",
     "text": [
      "====================\n",
      "final roles:  {1: 70, 2: 36}\n",
      "defaultdict(<class 'list'>,\n",
      "            {1: [{'gpm': 949, 'hid': 70, 'wards': 0},\n",
      "                 {'gpm': 477, 'hid': 26, 'wards': 32}],\n",
      "             2: [{'gpm': 927, 'hid': 104, 'wards': 0},\n",
      "                 {'gpm': 1087, 'hid': 36, 'wards': 1}],\n",
      "             3: [],\n",
      "             4: [{'gpm': 1322, 'hid': 8, 'wards': 16}]})\n"
     ]
    },
    {
     "name": "stderr",
     "output_type": "stream",
     "text": [
      " 76%|███████▌  | 38094/50000 [03:27<00:53, 224.26it/s]"
     ]
    },
    {
     "name": "stdout",
     "output_type": "stream",
     "text": [
      "====================\n",
      "final roles:  {1: 16, 2: 54}\n",
      "defaultdict(<class 'list'>,\n",
      "            {1: [{'gpm': 426, 'hid': 7, 'wards': 45},\n",
      "                 {'gpm': 520, 'hid': 16, 'wards': 4}],\n",
      "             2: [{'gpm': 542, 'hid': 45, 'wards': 7},\n",
      "                 {'gpm': 660, 'hid': 54, 'wards': 0}],\n",
      "             3: [],\n",
      "             5: [{'gpm': 479, 'hid': 40, 'wards': 2}]})\n",
      "====================\n",
      "final roles:  {1: 60, 2: 17}\n",
      "defaultdict(<class 'list'>,\n",
      "            {1: [{'gpm': 318, 'hid': 14, 'wards': 0},\n",
      "                 {'gpm': 329, 'hid': 119, 'wards': 59},\n",
      "                 {'gpm': 681, 'hid': 60, 'wards': 0}],\n",
      "             2: [{'gpm': 775, 'hid': 17, 'wards': 4}],\n",
      "             3: [],\n",
      "             5: [{'gpm': 961, 'hid': 89, 'wards': 5}]})\n"
     ]
    },
    {
     "name": "stderr",
     "output_type": "stream",
     "text": [
      " 77%|███████▋  | 38283/50000 [03:27<00:45, 256.43it/s]"
     ]
    },
    {
     "name": "stdout",
     "output_type": "stream",
     "text": [
      "====================\n",
      "final roles:  {1: 104, 3: 44}\n",
      "defaultdict(<class 'list'>,\n",
      "            {1: [{'gpm': 857, 'hid': 104, 'wards': 0},\n",
      "                 {'gpm': 684, 'hid': 111, 'wards': 4},\n",
      "                 {'gpm': 422, 'hid': 30, 'wards': 26},\n",
      "                 {'gpm': 462, 'hid': 91, 'wards': 0}],\n",
      "             2: [],\n",
      "             3: [{'gpm': 1048, 'hid': 44, 'wards': 0}]})\n",
      "====================\n",
      "final roles:  {1: 94, 2: 128}\n",
      "defaultdict(<class 'list'>,\n",
      "            {1: [{'gpm': 630, 'hid': 29, 'wards': 0},\n",
      "                 {'gpm': 1273, 'hid': 94, 'wards': 0}],\n",
      "             2: [{'gpm': 976, 'hid': 120, 'wards': 2},\n",
      "                 {'gpm': 1187, 'hid': 128, 'wards': 4},\n",
      "                 {'gpm': 469, 'hid': 86, 'wards': 32}],\n",
      "             3: []})\n"
     ]
    },
    {
     "name": "stderr",
     "output_type": "stream",
     "text": [
      " 77%|███████▋  | 38396/50000 [03:28<00:43, 266.23it/s]"
     ]
    },
    {
     "name": "stdout",
     "output_type": "stream",
     "text": [
      "====================\n",
      "final roles:  {1: 93, 2: 106}\n",
      "defaultdict(<class 'list'>,\n",
      "            {1: [{'gpm': 1002, 'hid': 93, 'wards': 3},\n",
      "                 {'gpm': 464, 'hid': 37, 'wards': 20}],\n",
      "             2: [{'gpm': 566, 'hid': 71, 'wards': 3},\n",
      "                 {'gpm': 379, 'hid': 32, 'wards': 8},\n",
      "                 {'gpm': 692, 'hid': 106, 'wards': 3}],\n",
      "             3: []})\n"
     ]
    },
    {
     "name": "stderr",
     "output_type": "stream",
     "text": [
      " 77%|███████▋  | 38728/50000 [03:29<00:42, 264.42it/s]"
     ]
    },
    {
     "name": "stdout",
     "output_type": "stream",
     "text": [
      "====================\n",
      "final roles:  {1: 104, 2: 74}\n",
      "defaultdict(<class 'list'>,\n",
      "            {1: [{'gpm': 379, 'hid': 104, 'wards': 0},\n",
      "                 {'gpm': 258, 'hid': 110, 'wards': 16},\n",
      "                 {'gpm': 250, 'hid': 14, 'wards': 11}],\n",
      "             2: [{'gpm': 326, 'hid': 74, 'wards': 5}],\n",
      "             3: [],\n",
      "             5: [{'gpm': 361, 'hid': 8, 'wards': 0}]})\n"
     ]
    },
    {
     "name": "stderr",
     "output_type": "stream",
     "text": [
      " 78%|███████▊  | 38892/50000 [03:29<00:35, 314.33it/s]"
     ]
    },
    {
     "name": "stdout",
     "output_type": "stream",
     "text": [
      "====================\n",
      "final roles:  {1: 93, 3: 102}\n",
      "defaultdict(<class 'list'>,\n",
      "            {1: [{'gpm': 271, 'hid': 93, 'wards': 0},\n",
      "                 {'gpm': 162, 'hid': 126, 'wards': 1}],\n",
      "             2: [],\n",
      "             3: [{'gpm': 145, 'hid': 107, 'wards': 4},\n",
      "                 {'gpm': 287, 'hid': 102, 'wards': 0}],\n",
      "             4: [{'gpm': 329, 'hid': 70, 'wards': 7}]})\n"
     ]
    },
    {
     "name": "stderr",
     "output_type": "stream",
     "text": [
      " 78%|███████▊  | 39058/50000 [03:30<00:35, 309.07it/s]"
     ]
    },
    {
     "name": "stdout",
     "output_type": "stream",
     "text": [
      "====================\n",
      "final roles:  {2: 109, 3: 62}\n",
      "defaultdict(<class 'list'>,\n",
      "            {1: [],\n",
      "             2: [{'gpm': 904, 'hid': 109, 'wards': 6},\n",
      "                 {'gpm': 139, 'hid': 114, 'wards': 0},\n",
      "                 {'gpm': 175, 'hid': 63, 'wards': 0},\n",
      "                 {'gpm': 122, 'hid': 72, 'wards': 0}],\n",
      "             3: [{'gpm': 891, 'hid': 62, 'wards': 1}]})\n"
     ]
    },
    {
     "name": "stderr",
     "output_type": "stream",
     "text": [
      " 78%|███████▊  | 39212/50000 [03:31<00:38, 277.50it/s]"
     ]
    },
    {
     "name": "stdout",
     "output_type": "stream",
     "text": [
      "====================\n",
      "final roles:  {2: 17, 3: 12}\n",
      "defaultdict(<class 'list'>,\n",
      "            {1: [],\n",
      "             2: [{'gpm': 651, 'hid': 17, 'wards': 4},\n",
      "                 {'gpm': 416, 'hid': 28, 'wards': 8},\n",
      "                 {'gpm': 498, 'hid': 16, 'wards': 0}],\n",
      "             3: [{'gpm': 667, 'hid': 12, 'wards': 8},\n",
      "                 {'gpm': 472, 'hid': 22, 'wards': 67}]})\n"
     ]
    },
    {
     "name": "stderr",
     "output_type": "stream",
     "text": [
      " 79%|███████▊  | 39271/50000 [03:31<00:37, 284.00it/s]"
     ]
    },
    {
     "name": "stdout",
     "output_type": "stream",
     "text": [
      "====================\n",
      "final roles:  {2: 84, 3: 1}\n",
      "defaultdict(<class 'list'>,\n",
      "            {1: [],\n",
      "             2: [{'gpm': 287, 'hid': 55, 'wards': 0},\n",
      "                 {'gpm': 421, 'hid': 84, 'wards': 5}],\n",
      "             3: [{'gpm': 445, 'hid': 1, 'wards': 29},\n",
      "                 {'gpm': 253, 'hid': 74, 'wards': 6}],\n",
      "             5: [{'gpm': 494, 'hid': 59, 'wards': 0}]})\n",
      "====================\n",
      "final roles:  {2: 4, 3: 44}\n",
      "defaultdict(<class 'list'>,\n",
      "            {1: [],\n",
      "             2: [{'gpm': 607, 'hid': 4, 'wards': 1},\n",
      "                 {'gpm': 422, 'hid': 71, 'wards': 0}],\n",
      "             3: [{'gpm': 404, 'hid': 14, 'wards': 52},\n",
      "                 {'gpm': 680, 'hid': 44, 'wards': 7}],\n",
      "             5: [{'gpm': 383, 'hid': 65, 'wards': 21}]})\n"
     ]
    },
    {
     "name": "stderr",
     "output_type": "stream",
     "text": [
      " 79%|███████▊  | 39336/50000 [03:31<00:36, 293.41it/s]"
     ]
    },
    {
     "name": "stdout",
     "output_type": "stream",
     "text": [
      "====================\n",
      "final roles:  {2: 6, 3: 16}\n",
      "defaultdict(<class 'list'>,\n",
      "            {1: [],\n",
      "             2: [{'gpm': 522, 'hid': 59, 'wards': 3},\n",
      "                 {'gpm': 885, 'hid': 6, 'wards': 2},\n",
      "                 {'gpm': 489, 'hid': 104, 'wards': 0}],\n",
      "             3: [{'gpm': 787, 'hid': 27, 'wards': 2},\n",
      "                 {'gpm': 922, 'hid': 16, 'wards': 8}]})\n",
      "====================\n",
      "final roles:  {2: 128, 3: 8}\n",
      "defaultdict(<class 'list'>,\n",
      "            {1: [],\n",
      "             2: [{'gpm': 450, 'hid': 128, 'wards': 0},\n",
      "                 {'gpm': 249, 'hid': 19, 'wards': 2},\n",
      "                 {'gpm': 419, 'hid': 34, 'wards': 0}],\n",
      "             3: [{'gpm': 236, 'hid': 91, 'wards': 6},\n",
      "                 {'gpm': 1829, 'hid': 8, 'wards': 0}]})\n"
     ]
    },
    {
     "name": "stderr",
     "output_type": "stream",
     "text": [
      " 79%|███████▉  | 39458/50000 [03:32<00:36, 290.03it/s]"
     ]
    },
    {
     "name": "stdout",
     "output_type": "stream",
     "text": [
      "====================\n",
      "final roles:  {1: 44, 2: 17}\n",
      "defaultdict(<class 'list'>,\n",
      "            {1: [{'gpm': 268, 'hid': 119, 'wards': 40},\n",
      "                 {'gpm': 580, 'hid': 44, 'wards': 0},\n",
      "                 {'gpm': 310, 'hid': 87, 'wards': 23}],\n",
      "             2: [{'gpm': 527, 'hid': 17, 'wards': 2},\n",
      "                 {'gpm': 382, 'hid': 4, 'wards': 3}],\n",
      "             3: []})\n"
     ]
    },
    {
     "name": "stderr",
     "output_type": "stream",
     "text": [
      " 79%|███████▉  | 39625/50000 [03:32<00:35, 294.20it/s]"
     ]
    },
    {
     "name": "stdout",
     "output_type": "stream",
     "text": [
      "====================\n",
      "final roles:  {1: 86, 2: 39}\n",
      "defaultdict(<class 'list'>,\n",
      "            {1: [{'gpm': 780, 'hid': 15, 'wards': 1},\n",
      "                 {'gpm': 843, 'hid': 86, 'wards': 45}],\n",
      "             2: [{'gpm': 1319, 'hid': 97, 'wards': 1},\n",
      "                 {'gpm': 1325, 'hid': 39, 'wards': 0}],\n",
      "             3: [],\n",
      "             5: [{'gpm': 1002, 'hid': 42, 'wards': 0}]})\n"
     ]
    },
    {
     "name": "stderr",
     "output_type": "stream",
     "text": [
      " 80%|███████▉  | 39792/50000 [03:33<00:37, 273.66it/s]"
     ]
    },
    {
     "name": "stdout",
     "output_type": "stream",
     "text": [
      "====================\n",
      "final roles:  {2: 58, 3: 8}\n",
      "defaultdict(<class 'list'>,\n",
      "            {1: [],\n",
      "             2: [{'gpm': 548, 'hid': 58, 'wards': 0},\n",
      "                 {'gpm': 354, 'hid': 93, 'wards': 10},\n",
      "                 {'gpm': 249, 'hid': 112, 'wards': 0}],\n",
      "             3: [{'gpm': 565, 'hid': 7, 'wards': 0},\n",
      "                 {'gpm': 864, 'hid': 8, 'wards': 5}]})\n"
     ]
    },
    {
     "name": "stderr",
     "output_type": "stream",
     "text": [
      " 80%|███████▉  | 39850/50000 [03:33<00:36, 274.92it/s]"
     ]
    },
    {
     "name": "stdout",
     "output_type": "stream",
     "text": [
      "====================\n",
      "final roles:  {1: 28, 3: 106}\n",
      "defaultdict(<class 'list'>,\n",
      "            {1: [{'gpm': 1308, 'hid': 28, 'wards': 0},\n",
      "                 {'gpm': 938, 'hid': 135, 'wards': 1}],\n",
      "             2: [],\n",
      "             3: [{'gpm': 1167, 'hid': 106, 'wards': 2},\n",
      "                 {'gpm': 506, 'hid': 22, 'wards': 0}],\n",
      "             5: [{'gpm': 1031, 'hid': 54, 'wards': 3}]})\n"
     ]
    },
    {
     "name": "stderr",
     "output_type": "stream",
     "text": [
      " 80%|████████  | 40231/50000 [03:34<00:36, 265.86it/s]"
     ]
    },
    {
     "name": "stdout",
     "output_type": "stream",
     "text": [
      "====================\n",
      "final roles:  {1: 93, 2: 34}\n",
      "defaultdict(<class 'list'>,\n",
      "            {1: [{'gpm': 378, 'hid': 79, 'wards': 38},\n",
      "                 {'gpm': 582, 'hid': 93, 'wards': 3}],\n",
      "             2: [{'gpm': 396, 'hid': 14, 'wards': 12},\n",
      "                 {'gpm': 560, 'hid': 34, 'wards': 4}],\n",
      "             3: [],\n",
      "             4: [{'gpm': 591, 'hid': 36, 'wards': 2}]})\n"
     ]
    },
    {
     "name": "stderr",
     "output_type": "stream",
     "text": [
      " 81%|████████  | 40388/50000 [03:35<00:31, 302.44it/s]"
     ]
    },
    {
     "name": "stdout",
     "output_type": "stream",
     "text": [
      "====================\n",
      "final roles:  {2: 86, 3: 53}\n",
      "defaultdict(<class 'list'>,\n",
      "            {1: [],\n",
      "             2: [{'gpm': 594, 'hid': 10, 'wards': 5},\n",
      "                 {'gpm': 671, 'hid': 86, 'wards': 8}],\n",
      "             3: [{'gpm': 677, 'hid': 53, 'wards': 0},\n",
      "                 {'gpm': 557, 'hid': 97, 'wards': 1}],\n",
      "             4: [{'gpm': 907, 'hid': 9, 'wards': 13}]})\n"
     ]
    },
    {
     "name": "stderr",
     "output_type": "stream",
     "text": [
      " 81%|████████  | 40457/50000 [03:35<00:32, 293.22it/s]"
     ]
    },
    {
     "name": "stdout",
     "output_type": "stream",
     "text": [
      "====================\n",
      "final roles:  {1: 35, 2: 64}\n",
      "defaultdict(<class 'list'>,\n",
      "            {1: [{'gpm': 516, 'hid': 33, 'wards': 3},\n",
      "                 {'gpm': 655, 'hid': 35, 'wards': 0}],\n",
      "             2: [{'gpm': 481, 'hid': 11, 'wards': 0},\n",
      "                 {'gpm': 467, 'hid': 14, 'wards': 2},\n",
      "                 {'gpm': 574, 'hid': 64, 'wards': 8}],\n",
      "             3: []})\n"
     ]
    },
    {
     "name": "stderr",
     "output_type": "stream",
     "text": [
      " 81%|████████  | 40614/50000 [03:36<00:34, 272.84it/s]"
     ]
    },
    {
     "name": "stdout",
     "output_type": "stream",
     "text": [
      "====================\n",
      "final roles:  {2: 126, 3: 56}\n",
      "defaultdict(<class 'list'>,\n",
      "            {1: [],\n",
      "             2: [{'gpm': 494, 'hid': 20, 'wards': 20},\n",
      "                 {'gpm': 791, 'hid': 126, 'wards': 1}],\n",
      "             3: [{'gpm': 863, 'hid': 56, 'wards': 0},\n",
      "                 {'gpm': 804, 'hid': 22, 'wards': 4}],\n",
      "             5: [{'gpm': 747, 'hid': 120, 'wards': 1}]})\n"
     ]
    },
    {
     "name": "stderr",
     "output_type": "stream",
     "text": [
      " 81%|████████▏ | 40692/50000 [03:36<00:41, 226.85it/s]"
     ]
    },
    {
     "name": "stdout",
     "output_type": "stream",
     "text": [
      "====================\n",
      "final roles:  {1: 18, 2: 126}\n",
      "defaultdict(<class 'list'>,\n",
      "            {1: [{'gpm': 833, 'hid': 18, 'wards': 0},\n",
      "                 {'gpm': 606, 'hid': 103, 'wards': 3}],\n",
      "             2: [{'gpm': 959, 'hid': 126, 'wards': 0},\n",
      "                 {'gpm': 748, 'hid': 60, 'wards': 7}],\n",
      "             3: [],\n",
      "             4: [{'gpm': 1273, 'hid': 17, 'wards': 8}]})\n",
      "====================\n",
      "final roles:  {1: 128, 3: 21}\n",
      "defaultdict(<class 'list'>,\n",
      "            {1: [{'gpm': 313, 'hid': 128, 'wards': 0},\n",
      "                 {'gpm': 239, 'hid': 84, 'wards': 3}],\n",
      "             2: [],\n",
      "             3: [{'gpm': 530, 'hid': 21, 'wards': 1},\n",
      "                 {'gpm': 151, 'hid': 49, 'wards': 1},\n",
      "                 {'gpm': 284, 'hid': 109, 'wards': 0}]})\n"
     ]
    },
    {
     "name": "stderr",
     "output_type": "stream",
     "text": [
      " 82%|████████▏ | 40858/50000 [03:37<00:39, 232.48it/s]"
     ]
    },
    {
     "name": "stdout",
     "output_type": "stream",
     "text": [
      "====================\n",
      "final roles:  {1: 101, 2: 84}\n",
      "defaultdict(<class 'list'>,\n",
      "            {1: [{'gpm': 381, 'hid': 101, 'wards': 5}],\n",
      "             2: [{'gpm': 147, 'hid': 114, 'wards': 0},\n",
      "                 {'gpm': 254, 'hid': 97, 'wards': 0},\n",
      "                 {'gpm': 127, 'hid': 11, 'wards': 0},\n",
      "                 {'gpm': 456, 'hid': 84, 'wards': 4}],\n",
      "             3: []})\n"
     ]
    },
    {
     "name": "stderr",
     "output_type": "stream",
     "text": [
      " 82%|████████▏ | 41043/50000 [03:37<00:29, 300.30it/s]"
     ]
    },
    {
     "name": "stdout",
     "output_type": "stream",
     "text": [
      "====================\n",
      "final roles:  {1: 14, 2: 101}\n",
      "defaultdict(<class 'list'>,\n",
      "            {1: [{'gpm': 282, 'hid': 92, 'wards': 2},\n",
      "                 {'gpm': 693, 'hid': 14, 'wards': 0}],\n",
      "             2: [{'gpm': 781, 'hid': 101, 'wards': 1}],\n",
      "             3: [],\n",
      "             5: [{'gpm': 242, 'hid': 91, 'wards': 5},\n",
      "                 {'gpm': 704, 'hid': 19, 'wards': 0}]})\n"
     ]
    },
    {
     "name": "stderr",
     "output_type": "stream",
     "text": [
      " 82%|████████▏ | 41135/50000 [03:38<00:32, 276.71it/s]"
     ]
    },
    {
     "name": "stdout",
     "output_type": "stream",
     "text": [
      "====================\n",
      "final roles:  {1: 14, 2: 34}\n",
      "defaultdict(<class 'list'>,\n",
      "            {1: [{'gpm': 973, 'hid': 14, 'wards': 25},\n",
      "                 {'gpm': 732, 'hid': 26, 'wards': 10},\n",
      "                 {'gpm': 925, 'hid': 97, 'wards': 0}],\n",
      "             2: [{'gpm': 1586, 'hid': 34, 'wards': 2}],\n",
      "             3: [],\n",
      "             5: [{'gpm': 1367, 'hid': 67, 'wards': 6}]})\n",
      "====================\n",
      "final roles:  {1: 98, 2: 73}\n",
      "defaultdict(<class 'list'>,\n",
      "            {1: [{'gpm': 191, 'hid': 86, 'wards': 9},\n",
      "                 {'gpm': 163, 'hid': 35, 'wards': 0},\n",
      "                 {'gpm': 360, 'hid': 98, 'wards': 0}],\n",
      "             2: [{'gpm': 265, 'hid': 106, 'wards': 0},\n",
      "                 {'gpm': 583, 'hid': 73, 'wards': 12}],\n",
      "             3: []})\n"
     ]
    },
    {
     "name": "stderr",
     "output_type": "stream",
     "text": [
      " 83%|████████▎ | 41258/50000 [03:38<00:30, 290.00it/s]"
     ]
    },
    {
     "name": "stdout",
     "output_type": "stream",
     "text": [
      "====================\n",
      "final roles:  {1: 94, 2: 34}\n",
      "defaultdict(<class 'list'>,\n",
      "            {1: [{'gpm': 659, 'hid': 94, 'wards': 0},\n",
      "                 {'gpm': 253, 'hid': 112, 'wards': 67},\n",
      "                 {'gpm': 188, 'hid': 3, 'wards': 7}],\n",
      "             2: [{'gpm': 410, 'hid': 34, 'wards': 3}],\n",
      "             3: [],\n",
      "             4: [{'gpm': 464, 'hid': 29, 'wards': 0}]})\n"
     ]
    },
    {
     "name": "stderr",
     "output_type": "stream",
     "text": [
      " 83%|████████▎ | 41342/50000 [03:38<00:34, 251.45it/s]"
     ]
    },
    {
     "name": "stdout",
     "output_type": "stream",
     "text": [
      "====================\n",
      "final roles:  {1: 14, 2: 10}\n",
      "defaultdict(<class 'list'>,\n",
      "            {1: [{'gpm': 989, 'hid': 14, 'wards': 4},\n",
      "                 {'gpm': 922, 'hid': 42, 'wards': 11},\n",
      "                 {'gpm': 868, 'hid': 28, 'wards': 0}],\n",
      "             2: [{'gpm': 1369, 'hid': 10, 'wards': 1}],\n",
      "             3: [],\n",
      "             4: [{'gpm': 1024, 'hid': 53, 'wards': 18}]})\n"
     ]
    },
    {
     "name": "stderr",
     "output_type": "stream",
     "text": [
      " 83%|████████▎ | 41401/50000 [03:39<00:31, 270.67it/s]"
     ]
    },
    {
     "name": "stdout",
     "output_type": "stream",
     "text": [
      "====================\n",
      "final roles:  {1: 34, 2: 10}\n",
      "defaultdict(<class 'list'>,\n",
      "            {1: [{'gpm': 1343, 'hid': 75, 'wards': 7},\n",
      "                 {'gpm': 1615, 'hid': 34, 'wards': 0}],\n",
      "             2: [{'gpm': 281, 'hid': 21, 'wards': 0},\n",
      "                 {'gpm': 305, 'hid': 10, 'wards': 0}],\n",
      "             3: [],\n",
      "             4: [{'gpm': 1276, 'hid': 72, 'wards': 1}]})\n",
      "====================\n",
      "final roles:  {2: 106, 3: 48}\n",
      "defaultdict(<class 'list'>,\n",
      "            {1: [],\n",
      "             2: [{'gpm': 245, 'hid': 90, 'wards': 3},\n",
      "                 {'gpm': 286, 'hid': 106, 'wards': 3},\n",
      "                 {'gpm': 205, 'hid': 46, 'wards': 0}],\n",
      "             3: [{'gpm': 531, 'hid': 114, 'wards': 0},\n",
      "                 {'gpm': 601, 'hid': 48, 'wards': 16}]})\n"
     ]
    },
    {
     "name": "stderr",
     "output_type": "stream",
     "text": [
      " 83%|████████▎ | 41590/50000 [03:39<00:28, 293.74it/s]"
     ]
    },
    {
     "name": "stdout",
     "output_type": "stream",
     "text": [
      "====================\n",
      "final roles:  {1: 75, 2: 106}\n",
      "defaultdict(<class 'list'>,\n",
      "            {1: [{'gpm': 674, 'hid': 75, 'wards': 0},\n",
      "                 {'gpm': 661, 'hid': 5, 'wards': 9}],\n",
      "             2: [{'gpm': 919, 'hid': 85, 'wards': 0},\n",
      "                 {'gpm': 851, 'hid': 71, 'wards': 0},\n",
      "                 {'gpm': 991, 'hid': 106, 'wards': 2}],\n",
      "             3: []})\n",
      "====================\n",
      "final roles:  {1: 51, 2: 21}\n",
      "defaultdict(<class 'list'>,\n",
      "            {1: [{'gpm': 473, 'hid': 47, 'wards': 1},\n",
      "                 {'gpm': 479, 'hid': 51, 'wards': 2}],\n",
      "             2: [{'gpm': 484, 'hid': 78, 'wards': 0},\n",
      "                 {'gpm': 450, 'hid': 82, 'wards': 0},\n",
      "                 {'gpm': 636, 'hid': 21, 'wards': 1}],\n",
      "             3: []})\n"
     ]
    },
    {
     "name": "stderr",
     "output_type": "stream",
     "text": [
      " 84%|████████▎ | 41825/50000 [03:40<00:25, 322.36it/s]"
     ]
    },
    {
     "name": "stdout",
     "output_type": "stream",
     "text": [
      "====================\n",
      "final roles:  {1: 129, 2: 104}\n",
      "defaultdict(<class 'list'>,\n",
      "            {1: [{'gpm': 455, 'hid': 129, 'wards': 41},\n",
      "                 {'gpm': 334, 'hid': 119, 'wards': 8},\n",
      "                 {'gpm': 412, 'hid': 20, 'wards': 1}],\n",
      "             2: [{'gpm': 695, 'hid': 104, 'wards': 3}],\n",
      "             3: [],\n",
      "             5: [{'gpm': 851, 'hid': 44, 'wards': 15}]})\n"
     ]
    },
    {
     "name": "stderr",
     "output_type": "stream",
     "text": [
      " 84%|████████▍ | 41895/50000 [03:40<00:24, 333.21it/s]"
     ]
    },
    {
     "name": "stdout",
     "output_type": "stream",
     "text": [
      "====================\n",
      "final roles:  {1: 102, 2: 70}\n",
      "defaultdict(<class 'list'>,\n",
      "            {1: [{'gpm': 431, 'hid': 102, 'wards': 0},\n",
      "                 {'gpm': 316, 'hid': 112, 'wards': 11}],\n",
      "             2: [{'gpm': 317, 'hid': 58, 'wards': 40},\n",
      "                 {'gpm': 653, 'hid': 70, 'wards': 1}],\n",
      "             3: [],\n",
      "             5: [{'gpm': 661, 'hid': 48, 'wards': 0}]})\n"
     ]
    },
    {
     "name": "stderr",
     "output_type": "stream",
     "text": [
      " 84%|████████▍ | 41929/50000 [03:40<00:29, 276.53it/s]"
     ]
    },
    {
     "name": "stdout",
     "output_type": "stream",
     "text": [
      "====================\n",
      "final roles:  {1: 71, 2: 22}\n",
      "defaultdict(<class 'list'>,\n",
      "            {1: [{'gpm': 1293, 'hid': 71, 'wards': 1}],\n",
      "             2: [{'gpm': 1193, 'hid': 22, 'wards': 0},\n",
      "                 {'gpm': 923, 'hid': 105, 'wards': 8},\n",
      "                 {'gpm': 846, 'hid': 40, 'wards': 15},\n",
      "                 {'gpm': 1153, 'hid': 47, 'wards': 31}],\n",
      "             3: []})\n",
      "====================\n",
      "final roles:  {2: 14, 3: 104}\n",
      "defaultdict(<class 'list'>,\n",
      "            {1: [],\n",
      "             2: [{'gpm': 1311, 'hid': 25, 'wards': 6},\n",
      "                 {'gpm': 1538, 'hid': 14, 'wards': 12},\n",
      "                 {'gpm': 1047, 'hid': 26, 'wards': 61}],\n",
      "             3: [{'gpm': 1140, 'hid': 104, 'wards': 2},\n",
      "                 {'gpm': 1085, 'hid': 101, 'wards': 2}]})\n"
     ]
    },
    {
     "name": "stderr",
     "output_type": "stream",
     "text": [
      " 84%|████████▍ | 42023/50000 [03:41<00:26, 298.15it/s]"
     ]
    },
    {
     "name": "stdout",
     "output_type": "stream",
     "text": [
      "====================\n",
      "final roles:  {1: 10, 2: 56}\n",
      "defaultdict(<class 'list'>,\n",
      "            {1: [{'gpm': 709, 'hid': 10, 'wards': 0},\n",
      "                 {'gpm': 612, 'hid': 32, 'wards': 0}],\n",
      "             2: [{'gpm': 391, 'hid': 74, 'wards': 1},\n",
      "                 {'gpm': 894, 'hid': 56, 'wards': 7},\n",
      "                 {'gpm': 334, 'hid': 44, 'wards': 0}],\n",
      "             3: []})\n"
     ]
    },
    {
     "name": "stderr",
     "output_type": "stream",
     "text": [
      " 85%|████████▍ | 42337/50000 [03:42<00:24, 311.28it/s]"
     ]
    },
    {
     "name": "stdout",
     "output_type": "stream",
     "text": [
      "====================\n",
      "final roles:  {1: 48, 2: 36}\n",
      "defaultdict(<class 'list'>,\n",
      "            {1: [{'gpm': 587, 'hid': 84, 'wards': 29},\n",
      "                 {'gpm': 1129, 'hid': 48, 'wards': 0}],\n",
      "             2: [{'gpm': 643, 'hid': 14, 'wards': 23},\n",
      "                 {'gpm': 1033, 'hid': 36, 'wards': 7}],\n",
      "             3: [],\n",
      "             4: [{'gpm': 974, 'hid': 97, 'wards': 0}]})\n",
      "====================\n",
      "final roles:  {1: 52, 2: 35}\n",
      "defaultdict(<class 'list'>,\n",
      "            {1: [{'gpm': 458, 'hid': 52, 'wards': 1},\n",
      "                 {'gpm': 301, 'hid': 114, 'wards': 34}],\n",
      "             2: [{'gpm': 388, 'hid': 27, 'wards': 46},\n",
      "                 {'gpm': 712, 'hid': 35, 'wards': 1}],\n",
      "             3: [],\n",
      "             5: [{'gpm': 434, 'hid': 70, 'wards': 6}]})\n"
     ]
    },
    {
     "name": "stderr",
     "output_type": "stream",
     "text": [
      " 85%|████████▍ | 42441/50000 [03:42<00:24, 314.47it/s]"
     ]
    },
    {
     "name": "stdout",
     "output_type": "stream",
     "text": [
      "====================\n",
      "final roles:  {2: 107, 3: 64}\n",
      "defaultdict(<class 'list'>,\n",
      "            {1: [],\n",
      "             2: [{'gpm': 45140, 'hid': 107, 'wards': 1}],\n",
      "             3: [{'gpm': 1799, 'hid': 64, 'wards': 2},\n",
      "                 {'gpm': 1799, 'hid': 98, 'wards': 0}],\n",
      "             4: [{'gpm': 30593, 'hid': 19, 'wards': 0},\n",
      "                 {'gpm': 30593, 'hid': 121, 'wards': 0}]})\n",
      "====================\n",
      "final roles:  {1: 14, 2: 74}\n",
      "defaultdict(<class 'list'>,\n",
      "            {1: [{'gpm': 417, 'hid': 98, 'wards': 0},\n",
      "                 {'gpm': 482, 'hid': 14, 'wards': 9}],\n",
      "             2: [{'gpm': 411, 'hid': 84, 'wards': 36},\n",
      "                 {'gpm': 446, 'hid': 74, 'wards': 2}],\n",
      "             3: [],\n",
      "             5: [{'gpm': 497, 'hid': 2, 'wards': 0}]})\n"
     ]
    },
    {
     "name": "stderr",
     "output_type": "stream",
     "text": [
      " 85%|████████▌ | 42545/50000 [03:42<00:22, 329.15it/s]"
     ]
    },
    {
     "name": "stdout",
     "output_type": "stream",
     "text": [
      "====================\n",
      "final roles:  {2: 74, 3: 19}\n",
      "defaultdict(<class 'list'>,\n",
      "            {1: [],\n",
      "             2: [{'gpm': 324, 'hid': 74, 'wards': 3}],\n",
      "             3: [{'gpm': 180, 'hid': 111, 'wards': 9},\n",
      "                 {'gpm': 388, 'hid': 19, 'wards': 1}],\n",
      "             5: [{'gpm': 282, 'hid': 2, 'wards': 0},\n",
      "                 {'gpm': 314, 'hid': 77, 'wards': 0}]})\n"
     ]
    },
    {
     "name": "stderr",
     "output_type": "stream",
     "text": [
      " 85%|████████▌ | 42609/50000 [03:43<00:26, 280.14it/s]"
     ]
    },
    {
     "name": "stdout",
     "output_type": "stream",
     "text": [
      "====================\n",
      "final roles:  {2: 56, 3: 19}\n",
      "defaultdict(<class 'list'>,\n",
      "            {1: [],\n",
      "             2: [{'gpm': 677, 'hid': 135, 'wards': 1},\n",
      "                 {'gpm': 626, 'hid': 75, 'wards': 4},\n",
      "                 {'gpm': 825, 'hid': 56, 'wards': 0},\n",
      "                 {'gpm': 507, 'hid': 68, 'wards': 49}],\n",
      "             3: [{'gpm': 613, 'hid': 19, 'wards': 0}]})\n"
     ]
    },
    {
     "name": "stderr",
     "output_type": "stream",
     "text": [
      " 86%|████████▌ | 42926/50000 [03:44<00:26, 264.57it/s]"
     ]
    },
    {
     "name": "stdout",
     "output_type": "stream",
     "text": [
      "====================\n",
      "final roles:  {1: 8, 3: 40}\n",
      "defaultdict(<class 'list'>,\n",
      "            {1: [{'gpm': 302, 'hid': 89, 'wards': 1},\n",
      "                 {'gpm': 967, 'hid': 8, 'wards': 0}],\n",
      "             2: [],\n",
      "             3: [{'gpm': 559, 'hid': 33, 'wards': 1},\n",
      "                 {'gpm': 575, 'hid': 40, 'wards': 0},\n",
      "                 {'gpm': 230, 'hid': 26, 'wards': 0}]})\n",
      "====================\n",
      "final roles:  {1: 16, 2: 13}\n",
      "defaultdict(<class 'list'>,\n",
      "            {1: [{'gpm': 495, 'hid': 16, 'wards': 2},\n",
      "                 {'gpm': 350, 'hid': 26, 'wards': 9}],\n",
      "             2: [{'gpm': 544, 'hid': 13, 'wards': 2}],\n",
      "             3: [],\n",
      "             5: [{'gpm': 607, 'hid': 42, 'wards': 0},\n",
      "                 {'gpm': 335, 'hid': 128, 'wards': 53}]})\n"
     ]
    },
    {
     "name": "stderr",
     "output_type": "stream",
     "text": [
      " 86%|████████▌ | 43067/50000 [03:44<00:21, 319.02it/s]"
     ]
    },
    {
     "name": "stdout",
     "output_type": "stream",
     "text": [
      "====================\n",
      "final roles:  {2: 10, 3: 36}\n",
      "defaultdict(<class 'list'>,\n",
      "            {1: [],\n",
      "             2: [{'gpm': 173, 'hid': 26, 'wards': 7},\n",
      "                 {'gpm': 202, 'hid': 6, 'wards': 7},\n",
      "                 {'gpm': 331, 'hid': 10, 'wards': 1}],\n",
      "             3: [{'gpm': 349, 'hid': 36, 'wards': 0}],\n",
      "             4: [{'gpm': 342, 'hid': 42, 'wards': 3}]})\n"
     ]
    },
    {
     "name": "stderr",
     "output_type": "stream",
     "text": [
      " 86%|████████▋ | 43210/50000 [03:45<00:20, 337.86it/s]"
     ]
    },
    {
     "name": "stdout",
     "output_type": "stream",
     "text": [
      "====================\n",
      "final roles:  {1: 9, 2: 102}\n",
      "defaultdict(<class 'list'>,\n",
      "            {1: [{'gpm': 702, 'hid': 2, 'wards': 0},\n",
      "                 {'gpm': 879, 'hid': 9, 'wards': 1}],\n",
      "             2: [{'gpm': 343, 'hid': 84, 'wards': 19},\n",
      "                 {'gpm': 778, 'hid': 102, 'wards': 1},\n",
      "                 {'gpm': 416, 'hid': 6, 'wards': 0}],\n",
      "             3: []})\n",
      "====================\n",
      "final roles:  {2: 6, 3: 44}\n",
      "defaultdict(<class 'list'>,\n",
      "            {1: [],\n",
      "             2: [{'gpm': 677, 'hid': 6, 'wards': 0},\n",
      "                 {'gpm': 415, 'hid': 2, 'wards': 0},\n",
      "                 {'gpm': 402, 'hid': 26, 'wards': 0}],\n",
      "             3: [{'gpm': 758, 'hid': 44, 'wards': 0},\n",
      "                 {'gpm': 458, 'hid': 31, 'wards': 0}]})\n"
     ]
    },
    {
     "name": "stderr",
     "output_type": "stream",
     "text": [
      " 87%|████████▋ | 43279/50000 [03:45<00:21, 308.67it/s]"
     ]
    },
    {
     "name": "stdout",
     "output_type": "stream",
     "text": [
      "====================\n",
      "final roles:  {1: 19, 2: 71}\n",
      "defaultdict(<class 'list'>,\n",
      "            {1: [{'gpm': 545, 'hid': 75, 'wards': 0},\n",
      "                 {'gpm': 568, 'hid': 19, 'wards': 0}],\n",
      "             2: [{'gpm': 457, 'hid': 121, 'wards': 43},\n",
      "                 {'gpm': 627, 'hid': 71, 'wards': 0},\n",
      "                 {'gpm': 491, 'hid': 65, 'wards': 0}],\n",
      "             3: []})\n"
     ]
    },
    {
     "name": "stderr",
     "output_type": "stream",
     "text": [
      " 87%|████████▋ | 43384/50000 [03:45<00:20, 328.22it/s]"
     ]
    },
    {
     "name": "stdout",
     "output_type": "stream",
     "text": [
      "====================\n",
      "final roles:  {2: 95, 3: 83}\n",
      "defaultdict(<class 'list'>,\n",
      "            {1: [],\n",
      "             2: [{'gpm': 1151, 'hid': 95, 'wards': 16},\n",
      "                 {'gpm': 858, 'hid': 68, 'wards': 0},\n",
      "                 {'gpm': 833, 'hid': 38, 'wards': 0},\n",
      "                 {'gpm': 977, 'hid': 34, 'wards': 21}],\n",
      "             3: [{'gpm': 734, 'hid': 83, 'wards': 1}]})\n",
      "====================\n",
      "final roles:  {1: 14, 2: 6}\n",
      "defaultdict(<class 'list'>,\n",
      "            {1: [{'gpm': 606, 'hid': 31, 'wards': 3},\n",
      "                 {'gpm': 707, 'hid': 14, 'wards': 32},\n",
      "                 {'gpm': 705, 'hid': 9, 'wards': 0}],\n",
      "             2: [{'gpm': 969, 'hid': 6, 'wards': 7},\n",
      "                 {'gpm': 819, 'hid': 29, 'wards': 0}],\n",
      "             3: []})\n"
     ]
    },
    {
     "name": "stderr",
     "output_type": "stream",
     "text": [
      " 87%|████████▋ | 43532/50000 [03:46<00:19, 338.71it/s]"
     ]
    },
    {
     "name": "stdout",
     "output_type": "stream",
     "text": [
      "====================\n",
      "final roles:  {2: 74, 3: 16}\n",
      "defaultdict(<class 'list'>,\n",
      "            {1: [],\n",
      "             2: [{'gpm': 512, 'hid': 26, 'wards': 4},\n",
      "                 {'gpm': 627, 'hid': 74, 'wards': 7}],\n",
      "             3: [{'gpm': 335, 'hid': 119, 'wards': 98},\n",
      "                 {'gpm': 624, 'hid': 16, 'wards': 1}],\n",
      "             4: [{'gpm': 707, 'hid': 18, 'wards': 1}]})\n",
      "====================\n",
      "final roles:  {1: 32, 2: 52}\n",
      "defaultdict(<class 'list'>,\n",
      "            {1: [{'gpm': 347, 'hid': 32, 'wards': 0},\n",
      "                 {'gpm': 228, 'hid': 101, 'wards': 23},\n",
      "                 {'gpm': 321, 'hid': 16, 'wards': 5}],\n",
      "             2: [{'gpm': 523, 'hid': 52, 'wards': 3}],\n",
      "             3: [],\n",
      "             4: [{'gpm': 451, 'hid': 53, 'wards': 2}]})\n"
     ]
    },
    {
     "name": "stderr",
     "output_type": "stream",
     "text": [
      " 88%|████████▊ | 43829/50000 [03:47<00:17, 359.27it/s]"
     ]
    },
    {
     "name": "stdout",
     "output_type": "stream",
     "text": [
      "====================\n",
      "final roles:  {2: 14, 3: 97}\n",
      "defaultdict(<class 'list'>,\n",
      "            {1: [],\n",
      "             2: [{'gpm': 530, 'hid': 14, 'wards': 8},\n",
      "                 {'gpm': 133, 'hid': 44, 'wards': 0},\n",
      "                 {'gpm': 157, 'hid': 89, 'wards': 0}],\n",
      "             3: [{'gpm': 516, 'hid': 97, 'wards': 0},\n",
      "                 {'gpm': 417, 'hid': 22, 'wards': 8}]})\n",
      "====================\n",
      "final roles:  {2: 74, 3: 8}\n",
      "defaultdict(<class 'list'>,\n",
      "            {1: [],\n",
      "             2: [{'gpm': 848, 'hid': 22, 'wards': 11},\n",
      "                 {'gpm': 972, 'hid': 74, 'wards': 14}],\n",
      "             3: [{'gpm': 570, 'hid': 20, 'wards': 17},\n",
      "                 {'gpm': 1370, 'hid': 8, 'wards': 1}],\n",
      "             5: [{'gpm': 1321, 'hid': 55, 'wards': 0}]})\n"
     ]
    },
    {
     "name": "stderr",
     "output_type": "stream",
     "text": [
      " 88%|████████▊ | 44188/50000 [03:48<00:15, 370.54it/s]"
     ]
    },
    {
     "name": "stdout",
     "output_type": "stream",
     "text": [
      "====================\n",
      "final roles:  {1: 26, 3: 8}\n",
      "defaultdict(<class 'list'>,\n",
      "            {1: [{'gpm': 522, 'hid': 26, 'wards': 74},\n",
      "                 {'gpm': 231, 'hid': 33, 'wards': 1},\n",
      "                 {'gpm': 191, 'hid': 14, 'wards': 0}],\n",
      "             2: [],\n",
      "             3: [{'gpm': 694, 'hid': 100, 'wards': 1},\n",
      "                 {'gpm': 1172, 'hid': 8, 'wards': 1}]})\n"
     ]
    },
    {
     "name": "stderr",
     "output_type": "stream",
     "text": [
      " 89%|████████▊ | 44342/50000 [03:48<00:16, 341.43it/s]"
     ]
    },
    {
     "name": "stdout",
     "output_type": "stream",
     "text": [
      "====================\n",
      "final roles:  {1: 98, 2: 105}\n",
      "defaultdict(<class 'list'>,\n",
      "            {1: [{'gpm': 132, 'hid': 98, 'wards': 0}],\n",
      "             2: [{'gpm': 284, 'hid': 105, 'wards': 0},\n",
      "                 {'gpm': 223, 'hid': 14, 'wards': 0},\n",
      "                 {'gpm': 212, 'hid': 120, 'wards': 2},\n",
      "                 {'gpm': 203, 'hid': 29, 'wards': 0}],\n",
      "             3: []})\n",
      "====================\n",
      "final roles:  {1: 44, 2: 35}\n",
      "defaultdict(<class 'list'>,\n",
      "            {1: [{'gpm': 414, 'hid': 44, 'wards': 2},\n",
      "                 {'gpm': 409, 'hid': 114, 'wards': 0},\n",
      "                 {'gpm': 181, 'hid': 119, 'wards': 13}],\n",
      "             2: [{'gpm': 278, 'hid': 54, 'wards': 5},\n",
      "                 {'gpm': 337, 'hid': 35, 'wards': 6}],\n",
      "             3: []})\n"
     ]
    },
    {
     "name": "stderr",
     "output_type": "stream",
     "text": [
      " 89%|████████▉ | 44499/50000 [03:49<00:17, 322.17it/s]"
     ]
    },
    {
     "name": "stdout",
     "output_type": "stream",
     "text": [
      "====================\n",
      "final roles:  {2: 14, 3: 29}\n",
      "defaultdict(<class 'list'>,\n",
      "            {1: [],\n",
      "             2: [{'gpm': 1281, 'hid': 14, 'wards': 2},\n",
      "                 {'gpm': 434, 'hid': 26, 'wards': 0},\n",
      "                 {'gpm': 1075, 'hid': 35, 'wards': 0},\n",
      "                 {'gpm': 463, 'hid': 22, 'wards': 0}],\n",
      "             3: [{'gpm': 434, 'hid': 29, 'wards': 0}]})\n",
      "====================\n",
      "final roles:  {1: 19, 2: 74}\n",
      "defaultdict(<class 'list'>,\n",
      "            {1: [{'gpm': 578, 'hid': 19, 'wards': 0},\n",
      "                 {'gpm': 348, 'hid': 30, 'wards': 56}],\n",
      "             2: [{'gpm': 582, 'hid': 74, 'wards': 1},\n",
      "                 {'gpm': 581, 'hid': 42, 'wards': 0}],\n",
      "             3: [],\n",
      "             4: [{'gpm': 427, 'hid': 104, 'wards': 13}]})\n",
      "====================\n",
      "final roles:  {2: 34, 3: 98}\n",
      "defaultdict(<class 'list'>,\n",
      "            {1: [],\n",
      "             2: [{'gpm': 447, 'hid': 34, 'wards': 7}],\n",
      "             3: [{'gpm': 244, 'hid': 103, 'wards': 30},\n",
      "                 {'gpm': 256, 'hid': 71, 'wards': 0},\n",
      "                 {'gpm': 322, 'hid': 98, 'wards': 2}],\n",
      "             4: [{'gpm': 218, 'hid': 1, 'wards': 3}]})\n",
      "====================\n",
      "final roles:  {1: 19, 2: 21}\n",
      "defaultdict(<class 'list'>,\n",
      "            {1: [{'gpm': 687, 'hid': 14, 'wards': 0},\n",
      "                 {'gpm': 1663, 'hid': 19, 'wards': 0},\n",
      "                 {'gpm': 1089, 'hid': 53, 'wards': 6}],\n",
      "             2: [{'gpm': 971, 'hid': 21, 'wards': 1},\n",
      "                 {'gpm': 653, 'hid': 128, 'wards': 22}],\n",
      "             3: []})\n",
      "====================\n",
      "final roles:  {1: 67, 2: 97}\n",
      "defaultdict(<class 'list'>,\n",
      "            {1: [{'gpm': 705, 'hid': 67, 'wards': 0},\n",
      "                 {'gpm': 357, 'hid': 84, 'wards': 43},\n",
      "                 {'gpm': 368, 'hid': 31, 'wards': 25}],\n",
      "             2: [{'gpm': 611, 'hid': 97, 'wards': 2},\n",
      "                 {'gpm': 590, 'hid': 41, 'wards': 1}],\n",
      "             3: []})\n"
     ]
    },
    {
     "name": "stderr",
     "output_type": "stream",
     "text": [
      " 90%|████████▉ | 44809/50000 [03:49<00:14, 363.91it/s]"
     ]
    },
    {
     "name": "stdout",
     "output_type": "stream",
     "text": [
      "====================\n",
      "final roles:  {1: 135, 2: 46}\n",
      "defaultdict(<class 'list'>,\n",
      "            {1: [{'gpm': 381, 'hid': 135, 'wards': 20},\n",
      "                 {'gpm': 321, 'hid': 67, 'wards': 0}],\n",
      "             2: [{'gpm': 269, 'hid': 38, 'wards': 0},\n",
      "                 {'gpm': 367, 'hid': 46, 'wards': 5}],\n",
      "             3: [],\n",
      "             4: [{'gpm': 384, 'hid': 59, 'wards': 4}]})\n"
     ]
    },
    {
     "name": "stderr",
     "output_type": "stream",
     "text": [
      " 90%|█████████ | 45133/50000 [03:50<00:12, 387.94it/s]"
     ]
    },
    {
     "name": "stdout",
     "output_type": "stream",
     "text": [
      "====================\n",
      "final roles:  {1: 126, 2: 93}\n",
      "defaultdict(<class 'list'>,\n",
      "            {1: [{'gpm': 858, 'hid': 84, 'wards': 0},\n",
      "                 {'gpm': 915, 'hid': 126, 'wards': 0}],\n",
      "             2: [{'gpm': 866, 'hid': 22, 'wards': 1},\n",
      "                 {'gpm': 661, 'hid': 75, 'wards': 30},\n",
      "                 {'gpm': 1460, 'hid': 93, 'wards': 2}],\n",
      "             3: []})\n"
     ]
    },
    {
     "name": "stderr",
     "output_type": "stream",
     "text": [
      " 91%|█████████ | 45338/50000 [03:51<00:12, 387.52it/s]"
     ]
    },
    {
     "name": "stdout",
     "output_type": "stream",
     "text": [
      "====================\n",
      "final roles:  {1: 45, 2: 76}\n",
      "defaultdict(<class 'list'>,\n",
      "            {1: [{'gpm': 925, 'hid': 45, 'wards': 26},\n",
      "                 {'gpm': 902, 'hid': 99, 'wards': 1}],\n",
      "             2: [{'gpm': 817, 'hid': 75, 'wards': 1},\n",
      "                 {'gpm': 866, 'hid': 112, 'wards': 2},\n",
      "                 {'gpm': 943, 'hid': 76, 'wards': 5}],\n",
      "             3: []})\n",
      "====================\n",
      "final roles:  {1: 97, 2: 14}\n",
      "defaultdict(<class 'list'>,\n",
      "            {1: [{'gpm': 621, 'hid': 97, 'wards': 4}],\n",
      "             2: [{'gpm': 696, 'hid': 54, 'wards': 0},\n",
      "                 {'gpm': 777, 'hid': 14, 'wards': 13},\n",
      "                 {'gpm': 605, 'hid': 25, 'wards': 2}],\n",
      "             3: [],\n",
      "             5: [{'gpm': 472, 'hid': 33, 'wards': 0}]})\n"
     ]
    },
    {
     "name": "stderr",
     "output_type": "stream",
     "text": [
      " 91%|█████████ | 45461/50000 [03:51<00:12, 376.05it/s]"
     ]
    },
    {
     "name": "stdout",
     "output_type": "stream",
     "text": [
      "====================\n",
      "final roles:  {2: 86, 3: 18}\n",
      "defaultdict(<class 'list'>,\n",
      "            {1: [],\n",
      "             2: [{'gpm': 816, 'hid': 33, 'wards': 3},\n",
      "                 {'gpm': 969, 'hid': 8, 'wards': 2},\n",
      "                 {'gpm': 762, 'hid': 68, 'wards': 13},\n",
      "                 {'gpm': 977, 'hid': 86, 'wards': 3}],\n",
      "             3: [{'gpm': 1500, 'hid': 18, 'wards': 10}]})\n"
     ]
    },
    {
     "name": "stderr",
     "output_type": "stream",
     "text": [
      " 91%|█████████ | 45500/50000 [03:51<00:12, 374.55it/s]"
     ]
    },
    {
     "name": "stdout",
     "output_type": "stream",
     "text": [
      "====================\n",
      "final roles:  {2: 19, 3: 62}\n",
      "defaultdict(<class 'list'>,\n",
      "            {1: [],\n",
      "             2: [{'gpm': 844, 'hid': 19, 'wards': 5},\n",
      "                 {'gpm': 228, 'hid': 6, 'wards': 0},\n",
      "                 {'gpm': 754, 'hid': 22, 'wards': 22}],\n",
      "             3: [{'gpm': 937, 'hid': 62, 'wards': 0},\n",
      "                 {'gpm': 467, 'hid': 10, 'wards': 2}]})\n"
     ]
    },
    {
     "name": "stderr",
     "output_type": "stream",
     "text": [
      " 91%|█████████▏| 45704/50000 [03:52<00:11, 380.06it/s]"
     ]
    },
    {
     "name": "stdout",
     "output_type": "stream",
     "text": [
      "====================\n",
      "final roles:  {1: 84, 2: 109}\n",
      "defaultdict(<class 'list'>,\n",
      "            {1: [{'gpm': 274, 'hid': 43, 'wards': 0},\n",
      "                 {'gpm': 515, 'hid': 84, 'wards': 0}],\n",
      "             2: [{'gpm': 144, 'hid': 10, 'wards': 0},\n",
      "                 {'gpm': 377, 'hid': 109, 'wards': 0},\n",
      "                 {'gpm': 185, 'hid': 75, 'wards': 2}],\n",
      "             3: []})\n"
     ]
    },
    {
     "name": "stderr",
     "output_type": "stream",
     "text": [
      " 92%|█████████▏| 45952/50000 [03:53<00:10, 395.05it/s]"
     ]
    },
    {
     "name": "stdout",
     "output_type": "stream",
     "text": [
      "====================\n",
      "final roles:  {2: 33, 3: 60}\n",
      "defaultdict(<class 'list'>,\n",
      "            {1: [],\n",
      "             2: [{'gpm': 1183, 'hid': 33, 'wards': 0},\n",
      "                 {'gpm': 1150, 'hid': 71, 'wards': 1},\n",
      "                 {'gpm': 984, 'hid': 97, 'wards': 4}],\n",
      "             3: [{'gpm': 807, 'hid': 74, 'wards': 37},\n",
      "                 {'gpm': 1041, 'hid': 60, 'wards': 0}]})\n",
      "====================\n",
      "final roles:  {1: 29, 2: 101}\n",
      "defaultdict(<class 'list'>,\n",
      "            {1: [{'gpm': 570, 'hid': 29, 'wards': 0},\n",
      "                 {'gpm': 290, 'hid': 110, 'wards': 26}],\n",
      "             2: [{'gpm': 364, 'hid': 5, 'wards': 31},\n",
      "                 {'gpm': 511, 'hid': 101, 'wards': 2}],\n",
      "             3: [],\n",
      "             5: [{'gpm': 688, 'hid': 42, 'wards': 1}]})\n"
     ]
    },
    {
     "name": "stderr",
     "output_type": "stream",
     "text": [
      " 92%|█████████▏| 46075/50000 [03:53<00:10, 376.39it/s]"
     ]
    },
    {
     "name": "stdout",
     "output_type": "stream",
     "text": [
      "====================\n",
      "final roles:  {2: 15, 3: 104}\n",
      "defaultdict(<class 'list'>,\n",
      "            {1: [],\n",
      "             2: [{'gpm': 144, 'hid': 23, 'wards': 8},\n",
      "                 {'gpm': 412, 'hid': 15, 'wards': 4},\n",
      "                 {'gpm': 263, 'hid': 78, 'wards': 1}],\n",
      "             3: [{'gpm': 391, 'hid': 104, 'wards': 2},\n",
      "                 {'gpm': 253, 'hid': 19, 'wards': 0}]})\n"
     ]
    },
    {
     "name": "stderr",
     "output_type": "stream",
     "text": [
      " 92%|█████████▏| 46201/50000 [03:53<00:09, 397.12it/s]"
     ]
    },
    {
     "name": "stdout",
     "output_type": "stream",
     "text": [
      "====================\n",
      "final roles:  {1: 53, 2: 23}\n",
      "defaultdict(<class 'list'>,\n",
      "            {1: [{'gpm': 326, 'hid': 84, 'wards': 15},\n",
      "                 {'gpm': 574, 'hid': 53, 'wards': 3}],\n",
      "             2: [{'gpm': 430, 'hid': 11, 'wards': 1},\n",
      "                 {'gpm': 438, 'hid': 23, 'wards': 4},\n",
      "                 {'gpm': 373, 'hid': 67, 'wards': 2}],\n",
      "             3: []})\n",
      "====================\n",
      "final roles:  {1: 53, 2: 44}\n",
      "defaultdict(<class 'list'>,\n",
      "            {1: [{'gpm': 576, 'hid': 90, 'wards': 1},\n",
      "                 {'gpm': 651, 'hid': 53, 'wards': 7}],\n",
      "             2: [{'gpm': 624, 'hid': 44, 'wards': 1},\n",
      "                 {'gpm': 405, 'hid': 75, 'wards': 13},\n",
      "                 {'gpm': 577, 'hid': 70, 'wards': 3}],\n",
      "             3: []})\n",
      "====================\n",
      "final roles:  {2: 59, 3: 46}\n",
      "defaultdict(<class 'list'>,\n",
      "            {1: [],\n",
      "             2: [{'gpm': 970, 'hid': 59, 'wards': 1},\n",
      "                 {'gpm': 917, 'hid': 81, 'wards': 0},\n",
      "                 {'gpm': 616, 'hid': 104, 'wards': 0}],\n",
      "             3: [{'gpm': 876, 'hid': 46, 'wards': 1},\n",
      "                 {'gpm': 518, 'hid': 84, 'wards': 24}]})\n"
     ]
    },
    {
     "name": "stderr",
     "output_type": "stream",
     "text": [
      " 93%|█████████▎| 46285/50000 [03:54<00:10, 353.23it/s]"
     ]
    },
    {
     "name": "stdout",
     "output_type": "stream",
     "text": [
      "====================\n",
      "final roles:  {2: 25, 3: 5}\n",
      "defaultdict(<class 'list'>,\n",
      "            {1: [],\n",
      "             2: [{'gpm': 134, 'hid': 8, 'wards': 0},\n",
      "                 {'gpm': 288, 'hid': 25, 'wards': 4}],\n",
      "             3: [{'gpm': 244, 'hid': 59, 'wards': 0},\n",
      "                 {'gpm': 172, 'hid': 33, 'wards': 0},\n",
      "                 {'gpm': 1120, 'hid': 5, 'wards': 0}]})\n"
     ]
    },
    {
     "name": "stderr",
     "output_type": "stream",
     "text": [
      " 93%|█████████▎| 46449/50000 [03:54<00:10, 348.05it/s]"
     ]
    },
    {
     "name": "stdout",
     "output_type": "stream",
     "text": [
      "====================\n",
      "final roles:  {1: 42, 2: 126}\n",
      "defaultdict(<class 'list'>,\n",
      "            {1: [{'gpm': 637, 'hid': 42, 'wards': 4}],\n",
      "             2: [{'gpm': 532, 'hid': 126, 'wards': 1},\n",
      "                 {'gpm': 159, 'hid': 3, 'wards': 0},\n",
      "                 {'gpm': 152, 'hid': 59, 'wards': 0},\n",
      "                 {'gpm': 142, 'hid': 40, 'wards': 0}],\n",
      "             3: []})\n",
      "====================\n",
      "final roles:  {2: 14, 3: 54}\n",
      "defaultdict(<class 'list'>,\n",
      "            {1: [],\n",
      "             2: [{'gpm': 159, 'hid': 104, 'wards': 1},\n",
      "                 {'gpm': 147, 'hid': 18, 'wards': 0},\n",
      "                 {'gpm': 471, 'hid': 14, 'wards': 0}],\n",
      "             3: [{'gpm': 178, 'hid': 15, 'wards': 1},\n",
      "                 {'gpm': 641, 'hid': 54, 'wards': 7}]})\n"
     ]
    },
    {
     "name": "stderr",
     "output_type": "stream",
     "text": [
      " 94%|█████████▎| 46788/50000 [03:55<00:08, 400.66it/s]"
     ]
    },
    {
     "name": "stdout",
     "output_type": "stream",
     "text": [
      "====================\n",
      "final roles:  {1: 19, 2: 77}\n",
      "defaultdict(<class 'list'>,\n",
      "            {1: [{'gpm': 207, 'hid': 112, 'wards': 18},\n",
      "                 {'gpm': 368, 'hid': 19, 'wards': 0}],\n",
      "             2: [{'gpm': 359, 'hid': 77, 'wards': 0},\n",
      "                 {'gpm': 352, 'hid': 17, 'wards': 0}],\n",
      "             3: [],\n",
      "             5: [{'gpm': 341, 'hid': 33, 'wards': 12}]})\n",
      "====================\n",
      "final roles:  {1: 67, 2: 4}\n",
      "defaultdict(<class 'list'>,\n",
      "            {1: [{'gpm': 322, 'hid': 84, 'wards': 4},\n",
      "                 {'gpm': 382, 'hid': 67, 'wards': 0}],\n",
      "             2: [{'gpm': 393, 'hid': 36, 'wards': 0},\n",
      "                 {'gpm': 752, 'hid': 4, 'wards': 2}],\n",
      "             3: [],\n",
      "             4: [{'gpm': 495, 'hid': 94, 'wards': 0}]})\n"
     ]
    },
    {
     "name": "stderr",
     "output_type": "stream",
     "text": [
      " 94%|█████████▍| 47049/50000 [03:56<00:08, 366.65it/s]"
     ]
    },
    {
     "name": "stdout",
     "output_type": "stream",
     "text": [
      "====================\n",
      "final roles:  {1: 81, 3: 40}\n",
      "defaultdict(<class 'list'>,\n",
      "            {1: [{'gpm': 505, 'hid': 84, 'wards': 5},\n",
      "                 {'gpm': 609, 'hid': 81, 'wards': 1}],\n",
      "             2: [],\n",
      "             3: [{'gpm': 547, 'hid': 59, 'wards': 1},\n",
      "                 {'gpm': 668, 'hid': 40, 'wards': 0},\n",
      "                 {'gpm': 366, 'hid': 103, 'wards': 7}]})\n"
     ]
    },
    {
     "name": "stderr",
     "output_type": "stream",
     "text": [
      " 94%|█████████▍| 47214/50000 [03:56<00:07, 380.08it/s]"
     ]
    },
    {
     "name": "stdout",
     "output_type": "stream",
     "text": [
      "====================\n",
      "final roles:  {1: 39, 2: 21}\n",
      "defaultdict(<class 'list'>,\n",
      "            {1: [{'gpm': 714, 'hid': 31, 'wards': 25},\n",
      "                 {'gpm': 820, 'hid': 57, 'wards': 11},\n",
      "                 {'gpm': 1000, 'hid': 39, 'wards': 0}],\n",
      "             2: [{'gpm': 1395, 'hid': 21, 'wards': 1}],\n",
      "             3: [],\n",
      "             5: [{'gpm': 1036, 'hid': 41, 'wards': 1}]})\n"
     ]
    },
    {
     "name": "stderr",
     "output_type": "stream",
     "text": [
      " 95%|█████████▍| 47433/50000 [03:57<00:06, 405.64it/s]"
     ]
    },
    {
     "name": "stdout",
     "output_type": "stream",
     "text": [
      "====================\n",
      "final roles:  {2: 11, 3: 97}\n",
      "defaultdict(<class 'list'>,\n",
      "            {1: [],\n",
      "             2: [{'gpm': 517, 'hid': 11, 'wards': 9},\n",
      "                 {'gpm': 330, 'hid': 74, 'wards': 5},\n",
      "                 {'gpm': 284, 'hid': 75, 'wards': 20}],\n",
      "             3: [{'gpm': 542, 'hid': 97, 'wards': 2}],\n",
      "             4: [{'gpm': 465, 'hid': 89, 'wards': 20}]})\n"
     ]
    },
    {
     "name": "stderr",
     "output_type": "stream",
     "text": [
      " 95%|█████████▌| 47602/50000 [03:57<00:06, 390.36it/s]"
     ]
    },
    {
     "name": "stdout",
     "output_type": "stream",
     "text": [
      "====================\n",
      "final roles:  {2: 11, 3: 10}\n",
      "defaultdict(<class 'list'>,\n",
      "            {1: [],\n",
      "             2: [{'gpm': 493, 'hid': 11, 'wards': 11},\n",
      "                 {'gpm': 329, 'hid': 113, 'wards': 0},\n",
      "                 {'gpm': 355, 'hid': 96, 'wards': 4}],\n",
      "             3: [{'gpm': 562, 'hid': 10, 'wards': 0},\n",
      "                 {'gpm': 343, 'hid': 13, 'wards': 29}]})\n"
     ]
    },
    {
     "name": "stderr",
     "output_type": "stream",
     "text": [
      " 95%|█████████▌| 47735/50000 [03:57<00:05, 380.30it/s]"
     ]
    },
    {
     "name": "stdout",
     "output_type": "stream",
     "text": [
      "====================\n",
      "final roles:  {1: 49, 2: 35}\n",
      "defaultdict(<class 'list'>,\n",
      "            {1: [{'gpm': 313, 'hid': 14, 'wards': 28},\n",
      "                 {'gpm': 365, 'hid': 49, 'wards': 0}],\n",
      "             2: [{'gpm': 423, 'hid': 10, 'wards': 3},\n",
      "                 {'gpm': 484, 'hid': 35, 'wards': 3}],\n",
      "             3: [],\n",
      "             5: [{'gpm': 699, 'hid': 44, 'wards': 18}]})\n"
     ]
    },
    {
     "name": "stderr",
     "output_type": "stream",
     "text": [
      " 96%|█████████▌| 47908/50000 [03:58<00:06, 342.37it/s]"
     ]
    },
    {
     "name": "stdout",
     "output_type": "stream",
     "text": [
      "====================\n",
      "final roles:  {1: 19, 2: 10}\n",
      "defaultdict(<class 'list'>,\n",
      "            {1: [{'gpm': 870, 'hid': 55, 'wards': 0},\n",
      "                 {'gpm': 885, 'hid': 53, 'wards': 5},\n",
      "                 {'gpm': 923, 'hid': 19, 'wards': 0}],\n",
      "             2: [{'gpm': 565, 'hid': 23, 'wards': 8},\n",
      "                 {'gpm': 1170, 'hid': 10, 'wards': 2}],\n",
      "             3: []})\n",
      "====================\n",
      "final roles:  {2: 11, 3: 113}\n",
      "defaultdict(<class 'list'>,\n",
      "            {1: [],\n",
      "             2: [{'gpm': 927, 'hid': 54, 'wards': 0},\n",
      "                 {'gpm': 1036, 'hid': 11, 'wards': 2}],\n",
      "             3: [{'gpm': 756, 'hid': 5, 'wards': 14},\n",
      "                 {'gpm': 1474, 'hid': 113, 'wards': 0}],\n",
      "             5: [{'gpm': 1236, 'hid': 53, 'wards': 5}]})\n"
     ]
    },
    {
     "name": "stderr",
     "output_type": "stream",
     "text": [
      " 96%|█████████▋| 48168/50000 [03:58<00:04, 386.28it/s]"
     ]
    },
    {
     "name": "stdout",
     "output_type": "stream",
     "text": [
      "====================\n",
      "final roles:  {1: 44, 3: 75}\n",
      "defaultdict(<class 'list'>,\n",
      "            {1: [{'gpm': 1077, 'hid': 44, 'wards': 26}],\n",
      "             2: [],\n",
      "             3: [{'gpm': 1200, 'hid': 75, 'wards': 7},\n",
      "                 {'gpm': 1050, 'hid': 135, 'wards': 1},\n",
      "                 {'gpm': 941, 'hid': 43, 'wards': 0}],\n",
      "             4: [{'gpm': 1118, 'hid': 54, 'wards': 1}]})\n",
      "Assigned 43 to role 2\n",
      "====================\n",
      "final roles:  {1: 77, 2: 59}\n",
      "defaultdict(<class 'list'>,\n",
      "            {1: [{'gpm': 460, 'hid': 77, 'wards': 0},\n",
      "                 {'gpm': 286, 'hid': 84, 'wards': 37}],\n",
      "             2: [{'gpm': 389, 'hid': 14, 'wards': 8},\n",
      "                 {'gpm': 597, 'hid': 59, 'wards': 1},\n",
      "                 {'gpm': 536, 'hid': 35, 'wards': 2}],\n",
      "             3: []})\n",
      "====================\n",
      "final roles:  {1: 109, 2: 95}\n",
      "defaultdict(<class 'list'>,\n",
      "            {1: [{'gpm': 772, 'hid': 14, 'wards': 23},\n",
      "                 {'gpm': 1374, 'hid': 109, 'wards': 0},\n",
      "                 {'gpm': 832, 'hid': 35, 'wards': 0}],\n",
      "             2: [{'gpm': 1400, 'hid': 95, 'wards': 0},\n",
      "                 {'gpm': 778, 'hid': 26, 'wards': 20}],\n",
      "             3: []})\n"
     ]
    },
    {
     "name": "stderr",
     "output_type": "stream",
     "text": [
      " 97%|█████████▋| 48432/50000 [03:59<00:03, 405.37it/s]"
     ]
    },
    {
     "name": "stdout",
     "output_type": "stream",
     "text": [
      "====================\n",
      "final roles:  {1: 99, 2: 100}\n",
      "defaultdict(<class 'list'>,\n",
      "            {1: [{'gpm': 837, 'hid': 99, 'wards': 2}],\n",
      "             2: [{'gpm': 718, 'hid': 34, 'wards': 0},\n",
      "                 {'gpm': 600, 'hid': 40, 'wards': 0},\n",
      "                 {'gpm': 731, 'hid': 100, 'wards': 13}],\n",
      "             3: [],\n",
      "             4: [{'gpm': 699, 'hid': 23, 'wards': 0}]})\n"
     ]
    },
    {
     "name": "stderr",
     "output_type": "stream",
     "text": [
      " 97%|█████████▋| 48609/50000 [04:00<00:03, 398.46it/s]"
     ]
    },
    {
     "name": "stdout",
     "output_type": "stream",
     "text": [
      "====================\n",
      "final roles:  {1: 19, 2: 74}\n",
      "defaultdict(<class 'list'>,\n",
      "            {1: [{'gpm': 436, 'hid': 91, 'wards': 2},\n",
      "                 {'gpm': 391, 'hid': 107, 'wards': 18},\n",
      "                 {'gpm': 1097, 'hid': 19, 'wards': 1}],\n",
      "             2: [{'gpm': 973, 'hid': 74, 'wards': 14},\n",
      "                 {'gpm': 463, 'hid': 14, 'wards': 4}],\n",
      "             3: []})\n",
      "====================\n",
      "final roles:  {2: 44, 3: 77}\n",
      "defaultdict(<class 'list'>,\n",
      "            {1: [],\n",
      "             2: [{'gpm': 716, 'hid': 71, 'wards': 2},\n",
      "                 {'gpm': 445, 'hid': 14, 'wards': 15},\n",
      "                 {'gpm': 977, 'hid': 44, 'wards': 0}],\n",
      "             3: [{'gpm': 923, 'hid': 77, 'wards': 0},\n",
      "                 {'gpm': 542, 'hid': 26, 'wards': 20}]})\n",
      "====================\n",
      "final roles:  {1: 39, 2: 85}\n",
      "defaultdict(<class 'list'>,\n",
      "            {1: [{'gpm': 675, 'hid': 39, 'wards': 0},\n",
      "                 {'gpm': 585, 'hid': 4, 'wards': 0}],\n",
      "             2: [{'gpm': 959, 'hid': 85, 'wards': 6},\n",
      "                 {'gpm': 549, 'hid': 44, 'wards': 11},\n",
      "                 {'gpm': 483, 'hid': 51, 'wards': 0}],\n",
      "             3: "
     ]
    },
    {
     "name": "stderr",
     "output_type": "stream",
     "text": [
      " 97%|█████████▋| 48694/50000 [04:00<00:03, 373.17it/s]"
     ]
    },
    {
     "name": "stdout",
     "output_type": "stream",
     "text": [
      "[]})\n",
      "====================\n",
      "final roles:  {1: 18, 2: 11}\n",
      "defaultdict(<class 'list'>,\n",
      "            {1: [{'gpm': 390, 'hid': 14, 'wards': 21},\n",
      "                 {'gpm': 288, 'hid': 68, 'wards': 31},\n",
      "                 {'gpm': 754, 'hid': 18, 'wards': 1},\n",
      "                 {'gpm': 387, 'hid': 4, 'wards': 0}],\n",
      "             2: [{'gpm': 720, 'hid': 11, 'wards': 3}],\n",
      "             3: []})\n",
      "====================\n",
      "final roles:  {2: 21, 3: 7}\n",
      "defaultdict(<class 'list'>,\n",
      "            {1: [],\n",
      "             2: [{'gpm': 528, 'hid': 63, 'wards': 8},\n",
      "                 {'gpm': 531, 'hid': 21, 'wards': 3},\n",
      "                 {'gpm': 426, 'hid': 47, 'wards': 0}],\n",
      "             3: [{'gpm': 811, 'hid': 7, 'wards': 0},\n",
      "                 {'gpm': 617, 'hid': 97, 'wards': 15}]})\n"
     ]
    },
    {
     "name": "stderr",
     "output_type": "stream",
     "text": [
      " 98%|█████████▊| 49048/50000 [04:01<00:02, 405.72it/s]"
     ]
    },
    {
     "name": "stdout",
     "output_type": "stream",
     "text": [
      "====================\n",
      "final roles:  {1: 19, 2: 36}\n",
      "defaultdict(<class 'list'>,\n",
      "            {1: [{'gpm': 618, 'hid': 19, 'wards': 0},\n",
      "                 {'gpm': 275, 'hid': 75, 'wards': 7}],\n",
      "             2: [{'gpm': 473, 'hid': 36, 'wards': 5}],\n",
      "             3: [],\n",
      "             5: [{'gpm': 566, 'hid': 18, 'wards': 0},\n",
      "                 {'gpm': 300, 'hid': 3, 'wards': 72}]})\n"
     ]
    },
    {
     "name": "stderr",
     "output_type": "stream",
     "text": [
      " 98%|█████████▊| 49136/50000 [04:01<00:02, 419.63it/s]"
     ]
    },
    {
     "name": "stdout",
     "output_type": "stream",
     "text": [
      "====================\n",
      "final roles:  {2: 17, 3: 114}\n",
      "defaultdict(<class 'list'>,\n",
      "            {1: [],\n",
      "             2: [{'gpm': 591, 'hid': 62, 'wards': 5},\n",
      "                 {'gpm': 278, 'hid': 11, 'wards': 0},\n",
      "                 {'gpm': 523, 'hid': 6, 'wards': 0},\n",
      "                 {'gpm': 813, 'hid': 17, 'wards': 0}],\n",
      "             3: [{'gpm': 405, 'hid': 114, 'wards': 0}]})\n"
     ]
    },
    {
     "name": "stderr",
     "output_type": "stream",
     "text": [
      " 99%|█████████▉| 49447/50000 [04:02<00:01, 391.27it/s]"
     ]
    },
    {
     "name": "stdout",
     "output_type": "stream",
     "text": [
      "====================\n",
      "final roles:  {1: 67, 2: 92}\n",
      "defaultdict(<class 'list'>,\n",
      "            {1: [{'gpm': 510, 'hid': 67, 'wards': 1},\n",
      "                 {'gpm': 352, 'hid': 102, 'wards': 40}],\n",
      "             2: [{'gpm': 573, 'hid': 94, 'wards': 7},\n",
      "                 {'gpm': 614, 'hid': 92, 'wards': 4}],\n",
      "             3: [],\n",
      "             4: [{'gpm': 391, 'hid': 33, 'wards': 40}]})\n"
     ]
    },
    {
     "name": "stderr",
     "output_type": "stream",
     "text": [
      "100%|█████████▉| 49807/50000 [04:03<00:00, 438.29it/s]"
     ]
    },
    {
     "name": "stdout",
     "output_type": "stream",
     "text": [
      "====================\n",
      "final roles:  {1: 1, 2: 47}\n",
      "defaultdict(<class 'list'>,\n",
      "            {1: [{'gpm': 779, 'hid': 1, 'wards': 0},\n",
      "                 {'gpm': 152, 'hid': 119, 'wards': 0}],\n",
      "             2: [{'gpm': 374, 'hid': 47, 'wards': 0},\n",
      "                 {'gpm': 236, 'hid': 19, 'wards': 0},\n",
      "                 {'gpm': 286, 'hid': 34, 'wards': 0}],\n",
      "             3: []})\n"
     ]
    },
    {
     "name": "stderr",
     "output_type": "stream",
     "text": [
      "100%|██████████| 50000/50000 [04:03<00:00, 205.33it/s]\n"
     ]
    },
    {
     "name": "stdout",
     "output_type": "stream",
     "text": [
      "====================\n",
      "[(1, 112), (3, 61), (2, 3), (5, 2), (4, 1)]\n",
      "skips 32\n"
     ]
    }
   ],
   "source": [
    "output_path = \"../data/dataset_positions_test2.pkl\" \n",
    "\n",
    "assert not os.path.exists(output_path)\n",
    "\n",
    "def get_rank(rank: int):\n",
    "    oh = np.zeros(5)\n",
    "    oh[rank] = 1\n",
    "    return oh\n",
    "\n",
    "def kda(kills, deaths, assists):\n",
    "    return kills + assists / (deaths + 1)\n",
    "\n",
    "def create_wards_dict(team):\n",
    "    wards_placed = {}\n",
    "    for p in team:\n",
    "        item_uses = p[\"item_uses\"]\n",
    "        c = 0\n",
    "        if \"ward_observer\" in item_uses:\n",
    "            c += item_uses[\"ward_observer\"]\n",
    "        if \"ward_dispenser\" in item_uses:\n",
    "            c += item_uses[\"ward_dispenser\"]\n",
    "        if \"ward_sentry\" in item_uses:\n",
    "            c += item_uses[\"ward_sentry\"]\n",
    "            \n",
    "        wards_placed[p[\"hero_id\"]] = c\n",
    "    return wards_placed\n",
    "\n",
    "def extract_data_point(match):\n",
    "    players = match[\"players\"]\n",
    "    t0 = list(filter(lambda p: p[\"isRadiant\"], players))\n",
    "    t1 = list(filter(lambda p: not p[\"isRadiant\"], players))\n",
    "    xs = {}\n",
    "    ys = {}\n",
    "    unassigned_roles_counter = Counter()\n",
    "\n",
    "    for team in [t0, t1]:\n",
    "        hids = [p[\"hero_id\"] for p in team]\n",
    "\n",
    "        # !Ranks\n",
    "        attributes = [\"gold_per_min\", \"xp_per_min\", \"kills\", \"deaths\", \"assists\", \"last_hits\", \"hero_damage\", \"tower_damage\"]\n",
    "        ranks = {}\n",
    "        \n",
    "        for attr in attributes:\n",
    "            ranks[attr] = sorted([(p[\"hero_id\"], p[attr]) for p in team], key=lambda x: x[1], reverse=True)\n",
    "\n",
    "        # !Wards\n",
    "        wards_placed = create_wards_dict(team)\n",
    "\n",
    "        # !Find roles\n",
    "        support_candidates_4 = []\n",
    "        support_candidates_5 = []\n",
    "        unassigned_candidates = []\n",
    "        final_roles = {}\n",
    "        lanes = defaultdict(list)\n",
    "        players = defaultdict(dict)\n",
    "        for p in team:\n",
    "            lanes[p[\"lane\"]].append({\"hid\": p[\"hero_id\"], \"gpm\": p[\"gold_per_min\"], \"wards\": wards_placed[p[\"hero_id\"]]})\n",
    "            players[p[\"hero_id\"]] = {\"gpm\": p[\"gold_per_min\"], \"last_hits\": p[\"last_hits\"], \"wards\": wards_placed[p[\"hero_id\"]]}\n",
    "        \n",
    "        for lane in lanes.items():\n",
    "            if len(lane[1]) == 5:\n",
    "                return \"invalid_match\", None, None\n",
    "\n",
    "        if len(lanes[1]) > 1:\n",
    "            highest_gpm_hero = max(lanes[1], key=lambda x: x[\"gpm\"])\n",
    "            support_candidates = [x[\"hid\"] for x in lanes[1] if x[\"hid\"] != highest_gpm_hero[\"hid\"]]\n",
    "            support_candidates_5.extend(support_candidates)\n",
    "            final_roles[1] = highest_gpm_hero[\"hid\"]\n",
    "        elif len(lanes[1]) == 1:\n",
    "            final_roles[1] = lanes[1][0][\"hid\"]\n",
    "            \n",
    "        if len(lanes[2]) > 1:\n",
    "            highest_gpm_hero = max(lanes[2], key=lambda x: x[\"gpm\"])\n",
    "            support_candidates = [x[\"hid\"] for x in lanes[2] if x[\"hid\"] != highest_gpm_hero[\"hid\"]]\n",
    "            support_candidates_4.extend(support_candidates)\n",
    "            final_roles[2] = highest_gpm_hero[\"hid\"]\n",
    "        elif len(lanes[2]) == 1:\n",
    "            final_roles[2] = lanes[2][0][\"hid\"]\n",
    "\n",
    "        if len(lanes[3]) > 1:\n",
    "            highest_gpm_hero = max(lanes[3], key=lambda x: x[\"gpm\"])\n",
    "            support_candidates = [x[\"hid\"] for x in lanes[3] if x[\"hid\"] != highest_gpm_hero[\"hid\"]]\n",
    "            support_candidates_4.extend(support_candidates)\n",
    "            final_roles[3] = highest_gpm_hero[\"hid\"]\n",
    "        elif len(lanes[3]) == 1:\n",
    "            final_roles[3] = lanes[3][0][\"hid\"]\n",
    "\n",
    "        if len(final_roles) != 3:\n",
    "            print(\"=\" * 20)\n",
    "            print(\"final roles: \", final_roles)\n",
    "            pprint(lanes)\n",
    "\n",
    "        all_hero_ids = [x[\"hid\"] for x in lanes[4]]\n",
    "        support_candidates_4.extend(all_hero_ids)\n",
    "        \n",
    "        all_hero_ids = [x[\"hid\"] for x in lanes[5]]\n",
    "        support_candidates_5.extend(all_hero_ids)\n",
    "\n",
    "        # ! Assign pos 4 and 5\n",
    "        support_candidates_4 = list(set(support_candidates_4))\n",
    "        support_candidates_5 = list(set(support_candidates_5))\n",
    "\n",
    "        if len(support_candidates_5) > 1:\n",
    "            support_candidates_5_wards_max = max(support_candidates_5, key=lambda x: wards_placed[x])\n",
    "            final_roles[5] = support_candidates_5_wards_max\n",
    "            unassigned_candidates.extend([x for x in support_candidates_5 if x != support_candidates_5_wards_max])\n",
    "            # support_candidates_5.remove(support_candidates_5_wards_max)\n",
    "        elif len(support_candidates_5) == 1: \n",
    "            final_roles[5] = support_candidates_5[0]\n",
    "\n",
    "        if len(support_candidates_4) > 1:\n",
    "            support_candidates_4_wards_max = max(support_candidates_4, key=lambda x: wards_placed[x])\n",
    "            final_roles[4] = support_candidates_4_wards_max\n",
    "            unassigned_candidates.extend([x for x in support_candidates_4 if x != support_candidates_4_wards_max])\n",
    "        elif len(support_candidates_4) == 1:\n",
    "            final_roles[4] = support_candidates_4[0]\n",
    "\n",
    "        # ! Assign pos 1 if length of support_candidates_5 is 1\n",
    "        # if len(unassigned_candidates) > 0:\n",
    "        #     unassigned_candidates = list(set(unassigned_candidates))\n",
    "        #     unassigned_heroes_gpm_rank = max(unassigned_candidates, key=lambda x: players[x][\"gpm\"])\n",
    "        #     if len(support_candidates_5) == 1 and unassigned_heroes_gpm_rank == support_candidates_5[0]:\n",
    "        #         final_roles[1] = support_candidates_5[0]\n",
    "\n",
    "        # ! check if all roles are assigned\n",
    "        discard_dp = False\n",
    "        for role in lanes:\n",
    "            # if discard_dp:\n",
    "            #     break\n",
    "            if role not in final_roles:\n",
    "                # if len(unassigned_candidates) == 1:\n",
    "                #     final_roles[role] = unassigned_candidates[0]\n",
    "                #     unassigned_candidates.pop()\n",
    "                # elif len(unassigned_candidates) > 1:\n",
    "                #     discard_dp = True\n",
    "                #     break\n",
    "\n",
    "                \n",
    "                if len(unassigned_candidates) == 1:\n",
    "                    final_roles[role] = unassigned_candidates[0]\n",
    "                    unassigned_candidates.pop()\n",
    "                    # print(\"Assigned {} to role {}\".format(final_roles[role], role))\n",
    "                elif len(unassigned_candidates) > 1:\n",
    "                    # unassigned_candidates_gpm_wards = [(x, players[x][\"gpm\"], players[x][\"wards\"]) for x in unassigned_candidates]\n",
    "                    # final_roles_gpm_wards = [(x, players[x][\"gpm\"], players[x][\"wards\"]) for x in final_roles.values()]\n",
    "                    \n",
    "                    if role == 1: \n",
    "                        max_gpm_hero = max(unassigned_candidates, key=lambda x: players[x][\"gpm\"])\n",
    "                        final_roles[role] = max_gpm_hero\n",
    "                        unassigned_roles_counter[role] += 1\n",
    "                        unassigned_candidates.pop(unassigned_candidates.index(max_gpm_hero))\n",
    "                        # print(\"Role {} not assigned. Assigning {}, which has {}. {}\".format(role, max_gpm_hero, players[max_gpm_hero], unassigned_candidates_gpm_wards))\n",
    "                        # print(final_roles_gpm_wards)\n",
    "\n",
    "                    elif role == 5: \n",
    "                        max_wards_hero = max(unassigned_candidates, key=lambda x: wards_placed[x])\n",
    "                        final_roles[role] = max_wards_hero\n",
    "                        unassigned_roles_counter[role] += 1\n",
    "                        unassigned_candidates.pop(unassigned_candidates.index(max_wards_hero))\n",
    "                        # print(\"Role {} not assigned. Assigning {}, which has {}. {}\".format(role, max_wards_hero, players[max_wards_hero], unassigned_candidates_gpm_wards))\n",
    "                        # print(final_roles_gpm_wards)\n",
    "\n",
    "                    elif role == 3:\n",
    "                        max_gpm_hero = max(unassigned_candidates, key=lambda x: players[x][\"gpm\"])\n",
    "                        final_roles[role] = max_gpm_hero\n",
    "                        unassigned_roles_counter[role] += 1\n",
    "                        unassigned_candidates.pop(unassigned_candidates.index(max_gpm_hero))\n",
    "                        # print(\"Role {} not assigned. Assigning {}, which has {}. {}\".format(role, max_gpm_hero, players[max_gpm_hero], unassigned_candidates_gpm_wards))\n",
    "                        # print(final_roles_gpm_wards)\n",
    "                else:\n",
    "                    raise Exception(\"No more heroes to assign\")\n",
    "       \n",
    "\n",
    "        if discard_dp:\n",
    "            return \"invalid_match\", None, None\n",
    "\n",
    "        # ! Assign pos 1, 2, 3\n",
    "        for role in lanes:\n",
    "            if role not in final_roles:\n",
    "                if len(unassigned_candidates) == 1:\n",
    "                    final_roles[role] = unassigned_candidates[0]\n",
    "                    unassigned_candidates.pop()\n",
    "                    unassigned_roles_counter[role] += 1\n",
    "\n",
    "                    print(\"Assigned {} to role {}\".format(final_roles[role], role))\n",
    "        \n",
    "        #! fixing \n",
    "        hero_id_last_hits_tuple_list_unassigned_roles = [(x, players[x][\"last_hits\"]) for x in unassigned_candidates]\n",
    "        hero_id_last_hits_tuple_list_unassigned_roles.sort(key=lambda x: x[1], reverse=True)\n",
    "        for role_id in range(1,6):\n",
    "            if role_id not in final_roles:\n",
    "                final_roles[role_id] = hero_id_last_hits_tuple_list_unassigned_roles[0][0]\n",
    "                unassigned_roles_counter[role_id] += 1\n",
    "                hero_id_last_hits_tuple_list_unassigned_roles.pop(0)\n",
    "\n",
    "        if len(final_roles) != 5:\n",
    "            print(\"final roles: \", final_roles)\n",
    "            print(\"support candidates 4: \", support_candidates_4)\n",
    "            print(\"support candidates 5: \", support_candidates_5)\n",
    "            print(\"wards placed: \", wards_placed)\n",
    "            raise Exception(\"Not all roles assigned\")\n",
    "\n",
    "        # !Add features\n",
    "        for p in team:\n",
    "            features = []\n",
    "            hid = p[\"hero_id\"]\n",
    "\n",
    "            teammates = np.zeros((136))\n",
    "            for team_hid in hids:\n",
    "                if team_hid != hid:\n",
    "                    teammates[team_hid] = 1.\n",
    "            \n",
    "            features.append(teammates)\n",
    "            \n",
    "            for rank in ranks: \n",
    "                features.append(get_rank(ranks[rank].index((hid, p[rank]))))\n",
    "\n",
    "            #! Add labels\n",
    "            \n",
    "            flipped_final_roles = {v: k for k, v in final_roles.items()}\n",
    "            position = flipped_final_roles[hid]                \n",
    "            \n",
    "            xs[hid] = np.concatenate(features)\n",
    "            ys[hid] = position\n",
    "    \n",
    "    return xs, ys, unassigned_roles_counter\n",
    "\n",
    "# !Main loop\n",
    "trainingset = defaultdict(list)\n",
    "labels = defaultdict(list)\n",
    "skips = 0\n",
    "un_counter = Counter()\n",
    "for fname in tqdm.tqdm(filenames):\n",
    "    leaver = False\n",
    "    fp = zfp.extractfile(fname)\n",
    "    fp.seek(0)\n",
    "    match = pickle.loads(fp.read())\n",
    "    xs, ys, ur = extract_data_point(match)\n",
    "\n",
    "    # !Skip invalid matches\n",
    "    if xs == \"invalid_match\":\n",
    "        skips += 1\n",
    "        continue\n",
    "\n",
    "    # !Skip matches with no assigned roles\n",
    "    un_counter += ur\n",
    "    \n",
    "    # !Add to trainingset\n",
    "    for hid, x in xs.items():\n",
    "        trainingset[hid].append(x)\n",
    "        labels[hid].append(ys[hid])\n",
    "\n",
    "with open(output_path, 'wb') as fp: \n",
    "    pickle.dump({\"xs\": trainingset, \"ys\": labels}, fp)\n",
    "\n",
    "print(\"=\" * 20)\n",
    "print(un_counter.most_common())\n",
    "print(\"skips\", skips)  "
   ]
  },
  {
   "cell_type": "code",
   "execution_count": null,
   "metadata": {},
   "outputs": [],
   "source": []
  }
 ],
 "metadata": {
  "interpreter": {
   "hash": "9795b5b0f359c9a3e41b413a20d82be0b706bb1e3ab3cb76e6b985ca6d9563dc"
  },
  "kernelspec": {
   "display_name": "Python 3.8.5 64-bit ('dota': conda)",
   "name": "python3"
  },
  "language_info": {
   "codemirror_mode": {
    "name": "ipython",
    "version": 3
   },
   "file_extension": ".py",
   "mimetype": "text/x-python",
   "name": "python",
   "nbconvert_exporter": "python",
   "pygments_lexer": "ipython3",
   "version": "3.8.12"
  },
  "orig_nbformat": 4
 },
 "nbformat": 4,
 "nbformat_minor": 2
}
