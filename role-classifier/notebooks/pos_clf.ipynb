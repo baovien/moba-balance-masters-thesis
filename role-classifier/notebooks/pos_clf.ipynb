{
 "cells": [
  {
   "cell_type": "code",
   "execution_count": 1,
   "metadata": {},
   "outputs": [],
   "source": [
    "import os\n",
    "import json\n",
    "import numpy as np\n",
    "import pickle \n",
    "import tqdm\n",
    "import gzip\n",
    "import tarfile"
   ]
  },
  {
   "cell_type": "code",
   "execution_count": 2,
   "metadata": {},
   "outputs": [],
   "source": [
    "# with tarfile.open(\"../data/parsed/opendota_parsed_matches.tar.gz\", 'r:gz') as zfp:\n",
    "#     for filename in zfp.getnames():\n",
    "#         match = pickle.load(zfp.extractfile(filename))\n",
    "#         print(match)\n",
    "#         break\n",
    "\n",
    "zfp = tarfile.open(\"../data/opendota_parsed_matches.tar.gz\", 'r:gz')\n",
    "all_filenames = zfp.getnames()"
   ]
  },
  {
   "cell_type": "code",
   "execution_count": 23,
   "metadata": {},
   "outputs": [],
   "source": [
    "filenames = all_filenames[1:]"
   ]
  },
  {
   "cell_type": "code",
   "execution_count": 18,
   "metadata": {},
   "outputs": [],
   "source": [
    "# fp = zfp.extractfile(filenames[0])\n",
    "# fp.seek(0)\n",
    "# match = pickle.loads(fp.read())"
   ]
  },
  {
   "cell_type": "code",
   "execution_count": 141,
   "metadata": {},
   "outputs": [
    {
     "name": "stderr",
     "output_type": "stream",
     "text": [
      "100%|██████████| 50000/50000 [03:41<00:00, 225.66it/s]\n"
     ]
    }
   ],
   "source": [
    "\n",
    "def get_rank(rank: int):\n",
    "    oh = np.zeros(5)\n",
    "    oh[rank] = 1\n",
    "    return oh\n",
    "\n",
    "def extract_data_point(match):\n",
    "    players = match[\"players\"]\n",
    "    t0 = list(filter(lambda p: p[\"isRadiant\"], players))\n",
    "    t1 = list(filter(lambda p: not p[\"isRadiant\"], players))\n",
    "    team = [t0, t1]\n",
    "\n",
    "    xs = []\n",
    "    ys = []\n",
    "    for i in [0, 1]:\n",
    "        hids = [p[\"hero_id\"] for p in team[i]]\n",
    "        gpm_rank = sorted([(p[\"hero_id\"], p[\"gold_per_min\"]) for p in team[i]], key=lambda x: x[1], reverse=True)\n",
    "        xpm_rank = sorted([(p[\"hero_id\"], p[\"xp_per_min\"]) for p in team[i]], key=lambda x: x[1], reverse=True)\n",
    "        ka_rank = sorted([(p[\"hero_id\"], p[\"kills\"] + p[\"assists\"]) for p in team[i]], key=lambda x: x[1], reverse=True)\n",
    "        d_rank = sorted([(p[\"hero_id\"], p[\"deaths\"]) for p in team[i]], key=lambda x: x[1], reverse=True)\n",
    "        lasthits_rank = sorted([(p[\"hero_id\"], p[\"last_hits\"]) for p in team[i]], key=lambda x: x[1], reverse=True)\n",
    "        wards_placed = []\n",
    "\n",
    "\n",
    "        for p in team[i]:\n",
    "            item_uses = p[\"item_uses\"]\n",
    "            c = 0\n",
    "            if \"ward_observer\" in item_uses:\n",
    "                c += item_uses[\"ward_observer\"]\n",
    "            if \"ward_sentry\" in item_uses:\n",
    "                c += item_uses[\"ward_sentry\"]\n",
    "            wards_placed.append((p[\"hero_id\"], c))\n",
    "\n",
    "        wards_placed = list(sorted(wards_placed, key=lambda x: x[1], reverse=True))\n",
    "\n",
    "        for h in team[i]:\n",
    "            features = []\n",
    "            hid = h[\"hero_id\"]\n",
    "            \n",
    "            onehot_hero = np.zeros((136))\n",
    "            onehot_hero[hid] = 1\n",
    "            features.append(onehot_hero)\n",
    "\n",
    "            onehot_heroes = np.zeros((136))\n",
    "            for team_hid in hids:\n",
    "                onehot_heroes[team_hid] = 1\n",
    "            \n",
    "            features.append(onehot_heroes)\n",
    "            features.append(get_rank(gpm_rank.index((hid, h[\"gold_per_min\"]))))\n",
    "            features.append(get_rank(xpm_rank.index((hid, h[\"xp_per_min\"]))))\n",
    "            features.append(get_rank(ka_rank.index((hid,  h[\"kills\"] + h[\"assists\"]))))\n",
    "            features.append(get_rank(d_rank.index((hid, h[\"deaths\"]))))\n",
    "            features.append(get_rank(lasthits_rank.index((hid, h[\"last_hits\"]))))\n",
    "    \n",
    "            if hid == wards_placed[0][0]:\n",
    "                y = 4\n",
    "            else:\n",
    "                y = h[\"lane_role\"]\n",
    "            xs.append(np.concatenate(features))\n",
    "            ys.append(y)\n",
    "\n",
    "    return xs, ys\n",
    "\n",
    "trainingset = []\n",
    "labels = []\n",
    "\n",
    "for fname in tqdm.tqdm(filenames):\n",
    "    fp = zfp.extractfile(fname)\n",
    "    fp.seek(0)\n",
    "    match = pickle.loads(fp.read())\n",
    "    xs, ys = extract_data_point(match)\n",
    "    trainingset.append(np.vstack(xs))\n",
    "    labels.append(ys)\n",
    "    \n",
    "# fp = zfp.extractfile(filenames[0])\n",
    "# fp.seek(0)\n",
    "# match = pickle.loads(fp.read())\n",
    "\n",
    "\n",
    "# x_train, y = extract_data_point(match)\n",
    "# for r in x_train:\n",
    "#     print(r.shape)\n",
    "\n",
    "# x = np.vstack(x_train)\n",
    "# print(len(trainingset))\n",
    "# print(len(trainingset))\n",
    "# print(np.array(trainingset).shape)"
   ]
  },
  {
   "cell_type": "code",
   "execution_count": 142,
   "metadata": {},
   "outputs": [
    {
     "data": {
      "text/plain": [
       "array([1, 2, 3, 4])"
      ]
     },
     "execution_count": 142,
     "metadata": {},
     "output_type": "execute_result"
    }
   ],
   "source": [
    "x = np.vstack(trainingset)\n",
    "y = np.array(labels).ravel()\n",
    "np.unique(y)"
   ]
  },
  {
   "cell_type": "code",
   "execution_count": 143,
   "metadata": {},
   "outputs": [
    {
     "data": {
      "text/plain": [
       "<matplotlib.axes._subplots.AxesSubplot at 0x7f6a6425cd90>"
      ]
     },
     "execution_count": 143,
     "metadata": {},
     "output_type": "execute_result"
    },
    {
     "data": {
      "image/png": "[encoded data removed]",
      "text/plain": [
       "<Figure size 432x288 with 1 Axes>"
      ]
     },
     "metadata": {
      "needs_background": "light"
     },
     "output_type": "display_data"
    }
   ],
   "source": [
    "import pandas as pd\n",
    "\n",
    "df = pd.DataFrame(y)\n",
    "df.plot.hist(xticks=[1, 2, 3, 4])"
   ]
  },
  {
   "cell_type": "code",
   "execution_count": 144,
   "metadata": {},
   "outputs": [
    {
     "name": "stdout",
     "output_type": "stream",
     "text": [
      "0.46095\n",
      "[[14008    19 12221   995]\n",
      " [ 7085   646 12442    73]\n",
      " [ 2164    11 28956   810]\n",
      " [  854     4 17227  2485]]\n"
     ]
    }
   ],
   "source": [
    "from sklearn.ensemble import RandomForestClassifier\n",
    "from sklearn.model_selection import cross_val_score,cross_val_predict, train_test_split\n",
    "from sklearn.metrics import confusion_matrix\n",
    "\n",
    "x_train, x_test, y_train, y_test = train_test_split(x, y, test_size=0.2, random_state=42)\n",
    "clf = RandomForestClassifier(max_depth=2, random_state=0)\n",
    "clf.fit(x_train, y_train)\n",
    "\n",
    "y_pred = clf.predict(x_test)\n",
    "\n",
    "print(np.mean(y_pred == y_test))\n",
    "\n",
    "print(confusion_matrix(y_test, y_pred))"
   ]
  },
  {
   "cell_type": "code",
   "execution_count": null,
   "metadata": {},
   "outputs": [],
   "source": []
  }
 ],
 "metadata": {
  "interpreter": {
   "hash": "9795b5b0f359c9a3e41b413a20d82be0b706bb1e3ab3cb76e6b985ca6d9563dc"
  },
  "kernelspec": {
   "display_name": "Python 3.8.8 64-bit ('dota': conda)",
   "name": "python3"
  },
  "language_info": {
   "codemirror_mode": {
    "name": "ipython",
    "version": 3
   },
   "file_extension": ".py",
   "mimetype": "text/x-python",
   "name": "python",
   "nbconvert_exporter": "python",
   "pygments_lexer": "ipython3",
   "version": "3.8.3"
  },
  "orig_nbformat": 4
 },
 "nbformat": 4,
 "nbformat_minor": 2
}
