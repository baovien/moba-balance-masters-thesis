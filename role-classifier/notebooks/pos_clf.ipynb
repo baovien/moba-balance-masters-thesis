{
 "cells": [
  {
   "cell_type": "markdown",
   "metadata": {},
   "source": [
    "Todo: \n",
    "\n",
    "* Classifier per hero * role"
   ]
  },
  {
   "cell_type": "code",
   "execution_count": 10,
   "metadata": {},
   "outputs": [],
   "source": [
    "import os\n",
    "import json\n",
    "import numpy as np\n",
    "import pickle \n",
    "import tqdm\n",
    "import gzip\n",
    "import tarfile\n",
    "from scipy import sparse\n",
    "from collections import defaultdict\n",
    "from pprint import pprint"
   ]
  },
  {
   "cell_type": "code",
   "execution_count": 4,
   "metadata": {},
   "outputs": [],
   "source": [
    "# with tarfile.open(\"../data/parsed/opendota_parsed_matches.tar.gz\", 'r:gz') as zfp:\n",
    "#     for filename in zfp.getnames():\n",
    "#         match = pickle.load(zfp.extractfile(filename))\n",
    "#         print(match)\n",
    "#         break\n",
    "\n",
    "zfp = tarfile.open(\"../data/opendota_parsed_matches.tar.gz\", 'r:gz')\n",
    "all_filenames = zfp.getnames()"
   ]
  },
  {
   "cell_type": "code",
   "execution_count": 5,
   "metadata": {},
   "outputs": [],
   "source": [
    "filenames = all_filenames[1:]"
   ]
  },
  {
   "cell_type": "code",
   "execution_count": 6,
   "metadata": {},
   "outputs": [],
   "source": [
    "# fp = zfp.extractfile(filenames[0])\n",
    "# fp.seek(0)\n",
    "# match = pickle.loads(fp.read())"
   ]
  },
  {
   "cell_type": "code",
   "execution_count": 183,
   "metadata": {},
   "outputs": [
    {
     "name": "stderr",
     "output_type": "stream",
     "text": [
      "  9%|▉         | 55/600 [00:03<00:19, 27.29it/s]"
     ]
    },
    {
     "name": "stdout",
     "output_type": "stream",
     "text": [
      "Role 1 not assigned. Assigning 6, which has {'gpm': 153, 'wards': 0}. [(4, 143, 2), (6, 153, 0)]\n",
      "[(36, 159, 0), (11, 613, 0), (108, 120, 0)]\n",
      "Role 3 not assigned. Assigning 86, which has {'gpm': 835, 'wards': 12}. [(86, 835, 12), (14, 745, 5)]\n",
      "[(105, 685, 24), (44, 886, 0), (106, 850, 0)]\n",
      "Role 3 not assigned. Assigning 10, which has {'gpm': 380, 'wards': 0}. [(64, 297, 0), (10, 380, 0)]\n",
      "[(104, 360, 0), (1, 392, 6), (111, 274, 39)]\n"
     ]
    },
    {
     "name": "stderr",
     "output_type": "stream",
     "text": [
      " 30%|███       | 182/600 [00:04<00:03, 133.26it/s]"
     ]
    },
    {
     "name": "stdout",
     "output_type": "stream",
     "text": [
      "Role 3 not assigned. Assigning 99, which has {'gpm': 798, 'wards': 1}. [(33, 421, 1), (99, 798, 1)]\n",
      "[(84, 747, 0), (35, 1982, 1), (74, 1125, 0)]\n"
     ]
    },
    {
     "name": "stderr",
     "output_type": "stream",
     "text": [
      " 77%|███████▋  | 461/600 [00:06<00:00, 155.52it/s]"
     ]
    },
    {
     "name": "stdout",
     "output_type": "stream",
     "text": [
      "Role 1 not assigned. Assigning 16, which has {'gpm': 412, 'wards': 2}. [(16, 412, 2), (54, 297, 2)]\n",
      "[(71, 760, 0), (100, 464, 0), (30, 299, 0)]\n",
      "Role 1 not assigned. Assigning 60, which has {'gpm': 557, 'wards': 2}. [(60, 557, 2), (4, 329, 0)]\n",
      "[(10, 1779, 2), (101, 363, 1), (89, 327, 0)]\n"
     ]
    },
    {
     "name": "stderr",
     "output_type": "stream",
     "text": [
      "100%|██████████| 600/600 [00:07<00:00, 84.96it/s] "
     ]
    },
    {
     "name": "stdout",
     "output_type": "stream",
     "text": [
      "skips 1\n"
     ]
    },
    {
     "name": "stderr",
     "output_type": "stream",
     "text": [
      "\n"
     ]
    }
   ],
   "source": [
    "def get_rank(rank: int):\n",
    "    oh = np.zeros(5)\n",
    "    oh[rank] = 1\n",
    "    return oh\n",
    "\n",
    "def kda(kills, deaths, assists):\n",
    "    return kills + assists / (deaths + 1)\n",
    "\n",
    "def extract_data_point(match):\n",
    "    players = match[\"players\"]\n",
    "    t0 = list(filter(lambda p: p[\"isRadiant\"], players))\n",
    "    t1 = list(filter(lambda p: not p[\"isRadiant\"], players))\n",
    "    xs = []\n",
    "    ys = []\n",
    "    for team in [t0, t1]:\n",
    "        hids = [p[\"hero_id\"] for p in team]\n",
    "\n",
    "        # !Ranks\n",
    "        attributes = [\"gold_per_min\", \"xp_per_min\", \"kills\", \"deaths\", \"assists\", \"last_hits\", \"hero_damage\", \"tower_damage\"]\n",
    "        ranks = {}\n",
    "        \n",
    "        for attr in attributes:\n",
    "            ranks[attr] = sorted([(p[\"hero_id\"], p[attr]) for p in team], key=lambda x: x[1], reverse=True)\n",
    "        \n",
    "        # wards_used = sorted([(p[\"hero_id\"], p[\"sentry_uses\"]) for p in team], key=lambda x: x[1], reverse=True)\n",
    "\n",
    "        wards_placed = {}\n",
    "        for p in team:\n",
    "            item_uses = p[\"item_uses\"]\n",
    "            c = 0\n",
    "            if \"ward_observer\" in item_uses:\n",
    "                c += item_uses[\"ward_observer\"]\n",
    "            if \"ward_dispenser\" in item_uses:\n",
    "                c += item_uses[\"ward_dispenser\"]\n",
    "            if \"ward_sentry\" in item_uses:\n",
    "                c += item_uses[\"ward_sentry\"]\n",
    "                \n",
    "            wards_placed[p[\"hero_id\"]] = c\n",
    "            # wards_placed.append((p[\"hero_id\"], c))\n",
    "        # wards_placed = sorted(wards_placed, key=lambda x: x[1], reverse=True)\n",
    "        # !Find roles\n",
    "\n",
    "        support_candidates_4 = []\n",
    "        support_candidates_5 = []\n",
    "        unassigned_candidates = []\n",
    "        final_roles = {}\n",
    "        lanes = defaultdict(list)\n",
    "        players = defaultdict(dict)\n",
    "        for p in team:\n",
    "            lanes[p[\"lane\"]].append({\"hid\": p[\"hero_id\"], \"gpm\": p[\"gold_per_min\"], \"wards\": wards_placed[p[\"hero_id\"]]})\n",
    "            players[p[\"hero_id\"]] = {\"gpm\": p[\"gold_per_min\"], \"wards\": wards_placed[p[\"hero_id\"]]}\n",
    "        \n",
    "\n",
    "        for lane in lanes.items():\n",
    "            if len(lane[1]) == 5:\n",
    "                return \"invalid_match\", None\n",
    "\n",
    "        # for p in lanes[1]:\n",
    "        if len(lanes[1]) > 1:\n",
    "            highest_gpm_hero = max(lanes[1], key=lambda x: x[\"gpm\"])\n",
    "            everyone_except_highest_gpm_hero_id = [x[\"hid\"] for x in lanes[1] if x[\"hid\"] != highest_gpm_hero[\"hid\"]]\n",
    "            support_candidates_5.extend(everyone_except_highest_gpm_hero_id)\n",
    "            final_roles[1] = highest_gpm_hero[\"hid\"]\n",
    "        elif len(lanes[1]) == 1:\n",
    "            final_roles[1] = lanes[1][0][\"hid\"]\n",
    "            \n",
    "        # for p in lanes[2]:\n",
    "        if len(lanes[2]) > 1:\n",
    "            highest_gpm_hero = max(lanes[2], key=lambda x: x[\"gpm\"])\n",
    "            everyone_except_highest_gpm_hero_id = [x[\"hid\"] for x in lanes[2] if x[\"hid\"] != highest_gpm_hero[\"hid\"]]\n",
    "            support_candidates_4.extend(everyone_except_highest_gpm_hero_id)\n",
    "            final_roles[2] = highest_gpm_hero[\"hid\"]\n",
    "        elif len(lanes[2]) == 1:\n",
    "            final_roles[2] = lanes[2][0][\"hid\"]\n",
    "\n",
    "        # for p in lanes[3]:\n",
    "        if len(lanes[3]) > 1:\n",
    "            highest_gpm_hero = max(lanes[3], key=lambda x: x[\"gpm\"])\n",
    "            everyone_except_highest_gpm_hero_id = [x[\"hid\"] for x in lanes[3] if x[\"hid\"] != highest_gpm_hero[\"hid\"]]\n",
    "            support_candidates_4.extend(everyone_except_highest_gpm_hero_id)\n",
    "            final_roles[3] = highest_gpm_hero[\"hid\"]\n",
    "        elif len(lanes[3]) == 1:\n",
    "            final_roles[3] = lanes[3][0][\"hid\"]\n",
    "\n",
    "        # for p in lanes[4]:\n",
    "        all_hero_ids = [x[\"hid\"] for x in lanes[4]]\n",
    "        support_candidates_4.extend(all_hero_ids)\n",
    "        \n",
    "        # for p in lanes[5]:\n",
    "        all_hero_ids = [x[\"hid\"] for x in lanes[5]]\n",
    "        support_candidates_5.extend(all_hero_ids)\n",
    "\n",
    "        # ! Assign pos 4 and 5\n",
    "        support_candidates_4 = list(set(support_candidates_4))\n",
    "        support_candidates_5 = list(set(support_candidates_5))\n",
    "\n",
    "        if len(support_candidates_5) > 1:\n",
    "            support_candidates_5_wards_max = max(support_candidates_5, key=lambda x: wards_placed[x])\n",
    "            final_roles[5] = support_candidates_5_wards_max\n",
    "            unassigned_candidates.extend([x for x in support_candidates_5 if x != support_candidates_5_wards_max])\n",
    "        elif len(support_candidates_5) == 1: \n",
    "            final_roles[5] = support_candidates_5[0]\n",
    "\n",
    "        if len(support_candidates_4) > 1:\n",
    "            support_candidates_4_wards_min = min(support_candidates_4, key=lambda x: wards_placed[x])\n",
    "            final_roles[4] = support_candidates_4_wards_min\n",
    "            unassigned_candidates.extend([x for x in support_candidates_4 if x != support_candidates_4_wards_min])\n",
    "        elif len(support_candidates_4) == 1:\n",
    "            final_roles[4] = support_candidates_4[0]\n",
    "\n",
    "        # ! check if all roles are assigned\n",
    "\n",
    "        unassigned_candidates = list(set(unassigned_candidates))\n",
    "        for role in lanes:\n",
    "            if role not in final_roles:\n",
    "                if len(unassigned_candidates) == 1:\n",
    "                    final_roles[role] = unassigned_candidates[0]\n",
    "                    unassigned_candidates.pop()\n",
    "                    # print(\"Assigned {} to role {}\".format(final_roles[role], role))\n",
    "                elif len(unassigned_candidates) > 1:\n",
    "                    unassigned_candidates_gpm_wards = [(x, players[x][\"gpm\"], players[x][\"wards\"]) for x in unassigned_candidates]\n",
    "                    final_roles_gpm_wards = [(x, players[x][\"gpm\"], players[x][\"wards\"]) for x in final_roles.values()]\n",
    "                    if role == 1: \n",
    "                        max_gpm_hero = max(unassigned_candidates, key=lambda x: players[x][\"gpm\"])\n",
    "                        final_roles[role] = max_gpm_hero\n",
    "                        unassigned_candidates.pop(unassigned_candidates.index(max_gpm_hero))\n",
    "                        print(\"Role {} not assigned. Assigning {}, which has {}. {}\".format(role, max_gpm_hero, players[max_gpm_hero], unassigned_candidates_gpm_wards))\n",
    "                        print(final_roles_gpm_wards)\n",
    "\n",
    "                    elif role == 5: \n",
    "                        max_wards_hero = max(unassigned_candidates, key=lambda x: wards_placed[x])\n",
    "                        final_roles[role] = max_wards_hero\n",
    "                        unassigned_candidates.pop(unassigned_candidates.index(max_wards_hero))\n",
    "                        print(\"Role {} not assigned. Assigning {}, which has {}. {}\".format(role, max_wards_hero, players[max_wards_hero], unassigned_candidates_gpm_wards))\n",
    "                        print(final_roles_gpm_wards)\n",
    "\n",
    "                    elif role == 3:\n",
    "                        max_gpm_hero = max(unassigned_candidates, key=lambda x: players[x][\"gpm\"])\n",
    "                        final_roles[role] = max_gpm_hero\n",
    "                        unassigned_candidates.pop(unassigned_candidates.index(max_gpm_hero))\n",
    "                        print(\"Role {} not assigned. Assigning {}, which has {}. {}\".format(role, max_gpm_hero, players[max_gpm_hero], unassigned_candidates_gpm_wards))\n",
    "                        print(final_roles_gpm_wards)\n",
    "                else:\n",
    "                    raise Exception(\"No more heroes to assign\")\n",
    "            \n",
    "        # if len(unassigned_candidates) > 2:\n",
    "        #     print(unassigned_candidates)\n",
    "        #     pprint(lanes)\n",
    "        #     print(\"final roles: \", final_roles)\n",
    "        #     print(\"support candidates 4: \", support_candidates_4)\n",
    "        #     print(\"support candidates 5: \", support_candidates_5)\n",
    "        #     print(\"wards placed: \", wards_placed)\n",
    "        #     raise Exception(\"Too many unassigned candidates\")\n",
    "\n",
    "        if len(final_roles) != 5:\n",
    "            print(\"final roles: \", final_roles)\n",
    "            print(\"support candidates 4: \", support_candidates_4)\n",
    "            print(\"support candidates 5: \", support_candidates_5)\n",
    "            print(\"wards placed: \", wards_placed)\n",
    "            raise Exception(\"Not all roles assigned\")\n",
    "\n",
    "\n",
    "        # !Add features\n",
    "        for p in team:\n",
    "            features = []\n",
    "            hid = p[\"hero_id\"]\n",
    "            \n",
    "            onehot_hero = np.zeros((136))\n",
    "            onehot_hero[hid] = 1.\n",
    "            features.append(onehot_hero)\n",
    "\n",
    "            teammates = np.zeros((136))\n",
    "            for team_hid in hids:\n",
    "                if team_hid != hid:\n",
    "                    teammates[team_hid] = 1.\n",
    "            \n",
    "            features.append(teammates)\n",
    "            \n",
    "            for rank in ranks: \n",
    "                features.append(get_rank(ranks[rank].index((hid, p[rank]))))\n",
    "\n",
    "\n",
    "            #! Add labels\n",
    "            \n",
    "            flipped_final_roles = {v: k for k, v in final_roles.items()}\n",
    "            position = flipped_final_roles[hid]                \n",
    "            \n",
    "            xs.append(np.concatenate(features))\n",
    "            ys.append(position)\n",
    "\n",
    "    return xs, ys\n",
    "\n",
    "\n",
    "\n",
    "# !Main loop\n",
    "trainingset = []\n",
    "labels = []\n",
    "skips = 0\n",
    "for fname in tqdm.tqdm(filenames[6400: 7000]):\n",
    "    leaver = False\n",
    "    fp = zfp.extractfile(fname)\n",
    "    fp.seek(0)\n",
    "    match = pickle.loads(fp.read())\n",
    "    xs, ys = extract_data_point(match)\n",
    "    if xs == \"invalid_match\":\n",
    "        skips += 1\n",
    "        continue\n",
    "    trainingset.append(np.vstack(xs))\n",
    "    labels.append(ys)\n",
    "    \n",
    "print(\"skips\", skips)\n",
    "\n",
    "x = np.vstack(trainingset)\n",
    "y = np.concatenate(labels).ravel()    "
   ]
  },
  {
   "cell_type": "code",
   "execution_count": 169,
   "metadata": {},
   "outputs": [
    {
     "name": "stdout",
     "output_type": "stream",
     "text": [
      "[1 2 3 4 5] [19982 19982 19982 19982 19982]\n"
     ]
    },
    {
     "data": {
      "text/plain": [
       "<AxesSubplot:ylabel='Frequency'>"
      ]
     },
     "execution_count": 169,
     "metadata": {},
     "output_type": "execute_result"
    },
    {
     "data": {
      "image/png": "[encoded data removed]",
      "text/plain": [
       "<Figure size 432x288 with 1 Axes>"
      ]
     },
     "metadata": {
      "needs_background": "light"
     },
     "output_type": "display_data"
    }
   ],
   "source": [
    "unique, counts = np.unique(y, return_counts=True)\n",
    "print(unique, counts)\n",
    "import pandas as pd\n",
    "\n",
    "df = pd.DataFrame(y)\n",
    "df.plot.hist(xticks=[1, 2, 3, 4, 5])"
   ]
  },
  {
   "cell_type": "code",
   "execution_count": 170,
   "metadata": {},
   "outputs": [
    {
     "name": "stdout",
     "output_type": "stream",
     "text": [
      "0.4391452307076369\n",
      "[[1786 1700  119   75  250]\n",
      " [ 669 3129   27   54  131]\n",
      " [1806 1830  121   82  246]\n",
      " [ 229   78    8  336 3363]\n",
      " [ 170   71    1  298 3403]]\n"
     ]
    }
   ],
   "source": [
    "from sklearn.ensemble import RandomForestClassifier, VotingClassifier\n",
    "from sklearn.model_selection import cross_val_score,cross_val_predict, train_test_split\n",
    "from sklearn.metrics import confusion_matrix\n",
    "\n",
    "x_train, x_test, y_train, y_test = train_test_split(x, y, test_size=0.2, random_state=42)\n",
    "clf = RandomForestClassifier(max_depth=2, random_state=0)\n",
    "clf.fit(x_train, y_train)\n",
    "\n",
    "y_pred = clf.predict(x_test)\n",
    "\n",
    "print(np.mean(y_pred == y_test))\n",
    "\n",
    "print(confusion_matrix(y_test, y_pred))"
   ]
  },
  {
   "cell_type": "code",
   "execution_count": 171,
   "metadata": {},
   "outputs": [
    {
     "name": "stdout",
     "output_type": "stream",
     "text": [
      "0.527474727254529\n",
      "[[1702  427 1566  116  119]\n",
      " [ 275 3410  202   67   56]\n",
      " [1734  448 1676  127  100]\n",
      " [ 138   86  154 1585 2051]\n",
      " [ 120   59   95 1502 2167]]\n"
     ]
    },
    {
     "name": "stderr",
     "output_type": "stream",
     "text": [
      "/home/bao/anaconda3/envs/dota/lib/python3.8/site-packages/sklearn/linear_model/_logistic.py:763: ConvergenceWarning: lbfgs failed to converge (status=1):\n",
      "STOP: TOTAL NO. of ITERATIONS REACHED LIMIT.\n",
      "\n",
      "Increase the number of iterations (max_iter) or scale the data as shown in:\n",
      "    https://scikit-learn.org/stable/modules/preprocessing.html\n",
      "Please also refer to the documentation for alternative solver options:\n",
      "    https://scikit-learn.org/stable/modules/linear_model.html#logistic-regression\n",
      "  n_iter_i = _check_optimize_result(\n"
     ]
    }
   ],
   "source": [
    "from sklearn.linear_model import LogisticRegression\n",
    "x_train, x_test, y_train, y_test = train_test_split(x, y, test_size=0.2, random_state=42)\n",
    "clf = LogisticRegression(random_state=0)\n",
    "clf.fit(x_train, y_train)\n",
    "\n",
    "y_pred = clf.predict(x_test)\n",
    "\n",
    "print(np.mean(y_pred == y_test))\n",
    "\n",
    "print(confusion_matrix(y_test, y_pred))"
   ]
  },
  {
   "cell_type": "code",
   "execution_count": 22,
   "metadata": {},
   "outputs": [
    {
     "ename": "ValueError",
     "evalue": "Invalid 'estimators' attribute, 'estimators' should be a list of (string, estimator) tuples.",
     "output_type": "error",
     "traceback": [
      "\u001b[0;31m---------------------------------------------------------------------------\u001b[0m",
      "\u001b[0;31mValueError\u001b[0m                                Traceback (most recent call last)",
      "\u001b[0;32m<ipython-input-22-18d068ec8adc>\u001b[0m in \u001b[0;36m<module>\u001b[0;34m\u001b[0m\n\u001b[1;32m     13\u001b[0m \u001b[0;34m\u001b[0m\u001b[0m\n\u001b[1;32m     14\u001b[0m \u001b[0meclf1\u001b[0m \u001b[0;34m=\u001b[0m \u001b[0mVotingClassifier\u001b[0m\u001b[0;34m(\u001b[0m\u001b[0mestimators\u001b[0m\u001b[0;34m=\u001b[0m\u001b[0mestimators\u001b[0m\u001b[0;34m,\u001b[0m \u001b[0mvoting\u001b[0m\u001b[0;34m=\u001b[0m\u001b[0;34m'hard'\u001b[0m\u001b[0;34m)\u001b[0m\u001b[0;34m\u001b[0m\u001b[0;34m\u001b[0m\u001b[0m\n\u001b[0;32m---> 15\u001b[0;31m \u001b[0meclf1\u001b[0m \u001b[0;34m=\u001b[0m \u001b[0meclf1\u001b[0m\u001b[0;34m.\u001b[0m\u001b[0mfit\u001b[0m\u001b[0;34m(\u001b[0m\u001b[0mx_train\u001b[0m\u001b[0;34m,\u001b[0m \u001b[0my_train\u001b[0m\u001b[0;34m)\u001b[0m\u001b[0;34m\u001b[0m\u001b[0;34m\u001b[0m\u001b[0m\n\u001b[0m",
      "\u001b[0;32m~/anaconda3/envs/dota/lib/python3.8/site-packages/sklearn/ensemble/_voting.py\u001b[0m in \u001b[0;36mfit\u001b[0;34m(self, X, y, sample_weight)\u001b[0m\n\u001b[1;32m    290\u001b[0m         \u001b[0mtransformed_y\u001b[0m \u001b[0;34m=\u001b[0m \u001b[0mself\u001b[0m\u001b[0;34m.\u001b[0m\u001b[0mle_\u001b[0m\u001b[0;34m.\u001b[0m\u001b[0mtransform\u001b[0m\u001b[0;34m(\u001b[0m\u001b[0my\u001b[0m\u001b[0;34m)\u001b[0m\u001b[0;34m\u001b[0m\u001b[0;34m\u001b[0m\u001b[0m\n\u001b[1;32m    291\u001b[0m \u001b[0;34m\u001b[0m\u001b[0m\n\u001b[0;32m--> 292\u001b[0;31m         \u001b[0;32mreturn\u001b[0m \u001b[0msuper\u001b[0m\u001b[0;34m(\u001b[0m\u001b[0;34m)\u001b[0m\u001b[0;34m.\u001b[0m\u001b[0mfit\u001b[0m\u001b[0;34m(\u001b[0m\u001b[0mX\u001b[0m\u001b[0;34m,\u001b[0m \u001b[0mtransformed_y\u001b[0m\u001b[0;34m,\u001b[0m \u001b[0msample_weight\u001b[0m\u001b[0;34m)\u001b[0m\u001b[0;34m\u001b[0m\u001b[0;34m\u001b[0m\u001b[0m\n\u001b[0m\u001b[1;32m    293\u001b[0m \u001b[0;34m\u001b[0m\u001b[0m\n\u001b[1;32m    294\u001b[0m     \u001b[0;32mdef\u001b[0m \u001b[0mpredict\u001b[0m\u001b[0;34m(\u001b[0m\u001b[0mself\u001b[0m\u001b[0;34m,\u001b[0m \u001b[0mX\u001b[0m\u001b[0;34m)\u001b[0m\u001b[0;34m:\u001b[0m\u001b[0;34m\u001b[0m\u001b[0;34m\u001b[0m\u001b[0m\n",
      "\u001b[0;32m~/anaconda3/envs/dota/lib/python3.8/site-packages/sklearn/ensemble/_voting.py\u001b[0m in \u001b[0;36mfit\u001b[0;34m(self, X, y, sample_weight)\u001b[0m\n\u001b[1;32m     64\u001b[0m     \u001b[0;32mdef\u001b[0m \u001b[0mfit\u001b[0m\u001b[0;34m(\u001b[0m\u001b[0mself\u001b[0m\u001b[0;34m,\u001b[0m \u001b[0mX\u001b[0m\u001b[0;34m,\u001b[0m \u001b[0my\u001b[0m\u001b[0;34m,\u001b[0m \u001b[0msample_weight\u001b[0m\u001b[0;34m=\u001b[0m\u001b[0;32mNone\u001b[0m\u001b[0;34m)\u001b[0m\u001b[0;34m:\u001b[0m\u001b[0;34m\u001b[0m\u001b[0;34m\u001b[0m\u001b[0m\n\u001b[1;32m     65\u001b[0m         \u001b[0;34m\"\"\"Get common fit operations.\"\"\"\u001b[0m\u001b[0;34m\u001b[0m\u001b[0;34m\u001b[0m\u001b[0m\n\u001b[0;32m---> 66\u001b[0;31m         \u001b[0mnames\u001b[0m\u001b[0;34m,\u001b[0m \u001b[0mclfs\u001b[0m \u001b[0;34m=\u001b[0m \u001b[0mself\u001b[0m\u001b[0;34m.\u001b[0m\u001b[0m_validate_estimators\u001b[0m\u001b[0;34m(\u001b[0m\u001b[0;34m)\u001b[0m\u001b[0;34m\u001b[0m\u001b[0;34m\u001b[0m\u001b[0m\n\u001b[0m\u001b[1;32m     67\u001b[0m \u001b[0;34m\u001b[0m\u001b[0m\n\u001b[1;32m     68\u001b[0m         if (self.weights is not None and\n",
      "\u001b[0;32m~/anaconda3/envs/dota/lib/python3.8/site-packages/sklearn/ensemble/_base.py\u001b[0m in \u001b[0;36m_validate_estimators\u001b[0;34m(self)\u001b[0m\n\u001b[1;32m    219\u001b[0m     \u001b[0;32mdef\u001b[0m \u001b[0m_validate_estimators\u001b[0m\u001b[0;34m(\u001b[0m\u001b[0mself\u001b[0m\u001b[0;34m)\u001b[0m\u001b[0;34m:\u001b[0m\u001b[0;34m\u001b[0m\u001b[0;34m\u001b[0m\u001b[0m\n\u001b[1;32m    220\u001b[0m         \u001b[0;32mif\u001b[0m \u001b[0mself\u001b[0m\u001b[0;34m.\u001b[0m\u001b[0mestimators\u001b[0m \u001b[0;32mis\u001b[0m \u001b[0;32mNone\u001b[0m \u001b[0;32mor\u001b[0m \u001b[0mlen\u001b[0m\u001b[0;34m(\u001b[0m\u001b[0mself\u001b[0m\u001b[0;34m.\u001b[0m\u001b[0mestimators\u001b[0m\u001b[0;34m)\u001b[0m \u001b[0;34m==\u001b[0m \u001b[0;36m0\u001b[0m\u001b[0;34m:\u001b[0m\u001b[0;34m\u001b[0m\u001b[0;34m\u001b[0m\u001b[0m\n\u001b[0;32m--> 221\u001b[0;31m             raise ValueError(\n\u001b[0m\u001b[1;32m    222\u001b[0m                 \u001b[0;34m\"Invalid 'estimators' attribute, 'estimators' should be a list\"\u001b[0m\u001b[0;34m\u001b[0m\u001b[0;34m\u001b[0m\u001b[0m\n\u001b[1;32m    223\u001b[0m                 \u001b[0;34m\" of (string, estimator) tuples.\"\u001b[0m\u001b[0;34m\u001b[0m\u001b[0;34m\u001b[0m\u001b[0m\n",
      "\u001b[0;31mValueError\u001b[0m: Invalid 'estimators' attribute, 'estimators' should be a list of (string, estimator) tuples."
     ]
    }
   ],
   "source": [
    "from sklearn.linear_model import LogisticRegression\n",
    "from sklearn.naive_bayes import GaussianNB\n",
    "from sklearn.ensemble import RandomForestClassifier, VotingClassifier\n",
    "from sklearn.metrics import confusion_matrix\n",
    "from sklearn.model_selection import cross_val_score,cross_val_predict, train_test_split\n",
    "\n",
    "\n",
    "# for hero, train a logistic regression model and add to VotingClassifier\n",
    "estimators = []\n",
    "\n",
    "\n",
    "clf = LogisticRegression(multi_class='multinomial', random_state=1)\n",
    "\n",
    "eclf1 = VotingClassifier(estimators=estimators, voting='hard')\n",
    "eclf1 = eclf1.fit(x_train, y_train)"
   ]
  },
  {
   "cell_type": "code",
   "execution_count": null,
   "metadata": {},
   "outputs": [
    {
     "ename": "NameError",
     "evalue": "name 'eclf1' is not defined",
     "output_type": "error",
     "traceback": [
      "\u001b[0;31m---------------------------------------------------------------------------\u001b[0m",
      "\u001b[0;31mNameError\u001b[0m                                 Traceback (most recent call last)",
      "\u001b[0;32m<ipython-input-2-22ac2fddd7e0>\u001b[0m in \u001b[0;36m<module>\u001b[0;34m\u001b[0m\n\u001b[0;32m----> 1\u001b[0;31m \u001b[0mprint\u001b[0m\u001b[0;34m(\u001b[0m\u001b[0meclf1\u001b[0m\u001b[0;34m.\u001b[0m\u001b[0mpredict\u001b[0m\u001b[0;34m(\u001b[0m\u001b[0mx_test\u001b[0m\u001b[0;34m)\u001b[0m\u001b[0;34m)\u001b[0m\u001b[0;34m\u001b[0m\u001b[0;34m\u001b[0m\u001b[0m\n\u001b[0m",
      "\u001b[0;31mNameError\u001b[0m: name 'eclf1' is not defined"
     ]
    }
   ],
   "source": [
    "print(eclf1.predict(x_test))"
   ]
  },
  {
   "cell_type": "code",
   "execution_count": null,
   "metadata": {},
   "outputs": [
    {
     "ename": "NameError",
     "evalue": "name 'np' is not defined",
     "output_type": "error",
     "traceback": [
      "\u001b[0;31m---------------------------------------------------------------------------\u001b[0m",
      "\u001b[0;31mNameError\u001b[0m                                 Traceback (most recent call last)",
      "\u001b[0;32m<ipython-input-3-0ce9b4e2d05b>\u001b[0m in \u001b[0;36m<module>\u001b[0;34m\u001b[0m\n\u001b[0;32m----> 1\u001b[0;31m \u001b[0mnp\u001b[0m\u001b[0;34m.\u001b[0m\u001b[0marray_equal\u001b[0m\u001b[0;34m(\u001b[0m\u001b[0meclf1\u001b[0m\u001b[0;34m.\u001b[0m\u001b[0mnamed_estimators_\u001b[0m\u001b[0;34m.\u001b[0m\u001b[0mlr\u001b[0m\u001b[0;34m.\u001b[0m\u001b[0mpredict\u001b[0m\u001b[0;34m(\u001b[0m\u001b[0mx\u001b[0m\u001b[0;34m)\u001b[0m\u001b[0;34m,\u001b[0m \u001b[0meclf1\u001b[0m\u001b[0;34m.\u001b[0m\u001b[0mnamed_estimators_\u001b[0m\u001b[0;34m[\u001b[0m\u001b[0;34m'lr'\u001b[0m\u001b[0;34m]\u001b[0m\u001b[0;34m.\u001b[0m\u001b[0mpredict\u001b[0m\u001b[0;34m(\u001b[0m\u001b[0mx\u001b[0m\u001b[0;34m)\u001b[0m\u001b[0;34m)\u001b[0m\u001b[0;34m\u001b[0m\u001b[0;34m\u001b[0m\u001b[0m\n\u001b[0m",
      "\u001b[0;31mNameError\u001b[0m: name 'np' is not defined"
     ]
    }
   ],
   "source": [
    "np.array_equal(eclf1.named_estimators_.lr.predict(x), eclf1.named_estimators_['lr'].predict(x))"
   ]
  },
  {
   "cell_type": "code",
   "execution_count": null,
   "metadata": {},
   "outputs": [],
   "source": []
  }
 ],
 "metadata": {
  "interpreter": {
   "hash": "9795b5b0f359c9a3e41b413a20d82be0b706bb1e3ab3cb76e6b985ca6d9563dc"
  },
  "kernelspec": {
   "display_name": "Python 3.8.5 64-bit ('dota': conda)",
   "name": "python3"
  },
  "language_info": {
   "codemirror_mode": {
    "name": "ipython",
    "version": 3
   },
   "file_extension": ".py",
   "mimetype": "text/x-python",
   "name": "python",
   "nbconvert_exporter": "python",
   "pygments_lexer": "ipython3",
   "version": "3.8.5"
  },
  "orig_nbformat": 4
 },
 "nbformat": 4,
 "nbformat_minor": 2
}
