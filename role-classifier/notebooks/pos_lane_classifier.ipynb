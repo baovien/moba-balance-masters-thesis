{
 "cells": [
  {
   "cell_type": "code",
   "execution_count": 2,
   "metadata": {},
   "outputs": [
    {
     "name": "stderr",
     "output_type": "stream",
     "text": [
      "  0%|          | 0/50000 [00:00<?, ?it/s]"
     ]
    },
    {
     "name": "stdout",
     "output_type": "stream",
     "text": [
      "========== t0_gpm_rank ==========\n",
      "[(101, 286), (135, 321), (97, 328), (59, 406), (44, 670)]\n",
      "========== t0_xpm_rank ==========\n",
      "[(101, 413), (97, 457), (59, 588), (135, 655), (44, 864)]\n",
      "========== t0_ka_rank ==========\n",
      "[(97, 13), (59, 16), (44, 17), (101, 21), (135, 23)]\n",
      "========== t0_d_rank ==========\n",
      "[(44, 3), (135, 6), (97, 8), (59, 12), (101, 12)]\n",
      "========== t0_lasthits_rank ==========\n",
      "[(101, 22), (135, 59), (97, 122), (59, 148), (44, 320)]\n",
      "========== t0_wards_placed ==========\n",
      "[(59, 2), (44, 0), (135, 7), (97, 0), (101, 6)]\n",
      "[(19, 0), (84, 11), (81, 0), (75, 6), (74, 2)]\n"
     ]
    },
    {
     "name": "stderr",
     "output_type": "stream",
     "text": [
      "\n"
     ]
    }
   ],
   "source": [
    "import os\n",
    "import json\n",
    "import numpy as np\n",
    "import pickle \n",
    "import tqdm\n",
    "\n",
    "# Roles, currently doesn't distinguish between carry/support in safelane\n",
    "# 1 safelane\n",
    "# 2 mid\n",
    "# 3 offlane\n",
    "# 4 jungle\n",
    "# 5 <- label by looking at wards placed and gold earned\n",
    "\n",
    "\n",
    "\"\"\"\n",
    "Features:\n",
    "GPM: rank 1-5\n",
    "XPM: rank 1-5\n",
    "K+A: rank 1-5\n",
    "D  : rank 1-5\n",
    "Last-hits: rank 1-5\n",
    "Team HIDS: Binary encoded [130]\n",
    "\n",
    "\n",
    "Assumption: Linear difference between ranks\n",
    "Goal: Create ensemble of classifiers where \n",
    "            |C| = #heroes * #roles\n",
    "\n",
    "\"\"\"\n",
    "\n",
    "\n",
    "if __name__ == \"__main__\":\n",
    "    X = []\n",
    "    y = []\n",
    "    for filename in tqdm.tqdm(os.listdir(\"../data/parsed\")):       \n",
    "        with open(\"../data/parsed/\" + filename, \"rb\") as f:\n",
    "            match = pickle.load(f)\n",
    "            players = match[\"players\"]\n",
    "            t0 = list(filter(lambda p: p[\"isRadiant\"], players))\n",
    "            t1 = list(filter(lambda p: not p[\"isRadiant\"], players))\n",
    "            t0_gpm_rank = sorted([(p[\"hero_id\"], p[\"gold_per_min\"]) for p in t0], key=lambda x: x[1], reverse=False)\n",
    "            t1_gpm_rank = sorted([(p[\"hero_id\"], p[\"gold_per_min\"]) for p in t1], key=lambda x: x[1], reverse=False)\n",
    "            t0_xpm_rank = sorted([(p[\"hero_id\"], p[\"xp_per_min\"]) for p in t0], key=lambda x: x[1], reverse=False)\n",
    "            t1_xpm_rank = sorted([(p[\"hero_id\"], p[\"xp_per_min\"]) for p in t1], key=lambda x: x[1], reverse=False)\n",
    "            t0_ka_rank = sorted([(p[\"hero_id\"], p[\"kills\"] + p[\"assists\"]) for p in t0], key=lambda x: x[1], reverse=False)\n",
    "            t1_ka_rank = sorted([(p[\"hero_id\"], p[\"kills\"] + p[\"assists\"]) for p in t1], key=lambda x: x[1], reverse=False)\n",
    "            t0_d_rank = sorted([(p[\"hero_id\"], p[\"deaths\"]) for p in t0], key=lambda x: x[1], reverse=False)\n",
    "            t1_d_rank = sorted([(p[\"hero_id\"], p[\"deaths\"]) for p in t1], key=lambda x: x[1], reverse=False)\n",
    "            t0_lasthits_rank = sorted([(p[\"hero_id\"], p[\"last_hits\"]) for p in t0], key=lambda x: x[1], reverse=False)\n",
    "            t1_lasthits_rank = sorted([(p[\"hero_id\"], p[\"last_hits\"]) for p in t1], key=lambda x: x[1], reverse=False)\n",
    "            t0_wards_placed = []\n",
    "            t1_wards_placed = []\n",
    "\n",
    "            for p in t0:\n",
    "                item_uses = p[\"item_uses\"]\n",
    "                c = 0\n",
    "                if \"ward_observer\" in item_uses:\n",
    "                    c += item_uses[\"ward_observer\"]\n",
    "                if \"ward_sentry\" in item_uses:\n",
    "                    c += item_uses[\"ward_sentry\"]\n",
    "\n",
    "                t0_wards_placed.append((p[\"hero_id\"], c))\n",
    "\n",
    "            for p in t1:\n",
    "                item_uses = p[\"item_uses\"]\n",
    "                c = 0\n",
    "                if \"ward_observer\" in item_uses:\n",
    "                    c += item_uses[\"ward_observer\"]\n",
    "                if \"ward_sentry\" in item_uses:\n",
    "                    c += item_uses[\"ward_sentry\"]\n",
    "\n",
    "                t1_wards_placed.append((p[\"hero_id\"], c))\n",
    "\n",
    "            print(\"=\" * 10 + \" t0_gpm_rank \" + \"=\" * 10)\n",
    "            print(t0_gpm_rank)\n",
    "\n",
    "            print(\"=\" * 10 + \" t0_xpm_rank \" + \"=\" * 10)\n",
    "            print(t0_xpm_rank)\n",
    "\n",
    "            print(\"=\" * 10 + \" t0_ka_rank \" + \"=\" * 10)\n",
    "            print(t0_ka_rank)\n",
    "\n",
    "            print(\"=\" * 10 + \" t0_d_rank \" + \"=\" * 10)\n",
    "            print(t0_d_rank)\n",
    "\n",
    "            print(\"=\" * 10 + \" t0_lasthits_rank \" + \"=\" * 10)\n",
    "            print(t0_lasthits_rank)\n",
    "\n",
    "            print(\"=\" * 10 + \" t0_wards_placed \" + \"=\" * 10)\n",
    "            print(t0_wards_placed)\n",
    "            print(t1_wards_placed)\n",
    "\n",
    "\n",
    "            break\n",
    "        \n",
    "    # print(np.array(X).shape)\n",
    "    # print(np.array(y).shape)"
   ]
  },
  {
   "cell_type": "code",
   "execution_count": 2,
   "metadata": {},
   "outputs": [
    {
     "data": {
      "text/plain": [
       "1    194482\n",
       "3    192901\n",
       "2    108191\n",
       "4      4426\n",
       "Name: 0, dtype: int64"
      ]
     },
     "execution_count": 2,
     "metadata": {},
     "output_type": "execute_result"
    }
   ],
   "source": [
    "import pandas as pd\n",
    "\n",
    "df_pos = pd.DataFrame(y)\n",
    "\n",
    "df_pos[0].value_counts()\n"
   ]
  },
  {
   "cell_type": "code",
   "execution_count": 3,
   "metadata": {},
   "outputs": [
    {
     "data": {
      "text/plain": [
       "array([0.69526, 0.69326, 0.69306, 0.69764, 0.6958 , 0.69536, 0.69296,\n",
       "       0.69408, 0.6944 , 0.69162])"
      ]
     },
     "execution_count": 3,
     "metadata": {},
     "output_type": "execute_result"
    }
   ],
   "source": [
    "from sklearn.tree import DecisionTreeClassifier\n",
    "from sklearn.model_selection import cross_val_score,cross_val_predict, train_test_split\n",
    "from sklearn.metrics import confusion_matrix\n",
    "\n",
    "\n",
    "clf = DecisionTreeClassifier(random_state=0)\n",
    "cross_val_score(clf, X, y, cv=10)"
   ]
  },
  {
   "cell_type": "code",
   "execution_count": 4,
   "metadata": {},
   "outputs": [
    {
     "data": {
      "text/plain": [
       "array([[143465,  10368,  40649,      0],\n",
       "       [ 16253,  67496,  24442,      0],\n",
       "       [ 39045,  17645, 136211,      0],\n",
       "       [  1951,    467,   2008,      0]])"
      ]
     },
     "execution_count": 4,
     "metadata": {},
     "output_type": "execute_result"
    }
   ],
   "source": [
    "y_pred = cross_val_predict(clf, X, y, cv=10)\n",
    "confusion_matrix(y, y_pred)"
   ]
  },
  {
   "cell_type": "code",
   "execution_count": 3,
   "metadata": {},
   "outputs": [
    {
     "data": {
      "text/plain": [
       "array([[107285,      0,  87197,      0],\n",
       "       [ 64956,      0,  43235,      0],\n",
       "       [ 89258,      0, 103643,      0],\n",
       "       [  2773,      0,   1653,      0]])"
      ]
     },
     "execution_count": 3,
     "metadata": {},
     "output_type": "execute_result"
    }
   ],
   "source": [
    "from sklearn.linear_model import LogisticRegression\n",
    "from sklearn.model_selection import cross_val_score,cross_val_predict, train_test_split\n",
    "from sklearn.metrics import confusion_matrix\n",
    "\n",
    "clf = LogisticRegression(random_state=0)\n",
    "y_pred = cross_val_predict(clf, X, y, cv=10)\n",
    "confusion_matrix(y, y_pred)\n"
   ]
  },
  {
   "cell_type": "code",
   "execution_count": 8,
   "metadata": {},
   "outputs": [
    {
     "ename": "NotFittedError",
     "evalue": "This LogisticRegression instance is not fitted yet. Call 'fit' with appropriate arguments before using this estimator.",
     "output_type": "error",
     "traceback": [
      "\u001b[0;31m---------------------------------------------------------------------------\u001b[0m",
      "\u001b[0;31mNotFittedError\u001b[0m                            Traceback (most recent call last)",
      "\u001b[0;32m<ipython-input-8-8f46fd0bf0d4>\u001b[0m in \u001b[0;36m<module>\u001b[0;34m\u001b[0m\n\u001b[0;32m----> 1\u001b[0;31m \u001b[0mprint\u001b[0m\u001b[0;34m(\u001b[0m\u001b[0mclf\u001b[0m\u001b[0;34m.\u001b[0m\u001b[0mpredict_proba\u001b[0m\u001b[0;34m(\u001b[0m\u001b[0mX\u001b[0m\u001b[0;34m[\u001b[0m\u001b[0;36m0\u001b[0m\u001b[0;34m:\u001b[0m\u001b[0;36m1\u001b[0m\u001b[0;34m]\u001b[0m\u001b[0;34m)\u001b[0m\u001b[0;34m)\u001b[0m\u001b[0;34m\u001b[0m\u001b[0;34m\u001b[0m\u001b[0m\n\u001b[0m",
      "\u001b[0;32m~/anaconda3/lib/python3.8/site-packages/sklearn/linear_model/_logistic.py\u001b[0m in \u001b[0;36mpredict_proba\u001b[0;34m(self, X)\u001b[0m\n\u001b[1;32m   1460\u001b[0m             \u001b[0mwhere\u001b[0m \u001b[0mclasses\u001b[0m \u001b[0mare\u001b[0m \u001b[0mordered\u001b[0m \u001b[0;32mas\u001b[0m \u001b[0mthey\u001b[0m \u001b[0mare\u001b[0m \u001b[0;32min\u001b[0m\u001b[0;31m \u001b[0m\u001b[0;31m`\u001b[0m\u001b[0;31m`\u001b[0m\u001b[0mself\u001b[0m\u001b[0;34m.\u001b[0m\u001b[0mclasses_\u001b[0m\u001b[0;31m`\u001b[0m\u001b[0;31m`\u001b[0m\u001b[0;34m.\u001b[0m\u001b[0;34m\u001b[0m\u001b[0;34m\u001b[0m\u001b[0m\n\u001b[1;32m   1461\u001b[0m         \"\"\"\n\u001b[0;32m-> 1462\u001b[0;31m         \u001b[0mcheck_is_fitted\u001b[0m\u001b[0;34m(\u001b[0m\u001b[0mself\u001b[0m\u001b[0;34m)\u001b[0m\u001b[0;34m\u001b[0m\u001b[0;34m\u001b[0m\u001b[0m\n\u001b[0m\u001b[1;32m   1463\u001b[0m \u001b[0;34m\u001b[0m\u001b[0m\n\u001b[1;32m   1464\u001b[0m         ovr = (self.multi_class in [\"ovr\", \"warn\"] or\n",
      "\u001b[0;32m~/anaconda3/lib/python3.8/site-packages/sklearn/utils/validation.py\u001b[0m in \u001b[0;36minner_f\u001b[0;34m(*args, **kwargs)\u001b[0m\n\u001b[1;32m     71\u001b[0m                           FutureWarning)\n\u001b[1;32m     72\u001b[0m         \u001b[0mkwargs\u001b[0m\u001b[0;34m.\u001b[0m\u001b[0mupdate\u001b[0m\u001b[0;34m(\u001b[0m\u001b[0;34m{\u001b[0m\u001b[0mk\u001b[0m\u001b[0;34m:\u001b[0m \u001b[0marg\u001b[0m \u001b[0;32mfor\u001b[0m \u001b[0mk\u001b[0m\u001b[0;34m,\u001b[0m \u001b[0marg\u001b[0m \u001b[0;32min\u001b[0m \u001b[0mzip\u001b[0m\u001b[0;34m(\u001b[0m\u001b[0msig\u001b[0m\u001b[0;34m.\u001b[0m\u001b[0mparameters\u001b[0m\u001b[0;34m,\u001b[0m \u001b[0margs\u001b[0m\u001b[0;34m)\u001b[0m\u001b[0;34m}\u001b[0m\u001b[0;34m)\u001b[0m\u001b[0;34m\u001b[0m\u001b[0;34m\u001b[0m\u001b[0m\n\u001b[0;32m---> 73\u001b[0;31m         \u001b[0;32mreturn\u001b[0m \u001b[0mf\u001b[0m\u001b[0;34m(\u001b[0m\u001b[0;34m**\u001b[0m\u001b[0mkwargs\u001b[0m\u001b[0;34m)\u001b[0m\u001b[0;34m\u001b[0m\u001b[0;34m\u001b[0m\u001b[0m\n\u001b[0m\u001b[1;32m     74\u001b[0m     \u001b[0;32mreturn\u001b[0m \u001b[0minner_f\u001b[0m\u001b[0;34m\u001b[0m\u001b[0;34m\u001b[0m\u001b[0m\n\u001b[1;32m     75\u001b[0m \u001b[0;34m\u001b[0m\u001b[0m\n",
      "\u001b[0;32m~/anaconda3/lib/python3.8/site-packages/sklearn/utils/validation.py\u001b[0m in \u001b[0;36mcheck_is_fitted\u001b[0;34m(estimator, attributes, msg, all_or_any)\u001b[0m\n\u001b[1;32m   1018\u001b[0m \u001b[0;34m\u001b[0m\u001b[0m\n\u001b[1;32m   1019\u001b[0m     \u001b[0;32mif\u001b[0m \u001b[0;32mnot\u001b[0m \u001b[0mattrs\u001b[0m\u001b[0;34m:\u001b[0m\u001b[0;34m\u001b[0m\u001b[0;34m\u001b[0m\u001b[0m\n\u001b[0;32m-> 1020\u001b[0;31m         \u001b[0;32mraise\u001b[0m \u001b[0mNotFittedError\u001b[0m\u001b[0;34m(\u001b[0m\u001b[0mmsg\u001b[0m \u001b[0;34m%\u001b[0m \u001b[0;34m{\u001b[0m\u001b[0;34m'name'\u001b[0m\u001b[0;34m:\u001b[0m \u001b[0mtype\u001b[0m\u001b[0;34m(\u001b[0m\u001b[0mestimator\u001b[0m\u001b[0;34m)\u001b[0m\u001b[0;34m.\u001b[0m\u001b[0m__name__\u001b[0m\u001b[0;34m}\u001b[0m\u001b[0;34m)\u001b[0m\u001b[0;34m\u001b[0m\u001b[0;34m\u001b[0m\u001b[0m\n\u001b[0m\u001b[1;32m   1021\u001b[0m \u001b[0;34m\u001b[0m\u001b[0m\n\u001b[1;32m   1022\u001b[0m \u001b[0;34m\u001b[0m\u001b[0m\n",
      "\u001b[0;31mNotFittedError\u001b[0m: This LogisticRegression instance is not fitted yet. Call 'fit' with appropriate arguments before using this estimator."
     ]
    }
   ],
   "source": []
  },
  {
   "cell_type": "code",
   "execution_count": null,
   "metadata": {},
   "outputs": [],
   "source": []
  }
 ],
 "metadata": {
  "kernelspec": {
   "display_name": "Python 3",
   "language": "python",
   "name": "python3"
  },
  "language_info": {
   "codemirror_mode": {
    "name": "ipython",
    "version": 3
   },
   "file_extension": ".py",
   "mimetype": "text/x-python",
   "name": "python",
   "nbconvert_exporter": "python",
   "pygments_lexer": "ipython3",
   "version": "3.8.3"
  }
 },
 "nbformat": 4,
 "nbformat_minor": 4
}
