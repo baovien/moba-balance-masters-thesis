{
 "cells": [
  {
   "cell_type": "code",
   "execution_count": 1,
   "metadata": {},
   "outputs": [
    {
     "name": "stderr",
     "output_type": "stream",
     "text": [
      "100%|██████████| 50000/50000 [02:00<00:00, 415.89it/s]\n"
     ]
    },
    {
     "name": "stdout",
     "output_type": "stream",
     "text": [
      "(500000, 1)\n",
      "(500000,)\n"
     ]
    }
   ],
   "source": [
    "import os\n",
    "import json\n",
    "import numpy as np\n",
    "import pickle \n",
    "import tqdm\n",
    "\n",
    "# Roles, currently doesn't distinguish between carry/support in safelane\n",
    "# 1 safelane\n",
    "# 2 mid\n",
    "# 3 offlane\n",
    "# 4 jungle\n",
    "\n",
    "\n",
    "if __name__ == \"__main__\":\n",
    "    X = []\n",
    "    y = []\n",
    "    for filename in tqdm.tqdm(os.listdir(\"../data/parsed\")):       \n",
    "        with open(\"../data/parsed/\" + filename, \"rb\") as f:\n",
    "            match = pickle.load(f)\n",
    "            players = match[\"players\"]\n",
    "#             print([p[\"hero_id\"] for p in players])\n",
    "            player_gold = [p[\"gold_spent\"] for p in players]\n",
    "            for p in players:\n",
    "                X.append([p[\"hero_id\"]]) # did this to fit into featvec\n",
    "\n",
    "                y.append(p[\"lane_role\"])\n",
    "            \n",
    "        \n",
    "    print(np.array(X).shape)\n",
    "    print(np.array(y).shape)"
   ]
  },
  {
   "cell_type": "code",
   "execution_count": 10,
   "metadata": {},
   "outputs": [
    {
     "data": {
      "text/plain": [
       "1    194482\n",
       "3    192901\n",
       "2    108191\n",
       "4      4426\n",
       "Name: 0, dtype: int64"
      ]
     },
     "execution_count": 10,
     "metadata": {},
     "output_type": "execute_result"
    }
   ],
   "source": [
    "import pandas as pd\n",
    "\n",
    "df_pos = pd.DataFrame(y)\n",
    "\n",
    "df_pos[0].value_counts()\n"
   ]
  },
  {
   "cell_type": "code",
   "execution_count": 3,
   "metadata": {},
   "outputs": [
    {
     "data": {
      "text/plain": [
       "array([0.69526, 0.69326, 0.69306, 0.69764, 0.6958 , 0.69536, 0.69296,\n",
       "       0.69408, 0.6944 , 0.69162])"
      ]
     },
     "execution_count": 3,
     "metadata": {},
     "output_type": "execute_result"
    }
   ],
   "source": [
    "from sklearn.tree import DecisionTreeClassifier\n",
    "from sklearn.model_selection import cross_val_score,cross_val_predict, train_test_split\n",
    "from sklearn.metrics import confusion_matrix\n",
    "\n",
    "\n",
    "clf = DecisionTreeClassifier(random_state=0)\n",
    "cross_val_score(clf, X, y, cv=10)"
   ]
  },
  {
   "cell_type": "code",
   "execution_count": 4,
   "metadata": {},
   "outputs": [
    {
     "data": {
      "text/plain": [
       "array([[143465,  10368,  40649,      0],\n",
       "       [ 16253,  67496,  24442,      0],\n",
       "       [ 39045,  17645, 136211,      0],\n",
       "       [  1951,    467,   2008,      0]])"
      ]
     },
     "execution_count": 4,
     "metadata": {},
     "output_type": "execute_result"
    }
   ],
   "source": [
    "y_pred = cross_val_predict(clf, X, y, cv=10)\n",
    "confusion_matrix(y, y_pred)"
   ]
  },
  {
   "cell_type": "code",
   "execution_count": null,
   "metadata": {},
   "outputs": [],
   "source": []
  }
 ],
 "metadata": {
  "kernelspec": {
   "display_name": "Python 3",
   "language": "python",
   "name": "python3"
  },
  "language_info": {
   "codemirror_mode": {
    "name": "ipython",
    "version": 3
   },
   "file_extension": ".py",
   "mimetype": "text/x-python",
   "name": "python",
   "nbconvert_exporter": "python",
   "pygments_lexer": "ipython3",
   "version": "3.8.3"
  }
 },
 "nbformat": 4,
 "nbformat_minor": 4
}
