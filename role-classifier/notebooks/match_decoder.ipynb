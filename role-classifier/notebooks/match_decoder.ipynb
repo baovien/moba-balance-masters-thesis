{
 "cells": [
  {
   "cell_type": "code",
   "execution_count": 2,
   "metadata": {},
   "outputs": [],
   "source": [
    "import os\n",
    "import json\n",
    "import numpy as np\n",
    "import pickle \n",
    "import tqdm\n",
    "import tarfile\n",
    "from scipy import sparse\n",
    "from collections import defaultdict\n",
    "from pprint import pprint\n",
    "from collections import Counter\n",
    "from itertools import permutations"
   ]
  },
  {
   "cell_type": "code",
   "execution_count": 4,
   "metadata": {},
   "outputs": [
    {
     "data": {
      "text/plain": [
       "(905536, 122)"
      ]
     },
     "execution_count": 4,
     "metadata": {},
     "output_type": "execute_result"
    }
   ],
   "source": [
    "# with open(\"../../data/preprocessed/test_5148330922-5148330922.npy\", \"r\") as f:\n",
    "train_data = np.load(\"../../data/preprocessed/test_5148330922-5148330922.npy\")\n",
    "\n",
    "train_data.shape\n"
   ]
  },
  {
   "cell_type": "markdown",
   "metadata": {},
   "source": [
    "# Decoder\n",
    "\n",
    "Read steam api match and create match datapoint\n",
    " \n",
    "```\n",
    "for each team; predict_log_proba for each hero in team\n",
    "\n",
    "append log_proba to\n",
    "\n",
    "        pos\n",
    "\n",
    "h1  p   p   p   p   p\n",
    "h2  p   p   p   p   p\n",
    "h3  p   p   p   p   p\n",
    "h4  p   p   p   p   p\n",
    "h5  p   p   p   p   p\n",
    "```\n",
    "\n",
    "Create permutations for team (0 to 4, r=5). Use itertools permutations\n",
    "```\n",
    "c = [1,3,0,4,2] // get the log_prob by index in pos matrix\n",
    "log_p = sum(c)\n",
    "if log_p > best_p:\n",
    "    best_p = log_p\n",
    "    best_c = c\n",
    "\n",
    "``` \n",
    "\n"
   ]
  },
  {
   "cell_type": "code",
   "execution_count": 4,
   "metadata": {},
   "outputs": [
    {
     "name": "stdout",
     "output_type": "stream",
     "text": [
      "{'gold_per_min': [(56, 1822), (14, 1147), (21, 1030), (22, 813), (121, 544)], 'xp_per_min': [(56, 2229), (14, 1864), (22, 1839), (21, 1692), (121, 1606)], 'kills': [(56, 14), (14, 13), (21, 9), (22, 5), (121, 1)], 'deaths': [(21, 5), (121, 3), (14, 2), (22, 2), (56, 1)], 'assists': [(22, 29), (121, 22), (14, 14), (21, 13), (56, 9)], 'last_hits': [(56, 198), (21, 84), (14, 80), (22, 35), (121, 21)], 'hero_damage': [(56, 35178), (22, 28023), (14, 24363), (21, 15598), (121, 8510)], 'tower_damage': [(56, 21593), (21, 1061), (121, 139), (22, 119), (14, 48)]}\n",
      "[(0, 'Clinkz', -0.04), (1, 'Windranger', -0.9), (2, 'Pudge', -0.39), (3, 'Zeus', -0.88), (4, 'Grimstroke', -0.12)] => -2.33\n",
      "{'gold_per_min': [(35, 987), (108, 595), (126, 480), (7, 452), (90, 381)], 'xp_per_min': [(108, 1381), (7, 1376), (35, 1364), (126, 1364), (90, 1143)], 'kills': [(35, 7), (126, 4), (7, 1), (108, 1), (90, 0)], 'deaths': [(126, 10), (35, 8), (7, 8), (90, 8), (108, 8)], 'assists': [(7, 6), (90, 6), (108, 4), (126, 4), (35, 3)], 'last_hits': [(35, 147), (108, 56), (126, 41), (7, 21), (90, 20)], 'hero_damage': [(35, 20654), (126, 15075), (108, 14354), (7, 6117), (90, 2694)], 'tower_damage': [(108, 210), (35, 45), (7, 0), (90, 0), (126, 0)]}\n",
      "[(0, 'Sniper', -1.09), (1, 'Void Spirit', -0.01), (2, 'Underlord', -0.01), (3, 'Earthshaker', -0.1), (4, 'Keeper of the Light', -0.27)] => -1.48\n"
     ]
    },
    {
     "name": "stderr",
     "output_type": "stream",
     "text": [
      "/home/bao/anaconda3/envs/dota/lib/python3.8/site-packages/sklearn/base.py:310: UserWarning: Trying to unpickle estimator LogisticRegression from version 0.24.2 when using version 0.24.1. This might lead to breaking code or invalid results. Use at your own risk.\n",
      "  warnings.warn(\n"
     ]
    }
   ],
   "source": [
    "with open(\"../data/steam_api_match_example.json\", \"r\") as f:\n",
    "    match = json.load(f)\n",
    "    match = match[\"result\"]\n",
    "\n",
    "with open(\"../data/logreg_clfs_all.pkl\", \"rb\") as f:\n",
    "    clfs = pickle.load(f)\n",
    "\n",
    "# open heroes.json \n",
    "with open(\"../data/heroes.json\", \"r\") as f:\n",
    "    heroes = json.load(f)\n",
    "    heroes_id_to_name = {hero[\"id\"]: hero[\"localized_name\"] for hero in heroes}\n",
    "\n",
    "def is_valid_match(match):\n",
    "    if not match[\"lobby_type\"] in {0, 5, 6, 7}:\n",
    "        print(\"Invalid lobby type:\", match[\"lobby_type\"])\n",
    "        return False\n",
    "    if match[\"duration\"] < 60 * 20:\n",
    "        print(\"Invalid duration:\", match[\"duration\"])\n",
    "        return False\n",
    "    if not match[\"game_mode\"] in {1, 2, 16, 22}:\n",
    "        print(\"Invalid game mode:\", match[\"game_mode\"])\n",
    "        return False\n",
    "\n",
    "    return True\n",
    "\n",
    "def get_rank(rank: int):\n",
    "    oh = np.zeros(5)\n",
    "    oh[rank] = 1\n",
    "    return oh\n",
    "\n",
    "def remove_unplayed_roles(y_pred):\n",
    "    pass\n",
    "\n",
    "def create_match_datapoint(match):\n",
    "    datapoint = {}\n",
    "\n",
    "    players = match[\"players\"]\n",
    "    t0 = [p for p in players if p[\"player_slot\"] < 128]\n",
    "    t1 = [p for p in players if p[\"player_slot\"] >= 128]\n",
    "\n",
    "    for team in [t0, t1]:\n",
    "        # !Ranks\n",
    "        attributes = [\"gold_per_min\", \"xp_per_min\", \"kills\", \"deaths\", \"assists\", \"last_hits\", \"hero_damage\", \"tower_damage\"]\n",
    "        # ranks = {}\n",
    "        \n",
    "        # for attr in attributes:\n",
    "        #     ranks[attr] = sorted([(p[\"hero_id\"], p[attr]) for p in team], key=lambda x: x[1], reverse=True)\n",
    "\n",
    "        ranks = {attr: sorted([(p[\"hero_id\"], p[attr]) for p in team], key=lambda x: x[1], reverse=True) for attr in attributes}\n",
    "        print(ranks)\n",
    "        hids = [p[\"hero_id\"] for p in team]\n",
    "        team_position_proba = defaultdict(list)\n",
    "\n",
    "        # !Create c\n",
    "        for p in team:\n",
    "            features = []\n",
    "            hid = p[\"hero_id\"]\n",
    "\n",
    "            teammates = np.zeros((136))\n",
    "            for team_hid in hids:\n",
    "                if team_hid != hid:\n",
    "                    teammates[team_hid] = 1.\n",
    "            \n",
    "            features.append(teammates)\n",
    "            \n",
    "            for rank in ranks: \n",
    "                features.append(get_rank(ranks[rank].index((hid, p[rank]))))\n",
    "\n",
    "            x = np.concatenate(features)\n",
    "\n",
    "            y_pred = clfs[hid].predict_log_proba(x.reshape(1, -1))\n",
    "            \n",
    "            \"\"\"sumary_line\n",
    "            \n",
    "            removed_unplayed_roles()\n",
    "\n",
    "                \n",
    "\n",
    "                return y_pred_updated\n",
    "            \"\"\"\n",
    "            \n",
    "          \n",
    "\n",
    "            team_position_proba[hid] = y_pred[0]\n",
    "\n",
    "        best_log_p = -np.inf\n",
    "        best_comp = None\n",
    "\n",
    "        for comp in permutations(range(5), 5):\n",
    "            comp_with_heroid = [(comp[i], heroes_id_to_name[hid], round(team_position_proba[hid][comp[i]], 2)) for i, hid in enumerate(hids)]\n",
    "            log_p = np.array([team_position_proba[hid][comp[i]] for i, hid in enumerate(hids)]).sum()\n",
    "            if log_p > best_log_p:\n",
    "                best_log_p = log_p\n",
    "                best_comp = sorted(comp_with_heroid, key=lambda x: x[0])\n",
    "        \n",
    "        print(\"{} => {:.2f}\".format(best_comp, best_log_p))\n",
    "        \n",
    "\n",
    "\n",
    "        \n",
    "    return datapoint\n",
    "\n",
    "\n",
    "if is_valid_match(match):\n",
    "    match_datapoint = create_match_datapoint(match)\n",
    "    # print(match_datapoint)\n",
    "\n"
   ]
  }
 ],
 "metadata": {
  "interpreter": {
   "hash": "76d279d9dda3f104956abaa709c4930fec7a5837133fea297357827d52b43a61"
  },
  "kernelspec": {
   "display_name": "Python 3.8.8 64-bit ('dota': conda)",
   "language": "python",
   "name": "python3"
  },
  "language_info": {
   "codemirror_mode": {
    "name": "ipython",
    "version": 3
   },
   "file_extension": ".py",
   "mimetype": "text/x-python",
   "name": "python",
   "nbconvert_exporter": "python",
   "pygments_lexer": "ipython3",
   "version": "3.8.8"
  },
  "orig_nbformat": 4
 },
 "nbformat": 4,
 "nbformat_minor": 2
}
