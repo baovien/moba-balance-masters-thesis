{
 "cells": [
  {
   "cell_type": "code",
   "execution_count": 1,
   "metadata": {},
   "outputs": [],
   "source": [
    "import os\n",
    "import json\n",
    "import numpy as np\n",
    "import pickle \n",
    "import tqdm\n",
    "import tarfile\n",
    "from scipy import sparse\n",
    "from collections import defaultdict\n",
    "from pprint import pprint\n",
    "from collections import Counter"
   ]
  },
  {
   "cell_type": "markdown",
   "metadata": {},
   "source": [
    "# Decoder\n",
    "\n",
    "Read steam api match and create match datapoint\n",
    " \n",
    "```\n",
    "for each team; predict_log_proba for each hero in team\n",
    "\n",
    "append log_proba to\n",
    "\n",
    "        pos\n",
    "\n",
    "h1  p   p   p   p   p\n",
    "h2  p   p   p   p   p\n",
    "h3  p   p   p   p   p\n",
    "h4  p   p   p   p   p\n",
    "h5  p   p   p   p   p\n",
    "```\n",
    "\n",
    "Create permutations for team (0 to 4, r=5). Use itertools permutations\n",
    "```\n",
    "c = [1,3,0,4,2] // get the log_prob by index in pos matrix\n",
    "log_p = sum(c)\n",
    "if log_p > best_p:\n",
    "    best_p = log_p\n",
    "    best_c = c\n",
    "\n",
    "``` \n",
    "\n"
   ]
  },
  {
   "cell_type": "code",
   "execution_count": null,
   "metadata": {},
   "outputs": [],
   "source": [
    "def create_match_datapoint(match):\n",
    "    pass\n",
    "\n"
   ]
  },
  {
   "cell_type": "code",
   "execution_count": null,
   "metadata": {},
   "outputs": [
    {
     "data": {
      "text/plain": [
       "array([[-6.21055717, -4.91272942, -0.01054263, -7.06228564, -8.21737623]])"
      ]
     },
     "metadata": {},
     "output_type": "display_data"
    }
   ],
   "source": [
    "x_single = np.vstack(xs[hid])[0].reshape(1, -1)\n",
    "\n",
    "clfs[hid].predict_log_proba(x_single)\n"
   ]
  }
 ],
 "metadata": {
  "interpreter": {
   "hash": "76d279d9dda3f104956abaa709c4930fec7a5837133fea297357827d52b43a61"
  },
  "kernelspec": {
   "display_name": "Python 3.8.8 64-bit ('dota': conda)",
   "language": "python",
   "name": "python3"
  },
  "language_info": {
   "codemirror_mode": {
    "name": "ipython",
    "version": 3
   },
   "file_extension": ".py",
   "mimetype": "text/x-python",
   "name": "python",
   "nbconvert_exporter": "python",
   "pygments_lexer": "ipython3",
   "version": "3.8.8"
  },
  "orig_nbformat": 4
 },
 "nbformat": 4,
 "nbformat_minor": 2
}
