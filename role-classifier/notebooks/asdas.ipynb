{
 "cells": [
  {
   "cell_type": "code",
   "execution_count": 1,
   "metadata": {},
   "outputs": [],
   "source": [
    "import os\n",
    "import json\n",
    "import numpy as np\n",
    "import pickle \n",
    "import tqdm\n",
    "import gzip\n",
    "import tarfile\n",
    "from scipy import sparse\n"
   ]
  },
  {
   "cell_type": "code",
   "execution_count": 2,
   "metadata": {},
   "outputs": [],
   "source": [
    "zfp = tarfile.open(\"../data/opendota_parsed_matches.tar.gz\", 'r:gz')\n",
    "all_filenames = zfp.getnames()\n"
   ]
  },
  {
   "cell_type": "code",
   "execution_count": 7,
   "metadata": {},
   "outputs": [
    {
     "name": "stderr",
     "output_type": "stream",
     "text": [
      "100%|██████████| 99/99 [00:00<00:00, 129.12it/s]\n"
     ]
    }
   ],
   "source": [
    "matches = []\n",
    "\n",
    "for fname in tqdm.tqdm(all_filenames[1:100]):\n",
    "    fp = zfp.extractfile(fname)\n",
    "    fp.seek(0)\n",
    "    match = pickle.loads(fp.read())\n",
    "    matches.append(match)\n"
   ]
  },
  {
   "cell_type": "code",
   "execution_count": 25,
   "metadata": {},
   "outputs": [
    {
     "name": "stdout",
     "output_type": "stream",
     "text": [
      "3\n",
      "25\n",
      "36\n",
      "68\n",
      "69\n",
      "75\n",
      "80\n",
      "81\n"
     ]
    },
    {
     "data": {
      "text/plain": [
       "(Counter({2: 210, 1: 387, 3: 383, 4: 10}),\n",
       " Counter({2: 210, 1: 383, 3: 387, 5: 8, 4: 2}))"
      ]
     },
     "execution_count": 25,
     "metadata": {},
     "output_type": "execute_result"
    }
   ],
   "source": [
    "from collections import Counter\n",
    "\n",
    "c_role = Counter()\n",
    "c_lane = Counter()\n",
    "\n",
    "for k, match in enumerate(matches):\n",
    "    for player in match['players']:\n",
    "        \n",
    "        if player[\"lane\"] == 5:\n",
    "            print(k)\n",
    "        c_role[player['lane_role']] += 1\n",
    "        c_lane[player['lane']] += 1\n",
    "\n",
    "c_role, c_lane"
   ]
  },
  {
   "cell_type": "code",
   "execution_count": 30,
   "metadata": {},
   "outputs": [
    {
     "name": "stdout",
     "output_type": "stream",
     "text": [
      "defaultdict(<function <lambda> at 0x7ff28b35f4c0>,\n",
      "            {0: defaultdict(<class 'list'>,\n",
      "                            {1: [(977, 21, 3, False), (629, 37, 3, False)],\n",
      "                             2: [(1146, 11, 2, False)],\n",
      "                             3: [(431, 58, 1, False)],\n",
      "                             5: [(924, 29, 4, False)]}),\n",
      "             1: defaultdict(<class 'list'>,\n",
      "                            {1: [(897, 12, 1, False), (427, 86, 1, False)],\n",
      "                             2: [(617, 72, 2, False)],\n",
      "                             3: [(757, 36, 3, False), (436, 101, 3, False)]})})\n",
      "==================================================\n"
     ]
    }
   ],
   "source": [
    "from collections import defaultdict\n",
    "import pprint\n",
    "\n",
    "\"\"\"\n",
    "support_candidates_4 = []\n",
    "support_candidates_5 = []\n",
    "final_roles = {}\n",
    "\n",
    "for lane 1:\n",
    "    if len(lane1)> 1:\n",
    "        support_candidates_5.append(everyone_except_highest_gpm_hero_in_lane1)\n",
    "        final_roles[1] = highest_gpm_hero_in_lane1\n",
    "    else:\n",
    "        final_roles[1] = lane1[0]\n",
    "for lane 2: \n",
    "    if len(lane2)> 1:\n",
    "        support_candidates_4.append(everyone_except_highest_gpm_hero_in_lane2)\n",
    "        final_roles[2] = highest_gpm_hero_in_lane2\n",
    "    else:\n",
    "        final_roles[2] = lane2[0]\n",
    "for lane 3: \n",
    "    if len(lane2)> 1:\n",
    "        support_candidates_4.append(everyone_except_highest_gpm_hero_in_lane3)\n",
    "        final_roles[3] = highest_gpm_hero_in_lane3\n",
    "    else:\n",
    "        final_roles[3] = lane3[0]\n",
    "for lane 4: \n",
    "    for hero in lane4:\n",
    "        support_candidates_4.append(hero)\n",
    "for lane 5: \n",
    "    for hero in lane5:\n",
    "        support_candidates_5.append(hero)\n",
    "\n",
    "if len(support_candidates_5) > 1:\n",
    "    final_roles[5] = support_candidates_5[most_sentry_bought_in_support_candidates_5]\n",
    "else:\n",
    "    final_roles[5] = support_candidates_5[0]\n",
    "\n",
    "if len(support_candidates_4) > 1:\n",
    "    final_roles[4] = support_candidates_4[least_sentry_bought_in_support_candidates_4]\n",
    "else:\n",
    "    final_roles[4] = support_candidates_4[0]\n",
    "\n",
    "support_candidates = support_candidates_4 + support_candidates_5\n",
    "\n",
    "\n",
    "if len(final_roles[5]) != 5 in support_candidates:\n",
    "    final_roles[5] = support_candidates[0]\n",
    "    assert fix_this (look at the data)\n",
    "\n",
    "\"\"\"\n",
    "\n",
    "for match in matches[3:4]:\n",
    "    gpm_role = defaultdict(lambda: defaultdict(list))\n",
    "\n",
    "    for player in match['players']:\n",
    "        team = int(player['isRadiant'])\n",
    "        gpm_role[team][player[\"lane\"]].append((player['gold_per_min'], player[\"hero_id\"], player[\"lane_role\"], player[\"is_roaming\"]))\n",
    "\n",
    "    pprint.pprint(gpm_role)\n",
    "    print(\"=\" * 50)\n"
   ]
  },
  {
   "cell_type": "code",
   "execution_count": null,
   "metadata": {},
   "outputs": [],
   "source": []
  }
 ],
 "metadata": {
  "interpreter": {
   "hash": "76d279d9dda3f104956abaa709c4930fec7a5837133fea297357827d52b43a61"
  },
  "kernelspec": {
   "display_name": "Python 3.8.5 64-bit ('dota': conda)",
   "language": "python",
   "name": "python3"
  },
  "language_info": {
   "codemirror_mode": {
    "name": "ipython",
    "version": 3
   },
   "file_extension": ".py",
   "mimetype": "text/x-python",
   "name": "python",
   "nbconvert_exporter": "python",
   "pygments_lexer": "ipython3",
   "version": "3.8.5"
  },
  "orig_nbformat": 4
 },
 "nbformat": 4,
 "nbformat_minor": 2
}
