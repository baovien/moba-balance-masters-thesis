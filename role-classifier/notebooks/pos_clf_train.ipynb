{
 "cells": [
  {
   "cell_type": "code",
   "execution_count": 1,
   "metadata": {},
   "outputs": [],
   "source": [
    "import os\n",
    "import json\n",
    "import numpy as np\n",
    "import pickle \n",
    "import tqdm\n",
    "import tarfile\n",
    "from scipy import sparse\n",
    "from collections import defaultdict\n",
    "from pprint import pprint\n",
    "from collections import Counter"
   ]
  },
  {
   "cell_type": "code",
   "execution_count": 2,
   "metadata": {},
   "outputs": [],
   "source": [
    "def load_data(path):\n",
    "    with open(path, 'rb') as fp:\n",
    "        data = pickle.load(fp)\n",
    "\n",
    "    return data[\"xs\"], data[\"ys\"]\n",
    "\n",
    "def load_weights_dict(path):\n",
    "    with open(path, 'rb') as fp:\n",
    "        weights_dict = pickle.load(fp)\n",
    "    return weights_dict\n",
    "\n",
    "def get_dummy_classifier():\n",
    "    return DummyClassifier(strategy=\"constant\", constant=0)"
   ]
  },
  {
   "cell_type": "code",
   "execution_count": 3,
   "metadata": {},
   "outputs": [
    {
     "name": "stderr",
     "output_type": "stream",
     "text": [
      "100%|██████████| 121/121 [01:29<00:00,  1.36it/s]\n"
     ]
    }
   ],
   "source": [
    "from sklearn.linear_model import LogisticRegression\n",
    "from sklearn.model_selection import train_test_split\n",
    "from sklearn.dummy import DummyClassifier\n",
    "\n",
    "\n",
    "# output_path = \"../data/dataset_positions_winners.pkl\" \n",
    "output_path = \"../data/dataset_positions_all.pkl\" \n",
    "\n",
    "weights_path = \"../data/weights_dict.pkl\"\n",
    "xs, ys = load_data(output_path)\n",
    "weights_dict = load_weights_dict(weights_path)\n",
    "\n",
    "clfs = {}\n",
    "scores = {}\n",
    "scores_dict = {}\n",
    "n_features = np.vstack(xs[1]).shape[1]\n",
    "for hid in tqdm.tqdm(xs):\n",
    "    try:\n",
    "        x = np.vstack(xs[hid])\n",
    "        y = np.hstack(ys[hid])\n",
    "        \n",
    "        class_weight = {e:v for e, v in enumerate(weights_dict[hid])}\n",
    "        unique = np.unique(np.hstack(ys[hid]))\n",
    "\n",
    "        for class_role in [1, 2, 3, 4, 5]:\n",
    "            if not class_role in unique.tolist():\n",
    "                print('added classrole', class_role, \"for hero\", hid)\n",
    "                xs[hid].append(np.zeros((n_features)))\n",
    "                ys[hid].append(class_role)\n",
    "\n",
    "        x = np.vstack(xs[hid])\n",
    "        y = np.hstack(ys[hid]) - 1\n",
    "\n",
    "        x_train, x_test, y_train, y_test = train_test_split(x, y, test_size=0.2, random_state=42)\n",
    "\n",
    "        clf = LogisticRegression(multi_class=\"ovr\", max_iter=300, n_jobs=-1, solver=\"lbfgs\", class_weight=class_weight)\n",
    "        clf.fit(x_train, y_train)\n",
    "\n",
    "        score = clf.score(x_test, y_test)\n",
    "        clfs[hid] = clf\n",
    "        scores[hid] = score\n",
    "        scores_dict[hid] = score\n",
    "\n",
    "\n",
    "    except:\n",
    "        print(\"creashed on hid: \", hid)\n",
    "        raise\n"
   ]
  },
  {
   "cell_type": "code",
   "execution_count": 4,
   "metadata": {},
   "outputs": [
    {
     "name": "stdout",
     "output_type": "stream",
     "text": [
      "[[   0    0    0    0    0]\n",
      " [   0    0    0    0    0]\n",
      " [  67  267 4162  470   67]\n",
      " [   0    1    3  124   51]\n",
      " [   0    0    0    0    2]]\n",
      "[0 1 2 3 4] [  67  268 4165  594  120]\n"
     ]
    }
   ],
   "source": [
    "from sklearn.metrics import confusion_matrix\n",
    "hid = 129\n",
    "print(confusion_matrix(clfs[hid].predict(np.vstack(xs[hid])), np.hstack(ys[hid])-1))\n",
    "\n",
    "counts, unique = np.unique(np.hstack(ys[hid])-1, return_counts=True)\n",
    "print(counts, unique)"
   ]
  },
  {
   "cell_type": "markdown",
   "metadata": {},
   "source": [
    "[0 1 2 3 4] [1708  114 1632  365  417]"
   ]
  },
  {
   "cell_type": "code",
   "execution_count": 5,
   "metadata": {},
   "outputs": [
    {
     "name": "stdout",
     "output_type": "stream",
     "text": [
      "              precision    recall  f1-score   support\n",
      "\n",
      "           0       0.00      0.00      0.00         0\n",
      "           1       0.00      0.00      0.00         0\n",
      "           2       1.00      0.83      0.90      5033\n",
      "           3       0.21      0.69      0.32       179\n",
      "           4       0.02      1.00      0.03         2\n",
      "\n",
      "    accuracy                           0.82      5214\n",
      "   macro avg       0.24      0.50      0.25      5214\n",
      "weighted avg       0.97      0.82      0.88      5214\n",
      "\n"
     ]
    },
    {
     "name": "stderr",
     "output_type": "stream",
     "text": [
      "/home/bao/anaconda3/envs/dota/lib/python3.8/site-packages/sklearn/metrics/_classification.py:1245: UndefinedMetricWarning: Recall and F-score are ill-defined and being set to 0.0 in labels with no true samples. Use `zero_division` parameter to control this behavior.\n",
      "  _warn_prf(average, modifier, msg_start, len(result))\n",
      "/home/bao/anaconda3/envs/dota/lib/python3.8/site-packages/sklearn/metrics/_classification.py:1245: UndefinedMetricWarning: Recall and F-score are ill-defined and being set to 0.0 in labels with no true samples. Use `zero_division` parameter to control this behavior.\n",
      "  _warn_prf(average, modifier, msg_start, len(result))\n",
      "/home/bao/anaconda3/envs/dota/lib/python3.8/site-packages/sklearn/metrics/_classification.py:1245: UndefinedMetricWarning: Recall and F-score are ill-defined and being set to 0.0 in labels with no true samples. Use `zero_division` parameter to control this behavior.\n",
      "  _warn_prf(average, modifier, msg_start, len(result))\n"
     ]
    }
   ],
   "source": [
    "from sklearn.metrics import classification_report\n",
    "print(classification_report(clfs[hid].predict(np.vstack(xs[hid])), np.hstack(ys[hid])-1))"
   ]
  },
  {
   "cell_type": "code",
   "execution_count": 7,
   "metadata": {},
   "outputs": [
    {
     "name": "stdout",
     "output_type": "stream",
     "text": [
      "Lone Druid 80 0.4537037037037037\n",
      "Alchemist 73 0.4539877300613497\n",
      "Visage 92 0.5040650406504065\n",
      "Techies 105 0.5051020408163265\n",
      "Broodmother 61 0.5087719298245614\n",
      "Enchantress 58 0.5391304347826087\n",
      "Vengeful Spirit 20 0.5415959252971138\n",
      "Keeper of the Light 90 0.5470085470085471\n",
      "Undying 85 0.5633333333333334\n",
      "Rubick 86 0.5716451857467779\n",
      "Razor 15 0.5753968253968254\n",
      "Treant Protector 83 0.5789473684210527\n",
      "Nature's Prophet 53 0.5793103448275863\n",
      "Bloodseeker 4 0.5800604229607251\n",
      "Dragon Knight 49 0.5911458333333334\n",
      "Pugna 45 0.5946969696969697\n",
      "Chen 66 0.5964912280701754\n",
      "Venomancer 40 0.5995975855130785\n",
      "Clinkz 56 0.6038251366120219\n",
      "Dark Willow 119 0.6089828269484808\n",
      "Skywrath Mage 101 0.615\n",
      "Omniknight 57 0.6206896551724138\n",
      "Shadow Demon 79 0.6211453744493393\n",
      "Riki 32 0.6211699164345403\n",
      "Winter Wyvern 112 0.6259314456035767\n",
      "Silencer 75 0.6273666092943201\n",
      "Hoodwink 123 0.6327077747989276\n",
      "Ogre Magi 84 0.6338215712383488\n",
      "Elder Titan 103 0.6358695652173914\n",
      "Snapfire 128 0.6378504672897196\n",
      "Pudge 14 0.6401590457256461\n",
      "Jakiro 64 0.643305439330544\n",
      "Enigma 33 0.6477832512315271\n",
      "Viper 47 0.6548223350253807\n",
      "Lion 26 0.6550387596899225\n",
      "Weaver 63 0.6574279379157428\n",
      "Bounty Hunter 62 0.6575091575091575\n",
      "Sniper 35 0.6588946459412781\n",
      "Monkey King 114 0.6607015032211883\n",
      "Phoenix 110 0.6627218934911243\n",
      "Huskar 59 0.6682808716707022\n",
      "Brewmaster 78 0.6764705882352942\n",
      "Grimstroke 121 0.6813186813186813\n",
      "Nyx Assassin 88 0.685064935064935\n",
      "Leshrac 52 0.6863468634686347\n",
      "Shadow Shaman 27 0.6923963133640553\n",
      "Abaddon 102 0.6943620178041543\n",
      "Ancient Apparition 68 0.695852534562212\n",
      "Dawnbreaker 135 0.6970760233918128\n",
      "Batrider 65 0.6983240223463687\n",
      "Windranger 21 0.6992\n",
      "Tiny 19 0.699252801992528\n",
      "Dazzle 50 0.7022016222479722\n",
      "Kunkka 23 0.7108140947752126\n",
      "Clockwerk 51 0.7110481586402266\n",
      "Io 91 0.7170474516695958\n",
      "Morphling 10 0.7202718006795017\n",
      "Mirana 9 0.7248104008667389\n",
      "Zeus 22 0.7252396166134185\n",
      "Legion Commander 104 0.7265437048917401\n",
      "Gyrocopter 72 0.7281795511221946\n",
      "Medusa 94 0.731457800511509\n",
      "Lich 31 0.7315436241610739\n",
      "Pangolier 120 0.7326315789473684\n",
      "Wraith King 42 0.7392241379310345\n",
      "Tusk 100 0.7484848484848485\n",
      "Death Prophet 43 0.7486631016042781\n",
      "Necrophos 36 0.7516869095816464\n",
      "Chaos Knight 81 0.7520435967302452\n",
      "Disruptor 87 0.7541528239202658\n",
      "Witch Doctor 30 0.755011135857461\n",
      "Magnus 97 0.7564881281060187\n",
      "Dark Seer 55 0.7584541062801933\n",
      "Outworld Destroyer 76 0.7634961439588689\n",
      "Drow Ranger 6 0.7669172932330827\n",
      "Spirit Breaker 71 0.7703125\n",
      "Bane 3 0.7712486883525709\n",
      "Warlock 37 0.7727272727272727\n",
      "Naga Siren 89 0.776824034334764\n",
      "Slardar 28 0.7782608695652173\n",
      "Lycan 77 0.7809187279151943\n",
      "Queen of Pain 39 0.7868632707774799\n",
      "Bristleback 99 0.7870503597122303\n",
      "Earthshaker 7 0.789032749428789\n",
      "Crystal Maiden 5 0.7916152897657214\n",
      "Lina 25 0.7939346811819595\n",
      "Timbersaw 98 0.7988668555240793\n",
      "Doom 69 0.8076190476190476\n",
      "Sand King 16 0.808282208588957\n",
      "Earth Spirit 107 0.810958904109589\n",
      "Arc Warden 113 0.8171206225680934\n",
      "Axe 2 0.8183139534883721\n",
      "Mars 129 0.8197507190795782\n",
      "Tidehunter 29 0.8227979274611399\n",
      "Oracle 111 0.8239202657807309\n",
      "Underlord 108 0.8327272727272728\n",
      "Night Stalker 60 0.833904109589041\n",
      "Troll Warlord 95 0.835820895522388\n",
      "Puck 13 0.8392484342379958\n",
      "Invoker 74 0.8456659619450317\n",
      "Lifestealer 54 0.8478260869565217\n",
      "Sven 18 0.8489208633093526\n",
      "Centaur Warrunner 96 0.8495575221238938\n",
      "Ursa 70 0.8535714285714285\n",
      "Tinker 34 0.8559411146161935\n",
      "Phantom Assassin 44 0.8662420382165605\n",
      "Faceless Void 41 0.8663911845730028\n",
      "Meepo 82 0.8712871287128713\n",
      "Templar Assassin 46 0.8721973094170403\n",
      "Luna 48 0.8748815165876778\n",
      "Ember Spirit 106 0.8801801801801802\n",
      "Beastmaster 38 0.8888888888888888\n",
      "Void Spirit 126 0.8942161339421614\n",
      "Anti-Mage 1 0.9036939313984169\n",
      "Slark 93 0.9040404040404041\n",
      "Phantom Lancer 12 0.9100418410041841\n",
      "Juggernaut 8 0.9114963503649635\n",
      "Shadow Fiend 11 0.9186746987951807\n",
      "Terrorblade 109 0.9256594724220624\n",
      "Spectre 67 0.9444444444444444\n",
      "Storm Spirit 17 0.9583789704271632\n"
     ]
    },
    {
     "data": {
      "text/plain": [
       "(0.7264247039389591, 0.7281795511221946)"
      ]
     },
     "execution_count": 7,
     "metadata": {},
     "output_type": "execute_result"
    }
   ],
   "source": [
    "with open(\"../data/heroes.json\", \"r\") as fp:\n",
    "    heroes = json.load(fp)\n",
    "\n",
    "a = list(scores_dict.items())\n",
    "a.sort(key=lambda x: x[1], reverse=False)\n",
    "\n",
    "hid_to_name = {x[\"id\"]:x[\"localized_name\"] for x in heroes}\n",
    "s_sum = []\n",
    "for k, v in a:\n",
    "    s_sum.append(v)\n",
    "    print(hid_to_name[k], k, v)\n",
    "\n",
    "np.mean(s_sum), np.median(s_sum)"
   ]
  },
  {
   "cell_type": "code",
   "execution_count": 23,
   "metadata": {},
   "outputs": [
    {
     "data": {
      "text/plain": [
       "(402510,)"
      ]
     },
     "execution_count": 23,
     "metadata": {},
     "output_type": "execute_result"
    }
   ],
   "source": [
    "ys_flat = np.concatenate([y for y in ys.values()]).ravel()\n",
    "ys_flat.shape\n"
   ]
  },
  {
   "cell_type": "code",
   "execution_count": 24,
   "metadata": {},
   "outputs": [
    {
     "name": "stdout",
     "output_type": "stream",
     "text": [
      "[1 2 3 4 5] [80502 80502 80502 80502 80502]\n"
     ]
    },
    {
     "data": {
      "text/plain": [
       "<AxesSubplot:ylabel='Frequency'>"
      ]
     },
     "execution_count": 24,
     "metadata": {},
     "output_type": "execute_result"
    },
    {
     "data": {
      "image/png": "[encoded data removed]",
      "text/plain": [
       "<Figure size 432x288 with 1 Axes>"
      ]
     },
     "metadata": {
      "needs_background": "light"
     },
     "output_type": "display_data"
    }
   ],
   "source": [
    "unique, counts = np.unique(ys_flat, return_counts=True)\n",
    "print(unique, counts)\n",
    "import pandas as pd\n",
    "\n",
    "df = pd.DataFrame(ys_flat)\n",
    "df.plot.hist(xticks=[1, 2, 3, 4, 5])\n"
   ]
  }
 ],
 "metadata": {
  "interpreter": {
   "hash": "76d279d9dda3f104956abaa709c4930fec7a5837133fea297357827d52b43a61"
  },
  "kernelspec": {
   "display_name": "Python 3.8.5 64-bit ('dota': conda)",
   "language": "python",
   "name": "python3"
  },
  "language_info": {
   "codemirror_mode": {
    "name": "ipython",
    "version": 3
   },
   "file_extension": ".py",
   "mimetype": "text/x-python",
   "name": "python",
   "nbconvert_exporter": "python",
   "pygments_lexer": "ipython3",
   "version": "3.8.8"
  },
  "orig_nbformat": 4
 },
 "nbformat": 4,
 "nbformat_minor": 2
}
