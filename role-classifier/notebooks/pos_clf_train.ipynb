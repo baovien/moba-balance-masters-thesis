{
 "cells": [
  {
   "cell_type": "code",
   "execution_count": 4,
   "metadata": {},
   "outputs": [],
   "source": [
    "import os\n",
    "import json\n",
    "import numpy as np\n",
    "import pickle \n",
    "import tqdm\n",
    "import tarfile\n",
    "from scipy import sparse\n",
    "from collections import defaultdict\n",
    "from pprint import pprint\n",
    "from collections import Counter"
   ]
  },
  {
   "cell_type": "code",
   "execution_count": 5,
   "metadata": {},
   "outputs": [],
   "source": [
    "def load_data(path):\n",
    "    with open(path, 'rb') as fp:\n",
    "        data = pickle.load(fp)\n",
    "\n",
    "    return data[\"xs\"], data[\"ys\"]\n",
    "\n",
    "def load_weights_dict(path):\n",
    "    with open(path, 'rb') as fp:\n",
    "        weights_dict = pickle.load(fp)\n",
    "    return weights_dict\n",
    "\n",
    "def get_dummy_classifier():\n",
    "    return DummyClassifier(strategy=\"constant\", constant=0)"
   ]
  },
  {
   "cell_type": "code",
   "execution_count": 13,
   "metadata": {},
   "outputs": [
    {
     "name": "stderr",
     "output_type": "stream",
     "text": [
      "100%|██████████| 121/121 [00:28<00:00,  4.32it/s]\n"
     ]
    }
   ],
   "source": [
    "from sklearn.linear_model import LogisticRegression\n",
    "from sklearn.model_selection import train_test_split\n",
    "from sklearn.dummy import DummyClassifier\n",
    "\n",
    "# output_path = \"../data/dataset_positions_winners.pkl\" \n",
    "data_path = \"../data/dataset_positions_all_no_teammates.pkl\" \n",
    "out_path = \"../data/logreg_clfs_all_no_teammates.pkl\"\n",
    "weights_path = \"../data/weights_dict.pkl\"\n",
    "xs, ys = load_data(data_path)\n",
    "weights_dict = load_weights_dict(weights_path)\n",
    "\n",
    "assert not os.path.exists(out_path)\n",
    "\n",
    "clfs = {}\n",
    "scores = {}\n",
    "scores_dict = {}\n",
    "n_features = np.vstack(xs[1]).shape[1]\n",
    "for hid in tqdm.tqdm(xs):\n",
    "    try:\n",
    "        x = np.vstack(xs[hid])\n",
    "        y = np.hstack(ys[hid])\n",
    "        \n",
    "        class_weight = {e:v for e, v in enumerate(weights_dict[hid])}\n",
    "        unique = np.unique(np.hstack(ys[hid]))\n",
    "\n",
    "        for class_role in [1, 2, 3, 4, 5]:\n",
    "            if not class_role in unique.tolist():\n",
    "                print('added classrole', class_role, \"for hero\", hid)\n",
    "                xs[hid].append(np.zeros((n_features)))\n",
    "                ys[hid].append(class_role)\n",
    "\n",
    "        x = np.vstack(xs[hid])\n",
    "        y = np.hstack(ys[hid]) - 1\n",
    "\n",
    "        x_train, x_test, y_train, y_test = train_test_split(x, y, test_size=0.2, random_state=42)\n",
    "\n",
    "        clf = LogisticRegression(multi_class=\"ovr\", max_iter=300, n_jobs=-1, solver=\"lbfgs\", class_weight=class_weight)\n",
    "        clf.fit(x_train, y_train)\n",
    "\n",
    "        score = clf.score(x_test, y_test)\n",
    "        clfs[hid] = clf\n",
    "        scores[hid] = score\n",
    "        scores_dict[hid] = score\n",
    "\n",
    "\n",
    "    except:\n",
    "        print(\"crashed on hid: \", hid)\n",
    "        raise\n",
    "\n",
    "with open(out_path, 'wb') as fp:\n",
    "    pickle.dump(clfs, fp)\n"
   ]
  },
  {
   "cell_type": "code",
   "execution_count": 14,
   "metadata": {},
   "outputs": [
    {
     "name": "stdout",
     "output_type": "stream",
     "text": [
      "[[   0    0    0    0    0]\n",
      " [   0    0    0    0    0]\n",
      " [  67  266 4162  482   68]\n",
      " [   0    2    3  112   52]\n",
      " [   0    0    0    0    0]]\n",
      "[0 1 2 3 4] [  67  268 4165  594  120]\n"
     ]
    }
   ],
   "source": [
    "from sklearn.metrics import confusion_matrix\n",
    "hid = 129\n",
    "print(confusion_matrix(clfs[hid].predict(np.vstack(xs[hid])), np.hstack(ys[hid])-1))\n",
    "\n",
    "counts, unique = np.unique(np.hstack(ys[hid])-1, return_counts=True)\n",
    "print(counts, unique)"
   ]
  },
  {
   "cell_type": "markdown",
   "metadata": {},
   "source": [
    "[0 1 2 3 4] [1708  114 1632  365  417]"
   ]
  },
  {
   "cell_type": "code",
   "execution_count": 15,
   "metadata": {},
   "outputs": [
    {
     "name": "stdout",
     "output_type": "stream",
     "text": [
      "              precision    recall  f1-score   support\n",
      "\n",
      "           0       0.00      0.00      0.00         0\n",
      "           1       0.00      0.00      0.00         0\n",
      "           2       1.00      0.82      0.90      5045\n",
      "           3       0.19      0.66      0.29       169\n",
      "           4       0.00      0.00      0.00         0\n",
      "\n",
      "    accuracy                           0.82      5214\n",
      "   macro avg       0.24      0.30      0.24      5214\n",
      "weighted avg       0.97      0.82      0.88      5214\n",
      "\n"
     ]
    },
    {
     "name": "stderr",
     "output_type": "stream",
     "text": [
      "/home/bao/anaconda3/envs/dota/lib/python3.8/site-packages/sklearn/metrics/_classification.py:1248: UndefinedMetricWarning: Recall and F-score are ill-defined and being set to 0.0 in labels with no true samples. Use `zero_division` parameter to control this behavior.\n",
      "  _warn_prf(average, modifier, msg_start, len(result))\n",
      "/home/bao/anaconda3/envs/dota/lib/python3.8/site-packages/sklearn/metrics/_classification.py:1248: UndefinedMetricWarning: Recall and F-score are ill-defined and being set to 0.0 in labels with no true samples. Use `zero_division` parameter to control this behavior.\n",
      "  _warn_prf(average, modifier, msg_start, len(result))\n",
      "/home/bao/anaconda3/envs/dota/lib/python3.8/site-packages/sklearn/metrics/_classification.py:1248: UndefinedMetricWarning: Recall and F-score are ill-defined and being set to 0.0 in labels with no true samples. Use `zero_division` parameter to control this behavior.\n",
      "  _warn_prf(average, modifier, msg_start, len(result))\n"
     ]
    }
   ],
   "source": [
    "from sklearn.metrics import classification_report\n",
    "print(classification_report(clfs[hid].predict(np.vstack(xs[hid])), np.hstack(ys[hid])-1))"
   ]
  },
  {
   "cell_type": "code",
   "execution_count": 16,
   "metadata": {},
   "outputs": [
    {
     "name": "stdout",
     "output_type": "stream",
     "text": [
      "Lone Druid 80 0.4351851851851852\n",
      "Alchemist 73 0.44785276073619634\n",
      "Razor 15 0.4801587301587302\n",
      "Techies 105 0.4897959183673469\n",
      "Bloodseeker 4 0.4984894259818731\n",
      "Keeper of the Light 90 0.5042735042735043\n",
      "Broodmother 61 0.5087719298245614\n",
      "Visage 92 0.5121951219512195\n",
      "Enchantress 58 0.5260869565217391\n",
      "Vengeful Spirit 20 0.5382003395585738\n",
      "Undying 85 0.5516666666666666\n",
      "Dark Willow 119 0.5587846763540291\n",
      "Silencer 75 0.5645438898450946\n",
      "Nature's Prophet 53 0.5655172413793104\n",
      "Treant Protector 83 0.5692007797270955\n",
      "Dragon Knight 49 0.5703125\n",
      "Pugna 45 0.571969696969697\n",
      "Rubick 86 0.574677786201668\n",
      "Snapfire 128 0.5759345794392523\n",
      "Viper 47 0.5871404399323181\n",
      "Clinkz 56 0.592896174863388\n",
      "Grimstroke 121 0.5996860282574569\n",
      "Elder Titan 103 0.6005434782608695\n",
      "Venomancer 40 0.6016096579476862\n",
      "Omniknight 57 0.603448275862069\n",
      "Skywrath Mage 101 0.61\n",
      "Hoodwink 123 0.6112600536193029\n",
      "Riki 32 0.6128133704735376\n",
      "Winter Wyvern 112 0.6154992548435171\n",
      "Shadow Demon 79 0.6211453744493393\n",
      "Pudge 14 0.6222664015904572\n",
      "Ogre Magi 84 0.6251664447403462\n",
      "Monkey King 114 0.6320687186828919\n",
      "Weaver 63 0.6341463414634146\n",
      "Jakiro 64 0.6370292887029289\n",
      "Chaos Knight 81 0.6376021798365122\n",
      "Bounty Hunter 62 0.6391941391941391\n",
      "Enigma 33 0.645320197044335\n",
      "Sniper 35 0.6502590673575129\n",
      "Lion 26 0.6522702104097453\n",
      "Tiny 19 0.6562889165628891\n",
      "Phoenix 110 0.6627218934911243\n",
      "Dawnbreaker 135 0.664327485380117\n",
      "Huskar 59 0.6658595641646489\n",
      "Chen 66 0.6666666666666666\n",
      "Kunkka 23 0.6670716889428918\n",
      "Necrophos 36 0.6747638326585695\n",
      "Brewmaster 78 0.6764705882352942\n",
      "Nyx Assassin 88 0.6785714285714286\n",
      "Windranger 21 0.68\n",
      "Arc Warden 113 0.6809338521400778\n",
      "Morphling 10 0.6828992072480181\n",
      "Ancient Apparition 68 0.6897081413210445\n",
      "Batrider 65 0.6983240223463687\n",
      "Abaddon 102 0.7002967359050445\n",
      "Shadow Shaman 27 0.7004608294930875\n",
      "Death Prophet 43 0.7005347593582888\n",
      "Dazzle 50 0.7010428736964078\n",
      "Leshrac 52 0.7011070110701108\n",
      "Wraith King 42 0.7133620689655172\n",
      "Clockwerk 51 0.7138810198300283\n",
      "Io 91 0.7152899824253075\n",
      "Zeus 22 0.7220447284345048\n",
      "Gyrocopter 72 0.7231920199501247\n",
      "Medusa 94 0.7237851662404092\n",
      "Legion Commander 104 0.7265437048917401\n",
      "Mirana 9 0.7291440953412784\n",
      "Tusk 100 0.7303030303030303\n",
      "Lich 31 0.7315436241610739\n",
      "Pangolier 120 0.7326315789473684\n",
      "Magnus 97 0.732744340143567\n",
      "Dark Seer 55 0.748792270531401\n",
      "Disruptor 87 0.751937984496124\n",
      "Witch Doctor 30 0.755011135857461\n",
      "Outworld Destroyer 76 0.7609254498714653\n",
      "Slardar 28 0.7652173913043478\n",
      "Drow Ranger 6 0.7684210526315789\n",
      "Spirit Breaker 71 0.76875\n",
      "Bane 3 0.7712486883525709\n",
      "Queen of Pain 39 0.7721179624664879\n",
      "Warlock 37 0.7727272727272727\n",
      "Naga Siren 89 0.776824034334764\n",
      "Lycan 77 0.7809187279151943\n",
      "Bristleback 99 0.781294964028777\n",
      "Lina 25 0.7846034214618973\n",
      "Earthshaker 7 0.789032749428789\n",
      "Crystal Maiden 5 0.7916152897657214\n",
      "Timbersaw 98 0.7932011331444759\n",
      "Sand King 16 0.8006134969325154\n",
      "Earth Spirit 107 0.8054794520547945\n",
      "Doom 69 0.8057142857142857\n",
      "Mars 129 0.8149568552253116\n",
      "Tidehunter 29 0.8155440414507772\n",
      "Axe 2 0.8197674418604651\n",
      "Oracle 111 0.8239202657807309\n",
      "Invoker 74 0.8252290345313601\n",
      "Night Stalker 60 0.8321917808219178\n",
      "Underlord 108 0.8327272727272728\n",
      "Puck 13 0.8329853862212944\n",
      "Troll Warlord 95 0.835820895522388\n",
      "Tinker 34 0.843322818086225\n",
      "Lifestealer 54 0.8465473145780051\n",
      "Sven 18 0.8489208633093526\n",
      "Centaur Warrunner 96 0.8495575221238938\n",
      "Ursa 70 0.8535714285714285\n",
      "Faceless Void 41 0.8663911845730028\n",
      "Phantom Assassin 44 0.8671519563239308\n",
      "Luna 48 0.8710900473933649\n",
      "Meepo 82 0.8712871287128713\n",
      "Templar Assassin 46 0.8721973094170403\n",
      "Ember Spirit 106 0.8783783783783784\n",
      "Beastmaster 38 0.8830409356725146\n",
      "Void Spirit 126 0.8835616438356164\n",
      "Anti-Mage 1 0.9036939313984169\n",
      "Slark 93 0.9040404040404041\n",
      "Phantom Lancer 12 0.9100418410041841\n",
      "Juggernaut 8 0.9105839416058394\n",
      "Shadow Fiend 11 0.9186746987951807\n",
      "Terrorblade 109 0.9256594724220624\n",
      "Spectre 67 0.9444444444444444\n",
      "Storm Spirit 17 0.9583789704271632\n"
     ]
    },
    {
     "data": {
      "text/plain": [
       "(0.7132696166597875, 0.7138810198300283)"
      ]
     },
     "execution_count": 16,
     "metadata": {},
     "output_type": "execute_result"
    }
   ],
   "source": [
    "with open(\"../data/heroes.json\", \"r\") as fp:\n",
    "    heroes = json.load(fp)\n",
    "\n",
    "a = list(scores_dict.items())\n",
    "a.sort(key=lambda x: x[1], reverse=False)\n",
    "\n",
    "hid_to_name = {x[\"id\"]:x[\"localized_name\"] for x in heroes}\n",
    "s_sum = []\n",
    "for k, v in a:\n",
    "    s_sum.append(v)\n",
    "    print(hid_to_name[k], k, v)\n",
    "\n",
    "np.mean(s_sum), np.median(s_sum)"
   ]
  },
  {
   "cell_type": "code",
   "execution_count": 10,
   "metadata": {},
   "outputs": [
    {
     "data": {
      "text/plain": [
       "(402510,)"
      ]
     },
     "execution_count": 10,
     "metadata": {},
     "output_type": "execute_result"
    }
   ],
   "source": [
    "ys_flat = np.concatenate([y for y in ys.values()]).ravel()\n",
    "ys_flat.shape\n"
   ]
  },
  {
   "cell_type": "code",
   "execution_count": 11,
   "metadata": {},
   "outputs": [
    {
     "name": "stdout",
     "output_type": "stream",
     "text": [
      "[1 2 3 4 5] [80502 80502 80502 80502 80502]\n"
     ]
    },
    {
     "data": {
      "text/plain": [
       "<AxesSubplot:ylabel='Frequency'>"
      ]
     },
     "execution_count": 11,
     "metadata": {},
     "output_type": "execute_result"
    },
    {
     "data": {
      "image/png": "[encoded data removed]",
      "text/plain": [
       "<Figure size 432x288 with 1 Axes>"
      ]
     },
     "metadata": {
      "needs_background": "light"
     },
     "output_type": "display_data"
    }
   ],
   "source": [
    "unique, counts = np.unique(ys_flat, return_counts=True)\n",
    "print(unique, counts)\n",
    "import pandas as pd\n",
    "\n",
    "df = pd.DataFrame(ys_flat)\n",
    "df.plot.hist(xticks=[1, 2, 3, 4, 5])\n"
   ]
  }
 ],
 "metadata": {
  "interpreter": {
   "hash": "76d279d9dda3f104956abaa709c4930fec7a5837133fea297357827d52b43a61"
  },
  "kernelspec": {
   "display_name": "Python 3.8.5 64-bit ('dota': conda)",
   "language": "python",
   "name": "python3"
  },
  "language_info": {
   "codemirror_mode": {
    "name": "ipython",
    "version": 3
   },
   "file_extension": ".py",
   "mimetype": "text/x-python",
   "name": "python",
   "nbconvert_exporter": "python",
   "pygments_lexer": "ipython3",
   "version": "3.8.8"
  },
  "orig_nbformat": 4
 },
 "nbformat": 4,
 "nbformat_minor": 2
}
