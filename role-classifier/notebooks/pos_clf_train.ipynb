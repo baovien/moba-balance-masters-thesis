{
 "cells": [
  {
   "cell_type": "code",
   "execution_count": 1,
   "metadata": {},
   "outputs": [],
   "source": [
    "import os\n",
    "import json\n",
    "import numpy as np\n",
    "import pickle \n",
    "import tqdm\n",
    "import tarfile\n",
    "from scipy import sparse\n",
    "from collections import defaultdict\n",
    "from pprint import pprint\n",
    "from collections import Counter"
   ]
  },
  {
   "cell_type": "code",
   "execution_count": 26,
   "metadata": {},
   "outputs": [],
   "source": [
    "output_path = \"../data/dataset_positions_test.pkl\" \n",
    "\n",
    "with open(output_path, 'rb') as fp:\n",
    "    data = pickle.load(fp)\n",
    "\n",
    "xs = data[\"xs\"]\n",
    "ys = data[\"ys\"]"
   ]
  },
  {
   "cell_type": "code",
   "execution_count": 27,
   "metadata": {},
   "outputs": [
    {
     "name": "stdout",
     "output_type": "stream",
     "text": [
      "27 27\n",
      "28 28\n",
      "31 31\n",
      "27 27\n",
      "28 28\n"
     ]
    }
   ],
   "source": [
    "with open(\"../../data/heroes.json\", \"r\") as fp:\n",
    "  heroes = json.load(fp)\n",
    "\n",
    "safelane = [\"Anti-Mage\", \"Arc Warden\", \"Bloodseeker\", \"Chaos Knight\", \"Clinkz\", \"Drow Ranger\", \"Faceless Void\", \n",
    "\"Gyrocopter\", \"Juggernaut\", \"Lifestealer\", \"Luna\", \"Medusa\", \"Monkey King\", \"Morphling\", \"Naga Siren\", \"Phantom Assassin\", \n",
    "\"Phantom Lancer\", \"Riki\", \"Slark\", \"Spectre\", \"Sven\", \"Terrorblade\", \"Tiny\", \"Troll Warlord\", \"Ursa\", \"Weaver\", \"Wraith King\"]\n",
    "safelane_name_to_id = [x[\"id\"] for x in heroes if x[\"localized_name\"] in safelane]\n",
    "print(len(safelane), len(safelane_name_to_id))\n",
    "\n",
    "midlane = [\"Alchemist\", \"Arc Warden\", \"Batrider\", \"Broodmother\", \"Death Prophet\", \"Ember Spirit\", \n",
    "\"Huskar\", \"Invoker\", \"Kunkka\", \"Leshrac\", \"Lina\", \"Lone Druid\", \"Meepo\", \"Necrophos\", \"Outworld Destroyer\", \n",
    "\"Puck\", \"Pugna\", \"Queen of Pain\", \"Razor\", \"Shadow Fiend\", \"Sniper\", \"Storm Spirit\", \n",
    "\"Templar Assassin\", \"Tinker\", \"Viper\", \"Visage\", \"Void Spirit\", \"Zeus\"]\n",
    "midlane_name_to_id = [x[\"id\"] for x in heroes if x[\"localized_name\"] in midlane]\n",
    "print(len(midlane), len(midlane_name_to_id))\n",
    "\n",
    "offlane = [\"Axe\", \"Beastmaster\", \"Bloodseeker\", \"Brewmaster\", \"Bristleback\", \n",
    "\"Centaur Warrunner\", \"Chaos Knight\", \"Dark Seer\", \"Dawnbreaker\", \"Death Prophet\", \"Doom\", \n",
    "\"Dragon Knight\", \"Earthshaker\", \"Elder Titan\", \"Enigma\", \"Legion Commander\", \"Lycan\", \n",
    "\"Mars\", \"Nature's Prophet\", \"Necrophos\", \"Night Stalker\", \"Pangolier\", \n",
    "\"Razor\", \"Sand King\", \"Slardar\", \"Spirit Breaker\", \"Tidehunter\", \"Timbersaw\", \"Underlord\", \"Venomancer\", \"Viper\"]\n",
    "\n",
    "offlane_name_to_id = [x[\"id\"] for x in heroes if x[\"localized_name\"] in offlane]\n",
    "print(len(offlane),len(offlane_name_to_id))\n",
    "\n",
    "soft_support = [\"Bounty Hunter\", \"Chen\", \"Clockwerk\", \"Dark Willow\", \"Earth Spirit\", \"Earthshaker\", \"Enigma\", \n",
    "\"Grimstroke\", \"Hoodwink\", \"Keeper of the Light\", \"Mirana\", \"Nyx Assassin\", \"Phoenix\", \"Pudge\", \"Rubick\", \n",
    "\"Shadow Demon\", \"Shadow Shaman\", \"Silencer\", \"Skywrath Mage\", \"Snapfire\", \"Spirit Breaker\", \"Techies\", \n",
    "\"Treant Protector\", \"Tusk\", \"Venomancer\", \"Weaver\", \"Windranger\"]\n",
    "\n",
    "soft_support_name_to_id = [x[\"id\"] for x in heroes if x[\"localized_name\"] in soft_support]\n",
    "print(len(soft_support), len(soft_support_name_to_id))\n",
    "\n",
    "hard_support = [\"Abaddon\", \"Ancient Apparition\", \"Bane\", \"Chen\", \"Crystal Maiden\", \"Dark Willow\", \"Dazzle\", \"Disruptor\", \n",
    "\"Enchantress\", \"Grimstroke\", \"Io\", \"Jakiro\", \"Keeper of the Light\", \"Lich\", \"Lion\", \"Ogre Magi\", \"Omniknight\", \"Oracle\", \"Shadow Demon\", \n",
    "\"Shadow Shaman\", \"Silencer\", \"Snapfire\", \"Treant Protector\", \"Vengeful Spirit\", \"Undying\", \"Warlock\", \"Winter Wyvern\", \"Witch Doctor\"]\n",
    "hard_support_name_to_id = [x[\"id\"] for x in heroes if x[\"localized_name\"] in hard_support]\n",
    "print(len(hard_support), len(hard_support_name_to_id))\n"
   ]
  },
  {
   "cell_type": "code",
   "execution_count": 28,
   "metadata": {},
   "outputs": [],
   "source": [
    "weights_dict = defaultdict(lambda: np.zeros(5))\n",
    "\n",
    "for h in heroes:\n",
    "    weights_dict[h[\"id\"]] = np.array([.1, .1, .1, .1, .1])\n",
    "\n",
    "lane_assist = [safelane_name_to_id, midlane_name_to_id, offlane_name_to_id, soft_support_name_to_id, hard_support_name_to_id]\n",
    "\n",
    "for k, lane in enumerate(lane_assist):\n",
    "    for hid in lane:\n",
    "        weights_dict[hid][k] = 1.\n"
   ]
  },
  {
   "cell_type": "code",
   "execution_count": 29,
   "metadata": {},
   "outputs": [
    {
     "data": {
      "text/plain": [
       "{0: 1.0, 1: 0.1, 2: 1.0, 3: 0.1, 4: 0.1}"
      ]
     },
     "execution_count": 29,
     "metadata": {},
     "output_type": "execute_result"
    }
   ],
   "source": [
    "{e:v for e, v in enumerate(weights_dict[4])}\n"
   ]
  },
  {
   "cell_type": "code",
   "execution_count": 30,
   "metadata": {},
   "outputs": [
    {
     "name": "stderr",
     "output_type": "stream",
     "text": [
      "100%|██████████| 121/121 [01:41<00:00,  1.19it/s]\n"
     ]
    }
   ],
   "source": [
    "from sklearn.ensemble import RandomForestClassifier\n",
    "from sklearn.linear_model import LogisticRegression\n",
    "from sklearn.model_selection import train_test_split\n",
    "\n",
    "clfs = []\n",
    "scores = []\n",
    "scores_dict = {}\n",
    "\n",
    "for hid in tqdm.tqdm(xs):\n",
    "    x = np.vstack(xs[hid])\n",
    "    y = np.hstack(ys[hid]) - 1\n",
    "    \n",
    "    class_weight = {e:v for e, v in enumerate(weights_dict[hid])}\n",
    "    clf = LogisticRegression(multi_class=\"ovr\", max_iter=300, n_jobs=-1, solver=\"lbfgs\", class_weight=class_weight)\n",
    "    clf.fit(x, y)\n",
    "\n",
    "    score = clf.score(x,y)\n",
    "    clfs.append(clf)\n",
    "    scores.append(score)\n",
    "    scores_dict[hid] = score\n"
   ]
  },
  {
   "cell_type": "code",
   "execution_count": 31,
   "metadata": {},
   "outputs": [
    {
     "name": "stdout",
     "output_type": "stream",
     "text": [
      "[0 1 2 3 4] [910  56 881 150 156]\n"
     ]
    }
   ],
   "source": [
    "from sklearn.metrics import confusion_matrix\n",
    "hid = 96\n",
    "confusion_matrix(clfs[hid].predict(np.vstack(xs[hid])), np.hstack(ys[hid])-1)\n",
    "\n",
    "counts, unique = np.unique(np.hstack(ys[hid])-1, return_counts=True)\n",
    "print(counts, unique)"
   ]
  },
  {
   "cell_type": "markdown",
   "metadata": {},
   "source": [
    "[0 1 2 3 4] [1708  114 1632  365  417]"
   ]
  },
  {
   "cell_type": "code",
   "execution_count": 32,
   "metadata": {},
   "outputs": [
    {
     "name": "stdout",
     "output_type": "stream",
     "text": [
      "Nature's Prophet 53 0.34572490706319703\n",
      "Clinkz 56 0.35523012552301253\n",
      "Dragon Knight 49 0.3641740599915505\n",
      "Techies 105 0.36475998850244323\n",
      "Medusa 94 0.373432518597237\n",
      "Drow Ranger 6 0.3809309646953002\n",
      "Timbersaw 98 0.3885025498377376\n",
      "Axe 2 0.39919545669663986\n",
      "Lycan 77 0.4010095344924285\n",
      "Sand King 16 0.4018172640080767\n",
      "Troll Warlord 95 0.4028002154011847\n",
      "Riki 32 0.40296610169491526\n",
      "Dark Seer 55 0.4051724137931034\n",
      "Legion Commander 104 0.40845643041062474\n",
      "Tiny 19 0.408699351270871\n",
      "Monkey King 114 0.40924966879441166\n",
      "Morphling 10 0.4097459233978005\n",
      "Pangolier 120 0.4118873826903024\n",
      "Enigma 33 0.4121889650198341\n",
      "Underlord 108 0.4126436781609195\n",
      "Lone Druid 80 0.4126778783958603\n",
      "Centaur Warrunner 96 0.4143056200650255\n",
      "Bounty Hunter 62 0.4150506512301013\n",
      "Naga Siren 89 0.4155759162303665\n",
      "Doom 69 0.41827991113932084\n",
      "Night Stalker 60 0.42704626334519574\n",
      "Tidehunter 29 0.4274079320113314\n",
      "Bristleback 99 0.42811791383219955\n",
      "Mars 129 0.42821700297717497\n",
      "Bloodseeker 4 0.4286979627989371\n",
      "Gyrocopter 72 0.4297872340425532\n",
      "Brewmaster 78 0.4301572617946346\n",
      "Wraith King 42 0.43581371369651145\n",
      "Weaver 63 0.43830171635049686\n",
      "Dawnbreaker 135 0.44049980166600555\n",
      "Venomancer 40 0.441045441045441\n",
      "Nyx Assassin 88 0.4433085501858736\n",
      "Ursa 70 0.44506148353827846\n",
      "Slardar 28 0.44588896697118763\n",
      "Beastmaster 38 0.4473438956197577\n",
      "Faceless Void 41 0.44778039888483806\n",
      "Enchantress 58 0.4485006518904824\n",
      "Mirana 9 0.44999111742760706\n",
      "Spirit Breaker 71 0.45003560408260146\n",
      "Lifestealer 54 0.4502739148756848\n",
      "Pudge 14 0.4539116963594113\n",
      "Earthshaker 7 0.4544539506794162\n",
      "Phantom Assassin 44 0.4549075391180654\n",
      "Anti-Mage 1 0.4551739036508965\n",
      "Phantom Lancer 12 0.45521637034552165\n",
      "Hoodwink 123 0.4564935064935065\n",
      "Luna 48 0.456984126984127\n",
      "Ogre Magi 84 0.45722524831784683\n",
      "Slark 93 0.4576552640318831\n",
      "Sven 18 0.4595561918396564\n",
      "Rubick 86 0.4611778846153846\n",
      "Undying 85 0.46129374337221635\n",
      "Warlock 37 0.46181262729124234\n",
      "Spectre 67 0.4620834004186121\n",
      "Dazzle 50 0.46309231640551257\n",
      "Juggernaut 8 0.4640551643192488\n",
      "Lich 31 0.46752889378095763\n",
      "Alchemist 73 0.46814159292035395\n",
      "Clockwerk 51 0.4733624454148472\n",
      "Phoenix 110 0.4740046838407494\n",
      "Jakiro 64 0.4741742796907941\n",
      "Vengeful Spirit 20 0.47573587907716786\n",
      "Crystal Maiden 5 0.47595661960302843\n",
      "Abaddon 102 0.4762124711316397\n",
      "Tusk 100 0.47674418604651164\n",
      "Omniknight 57 0.47911338448422847\n",
      "Terrorblade 109 0.48029652750682794\n",
      "Earth Spirit 107 0.48035714285714287\n",
      "Witch Doctor 30 0.48158482142857145\n",
      "Ancient Apparition 68 0.4835138387484958\n",
      "Disruptor 87 0.4858543945680875\n",
      "Oracle 111 0.486586007364545\n",
      "Bane 3 0.4874744850621637\n",
      "Winter Wyvern 112 0.48752778463818225\n",
      "Lion 26 0.4916806879790615\n",
      "Io 91 0.4950234192037471\n",
      "Skywrath Mage 101 0.504570747217806\n",
      "Magnus 97 0.5056413033667299\n",
      "Snapfire 128 0.5158264947245017\n",
      "Razor 15 0.5211019929660023\n",
      "Windranger 21 0.521308098364877\n",
      "Chaos Knight 81 0.5223367697594502\n",
      "Shadow Shaman 27 0.5227315959672817\n",
      "Broodmother 61 0.5233050847457628\n",
      "Dark Willow 119 0.5238915195867413\n",
      "Silencer 75 0.525347563544446\n",
      "Elder Titan 103 0.5349557522123893\n",
      "Keeper of the Light 90 0.5392156862745098\n",
      "Grimstroke 121 0.5406535947712419\n",
      "Treant Protector 83 0.5412487868003882\n",
      "Necrophos 36 0.5513477389173536\n",
      "Viper 47 0.5572615152277876\n",
      "Visage 92 0.58125\n",
      "Shadow Demon 79 0.582537517053206\n",
      "Huskar 59 0.5861938890984534\n",
      "Pugna 45 0.5970873786407767\n",
      "Sniper 35 0.6047789419882443\n",
      "Kunkka 23 0.6251762336354482\n",
      "Chen 66 0.6369426751592356\n",
      "Death Prophet 43 0.6471054718477399\n",
      "Batrider 65 0.6515151515151515\n",
      "Zeus 22 0.692748967416246\n",
      "Arc Warden 113 0.7010247136829415\n",
      "Leshrac 52 0.7013135351227869\n",
      "Meepo 82 0.7063711911357341\n",
      "Lina 25 0.7235472394254843\n",
      "Queen of Pain 39 0.758893280632411\n",
      "Outworld Destroyer 76 0.7733664185277088\n",
      "Invoker 74 0.781455452278395\n",
      "Puck 13 0.8198822306892969\n",
      "Tinker 34 0.8292509762158324\n",
      "Templar Assassin 46 0.8377679231337768\n",
      "Void Spirit 126 0.8424648867518664\n",
      "Ember Spirit 106 0.8522761083011009\n",
      "Shadow Fiend 11 0.8821211623707109\n",
      "Storm Spirit 17 0.9258853596202994\n"
     ]
    }
   ],
   "source": [
    "a = list(scores_dict.items())\n",
    "a.sort(key=lambda x: x[1], reverse=False)\n",
    "\n",
    "hid_to_name = {x[\"id\"]:x[\"localized_name\"] for x in heroes}\n",
    "\n",
    "for k, v in a:\n",
    "    print(hid_to_name[k], k, v)\n",
    "\n"
   ]
  },
  {
   "cell_type": "code",
   "execution_count": null,
   "metadata": {},
   "outputs": [],
   "source": [
    "# save model"
   ]
  },
  {
   "cell_type": "code",
   "execution_count": null,
   "metadata": {},
   "outputs": [],
   "source": []
  },
  {
   "cell_type": "code",
   "execution_count": 26,
   "metadata": {},
   "outputs": [
    {
     "name": "stdout",
     "output_type": "stream",
     "text": [
      "0.5073834651239812\n"
     ]
    },
    {
     "data": {
      "text/plain": [
       "array([ 0.67401485,  0.64140675,  0.5257871 , -0.0839084 , -1.75650057])"
      ]
     },
     "execution_count": 26,
     "metadata": {},
     "output_type": "execute_result"
    }
   ],
   "source": [
    "print(np.array(scores).mean())\n",
    "\n",
    "clfs[1].coef_[0, 136:136+5]\n",
    "\n",
    "# clfs[31].feature_importances_[136:136+5]"
   ]
  },
  {
   "cell_type": "code",
   "execution_count": null,
   "metadata": {},
   "outputs": [],
   "source": [
    "print(np.array(scores).mean())\n",
    "\n",
    "clfs[31].coef_[4, 136:136+5]\n",
    "\n",
    "# clfs[31].feature_importances_[136:136+5]"
   ]
  },
  {
   "cell_type": "code",
   "execution_count": null,
   "metadata": {},
   "outputs": [],
   "source": [
    "unique, counts = np.unique(y, return_counts=True)\n",
    "print(unique, counts)\n",
    "import pandas as pd\n",
    "\n",
    "df = pd.DataFrame(y)\n",
    "df.plot.hist(xticks=[1, 2, 3, 4, 5])\n"
   ]
  },
  {
   "cell_type": "code",
   "execution_count": null,
   "metadata": {},
   "outputs": [],
   "source": [
    "from sklearn.ensemble import RandomForestClassifier, VotingClassifier\n",
    "from sklearn.model_selection import cross_val_score,cross_val_predict, train_test_split\n",
    "from sklearn.metrics import confusion_matrix\n",
    "\n",
    "x_train, x_test, y_train, y_test = train_test_split(x, y, test_size=0.2, random_state=42)\n",
    "clf = RandomForestClassifier(max_depth=2, random_state=0)\n",
    "clf.fit(x_train, y_train)\n",
    "\n",
    "y_pred = clf.predict(x_test)\n",
    "\n",
    "print(np.mean(y_pred == y_test))\n",
    "\n",
    "print(confusion_matrix(y_test, y_pred))"
   ]
  },
  {
   "cell_type": "code",
   "execution_count": null,
   "metadata": {},
   "outputs": [],
   "source": [
    "from sklearn.linear_model import LogisticRegression\n",
    "x_train, x_test, y_train, y_test = train_test_split(x, y, test_size=0.2, random_state=42)\n",
    "clf = LogisticRegression(random_state=0)\n",
    "clf.fit(x_train, y_train)\n",
    "\n",
    "y_pred = clf.predict(x_test)\n",
    "\n",
    "print(np.mean(y_pred == y_test))\n",
    "\n",
    "print(confusion_matrix(y_test, y_pred))"
   ]
  },
  {
   "cell_type": "code",
   "execution_count": null,
   "metadata": {},
   "outputs": [],
   "source": [
    "from sklearn.linear_model import LogisticRegression\n",
    "from sklearn.naive_bayes import GaussianNB\n",
    "from sklearn.ensemble import RandomForestClassifier, VotingClassifier\n",
    "from sklearn.metrics import confusion_matrix\n",
    "from sklearn.model_selection import cross_val_score,cross_val_predict, train_test_split\n",
    "\n",
    "\n",
    "# for hero, train a logistic regression model and add to VotingClassifier\n",
    "estimators = []\n",
    "\n",
    "\n",
    "clf = LogisticRegression(multi_class='multinomial', random_state=1)\n",
    "\n",
    "eclf1 = VotingClassifier(estimators=estimators, voting='hard')\n",
    "eclf1 = eclf1.fit(x_train, y_train)"
   ]
  }
 ],
 "metadata": {
  "interpreter": {
   "hash": "76d279d9dda3f104956abaa709c4930fec7a5837133fea297357827d52b43a61"
  },
  "kernelspec": {
   "display_name": "Python 3.8.5 64-bit ('dota': conda)",
   "language": "python",
   "name": "python3"
  },
  "language_info": {
   "codemirror_mode": {
    "name": "ipython",
    "version": 3
   },
   "file_extension": ".py",
   "mimetype": "text/x-python",
   "name": "python",
   "nbconvert_exporter": "python",
   "pygments_lexer": "ipython3",
   "version": "3.8.12"
  },
  "orig_nbformat": 4
 },
 "nbformat": 4,
 "nbformat_minor": 2
}
