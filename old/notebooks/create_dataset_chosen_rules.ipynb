{
 "cells": [
  {
   "cell_type": "code",
   "execution_count": 1,
   "id": "adopted-compatibility",
   "metadata": {},
   "outputs": [],
   "source": [
    "import json\n",
    "import os\n",
    "import random\n",
    "import copy\n",
    "import joblib\n",
    "from zipfile import ZipFile, ZipInfo\n",
    "\n",
    "import scipy as sp\n",
    "import scipy.sparse\n",
    "import numpy as np\n",
    "import pandas as pd\n",
    "import tqdm"
   ]
  },
  {
   "cell_type": "code",
   "execution_count": 2,
   "id": "reliable-resolution",
   "metadata": {},
   "outputs": [
    {
     "name": "stdout",
     "output_type": "stream",
     "text": [
      "#feature_set: 14161\n"
     ]
    }
   ],
   "source": [
    "def is_match_valid(match):\n",
    "    # check if hero ids is within range\n",
    "    max_hero_id = 129 + 1 # hero id range 1-129\n",
    "    try:\n",
    "        players = match[\"players\"]\n",
    "        hero_ids = [True if 0 < x[\"hero_id\"] and x[\"hero_id\"] < max_hero_id else False for x in players]\n",
    "        if not all(hero_ids):\n",
    "            return False\n",
    "\n",
    "        # check matchtype is not all pick, random draft and ranked matchmaking\n",
    "        valid_game_modes = {1, 3, 22}\n",
    "        if not match[\"game_mode\"] in valid_game_modes:\n",
    "            return False\n",
    "\n",
    "        # check match duration less than 10 minutes\n",
    "        if match[\"duration\"] <= 600: \n",
    "            return False\n",
    "\n",
    "        # check if match is not 10 players\n",
    "        if not len(match[\"players\"]) == 10:\n",
    "            return False\n",
    "\n",
    "        # check for leavers\n",
    "        no_dc = [True if x[\"leaver_status\"] in [0, 1] else False for x in players]\n",
    "        if not all(no_dc):\n",
    "            return False\n",
    "    except:\n",
    "        print(\"Exception: \", match)\n",
    "        return False\n",
    "    \n",
    "    return True\n",
    "\n",
    "def rid_to_hid(rid):\n",
    "    d_heroes_path = \"../data/hid_to_rid_dict.json\"\n",
    "    with open(d_heroes_path, 'r') as fp:\n",
    "        d_heroes = json.load(fp)\n",
    "        d_heroes = {int(v): int(k) for k, v in d_heroes.items()}    \n",
    "    \n",
    "    return d_heroes[rid]\n",
    "\n",
    "def create_feature_index():\n",
    "    heroes_path = \"../data/hid_to_rid_dict.json\"\n",
    "\n",
    "    with open(heroes_path, 'r') as fp:\n",
    "        heroes = json.load(fp)\n",
    "        heroes = {int(k): int(v) for k, v in heroes.items()} \n",
    "        \n",
    "    feature_set = set()\n",
    "    for hero_id in heroes.keys():\n",
    "        feature_set.add((\"hero\", hero_id))\n",
    "\n",
    "        for hero_opp in heroes.keys():\n",
    "            if hero_id == hero_opp:\n",
    "                continue\n",
    "\n",
    "            key = [hero_id, hero_opp]\n",
    "            key.sort()\n",
    "            feature_set.add((\"pair_opp\", tuple(key)))\n",
    "\n",
    "        for hero_same in heroes.keys():\n",
    "            if hero_id == hero_same:\n",
    "                continue\n",
    "\n",
    "            key = [hero_id, hero_same]\n",
    "            key.sort()\n",
    "\n",
    "            feature_set.add((\"pair_same\", tuple(key)))\n",
    "\n",
    "    print(\"#feature_set:\", len(feature_set))\n",
    "    features_to_index = {}\n",
    "    index_to_features = {}\n",
    "    for k, v in enumerate(feature_set):\n",
    "        features_to_index[v] = k\n",
    "        index_to_features[k] = v\n",
    "    \n",
    "    return features_to_index, index_to_features\n",
    "\n",
    "# new rules \n",
    "features_to_index, index_to_features = create_feature_index()\n",
    "rfe = joblib.load(\"../models/rfe_logreg_7080.joblib\")\n",
    "\n",
    "chosen_feats = np.where(rfe.ranking_ == 1)[0]\n",
    "rules = [index_to_features[x] for x in chosen_feats]\n",
    "\n",
    "new_index_to_features = {}\n",
    "new_i = 0\n",
    "\n",
    "for k,v in index_to_features.items():\n",
    "    if rfe.support_[k]:\n",
    "        new_index_to_features[new_i] = v\n",
    "        new_i += 1\n",
    "new_features_to_index = {v:k for (k,v) in new_index_to_features.items()}\n"
   ]
  },
  {
   "cell_type": "code",
   "execution_count": 3,
   "id": "apparent-writing",
   "metadata": {},
   "outputs": [],
   "source": [
    "# save new feature dicts\n",
    "# import pickle\n",
    "# rule_dicts = {\n",
    "#     \"index_to_features\": new_index_to_features,\n",
    "#     \"features_to_index\": new_features_to_index\n",
    "# }\n",
    "\n",
    "# with open(\"../data/etc/rules_7080.pkl\", \"wb\") as fp:\n",
    "#     pickle.dump(rule_dicts, fp)"
   ]
  },
  {
   "cell_type": "code",
   "execution_count": 4,
   "id": "adolescent-invite",
   "metadata": {},
   "outputs": [],
   "source": [
    "def rules_to_training_example(rules, t0, t1):\n",
    "#     t0 = set(sorted(draft[::2], key=lambda x: x))\n",
    "#     t1 = set(sorted(draft[1::2], key=lambda x: x))\n",
    "    t0 = set(sorted(t0))\n",
    "    t1 = set(sorted(t1))\n",
    "    \n",
    "    t0_opp_pairs = np.array(np.meshgrid(t0, t1)).T.reshape(-1, 2)\n",
    "    t1_opp_pairs = np.array(np.meshgrid(t1, t0)).T.reshape(-1, 2)\n",
    "    \n",
    "    training_example = np.zeros(len(rules))\n",
    "\n",
    "    for rule, rule_i in rules.items():\n",
    "        r_type = rule[0]\n",
    "        r_heroes = rule[1]\n",
    "        if type(r_heroes) is tuple:\n",
    "            r_heroes = set(r_heroes)\n",
    "\n",
    "        if r_type == \"pair_same\":\n",
    "            if r_heroes.issubset(t0):\n",
    "                training_example[rule_i] = 1.\n",
    "            if r_heroes.issubset(t1):\n",
    "                training_example[rule_i] = -1.\n",
    "\n",
    "        elif r_type == \"pair_opp\":\n",
    "            if r_heroes in t0_opp_pairs:\n",
    "                print(\"yep\")\n",
    "                training_example[rule_i] = 1.\n",
    "            if r_heroes in t1_opp_pairs:\n",
    "                print(\"yep\")\n",
    "                training_example[rule_i] = -1.\n",
    "\n",
    "        elif r_type == \"hero\":\n",
    "            if r_heroes in t0:\n",
    "                training_example[rule_i] = 1.\n",
    "            if r_heroes in t1:\n",
    "                training_example[rule_i] = -1.\n",
    "        else:\n",
    "            raise Exception(f\"No rule with type {r_type}\")\n",
    "\n",
    "    return training_example\n",
    "\n",
    "\n",
    "def create_training_ex_with_rules(match):\n",
    "    winner = int(match[\"radiant_win\"])\n",
    "    t0 = match[\"radiant\"]\n",
    "    t1 = match[\"dire\"]\n",
    "    \n",
    "    # random flip teams and match winner\n",
    "    if random.random() > 0.5:\n",
    "        t0, t1 = t1, t0\n",
    "        winner = (winner + 1) % 2\n",
    "    \n",
    "    n_features = len(rules)\n",
    "    example =  rules_to_training_example(new_features_to_index, t0, t1)\n",
    "                \n",
    "    return sp.sparse.csr_matrix(example, dtype=np.int8), winner\n",
    "\n"
   ]
  },
  {
   "cell_type": "code",
   "execution_count": 5,
   "id": "banner-prerequisite",
   "metadata": {},
   "outputs": [
    {
     "data": {
      "text/plain": [
       "7080"
      ]
     },
     "execution_count": 5,
     "metadata": {},
     "output_type": "execute_result"
    }
   ],
   "source": [
    "len(new_features_to_index)"
   ]
  },
  {
   "cell_type": "code",
   "execution_count": 6,
   "id": "equal-charlotte",
   "metadata": {},
   "outputs": [
    {
     "name": "stderr",
     "output_type": "stream",
     "text": [
      "  3%|▎         | 71547/2162047 [48:45<23:44:52, 24.45it/s]\n"
     ]
    },
    {
     "ename": "KeyboardInterrupt",
     "evalue": "",
     "output_type": "error",
     "traceback": [
      "\u001b[0;31m---------------------------------------------------------------------------\u001b[0m",
      "\u001b[0;31mKeyboardInterrupt\u001b[0m                         Traceback (most recent call last)",
      "\u001b[0;32m<ipython-input-6-fa796d81ecb7>\u001b[0m in \u001b[0;36m<module>\u001b[0;34m\u001b[0m\n\u001b[1;32m     15\u001b[0m \u001b[0;32mfor\u001b[0m \u001b[0mmatch\u001b[0m \u001b[0;32min\u001b[0m \u001b[0mtqdm\u001b[0m\u001b[0;34m.\u001b[0m\u001b[0mtqdm\u001b[0m\u001b[0;34m(\u001b[0m\u001b[0md_games\u001b[0m\u001b[0;34m)\u001b[0m\u001b[0;34m:\u001b[0m\u001b[0;34m\u001b[0m\u001b[0;34m\u001b[0m\u001b[0m\n\u001b[1;32m     16\u001b[0m     \u001b[0;31m# stack X\u001b[0m\u001b[0;34m\u001b[0m\u001b[0;34m\u001b[0m\u001b[0;34m\u001b[0m\u001b[0m\n\u001b[0;32m---> 17\u001b[0;31m     \u001b[0mx\u001b[0m\u001b[0;34m,\u001b[0m \u001b[0my\u001b[0m \u001b[0;34m=\u001b[0m \u001b[0mcreate_training_ex_with_rules\u001b[0m\u001b[0;34m(\u001b[0m\u001b[0mmatch\u001b[0m\u001b[0;34m)\u001b[0m\u001b[0;34m\u001b[0m\u001b[0;34m\u001b[0m\u001b[0m\n\u001b[0m\u001b[1;32m     18\u001b[0m     \u001b[0mtraining_examples\u001b[0m\u001b[0;34m.\u001b[0m\u001b[0mappend\u001b[0m\u001b[0;34m(\u001b[0m\u001b[0mx\u001b[0m\u001b[0;34m)\u001b[0m\u001b[0;34m\u001b[0m\u001b[0;34m\u001b[0m\u001b[0m\n\u001b[1;32m     19\u001b[0m \u001b[0;34m\u001b[0m\u001b[0m\n",
      "\u001b[0;32m<ipython-input-4-d2965799cd2b>\u001b[0m in \u001b[0;36mcreate_training_ex_with_rules\u001b[0;34m(match)\u001b[0m\n\u001b[1;32m     52\u001b[0m \u001b[0;34m\u001b[0m\u001b[0m\n\u001b[1;32m     53\u001b[0m     \u001b[0mn_features\u001b[0m \u001b[0;34m=\u001b[0m \u001b[0mlen\u001b[0m\u001b[0;34m(\u001b[0m\u001b[0mrules\u001b[0m\u001b[0;34m)\u001b[0m\u001b[0;34m\u001b[0m\u001b[0;34m\u001b[0m\u001b[0m\n\u001b[0;32m---> 54\u001b[0;31m     \u001b[0mexample\u001b[0m \u001b[0;34m=\u001b[0m  \u001b[0mrules_to_training_example\u001b[0m\u001b[0;34m(\u001b[0m\u001b[0mnew_features_to_index\u001b[0m\u001b[0;34m,\u001b[0m \u001b[0mt0\u001b[0m\u001b[0;34m,\u001b[0m \u001b[0mt1\u001b[0m\u001b[0;34m)\u001b[0m\u001b[0;34m\u001b[0m\u001b[0;34m\u001b[0m\u001b[0m\n\u001b[0m\u001b[1;32m     55\u001b[0m \u001b[0;34m\u001b[0m\u001b[0m\n\u001b[1;32m     56\u001b[0m     \u001b[0;32mreturn\u001b[0m \u001b[0msp\u001b[0m\u001b[0;34m.\u001b[0m\u001b[0msparse\u001b[0m\u001b[0;34m.\u001b[0m\u001b[0mcsr_matrix\u001b[0m\u001b[0;34m(\u001b[0m\u001b[0mexample\u001b[0m\u001b[0;34m,\u001b[0m \u001b[0mdtype\u001b[0m\u001b[0;34m=\u001b[0m\u001b[0mnp\u001b[0m\u001b[0;34m.\u001b[0m\u001b[0mint8\u001b[0m\u001b[0;34m)\u001b[0m\u001b[0;34m,\u001b[0m \u001b[0mwinner\u001b[0m\u001b[0;34m\u001b[0m\u001b[0;34m\u001b[0m\u001b[0m\n",
      "\u001b[0;32m<ipython-input-4-d2965799cd2b>\u001b[0m in \u001b[0;36mrules_to_training_example\u001b[0;34m(rules, t0, t1)\u001b[0m\n\u001b[1;32m     23\u001b[0m \u001b[0;34m\u001b[0m\u001b[0m\n\u001b[1;32m     24\u001b[0m         \u001b[0;32melif\u001b[0m \u001b[0mr_type\u001b[0m \u001b[0;34m==\u001b[0m \u001b[0;34m\"pair_opp\"\u001b[0m\u001b[0;34m:\u001b[0m\u001b[0;34m\u001b[0m\u001b[0;34m\u001b[0m\u001b[0m\n\u001b[0;32m---> 25\u001b[0;31m             \u001b[0;32mif\u001b[0m \u001b[0mr_heroes\u001b[0m \u001b[0;32min\u001b[0m \u001b[0mt0_opp_pairs\u001b[0m\u001b[0;34m:\u001b[0m\u001b[0;34m\u001b[0m\u001b[0;34m\u001b[0m\u001b[0m\n\u001b[0m\u001b[1;32m     26\u001b[0m                 \u001b[0mprint\u001b[0m\u001b[0;34m(\u001b[0m\u001b[0;34m\"yep\"\u001b[0m\u001b[0;34m)\u001b[0m\u001b[0;34m\u001b[0m\u001b[0;34m\u001b[0m\u001b[0m\n\u001b[1;32m     27\u001b[0m                 \u001b[0mtraining_example\u001b[0m\u001b[0;34m[\u001b[0m\u001b[0mrule_i\u001b[0m\u001b[0;34m]\u001b[0m \u001b[0;34m=\u001b[0m \u001b[0;36m1.\u001b[0m\u001b[0;34m\u001b[0m\u001b[0;34m\u001b[0m\u001b[0m\n",
      "\u001b[0;31mKeyboardInterrupt\u001b[0m: "
     ]
    }
   ],
   "source": [
    "training_examples = []\n",
    "seen_matches = set()\n",
    "match_winner = []\n",
    "n_heroes = 118 + 1\n",
    "draft_out_path = \"../data/big4_7080_game_features.npz\"\n",
    "match_winner_out = \"../data/big4_7080_match_winners.npy\"\n",
    "\n",
    "\n",
    "with open (\"../data/dota_games_pickles.pkl\", \"rb\") as fp:\n",
    "    d_games = pd.read_pickle(fp)\n",
    "\n",
    "\n",
    "assert not os.path.isfile(draft_out_path)\n",
    "\n",
    "for match in tqdm.tqdm(d_games):\n",
    "    # stack X\n",
    "    x, y = create_training_ex_with_rules(match)\n",
    "    training_examples.append(x)\n",
    "\n",
    "    # y\n",
    "    match_winner.append(int(y))\n",
    "\n",
    "\n",
    "sparse_training = sp.sparse.vstack(training_examples)\n",
    "\n",
    "# save \n",
    "sp.sparse.save_npz(draft_out_path, sparse_training)\n",
    "np.save(match_winner_out, np.array(match_winner))\n",
    "\n",
    "print(\"done\")"
   ]
  },
  {
   "cell_type": "code",
   "execution_count": 23,
   "id": "emerging-stephen",
   "metadata": {},
   "outputs": [
    {
     "data": {
      "text/plain": [
       "(2162047, 14161)"
      ]
     },
     "execution_count": 23,
     "metadata": {},
     "output_type": "execute_result"
    }
   ],
   "source": [
    "sparse_training.shape"
   ]
  },
  {
   "cell_type": "code",
   "execution_count": 26,
   "id": "cosmetic-acrobat",
   "metadata": {},
   "outputs": [
    {
     "data": {
      "text/plain": [
       "(2162047, 1)"
      ]
     },
     "execution_count": 26,
     "metadata": {},
     "output_type": "execute_result"
    }
   ],
   "source": [
    "sparse_training[:,:7080].shape"
   ]
  },
  {
   "cell_type": "code",
   "execution_count": null,
   "id": "generous-timing",
   "metadata": {},
   "outputs": [],
   "source": []
  }
 ],
 "metadata": {
  "kernelspec": {
   "display_name": "dota",
   "language": "python",
   "name": "dota"
  },
  "language_info": {
   "codemirror_mode": {
    "name": "ipython",
    "version": 3
   },
   "file_extension": ".py",
   "mimetype": "text/x-python",
   "name": "python",
   "nbconvert_exporter": "python",
   "pygments_lexer": "ipython3",
   "version": "3.8.5"
  }
 },
 "nbformat": 4,
 "nbformat_minor": 5
}
