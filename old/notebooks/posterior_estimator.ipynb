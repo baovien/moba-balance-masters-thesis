{
 "cells": [
  {
   "cell_type": "code",
   "execution_count": 1,
   "metadata": {},
   "outputs": [],
   "source": [
    "import os\n",
    "import tqdm\n",
    "\n",
    "from scipy.sparse import load_npz\n",
    "from functools import partial\n",
    "import torch\n",
    "import numpy as np\n",
    "import pandas as pd\n",
    "import seaborn as sns\n",
    "import matplotlib.pyplot as plt\n",
    "\n",
    "import pyro\n",
    "import pyro.distributions as dist\n",
    "\n",
    "# for CI testing\n",
    "smoke_test = ('CI' in os.environ)\n",
    "assert pyro.__version__.startswith('1.6.0')\n",
    "pyro.set_rng_seed(1)\n",
    "\n",
    "\n",
    "# Set matplotlib settings\n",
    "%matplotlib inline\n",
    "plt.style.use('default')"
   ]
  },
  {
   "cell_type": "code",
   "execution_count": 10,
   "metadata": {},
   "outputs": [
    {
     "name": "stdout",
     "output_type": "stream",
     "text": [
      "shuffle\n",
      "<done>\n"
     ]
    }
   ],
   "source": [
    "import numpy as np\n",
    "import pickle\n",
    "import os\n",
    "import json\n",
    "import random\n",
    "\n",
    "\n",
    "in_path = \"../data/game_features.npz\"\n",
    "ds = load_npz(in_path)\n",
    "\n",
    "# in_path = \"/media/ooki/sstorage/bk/data/tsetlin_dota_1_skill3.pkl\"\n",
    "\n",
    "# with open(in_path, \"rb\") as fp:\n",
    "#     ds = pickle.load(fp)\n",
    "    \n",
    "# print(\"loaded {} games from: {}\".format(len(ds), in_path))\n",
    "\n",
    "\n",
    "# in_path22 = \"/media/ooki/sstorage/bk/data/tsetlin_dota_22_skill3.pkl\"\n",
    "# with open(in_path22, \"rb\") as fp:\n",
    "#     ds22 = pickle.load(fp)\n",
    "#     ds.extend(ds22)\n",
    "\n",
    "# print(\"loaded {} games from: {}\".format(len(ds22), in_path22))\n",
    "# ds22 = None\n",
    "\n",
    "print(\"shuffle\")\n",
    "random.seed(42)\n",
    "# random.shuffle(ds)\n",
    "print(\"<done>\")"
   ]
  },
  {
   "cell_type": "code",
   "execution_count": 11,
   "metadata": {},
   "outputs": [
    {
     "ename": "MemoryError",
     "evalue": "Unable to allocate 24.8 GiB for an array with shape (1877341, 14161) and data type int8",
     "output_type": "error",
     "traceback": [
      "\u001b[0;31m---------------------------------------------------------------------------\u001b[0m",
      "\u001b[0;31mMemoryError\u001b[0m                               Traceback (most recent call last)",
      "\u001b[0;32m<ipython-input-11-389d2f52cc68>\u001b[0m in \u001b[0;36m<module>\u001b[0;34m\u001b[0m\n\u001b[0;32m----> 1\u001b[0;31m \u001b[0mds\u001b[0m\u001b[0;34m.\u001b[0m\u001b[0mtodense\u001b[0m\u001b[0;34m(\u001b[0m\u001b[0;34m)\u001b[0m\u001b[0;34m\u001b[0m\u001b[0;34m\u001b[0m\u001b[0m\n\u001b[0m",
      "\u001b[0;32m~/anaconda3/envs/dota-scraper/lib/python3.8/site-packages/scipy/sparse/base.py\u001b[0m in \u001b[0;36mtodense\u001b[0;34m(self, order, out)\u001b[0m\n\u001b[1;32m    862\u001b[0m             \u001b[0;31m`\u001b[0m\u001b[0mnumpy\u001b[0m\u001b[0;34m.\u001b[0m\u001b[0mmatrix\u001b[0m\u001b[0;31m`\u001b[0m \u001b[0mobject\u001b[0m \u001b[0mthat\u001b[0m \u001b[0mshares\u001b[0m \u001b[0mthe\u001b[0m \u001b[0msame\u001b[0m \u001b[0mmemory\u001b[0m\u001b[0;34m.\u001b[0m\u001b[0;34m\u001b[0m\u001b[0;34m\u001b[0m\u001b[0m\n\u001b[1;32m    863\u001b[0m         \"\"\"\n\u001b[0;32m--> 864\u001b[0;31m         \u001b[0;32mreturn\u001b[0m \u001b[0masmatrix\u001b[0m\u001b[0;34m(\u001b[0m\u001b[0mself\u001b[0m\u001b[0;34m.\u001b[0m\u001b[0mtoarray\u001b[0m\u001b[0;34m(\u001b[0m\u001b[0morder\u001b[0m\u001b[0;34m=\u001b[0m\u001b[0morder\u001b[0m\u001b[0;34m,\u001b[0m \u001b[0mout\u001b[0m\u001b[0;34m=\u001b[0m\u001b[0mout\u001b[0m\u001b[0;34m)\u001b[0m\u001b[0;34m)\u001b[0m\u001b[0;34m\u001b[0m\u001b[0;34m\u001b[0m\u001b[0m\n\u001b[0m\u001b[1;32m    865\u001b[0m \u001b[0;34m\u001b[0m\u001b[0m\n\u001b[1;32m    866\u001b[0m     \u001b[0;32mdef\u001b[0m \u001b[0mtoarray\u001b[0m\u001b[0;34m(\u001b[0m\u001b[0mself\u001b[0m\u001b[0;34m,\u001b[0m \u001b[0morder\u001b[0m\u001b[0;34m=\u001b[0m\u001b[0;32mNone\u001b[0m\u001b[0;34m,\u001b[0m \u001b[0mout\u001b[0m\u001b[0;34m=\u001b[0m\u001b[0;32mNone\u001b[0m\u001b[0;34m)\u001b[0m\u001b[0;34m:\u001b[0m\u001b[0;34m\u001b[0m\u001b[0;34m\u001b[0m\u001b[0m\n",
      "\u001b[0;32m~/anaconda3/envs/dota-scraper/lib/python3.8/site-packages/scipy/sparse/compressed.py\u001b[0m in \u001b[0;36mtoarray\u001b[0;34m(self, order, out)\u001b[0m\n\u001b[1;32m   1028\u001b[0m         \u001b[0;32mif\u001b[0m \u001b[0mout\u001b[0m \u001b[0;32mis\u001b[0m \u001b[0;32mNone\u001b[0m \u001b[0;32mand\u001b[0m \u001b[0morder\u001b[0m \u001b[0;32mis\u001b[0m \u001b[0;32mNone\u001b[0m\u001b[0;34m:\u001b[0m\u001b[0;34m\u001b[0m\u001b[0;34m\u001b[0m\u001b[0m\n\u001b[1;32m   1029\u001b[0m             \u001b[0morder\u001b[0m \u001b[0;34m=\u001b[0m \u001b[0mself\u001b[0m\u001b[0;34m.\u001b[0m\u001b[0m_swap\u001b[0m\u001b[0;34m(\u001b[0m\u001b[0;34m'cf'\u001b[0m\u001b[0;34m)\u001b[0m\u001b[0;34m[\u001b[0m\u001b[0;36m0\u001b[0m\u001b[0;34m]\u001b[0m\u001b[0;34m\u001b[0m\u001b[0;34m\u001b[0m\u001b[0m\n\u001b[0;32m-> 1030\u001b[0;31m         \u001b[0mout\u001b[0m \u001b[0;34m=\u001b[0m \u001b[0mself\u001b[0m\u001b[0;34m.\u001b[0m\u001b[0m_process_toarray_args\u001b[0m\u001b[0;34m(\u001b[0m\u001b[0morder\u001b[0m\u001b[0;34m,\u001b[0m \u001b[0mout\u001b[0m\u001b[0;34m)\u001b[0m\u001b[0;34m\u001b[0m\u001b[0;34m\u001b[0m\u001b[0m\n\u001b[0m\u001b[1;32m   1031\u001b[0m         \u001b[0;32mif\u001b[0m \u001b[0;32mnot\u001b[0m \u001b[0;34m(\u001b[0m\u001b[0mout\u001b[0m\u001b[0;34m.\u001b[0m\u001b[0mflags\u001b[0m\u001b[0;34m.\u001b[0m\u001b[0mc_contiguous\u001b[0m \u001b[0;32mor\u001b[0m \u001b[0mout\u001b[0m\u001b[0;34m.\u001b[0m\u001b[0mflags\u001b[0m\u001b[0;34m.\u001b[0m\u001b[0mf_contiguous\u001b[0m\u001b[0;34m)\u001b[0m\u001b[0;34m:\u001b[0m\u001b[0;34m\u001b[0m\u001b[0;34m\u001b[0m\u001b[0m\n\u001b[1;32m   1032\u001b[0m             \u001b[0;32mraise\u001b[0m \u001b[0mValueError\u001b[0m\u001b[0;34m(\u001b[0m\u001b[0;34m'Output array must be C or F contiguous'\u001b[0m\u001b[0;34m)\u001b[0m\u001b[0;34m\u001b[0m\u001b[0;34m\u001b[0m\u001b[0m\n",
      "\u001b[0;32m~/anaconda3/envs/dota-scraper/lib/python3.8/site-packages/scipy/sparse/base.py\u001b[0m in \u001b[0;36m_process_toarray_args\u001b[0;34m(self, order, out)\u001b[0m\n\u001b[1;32m   1200\u001b[0m             \u001b[0;32mreturn\u001b[0m \u001b[0mout\u001b[0m\u001b[0;34m\u001b[0m\u001b[0;34m\u001b[0m\u001b[0m\n\u001b[1;32m   1201\u001b[0m         \u001b[0;32melse\u001b[0m\u001b[0;34m:\u001b[0m\u001b[0;34m\u001b[0m\u001b[0;34m\u001b[0m\u001b[0m\n\u001b[0;32m-> 1202\u001b[0;31m             \u001b[0;32mreturn\u001b[0m \u001b[0mnp\u001b[0m\u001b[0;34m.\u001b[0m\u001b[0mzeros\u001b[0m\u001b[0;34m(\u001b[0m\u001b[0mself\u001b[0m\u001b[0;34m.\u001b[0m\u001b[0mshape\u001b[0m\u001b[0;34m,\u001b[0m \u001b[0mdtype\u001b[0m\u001b[0;34m=\u001b[0m\u001b[0mself\u001b[0m\u001b[0;34m.\u001b[0m\u001b[0mdtype\u001b[0m\u001b[0;34m,\u001b[0m \u001b[0morder\u001b[0m\u001b[0;34m=\u001b[0m\u001b[0morder\u001b[0m\u001b[0;34m)\u001b[0m\u001b[0;34m\u001b[0m\u001b[0;34m\u001b[0m\u001b[0m\n\u001b[0m\u001b[1;32m   1203\u001b[0m \u001b[0;34m\u001b[0m\u001b[0m\n\u001b[1;32m   1204\u001b[0m \u001b[0;34m\u001b[0m\u001b[0m\n",
      "\u001b[0;31mMemoryError\u001b[0m: Unable to allocate 24.8 GiB for an array with shape (1877341, 14161) and data type int8"
     ]
    }
   ],
   "source": [
    "ds.todense()"
   ]
  },
  {
   "cell_type": "code",
   "execution_count": 5,
   "metadata": {},
   "outputs": [
    {
     "name": "stderr",
     "output_type": "stream",
     "text": [
      "0it [00:00, ?it/s]\n"
     ]
    },
    {
     "ename": "IndexError",
     "evalue": "row index (1) out of range",
     "output_type": "error",
     "traceback": [
      "\u001b[0;31m---------------------------------------------------------------------------\u001b[0m",
      "\u001b[0;31mIndexError\u001b[0m                                Traceback (most recent call last)",
      "\u001b[0;32m<ipython-input-5-a3b29606446a>\u001b[0m in \u001b[0;36m<module>\u001b[0;34m\u001b[0m\n\u001b[1;32m     18\u001b[0m \u001b[0;34m\u001b[0m\u001b[0m\n\u001b[1;32m     19\u001b[0m \u001b[0;32mfor\u001b[0m \u001b[0mg\u001b[0m \u001b[0;32min\u001b[0m \u001b[0mtqdm\u001b[0m\u001b[0;34m.\u001b[0m\u001b[0mtqdm\u001b[0m\u001b[0;34m(\u001b[0m\u001b[0mds\u001b[0m\u001b[0;34m)\u001b[0m\u001b[0;34m:\u001b[0m\u001b[0;34m\u001b[0m\u001b[0;34m\u001b[0m\u001b[0m\n\u001b[0;32m---> 20\u001b[0;31m     \u001b[0mkey\u001b[0m \u001b[0;34m=\u001b[0m \u001b[0mget_key\u001b[0m\u001b[0;34m(\u001b[0m\u001b[0mg\u001b[0m\u001b[0;34m)\u001b[0m\u001b[0;34m\u001b[0m\u001b[0;34m\u001b[0m\u001b[0m\n\u001b[0m\u001b[1;32m     21\u001b[0m     \u001b[0mu_ds\u001b[0m\u001b[0;34m[\u001b[0m\u001b[0mkey\u001b[0m\u001b[0;34m]\u001b[0m\u001b[0;34m.\u001b[0m\u001b[0mappend\u001b[0m\u001b[0;34m(\u001b[0m\u001b[0mg\u001b[0m\u001b[0;34m)\u001b[0m\u001b[0;34m\u001b[0m\u001b[0;34m\u001b[0m\u001b[0m\n\u001b[1;32m     22\u001b[0m     \u001b[0mi_ds\u001b[0m\u001b[0;34m[\u001b[0m\u001b[0mkey\u001b[0m\u001b[0;34m]\u001b[0m \u001b[0;34m+=\u001b[0m \u001b[0;36m1\u001b[0m\u001b[0;34m\u001b[0m\u001b[0;34m\u001b[0m\u001b[0m\n",
      "\u001b[0;32m<ipython-input-5-a3b29606446a>\u001b[0m in \u001b[0;36mget_key\u001b[0;34m(g)\u001b[0m\n\u001b[1;32m      2\u001b[0m \u001b[0;34m\u001b[0m\u001b[0m\n\u001b[1;32m      3\u001b[0m \u001b[0;32mdef\u001b[0m \u001b[0mget_key\u001b[0m\u001b[0;34m(\u001b[0m\u001b[0mg\u001b[0m\u001b[0;34m)\u001b[0m\u001b[0;34m:\u001b[0m\u001b[0;34m\u001b[0m\u001b[0;34m\u001b[0m\u001b[0m\n\u001b[0;32m----> 4\u001b[0;31m     \u001b[0mt0\u001b[0m\u001b[0;34m,\u001b[0m \u001b[0mt1\u001b[0m \u001b[0;34m=\u001b[0m \u001b[0mg\u001b[0m\u001b[0;34m[\u001b[0m\u001b[0;36m0\u001b[0m\u001b[0;34m]\u001b[0m\u001b[0;34m[\u001b[0m\u001b[0;36m0\u001b[0m\u001b[0;34m]\u001b[0m\u001b[0;34m,\u001b[0m \u001b[0mg\u001b[0m\u001b[0;34m[\u001b[0m\u001b[0;36m0\u001b[0m\u001b[0;34m]\u001b[0m\u001b[0;34m[\u001b[0m\u001b[0;36m1\u001b[0m\u001b[0;34m]\u001b[0m\u001b[0;34m\u001b[0m\u001b[0;34m\u001b[0m\u001b[0m\n\u001b[0m\u001b[1;32m      5\u001b[0m \u001b[0;34m\u001b[0m\u001b[0m\n\u001b[1;32m      6\u001b[0m     \u001b[0mt0\u001b[0m\u001b[0;34m.\u001b[0m\u001b[0msort\u001b[0m\u001b[0;34m(\u001b[0m\u001b[0;34m)\u001b[0m\u001b[0;34m\u001b[0m\u001b[0;34m\u001b[0m\u001b[0m\n",
      "\u001b[0;32m~/anaconda3/envs/dota-scraper/lib/python3.8/site-packages/scipy/sparse/_index.py\u001b[0m in \u001b[0;36m__getitem__\u001b[0;34m(self, key)\u001b[0m\n\u001b[1;32m     31\u001b[0m     \"\"\"\n\u001b[1;32m     32\u001b[0m     \u001b[0;32mdef\u001b[0m \u001b[0m__getitem__\u001b[0m\u001b[0;34m(\u001b[0m\u001b[0mself\u001b[0m\u001b[0;34m,\u001b[0m \u001b[0mkey\u001b[0m\u001b[0;34m)\u001b[0m\u001b[0;34m:\u001b[0m\u001b[0;34m\u001b[0m\u001b[0;34m\u001b[0m\u001b[0m\n\u001b[0;32m---> 33\u001b[0;31m         \u001b[0mrow\u001b[0m\u001b[0;34m,\u001b[0m \u001b[0mcol\u001b[0m \u001b[0;34m=\u001b[0m \u001b[0mself\u001b[0m\u001b[0;34m.\u001b[0m\u001b[0m_validate_indices\u001b[0m\u001b[0;34m(\u001b[0m\u001b[0mkey\u001b[0m\u001b[0;34m)\u001b[0m\u001b[0;34m\u001b[0m\u001b[0;34m\u001b[0m\u001b[0m\n\u001b[0m\u001b[1;32m     34\u001b[0m         \u001b[0;31m# Dispatch to specialized methods.\u001b[0m\u001b[0;34m\u001b[0m\u001b[0;34m\u001b[0m\u001b[0;34m\u001b[0m\u001b[0m\n\u001b[1;32m     35\u001b[0m         \u001b[0;32mif\u001b[0m \u001b[0misinstance\u001b[0m\u001b[0;34m(\u001b[0m\u001b[0mrow\u001b[0m\u001b[0;34m,\u001b[0m \u001b[0mINT_TYPES\u001b[0m\u001b[0;34m)\u001b[0m\u001b[0;34m:\u001b[0m\u001b[0;34m\u001b[0m\u001b[0;34m\u001b[0m\u001b[0m\n",
      "\u001b[0;32m~/anaconda3/envs/dota-scraper/lib/python3.8/site-packages/scipy/sparse/_index.py\u001b[0m in \u001b[0;36m_validate_indices\u001b[0;34m(self, key)\u001b[0m\n\u001b[1;32m    132\u001b[0m             \u001b[0mrow\u001b[0m \u001b[0;34m=\u001b[0m \u001b[0mint\u001b[0m\u001b[0;34m(\u001b[0m\u001b[0mrow\u001b[0m\u001b[0;34m)\u001b[0m\u001b[0;34m\u001b[0m\u001b[0;34m\u001b[0m\u001b[0m\n\u001b[1;32m    133\u001b[0m             \u001b[0;32mif\u001b[0m \u001b[0mrow\u001b[0m \u001b[0;34m<\u001b[0m \u001b[0;34m-\u001b[0m\u001b[0mM\u001b[0m \u001b[0;32mor\u001b[0m \u001b[0mrow\u001b[0m \u001b[0;34m>=\u001b[0m \u001b[0mM\u001b[0m\u001b[0;34m:\u001b[0m\u001b[0;34m\u001b[0m\u001b[0;34m\u001b[0m\u001b[0m\n\u001b[0;32m--> 134\u001b[0;31m                 \u001b[0;32mraise\u001b[0m \u001b[0mIndexError\u001b[0m\u001b[0;34m(\u001b[0m\u001b[0;34m'row index (%d) out of range'\u001b[0m \u001b[0;34m%\u001b[0m \u001b[0mrow\u001b[0m\u001b[0;34m)\u001b[0m\u001b[0;34m\u001b[0m\u001b[0;34m\u001b[0m\u001b[0m\n\u001b[0m\u001b[1;32m    135\u001b[0m             \u001b[0;32mif\u001b[0m \u001b[0mrow\u001b[0m \u001b[0;34m<\u001b[0m \u001b[0;36m0\u001b[0m\u001b[0;34m:\u001b[0m\u001b[0;34m\u001b[0m\u001b[0;34m\u001b[0m\u001b[0m\n\u001b[1;32m    136\u001b[0m                 \u001b[0mrow\u001b[0m \u001b[0;34m+=\u001b[0m \u001b[0mM\u001b[0m\u001b[0;34m\u001b[0m\u001b[0;34m\u001b[0m\u001b[0m\n",
      "\u001b[0;31mIndexError\u001b[0m: row index (1) out of range"
     ]
    }
   ],
   "source": [
    "from collections import Counter, defaultdict\n",
    "\n",
    "def get_key(g):\n",
    "    t0, t1 = g[0][0], g[0][1]\n",
    "\n",
    "    t0.sort()\n",
    "    t1.sort()\n",
    "    if t0[0][0] > t1[0][0]:\n",
    "        t0, t1 = t1, t0\n",
    "\n",
    "    keys = [p[0] for p in t0]\n",
    "    keys.extend([p[0] for p in t1])\n",
    "    return tuple(keys)\n",
    "\n",
    "\n",
    "u_ds = defaultdict(list)\n",
    "i_ds = Counter()\n",
    "\n",
    "for g in tqdm.tqdm(ds):\n",
    "    key = get_key(g)\n",
    "    u_ds[key].append(g)\n",
    "    i_ds[key] += 1\n",
    "    \n",
    "\n"
   ]
  },
  {
   "cell_type": "code",
   "execution_count": 4,
   "metadata": {},
   "outputs": [
    {
     "name": "stdout",
     "output_type": "stream",
     "text": [
      "pre:  3606066\n",
      "post: 2728231\n",
      "winner: 1\n",
      "team0: [(21, 485), (47, 407), (79, 234), (86, 220), (114, 440)]\n",
      "team1: [(6, 732), (19, 445), (27, 365), (28, 456), (128, 550)]\n",
      "--------------------------------------------------\n",
      "winner: 1\n",
      "team0: [(21, 485), (47, 407), (79, 234), (86, 220), (114, 440)]\n",
      "team1: [(6, 732), (19, 445), (27, 365), (28, 456), (128, 550)]\n",
      "--------------------------------------------------\n",
      "new ds: 2728231\n"
     ]
    }
   ],
   "source": [
    "\n",
    "print(\"pre: \", len(ds))\n",
    "print(\"post:\", len(u_ds))\n",
    "\n",
    "most_common = i_ds.most_common(10)[5][0]\n",
    "\n",
    "for g in u_ds[most_common]:\n",
    "    print(\"winner:\", g[1])\n",
    "    print(\"team0:\", g[0][0])\n",
    "    print(\"team1:\", g[0][1])    \n",
    "    print(\"-\"*50)\n",
    "\n",
    "\n",
    "new_ds = []\n",
    "for gl in u_ds.values():\n",
    "    new_ds.append(gl[0])\n",
    "    \n",
    "print(\"new ds:\", len(new_ds))\n",
    "del ds\n",
    "del u_ds\n",
    "del i_ds\n",
    "ds = new_ds\n"
   ]
  },
  {
   "cell_type": "code",
   "execution_count": 5,
   "metadata": {},
   "outputs": [
    {
     "name": "stderr",
     "output_type": "stream",
     "text": [
      "100%|██████████| 1900000/1900000 [00:04<00:00, 437025.39it/s]\n",
      "100%|██████████| 100000/100000 [00:00<00:00, 474351.26it/s]"
     ]
    },
    {
     "name": "stdout",
     "output_type": "stream",
     "text": [
      "train: (1900000, 130)\n",
      "test: (100000, 130)\n"
     ]
    },
    {
     "name": "stderr",
     "output_type": "stream",
     "text": [
      "\n"
     ]
    }
   ],
   "source": [
    "def get_ex(g):\n",
    "    n = 130\n",
    "    \n",
    "    t0, t1 = g[0][0], g[0][1]\n",
    "    w = g[1]\n",
    "    \n",
    "    if random.random() > 0.5:\n",
    "        t0, t1 = t1, t0\n",
    "        w = (w + 1) % 2\n",
    "        \n",
    "    f = np.zeros(n, dtype=np.int8)\n",
    "        \n",
    "    for h in t0:\n",
    "        f[h[0]] = 1\n",
    "    \n",
    "    for h in t1[0:2]:\n",
    "        f[h[0]] = -1\n",
    "        \n",
    "    return f, w\n",
    "        \n",
    "def get_ds_set(games):\n",
    "    train_x = []\n",
    "    train_y = []\n",
    "    for g in tqdm.tqdm(games):\n",
    "        x, y = get_ex(g)\n",
    "        train_x.append(x)\n",
    "        train_y.append(y)\n",
    "        \n",
    "    return np.array(train_x), np.array(train_y)\n",
    "\n",
    "n_train_size = 1900000\n",
    "n_test_size = 100000\n",
    "\n",
    "x_train, y_train = get_ds_set(ds[0:n_train_size])\n",
    "x_test, y_test = get_ds_set(ds[-n_test_size:])\n",
    "print(\"train:\", x_train.shape)\n",
    "print(\"test:\", x_test.shape)"
   ]
  },
  {
   "cell_type": "code",
   "execution_count": null,
   "metadata": {},
   "outputs": [],
   "source": [
    "\n",
    "\n",
    "\n"
   ]
  },
  {
   "cell_type": "code",
   "execution_count": 10,
   "metadata": {},
   "outputs": [
    {
     "name": "stdout",
     "output_type": "stream",
     "text": [
      "train acc: 0.5655163157894737\n",
      "test acc: 0.55863\n"
     ]
    }
   ],
   "source": [
    "from sklearn.linear_model import LogisticRegression\n",
    "\n",
    "\n",
    "lreg = LogisticRegression(fit_intercept=False)\n",
    "lreg.fit(x_train, y_train)\n",
    "\n",
    "print(\"train acc:\", lreg.score(x_train, y_train))\n",
    "print(\"test acc:\", lreg.score(x_test, y_test))"
   ]
  },
  {
   "cell_type": "code",
   "execution_count": 11,
   "metadata": {},
   "outputs": [
    {
     "name": "stdout",
     "output_type": "stream",
     "text": [
      "prior_weights: torch.Size([1, 130])\n"
     ]
    },
    {
     "data": {
      "text/plain": [
       "-0.5198663872287452"
      ]
     },
     "execution_count": 11,
     "metadata": {},
     "output_type": "execute_result"
    }
   ],
   "source": [
    "\n",
    "prior_weights = torch.tensor(lreg.coef_, dtype=torch.float32)\n",
    "print(\"prior_weights:\", prior_weights.shape)\n",
    "\n",
    "lreg.coef_.min()"
   ]
  },
  {
   "cell_type": "code",
   "execution_count": 32,
   "metadata": {},
   "outputs": [],
   "source": [
    "from torch import nn\n",
    "import pyro\n",
    "from pyro.nn import PyroModule\n",
    "from pyro.nn import PyroSample\n",
    "import pyro.distributions as dist\n",
    "\n",
    "n_features = 130\n",
    "\n",
    "class BayesianLogisticRegression(PyroModule):\n",
    "    def __init__(self, in_features, out_features, prior_weights=0.0, prior_std=3.0):\n",
    "        super().__init__()\n",
    "        \n",
    "        self.linear = PyroModule[nn.Linear](in_features, out_features, bias=False).cuda()\n",
    "        self.linear.weight = PyroSample(dist.Normal(prior_weights, prior_std).expand([out_features, in_features]).to_event(2))\n",
    "        \n",
    "        #self.linear.bias = PyroSample(dist.Normal(0., 10.).expand([out_features]).to_event(1))\n",
    "        self.sigmoid = nn.Sigmoid()\n",
    "        \n",
    "        self.did_print = False\n",
    "\n",
    "    def forward(self, x, y=None):\n",
    "        mean = self.linear(x).squeeze(-1)\n",
    "        model_logits = self.sigmoid(mean)            \n",
    "                        \n",
    "        with pyro.plate(\"data\", x.shape[0]):                        \n",
    "            if self.did_print is False:\n",
    "                self.did_print = True\n",
    "                print(\"plate data: \", x.shape)\n",
    "            \n",
    "            if y is not None:\n",
    "                y = y.squeeze()\n",
    "                \n",
    "            obs = pyro.sample(\"obs\", dist.Bernoulli(model_logits), obs=y)\n",
    "            \n",
    "        return model_logits\n",
    "    \n",
    "  "
   ]
  },
  {
   "cell_type": "code",
   "execution_count": 34,
   "metadata": {},
   "outputs": [
    {
     "name": "stderr",
     "output_type": "stream",
     "text": [
      "  0%|          | 0/15 [00:00<?, ?it/s]"
     ]
    },
    {
     "name": "stdout",
     "output_type": "stream",
     "text": [
      "plate data:  torch.Size([10000, 130])\n",
      "[iteration 0001] loss: 0.7428\n"
     ]
    },
    {
     "name": "stderr",
     "output_type": "stream",
     "text": [
      "  7%|▋         | 1/15 [00:16<03:55, 16.85s/it]"
     ]
    },
    {
     "name": "stdout",
     "output_type": "stream",
     "text": [
      "\t train: 0.562,  test:0.556\n"
     ]
    },
    {
     "name": "stderr",
     "output_type": "stream",
     "text": [
      " 33%|███▎      | 5/15 [01:48<03:41, 22.12s/it]"
     ]
    },
    {
     "name": "stdout",
     "output_type": "stream",
     "text": [
      "[iteration 0006] loss: 0.7235\n"
     ]
    },
    {
     "name": "stderr",
     "output_type": "stream",
     "text": [
      " 40%|████      | 6/15 [02:04<03:02, 20.28s/it]"
     ]
    },
    {
     "name": "stdout",
     "output_type": "stream",
     "text": [
      "\t train: 0.563,  test:0.556\n"
     ]
    },
    {
     "name": "stderr",
     "output_type": "stream",
     "text": [
      " 67%|██████▋   | 10/15 [03:36<01:50, 22.09s/it]"
     ]
    },
    {
     "name": "stdout",
     "output_type": "stream",
     "text": [
      "[iteration 0011] loss: 0.7226\n"
     ]
    },
    {
     "name": "stderr",
     "output_type": "stream",
     "text": [
      " 73%|███████▎  | 11/15 [04:01<01:31, 22.98s/it]"
     ]
    },
    {
     "name": "stdout",
     "output_type": "stream",
     "text": [
      "\t train: 0.563,  test:0.555\n"
     ]
    },
    {
     "name": "stderr",
     "output_type": "stream",
     "text": [
      "100%|██████████| 15/15 [05:24<00:00, 21.66s/it]\n"
     ]
    }
   ],
   "source": [
    "import torch\n",
    "from pyro.infer import SVI, Trace_ELBO\n",
    "\n",
    "from pyro.infer.autoguide import AutoDiagonalNormal\n",
    "from pyro.infer.autoguide import AutoMultivariateNormal, init_to_mean\n",
    "\n",
    "from torch.utils.data import DataLoader, TensorDataset\n",
    "\n",
    "use_cuda = True\n",
    "\n",
    "\n",
    "n_features = x_train.shape[1]\n",
    "model = BayesianLogisticRegression(n_features, 1)\n",
    "guide = AutoDiagonalNormal(model)\n",
    "\n",
    "#guide = AutoMultivariateNormal(model) #, init_loc_fn=init_to_mean)\n",
    "\n",
    "#print(\"model:\", model.is_cuda)\n",
    "\n",
    "\n",
    "\n",
    "\n",
    "svi = SVI(model,\n",
    "          guide,\n",
    "          #pyro.optim.Adam({\"lr\": 0.0001}),\n",
    "          pyro.optim.SGD({\"lr\": 0.001}),\n",
    "          loss=Trace_ELBO())\n",
    "\n",
    "pyro.clear_param_store()\n",
    "\n",
    "num_iterations = 15\n",
    "\n",
    "lreg_tester = LogisticRegression(fit_intercept=False)\n",
    "lreg_tester.fit(x_train[0:3], y_train[0:3])\n",
    "\n",
    "\n",
    "x_data = torch.tensor(x_train, dtype=torch.float32)\n",
    "y_data = torch.tensor(y_train, dtype=torch.float32)\n",
    "#x_data\n",
    "tensor_ds = TensorDataset(x_data.float(), y_data.float())\n",
    "data_loader = DataLoader(tensor_ds, batch_size=10000, shuffle=True)\n",
    "\n",
    "\n",
    "for j in tqdm.tqdm(range(num_iterations)):\n",
    "    # calculate the loss and take a gradient step\n",
    "    total_loss = 0.0\n",
    "    for batch_x, batch_y in data_loader:\n",
    "        loss = svi.step(batch_x, batch_y)\n",
    "        total_loss += loss\n",
    "        \n",
    "    if j % 5 == 0:\n",
    "        print(\"[iteration %04d] loss: %.4f\" % (j + 1, total_loss / x_data.shape[0]))\n",
    "        \n",
    "        with torch.no_grad():\n",
    "            posterior_coef = list(guide.parameters())[0].view(1, -1).numpy()\n",
    "            \n",
    "        lreg_tester.coef_ = posterior_coef\n",
    "        train_score = lreg_tester.score(x_train, y_train).item()\n",
    "        test_score = lreg_tester.score(x_test, y_test).item()\n",
    "        print(\"\\t train: {:.3f},  test:{:.3f}\".format(train_score, test_score))\n",
    "\n"
   ]
  },
  {
   "cell_type": "code",
   "execution_count": 35,
   "metadata": {},
   "outputs": [
    {
     "name": "stdout",
     "output_type": "stream",
     "text": [
      "AutoDiagonalNormal.loc torch.Size([130])\n",
      "AutoDiagonalNormal.scale torch.Size([130])\n",
      "posterior_w: (1, 130)\n",
      "\t train: 0.563,  test:0.558\n"
     ]
    }
   ],
   "source": [
    "with torch.no_grad():\n",
    "    for name, value in pyro.get_param_store().items():\n",
    "        print(name, pyro.param(name).size())\n",
    "        \n",
    "    posterior_w = list(guide.parameters())[0].view(1, -1).numpy()\n",
    "    print(\"posterior_w:\", posterior_w.shape)\n",
    "    \n",
    "lreg_tester.coef_ = posterior_w\n",
    "train_score = lreg_tester.score(x_train, y_train).item()\n",
    "test_score = lreg_tester.score(x_test, y_test).item()\n",
    "print(\"\\t train: {:.3f},  test:{:.3f}\".format(train_score, test_score))\n",
    "\n",
    "      "
   ]
  },
  {
   "cell_type": "code",
   "execution_count": 37,
   "metadata": {},
   "outputs": [
    {
     "name": "stderr",
     "output_type": "stream",
     "text": [
      " 20%|██        | 100000/500000 [6:14:36<24:58:26,  4.45it/s]\n"
     ]
    },
    {
     "ename": "IndexError",
     "evalue": "index 100000 is out of bounds for axis 0 with size 100000",
     "output_type": "error",
     "traceback": [
      "\u001b[0;31m---------------------------------------------------------------------------\u001b[0m",
      "\u001b[0;31mIndexError\u001b[0m                                Traceback (most recent call last)",
      "\u001b[0;32m<ipython-input-37-5d62595b5795>\u001b[0m in \u001b[0;36m<module>\u001b[0;34m\u001b[0m\n\u001b[1;32m     15\u001b[0m     \u001b[0my\u001b[0m \u001b[0;34m=\u001b[0m \u001b[0my_train\u001b[0m\u001b[0;34m[\u001b[0m\u001b[0mk\u001b[0m\u001b[0;34m]\u001b[0m\u001b[0;34m\u001b[0m\u001b[0;34m\u001b[0m\u001b[0m\n\u001b[1;32m     16\u001b[0m \u001b[0;34m\u001b[0m\u001b[0m\n\u001b[0;32m---> 17\u001b[0;31m     \u001b[0mx\u001b[0m \u001b[0;34m=\u001b[0m \u001b[0mtorch\u001b[0m\u001b[0;34m.\u001b[0m\u001b[0mFloatTensor\u001b[0m\u001b[0;34m(\u001b[0m\u001b[0mx_test\u001b[0m\u001b[0;34m[\u001b[0m\u001b[0mk\u001b[0m\u001b[0;34m]\u001b[0m\u001b[0;34m)\u001b[0m\u001b[0;34m\u001b[0m\u001b[0;34m\u001b[0m\u001b[0m\n\u001b[0m\u001b[1;32m     18\u001b[0m     \u001b[0;32mwith\u001b[0m \u001b[0mtorch\u001b[0m\u001b[0;34m.\u001b[0m\u001b[0mno_grad\u001b[0m\u001b[0;34m(\u001b[0m\u001b[0;34m)\u001b[0m\u001b[0;34m:\u001b[0m\u001b[0;34m\u001b[0m\u001b[0;34m\u001b[0m\u001b[0m\n\u001b[1;32m     19\u001b[0m         \u001b[0mv\u001b[0m \u001b[0;34m=\u001b[0m \u001b[0mpredictive\u001b[0m\u001b[0;34m(\u001b[0m\u001b[0mx\u001b[0m\u001b[0;34m)\u001b[0m\u001b[0;34m[\u001b[0m\u001b[0;34m\"_RETURN\"\u001b[0m\u001b[0;34m]\u001b[0m\u001b[0;34m\u001b[0m\u001b[0;34m\u001b[0m\u001b[0m\n",
      "\u001b[0;31mIndexError\u001b[0m: index 100000 is out of bounds for axis 0 with size 100000"
     ]
    }
   ],
   "source": [
    "from pyro.infer import Predictive\n",
    "\n",
    "\n",
    "n_new_points = 500000\n",
    "n_samples_per_game = 500\n",
    "\n",
    "model.cpu()\n",
    "guide.cpu()\n",
    "predictive = Predictive(model, guide=guide, num_samples=n_samples_per_game, return_sites=(\"_RETURN\",))\n",
    "\n",
    "\n",
    "new_data = []\n",
    "for k in tqdm.tqdm(range(n_new_points)):\n",
    "    x = x_train[k]\n",
    "    y = y_train[k]    \n",
    "    \n",
    "    x = torch.FloatTensor(x_test[k])\n",
    "    with torch.no_grad():\n",
    "        v = predictive(x)[\"_RETURN\"]\n",
    "        \n",
    "    m = torch.mean(v, 0).item()\n",
    "    std = torch.std(v, 0).item()\n",
    "    lower = v.kthvalue(int(len(v) * 0.05), dim=0)[0].item()\n",
    "    upper = v.kthvalue(int(len(v) * 0.95), dim=0)[0].item()\n",
    "    med = v.kthvalue(int(len(v) * 0.50), dim=0)[0].item()                \n",
    "    label = y.item()\n",
    "    \n",
    "    d = {\"x\": x_test[k], \"mean\": m, \"std\": std, \"lower\": lower, \"upper\": upper, \"median\": med, \"winner\": label}\n",
    "    \n",
    "    new_data.append(d)\n",
    "    \n",
    "print(\"<done: {} examples made>\".format(len(new_data)))\n",
    "\n"
   ]
  },
  {
   "cell_type": "code",
   "execution_count": 38,
   "metadata": {},
   "outputs": [
    {
     "name": "stdout",
     "output_type": "stream",
     "text": [
      "total acc: 0.5009\n",
      "#new_data: 100000\n",
      "#clear_data: 28784\n",
      "[CLEAN] total acc: 0.5064271817676487\n"
     ]
    }
   ],
   "source": [
    "preds = [d[\"mean\"] > 0.5 for d in new_data]\n",
    "labels = [d[\"winner\"] for d in new_data]\n",
    "acc = (np.array(preds) == labels).mean()\n",
    "print(\"total acc:\", acc)\n",
    "\n",
    "\n",
    "def is_advantage(g):\n",
    "    if g[\"lower\"] > 0.5:\n",
    "        return True\n",
    "    \n",
    "    if g[\"upper\"] < 0.5:\n",
    "        return True\n",
    "        \n",
    "    return False    \n",
    "\n",
    "clear_data = list(filter(is_advantage, new_data))\n",
    "print(\"#new_data:\", len(new_data))\n",
    "print(\"#clear_data:\", len(clear_data))\n",
    "\n",
    "preds = [d[\"mean\"] > 0.5 for d in clear_data]\n",
    "labels = [d[\"winner\"] for d in clear_data]\n",
    "acc = (np.array(preds) == labels).mean()\n",
    "print(\"[CLEAN] total acc:\", acc)"
   ]
  },
  {
   "cell_type": "code",
   "execution_count": 39,
   "metadata": {},
   "outputs": [
    {
     "name": "stdout",
     "output_type": "stream",
     "text": [
      "acc: 0.4507\n"
     ]
    },
    {
     "data": {
      "image/png": "[encoded data removed]",
      "text/plain": [
       "<Figure size 640x480 with 2 Axes>"
      ]
     },
     "metadata": {},
     "output_type": "display_data"
    }
   ],
   "source": [
    "from sklearn.naive_bayes import GaussianNB\n",
    "\n",
    "\n",
    "def get_label(g):\n",
    "    if is_advantage(g):\n",
    "        return 1\n",
    "    elif g[\"mean\"] < 0.5:\n",
    "        return 0\n",
    "    else:\n",
    "        return 2\n",
    "\n",
    "three_data_x = np.array([d[\"x\"] for d in new_data])\n",
    "three_data_y = np.array([get_label(d) for d in new_data], dtype=int)\n",
    "\n",
    "\n",
    "nb_clf = GaussianNB()\n",
    "nb_clf.fit(three_data_x, three_data_y)\n",
    "nb_clf.score(three_data_x, three_data_y)\n",
    "\n",
    "import matplotlib.pyplot as plt\n",
    "\n",
    "from sklearn import svm, datasets\n",
    "from sklearn.model_selection import train_test_split\n",
    "from sklearn.metrics import plot_confusion_matrix\n",
    "\n",
    "                    \n",
    "disp = plot_confusion_matrix(nb_clf, three_data_x, three_data_y.reshape(-1, 1),                                 \n",
    "                                 cmap=plt.cm.Blues)\n",
    "\n",
    "print(\"acc:\", nb_clf.score(three_data_x, three_data_y))\n"
   ]
  },
  {
   "cell_type": "code",
   "execution_count": null,
   "metadata": {},
   "outputs": [],
   "source": [
    "means = [d[\"mean\"] for d in new_data]\n",
    "sns.distplot(np.array(means), kde=True, hist=True, hist_kws={\"range\": [0,1]})\n"
   ]
  },
  {
   "cell_type": "code",
   "execution_count": null,
   "metadata": {},
   "outputs": [],
   "source": [
    "import pickle\n",
    "data_out = \"/home/ooki/tsetlin_data/dota3_{}k.pkl\".format(int(len(new_data) // 1000))\n",
    "\n",
    "with open(data_out, \"wb\") as fp:\n",
    "    pickle.dump(new_data, fp, protocol=pickle.HIGHEST_PROTOCOL)\n",
    "\n",
    "print(\"wrote [{}] to: {}\".format(len(new_data), data_out))\n",
    "\n"
   ]
  }
 ],
 "metadata": {
  "kernelspec": {
   "display_name": "Python 3",
   "language": "python",
   "name": "python3"
  },
  "language_info": {
   "codemirror_mode": {
    "name": "ipython",
    "version": 3
   },
   "file_extension": ".py",
   "mimetype": "text/x-python",
   "name": "python",
   "nbconvert_exporter": "python",
   "pygments_lexer": "ipython3",
   "version": "3.8.5"
  }
 },
 "nbformat": 4,
 "nbformat_minor": 4
}
