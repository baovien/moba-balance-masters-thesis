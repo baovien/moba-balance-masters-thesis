{
 "cells": [
  {
   "cell_type": "code",
   "execution_count": 1,
   "id": "86b1c1e6",
   "metadata": {},
   "outputs": [],
   "source": [
    "import scipy as sp\n",
    "import scipy.sparse\n",
    "import numpy as np\n",
    "from numpy.random import default_rng\n",
    "rng = default_rng()\n",
    "\n",
    "\n",
    "from sklearn.model_selection import train_test_split\n",
    "from sklearn.linear_model import LogisticRegression\n",
    "from sklearn.metrics import accuracy_score, confusion_matrix, r2_score"
   ]
  },
  {
   "cell_type": "code",
   "execution_count": 25,
   "id": "81bcd02c",
   "metadata": {},
   "outputs": [
    {
     "name": "stdout",
     "output_type": "stream",
     "text": [
      "(1635712, 256) (1635712,)\n"
     ]
    }
   ],
   "source": [
    "hero_selection = sp.sparse.load_npz(\"../../data/v1/hero_selection_onehot.npz\")\n",
    "match_winner = np.load(\"../../data/v1/match_winner.npy\")\n",
    "\n",
    "\n",
    "match_winner = (match_winner * 2) - 1\n",
    "print(hero_selection.shape, match_winner.shape)"
   ]
  },
  {
   "cell_type": "code",
   "execution_count": 27,
   "id": "cf3fb9d0",
   "metadata": {},
   "outputs": [
    {
     "data": {
      "text/plain": [
       "0.5777967025980124"
      ]
     },
     "execution_count": 27,
     "metadata": {},
     "output_type": "execute_result"
    }
   ],
   "source": [
    "match_winner.mean()"
   ]
  },
  {
   "cell_type": "code",
   "execution_count": 33,
   "id": "6461acb0",
   "metadata": {},
   "outputs": [
    {
     "name": "stdout",
     "output_type": "stream",
     "text": [
      "[0 0 1 ... 0 1 1]\n"
     ]
    }
   ],
   "source": [
    "# flip random matches\n",
    "rng_winners = rng.integers(0,2,size=match_winner.shape[0]) \n",
    "rng_winners = (rng_winners * 2) - 1\n",
    "\n",
    "hero_selection[match_winner != rng_winners] = hero_selection[match_winner != rng_winners] * -1\n",
    "match_winner[match_winner != rng_winners] = match_winner[match_winner != rng_winners] * -1"
   ]
  },
  {
   "cell_type": "code",
   "execution_count": 34,
   "id": "ba431b26",
   "metadata": {},
   "outputs": [
    {
     "data": {
      "text/plain": [
       "array([0, 2, 1, ..., 0, 1, 1], dtype=uint8)"
      ]
     },
     "execution_count": 34,
     "metadata": {},
     "output_type": "execute_result"
    }
   ],
   "source": [
    "match_winner"
   ]
  },
  {
   "cell_type": "code",
   "execution_count": 12,
   "id": "5a1be73f",
   "metadata": {},
   "outputs": [],
   "source": [
    "x_train, x_test, y_train, y_test = train_test_split(hero_selection, match_winner, test_size=0.3) "
   ]
  },
  {
   "cell_type": "code",
   "execution_count": 13,
   "id": "470502f2",
   "metadata": {},
   "outputs": [
    {
     "data": {
      "text/plain": [
       "74.29660453950774"
      ]
     },
     "execution_count": 13,
     "metadata": {},
     "output_type": "execute_result"
    }
   ],
   "source": [
    "y_test.mean()"
   ]
  },
  {
   "cell_type": "code",
   "execution_count": 14,
   "id": "b749f3a5",
   "metadata": {},
   "outputs": [
    {
     "name": "stdout",
     "output_type": "stream",
     "text": [
      "0.7260033339175161\n"
     ]
    }
   ],
   "source": [
    "clf = LogisticRegression(random_state=21).fit(x_train, y_train)\n",
    "y_h = clf.predict(x_test)\n",
    "acc = accuracy_score(y_test, y_h)\n",
    "\n",
    "print(clf.score(x_test, y_test))\n"
   ]
  },
  {
   "cell_type": "code",
   "execution_count": 15,
   "id": "5d1d8a21",
   "metadata": {},
   "outputs": [
    {
     "name": "stdout",
     "output_type": "stream",
     "text": [
      "0.9999172524583394\n"
     ]
    }
   ],
   "source": [
    "print(r2_score(y_test, y_h))"
   ]
  },
  {
   "cell_type": "code",
   "execution_count": 93,
   "id": "128d9193",
   "metadata": {},
   "outputs": [
    {
     "name": "stdout",
     "output_type": "stream",
     "text": [
      "[[142783 102461]\n",
      " [103358 142112]]\n"
     ]
    }
   ],
   "source": [
    "print(confusion_matrix(y_test, y_h))"
   ]
  },
  {
   "cell_type": "code",
   "execution_count": 95,
   "id": "947649d1",
   "metadata": {},
   "outputs": [
    {
     "data": {
      "text/plain": [
       "-0.06001622619265414"
      ]
     },
     "execution_count": 95,
     "metadata": {},
     "output_type": "execute_result"
    }
   ],
   "source": [
    "clf.coef_[0, 14]"
   ]
  },
  {
   "cell_type": "markdown",
   "id": "5bb4ed27",
   "metadata": {},
   "source": [
    "## With onehot"
   ]
  },
  {
   "cell_type": "code",
   "execution_count": 37,
   "id": "760349d2",
   "metadata": {},
   "outputs": [
    {
     "name": "stdout",
     "output_type": "stream",
     "text": [
      "(1635712, 256) (1635712,)\n"
     ]
    }
   ],
   "source": [
    "hero_selection = sp.sparse.load_npz(\"../data/hero_selection_onehot.npz\")\n",
    "match_winner = np.load(\"../data/match_winner.npy\")\n",
    "m_w = np.load(\"../data/match_winners.npy\")\n",
    "\n",
    "# match_winner = (match_winner * 2) - 1\n",
    "print(hero_selection.shape, match_winner.shape)"
   ]
  },
  {
   "cell_type": "code",
   "execution_count": 38,
   "id": "d5889589",
   "metadata": {},
   "outputs": [
    {
     "data": {
      "text/plain": [
       "array([0, 1, 0, 0, 1, 0, 1, 1, 1, 0], dtype=uint8)"
      ]
     },
     "execution_count": 38,
     "metadata": {},
     "output_type": "execute_result"
    }
   ],
   "source": [
    "match_winner[:10]"
   ]
  },
  {
   "cell_type": "code",
   "execution_count": 39,
   "id": "d213abc5",
   "metadata": {},
   "outputs": [
    {
     "data": {
      "text/plain": [
       "array([1, 0, 1, 0, 1, 0, 1, 0, 0, 1])"
      ]
     },
     "execution_count": 39,
     "metadata": {},
     "output_type": "execute_result"
    }
   ],
   "source": [
    "m_w[:10]"
   ]
  },
  {
   "cell_type": "code",
   "execution_count": 40,
   "id": "efde1ebe",
   "metadata": {},
   "outputs": [
    {
     "data": {
      "text/plain": [
       "0.5777967025980124"
      ]
     },
     "execution_count": 40,
     "metadata": {},
     "output_type": "execute_result"
    }
   ],
   "source": [
    "match_winner.mean()"
   ]
  },
  {
   "cell_type": "code",
   "execution_count": 49,
   "id": "4f251999",
   "metadata": {},
   "outputs": [
    {
     "data": {
      "text/plain": [
       "array([  0,   1,   0,   0,   1,   0, 255, 255, 255,   0], dtype=uint8)"
      ]
     },
     "execution_count": 49,
     "metadata": {},
     "output_type": "execute_result"
    }
   ],
   "source": [
    "# flip random matches\n",
    "rng_winners = rng.integers(0,2,size=match_winner.shape[0]) \n",
    "rng_winners = (rng_winners * 2) - 1\n",
    "\n",
    "hero_selection[match_winner != rng_winners] = hero_selection[match_winner != rng_winners] * -1\n",
    "match_winner[match_winner != rng_winners] = match_winner[match_winner != rng_winners] * -1\n",
    "match_winner[:10]"
   ]
  },
  {
   "cell_type": "code",
   "execution_count": 42,
   "id": "d8d7fa19",
   "metadata": {},
   "outputs": [],
   "source": [
    "x_train, x_test, y_train, y_test = train_test_split(hero_selection, match_winner, test_size=0.3, random_state=42, shuffle=True) "
   ]
  },
  {
   "cell_type": "code",
   "execution_count": 44,
   "id": "734f23f0",
   "metadata": {},
   "outputs": [
    {
     "data": {
      "text/plain": [
       "73.70409851767018"
      ]
     },
     "execution_count": 44,
     "metadata": {},
     "output_type": "execute_result"
    }
   ],
   "source": [
    "y_test.mean()"
   ]
  },
  {
   "cell_type": "code",
   "execution_count": 43,
   "id": "fd30f4ab",
   "metadata": {},
   "outputs": [
    {
     "name": "stdout",
     "output_type": "stream",
     "text": [
      "0.7266819369327143\n"
     ]
    },
    {
     "name": "stderr",
     "output_type": "stream",
     "text": [
      "/home/bao/anaconda3/envs/dota-scraper/lib/python3.8/site-packages/sklearn/linear_model/_logistic.py:763: ConvergenceWarning: lbfgs failed to converge (status=1):\n",
      "STOP: TOTAL NO. of ITERATIONS REACHED LIMIT.\n",
      "\n",
      "Increase the number of iterations (max_iter) or scale the data as shown in:\n",
      "    https://scikit-learn.org/stable/modules/preprocessing.html\n",
      "Please also refer to the documentation for alternative solver options:\n",
      "    https://scikit-learn.org/stable/modules/linear_model.html#logistic-regression\n",
      "  n_iter_i = _check_optimize_result(\n"
     ]
    }
   ],
   "source": [
    "clf = LogisticRegression().fit(x_train, y_train)\n",
    "y_h = clf.predict(x_test)\n",
    "acc = accuracy_score(y_test, y_h)\n",
    "\n",
    "print(clf.score(x_test, y_test))\n"
   ]
  },
  {
   "cell_type": "code",
   "execution_count": 12,
   "id": "2609c5b1",
   "metadata": {},
   "outputs": [
    {
     "name": "stdout",
     "output_type": "stream",
     "text": [
      "0.9999129339056552\n"
     ]
    }
   ],
   "source": [
    "print(r2_score(y_test, y_h))"
   ]
  },
  {
   "cell_type": "code",
   "execution_count": 13,
   "id": "c6a5ecf7",
   "metadata": {},
   "outputs": [
    {
     "name": "stdout",
     "output_type": "stream",
     "text": [
      "[[313081  35706]\n",
      " [105956  35971]]\n"
     ]
    }
   ],
   "source": [
    "print(confusion_matrix(y_test, y_h))"
   ]
  },
  {
   "cell_type": "code",
   "execution_count": 14,
   "id": "bd310797",
   "metadata": {},
   "outputs": [
    {
     "data": {
      "text/plain": [
       "0.07544517771391919"
      ]
     },
     "execution_count": 14,
     "metadata": {},
     "output_type": "execute_result"
    }
   ],
   "source": [
    "clf.coef_[0, 14]"
   ]
  },
  {
   "cell_type": "code",
   "execution_count": null,
   "id": "09f99b17",
   "metadata": {},
   "outputs": [],
   "source": []
  }
 ],
 "metadata": {
  "interpreter": {
   "hash": "544be3553ddadaf6d7c555d544e2c6bd40fc324aa49651f5ed5dcc9cf0af65f8"
  },
  "kernelspec": {
   "display_name": "Python 3.8.3 64-bit ('torch': conda)",
   "name": "python3"
  },
  "language_info": {
   "codemirror_mode": {
    "name": "ipython",
    "version": 3
   },
   "file_extension": ".py",
   "mimetype": "text/x-python",
   "name": "python",
   "nbconvert_exporter": "python",
   "pygments_lexer": "ipython3",
   "version": "3.8.3"
  }
 },
 "nbformat": 4,
 "nbformat_minor": 5
}
